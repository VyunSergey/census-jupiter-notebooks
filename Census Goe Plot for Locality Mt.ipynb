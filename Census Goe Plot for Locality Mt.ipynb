{
 "cells": [
  {
   "cell_type": "code",
   "execution_count": 66,
   "metadata": {},
   "outputs": [
    {
     "data": {
      "text/html": [
       "<style>div.output_scroll { height: 50em; }</style>"
      ],
      "text/plain": [
       "<IPython.core.display.HTML object>"
      ]
     },
     "metadata": {},
     "output_type": "display_data"
    }
   ],
   "source": [
    "from IPython.core.display import display, HTML\n",
    "display(HTML(\"<style>div.output_scroll { height: 50em; }</style>\"))"
   ]
  },
  {
   "cell_type": "markdown",
   "metadata": {},
   "source": [
    "# Импорты бибилиотек"
   ]
  },
  {
   "cell_type": "code",
   "execution_count": 67,
   "metadata": {},
   "outputs": [],
   "source": [
    "import pandas as pd\n",
    "import numpy as np\n",
    "import seaborn as sns\n",
    "import matplotlib as mpl\n",
    "import matplotlib.pyplot as plt\n",
    "\n",
    "import plotly\n",
    "import plotly.graph_objs as go\n",
    "import plotly.express as px\n",
    "from plotly.subplots import make_subplots"
   ]
  },
  {
   "cell_type": "markdown",
   "metadata": {},
   "source": [
    "# Функция расстояния между координатами"
   ]
  },
  {
   "cell_type": "code",
   "execution_count": 68,
   "metadata": {},
   "outputs": [],
   "source": [
    "import geopy.distance\n",
    "\n",
    "def distance(lat1, lon1, lat2, lon2):\n",
    "    return geopy.distance.distance((lat1, lon1), (lat2, lon2)).km"
   ]
  },
  {
   "cell_type": "markdown",
   "metadata": {},
   "source": [
    "# Функция обрезания текста"
   ]
  },
  {
   "cell_type": "code",
   "execution_count": 69,
   "metadata": {},
   "outputs": [],
   "source": [
    "def slide(txt, num):\n",
    "    if (len(txt) <= num): return txt\n",
    "    elif (len(txt) >= num - 3): return txt[:-(len(txt) - num + 3)] + '...'\n",
    "    else: return '...'"
   ]
  },
  {
   "cell_type": "markdown",
   "metadata": {},
   "source": [
    "# Данные Census"
   ]
  },
  {
   "cell_type": "code",
   "execution_count": 70,
   "metadata": {},
   "outputs": [
    {
     "data": {
      "text/html": [
       "<div>\n",
       "<style scoped>\n",
       "    .dataframe tbody tr th:only-of-type {\n",
       "        vertical-align: middle;\n",
       "    }\n",
       "\n",
       "    .dataframe tbody tr th {\n",
       "        vertical-align: top;\n",
       "    }\n",
       "\n",
       "    .dataframe thead th {\n",
       "        text-align: right;\n",
       "    }\n",
       "</style>\n",
       "<table border=\"1\" class=\"dataframe\">\n",
       "  <thead>\n",
       "    <tr style=\"text-align: right;\">\n",
       "      <th></th>\n",
       "      <th>partition_dt</th>\n",
       "      <th>okrug_mt</th>\n",
       "      <th>province_mt</th>\n",
       "      <th>locality_mt</th>\n",
       "      <th>count</th>\n",
       "      <th>latitude_mt_avg</th>\n",
       "      <th>longitude_mt_avg</th>\n",
       "      <th>locality</th>\n",
       "      <th>latitude</th>\n",
       "      <th>longitude</th>\n",
       "      <th>city_nm</th>\n",
       "      <th>distance</th>\n",
       "      <th>distance_text</th>\n",
       "      <th>dist_all_rn</th>\n",
       "      <th>dist_rn</th>\n",
       "    </tr>\n",
       "  </thead>\n",
       "  <tbody>\n",
       "    <tr>\n",
       "      <th>1060</th>\n",
       "      <td>2020-04-01</td>\n",
       "      <td>Сибирский федеральный округ</td>\n",
       "      <td>Кемеровская область</td>\n",
       "      <td>Кемерово</td>\n",
       "      <td>9465</td>\n",
       "      <td>59.784928</td>\n",
       "      <td>81.668948</td>\n",
       "      <td>Кемерово</td>\n",
       "      <td>55.354727</td>\n",
       "      <td>86.088374</td>\n",
       "      <td>Кемеровская область - Кемерово</td>\n",
       "      <td>559.512534</td>\n",
       "      <td>559.51</td>\n",
       "      <td>1</td>\n",
       "      <td>1</td>\n",
       "    </tr>\n",
       "    <tr>\n",
       "      <th>942</th>\n",
       "      <td>2020-05-01</td>\n",
       "      <td>Сибирский федеральный округ</td>\n",
       "      <td>Новосибирская область</td>\n",
       "      <td>Новосибирск</td>\n",
       "      <td>27796</td>\n",
       "      <td>57.971449</td>\n",
       "      <td>79.986596</td>\n",
       "      <td>Новосибирск</td>\n",
       "      <td>55.030199</td>\n",
       "      <td>82.920430</td>\n",
       "      <td>Новосибирская область - Новосибирск</td>\n",
       "      <td>373.959413</td>\n",
       "      <td>373.96</td>\n",
       "      <td>2</td>\n",
       "      <td>1</td>\n",
       "    </tr>\n",
       "    <tr>\n",
       "      <th>999</th>\n",
       "      <td>2020-05-01</td>\n",
       "      <td>Центральный федеральный округ</td>\n",
       "      <td>Ивановская область</td>\n",
       "      <td>Иваново</td>\n",
       "      <td>4633</td>\n",
       "      <td>54.307298</td>\n",
       "      <td>43.677003</td>\n",
       "      <td>Иваново</td>\n",
       "      <td>57.000348</td>\n",
       "      <td>40.973921</td>\n",
       "      <td>Ивановская область - Иваново</td>\n",
       "      <td>344.687317</td>\n",
       "      <td>344.69</td>\n",
       "      <td>3</td>\n",
       "      <td>2</td>\n",
       "    </tr>\n",
       "    <tr>\n",
       "      <th>963</th>\n",
       "      <td>2020-05-01</td>\n",
       "      <td>Сибирский федеральный округ</td>\n",
       "      <td>Алтайский край</td>\n",
       "      <td>Барнаул</td>\n",
       "      <td>11813</td>\n",
       "      <td>55.851087</td>\n",
       "      <td>81.261308</td>\n",
       "      <td>Барнаул</td>\n",
       "      <td>53.346785</td>\n",
       "      <td>83.776856</td>\n",
       "      <td>Алтайский край - Барнаул</td>\n",
       "      <td>322.665499</td>\n",
       "      <td>322.67</td>\n",
       "      <td>4</td>\n",
       "      <td>3</td>\n",
       "    </tr>\n",
       "    <tr>\n",
       "      <th>782</th>\n",
       "      <td>2020-07-01</td>\n",
       "      <td>Центральный федеральный округ</td>\n",
       "      <td>Московская область</td>\n",
       "      <td>Химки</td>\n",
       "      <td>11024</td>\n",
       "      <td>53.438578</td>\n",
       "      <td>39.892829</td>\n",
       "      <td>Химки</td>\n",
       "      <td>55.888740</td>\n",
       "      <td>37.430390</td>\n",
       "      <td>Московская область - Химки</td>\n",
       "      <td>315.608721</td>\n",
       "      <td>315.61</td>\n",
       "      <td>5</td>\n",
       "      <td>1</td>\n",
       "    </tr>\n",
       "  </tbody>\n",
       "</table>\n",
       "</div>"
      ],
      "text/plain": [
       "     partition_dt                       okrug_mt            province_mt  \\\n",
       "1060   2020-04-01    Сибирский федеральный округ    Кемеровская область   \n",
       "942    2020-05-01    Сибирский федеральный округ  Новосибирская область   \n",
       "999    2020-05-01  Центральный федеральный округ     Ивановская область   \n",
       "963    2020-05-01    Сибирский федеральный округ         Алтайский край   \n",
       "782    2020-07-01  Центральный федеральный округ     Московская область   \n",
       "\n",
       "      locality_mt  count  latitude_mt_avg  longitude_mt_avg     locality  \\\n",
       "1060     Кемерово   9465        59.784928         81.668948     Кемерово   \n",
       "942   Новосибирск  27796        57.971449         79.986596  Новосибирск   \n",
       "999       Иваново   4633        54.307298         43.677003      Иваново   \n",
       "963       Барнаул  11813        55.851087         81.261308      Барнаул   \n",
       "782         Химки  11024        53.438578         39.892829        Химки   \n",
       "\n",
       "       latitude  longitude                              city_nm    distance  \\\n",
       "1060  55.354727  86.088374       Кемеровская область - Кемерово  559.512534   \n",
       "942   55.030199  82.920430  Новосибирская область - Новосибирск  373.959413   \n",
       "999   57.000348  40.973921         Ивановская область - Иваново  344.687317   \n",
       "963   53.346785  83.776856             Алтайский край - Барнаул  322.665499   \n",
       "782   55.888740  37.430390           Московская область - Химки  315.608721   \n",
       "\n",
       "      distance_text  dist_all_rn  dist_rn  \n",
       "1060         559.51            1        1  \n",
       "942          373.96            2        1  \n",
       "999          344.69            3        2  \n",
       "963          322.67            4        3  \n",
       "782          315.61            5        1  "
      ]
     },
     "execution_count": 70,
     "metadata": {},
     "output_type": "execute_result"
    }
   ],
   "source": [
    "census = pd.read_csv('Census_Geo_Locality_Mt_Cities_Centers.csv', sep = ';')\n",
    "\n",
    "census['okrug_mt'] = census['okrug_mt'].apply(lambda x: x.strip())\n",
    "census['province_mt'] = census['province_mt'].apply(lambda x: x.strip())\n",
    "census['locality_mt'] = census['locality_mt'].apply(lambda x: x.strip())\n",
    "census['locality'] = census['locality'].apply(lambda x: x.strip())\n",
    "census['city_nm'] = census['province_mt'].apply(lambda x: slide(x, 25)) + ' - ' + census['locality_mt'].apply(lambda x: slide(x, 25))\n",
    "census['distance'] = census[['latitude', 'longitude', 'latitude_mt_avg', 'longitude_mt_avg']].apply(\n",
    "    lambda row: distance(row['latitude'], row['longitude'], row['latitude_mt_avg'], row['longitude_mt_avg']),\n",
    "    axis = 1\n",
    ")\n",
    "census['distance_text'] = census['distance'].map(lambda x: round(x, 2))\n",
    "census['dist_all_rn'] = census.sort_values(by='distance', ascending=False)['distance'].rank(method='first', ascending=False).astype(np.int64)\n",
    "census['dist_rn'] = census.sort_values(by='distance', ascending=False).groupby('partition_dt').cumcount() + 1\n",
    "\n",
    "census.sort_values(by='dist_all_rn', ascending=True)[:5]"
   ]
  },
  {
   "cell_type": "markdown",
   "metadata": {},
   "source": [
    "# Гистограмма отклонений расстояний центров городов Census"
   ]
  },
  {
   "cell_type": "code",
   "execution_count": 71,
   "metadata": {},
   "outputs": [],
   "source": [
    "# Find Top 20 by distance for all data\n",
    "census_all_sorted = census.sort_values(by='dist_all_rn', ascending=True).reset_index()\n",
    "census_all_sorted_top = census_all_sorted[:20]"
   ]
  },
  {
   "cell_type": "code",
   "execution_count": 72,
   "metadata": {},
   "outputs": [
    {
     "data": {
      "application/vnd.plotly.v1+json": {
       "config": {
        "plotlyServerURL": "https://plot.ly"
       },
       "data": [
        {
         "marker": {
          "color": [
           "rgba(255,  40,  80, 0.7)",
           "rgba(210,  50, 120, 0.7)",
           "rgba(210, 120, 255, 0.7)",
           "rgba(160, 100, 255, 0.7)",
           "rgba(150,   0, 255, 0.7)",
           "rgba(105,  25, 255, 0.7)",
           "rgba( 45, 120, 255, 0.7)",
           "rgba(115, 200, 255, 0.7)",
           "rgba(120, 220, 225, 0.7)",
           "rgba(100, 255, 200, 0.7)",
           "rgba( 20, 220,  80, 0.7)",
           "rgba(  0, 150,  60, 0.7)",
           "rgba(100, 255,   0, 0.7)",
           "rgba(200, 255,   0, 0.7)",
           "rgba(255, 255,  35, 0.7)",
           "rgba(255, 225,   0, 0.7)",
           "rgba(255, 155,   0, 0.7)",
           "rgba(255, 105,   0, 0.7)",
           "rgba(255,  50,   0, 0.7)",
           "rgba(255,   0,   0, 0.7)"
          ],
          "line": {
           "color": [
            "rgb(255,  40,  80)",
            "rgb(210,  50, 120)",
            "rgb(210, 120, 255)",
            "rgb(160, 100, 255)",
            "rgb(150,   0, 255)",
            "rgb(105,  25, 255)",
            "rgb( 45, 120, 255)",
            "rgb(115, 200, 255)",
            "rgb(120, 220, 225)",
            "rgb(100, 255, 200)",
            "rgb( 20, 220,  80)",
            "rgb(  0, 150,  60)",
            "rgb(100, 255,   0)",
            "rgb(200, 255,   0)",
            "rgb(255, 255,  35)",
            "rgb(255, 225,   0)",
            "rgb(255, 155,   0)",
            "rgb(255, 105,   0)",
            "rgb(255,  50,   0)",
            "rgb(255,   0,   0)"
           ],
           "width": 1
          }
         },
         "orientation": "h",
         "outsidetextfont": {
          "color": "red",
          "size": 12
         },
         "textposition": "outside",
         "texttemplate": "%{x:.2f}",
         "type": "bar",
         "x": [
          163.03220206709895,
          167.83996306035868,
          169.8898381429143,
          181.69558412961814,
          183.27606593871187,
          184.17354700083516,
          201.01998236068908,
          207.6093584269528,
          210.5115714005753,
          223.250639662935,
          230.21234400327583,
          233.9765706417416,
          250.82447333279057,
          284.4130687285324,
          295.449561519915,
          315.60872069383345,
          322.66549878756183,
          344.6873168050352,
          373.95941334894155,
          559.5125339094815
         ],
         "y": [
          "Ярославская область - Ярославль - 2020-05-01",
          "Владимирская область - Владимир - 2020-05-01",
          "Омская область - Омск - 2020-09-01",
          "Курганская область - Курган - 2020-10-01",
          "Алтайский край - Барнаул - 2020-11-01",
          "Омская область - Омск - 2021-01-01",
          "Алтайский край - Барнаул - 2020-07-01",
          "Новосибирская область - Новосибирск - 2020-07-01",
          "Ярославская область - Ярославль - 2020-10-01",
          "Алтайский край - Барнаул - 2020-04-01",
          "Ивановская область - Иваново - 2020-06-01",
          "Ярославская область - Ярославль - 2020-11-01",
          "Ярославская область - Ярославль - 2020-06-01",
          "Ярославская область - Ярославль - 2020-04-01",
          "Алтайский край - Барнаул - 2020-06-01",
          "Московская область - Химки - 2020-07-01",
          "Алтайский край - Барнаул - 2020-05-01",
          "Ивановская область - Иваново - 2020-05-01",
          "Новосибирская область - Новосибирск - 2020-05-01",
          "Кемеровская область - Кемерово - 2020-04-01"
         ]
        }
       ],
       "layout": {
        "margin": {
         "b": 20,
         "t": 20
        },
        "paper_bgcolor": "rgb(248, 248, 255)",
        "plot_bgcolor": "rgb(248, 248, 255)",
        "showlegend": false,
        "template": {
         "data": {
          "bar": [
           {
            "error_x": {
             "color": "#2a3f5f"
            },
            "error_y": {
             "color": "#2a3f5f"
            },
            "marker": {
             "line": {
              "color": "#E5ECF6",
              "width": 0.5
             }
            },
            "type": "bar"
           }
          ],
          "barpolar": [
           {
            "marker": {
             "line": {
              "color": "#E5ECF6",
              "width": 0.5
             }
            },
            "type": "barpolar"
           }
          ],
          "carpet": [
           {
            "aaxis": {
             "endlinecolor": "#2a3f5f",
             "gridcolor": "white",
             "linecolor": "white",
             "minorgridcolor": "white",
             "startlinecolor": "#2a3f5f"
            },
            "baxis": {
             "endlinecolor": "#2a3f5f",
             "gridcolor": "white",
             "linecolor": "white",
             "minorgridcolor": "white",
             "startlinecolor": "#2a3f5f"
            },
            "type": "carpet"
           }
          ],
          "choropleth": [
           {
            "colorbar": {
             "outlinewidth": 0,
             "ticks": ""
            },
            "type": "choropleth"
           }
          ],
          "contour": [
           {
            "colorbar": {
             "outlinewidth": 0,
             "ticks": ""
            },
            "colorscale": [
             [
              0,
              "#0d0887"
             ],
             [
              0.1111111111111111,
              "#46039f"
             ],
             [
              0.2222222222222222,
              "#7201a8"
             ],
             [
              0.3333333333333333,
              "#9c179e"
             ],
             [
              0.4444444444444444,
              "#bd3786"
             ],
             [
              0.5555555555555556,
              "#d8576b"
             ],
             [
              0.6666666666666666,
              "#ed7953"
             ],
             [
              0.7777777777777778,
              "#fb9f3a"
             ],
             [
              0.8888888888888888,
              "#fdca26"
             ],
             [
              1,
              "#f0f921"
             ]
            ],
            "type": "contour"
           }
          ],
          "contourcarpet": [
           {
            "colorbar": {
             "outlinewidth": 0,
             "ticks": ""
            },
            "type": "contourcarpet"
           }
          ],
          "heatmap": [
           {
            "colorbar": {
             "outlinewidth": 0,
             "ticks": ""
            },
            "colorscale": [
             [
              0,
              "#0d0887"
             ],
             [
              0.1111111111111111,
              "#46039f"
             ],
             [
              0.2222222222222222,
              "#7201a8"
             ],
             [
              0.3333333333333333,
              "#9c179e"
             ],
             [
              0.4444444444444444,
              "#bd3786"
             ],
             [
              0.5555555555555556,
              "#d8576b"
             ],
             [
              0.6666666666666666,
              "#ed7953"
             ],
             [
              0.7777777777777778,
              "#fb9f3a"
             ],
             [
              0.8888888888888888,
              "#fdca26"
             ],
             [
              1,
              "#f0f921"
             ]
            ],
            "type": "heatmap"
           }
          ],
          "heatmapgl": [
           {
            "colorbar": {
             "outlinewidth": 0,
             "ticks": ""
            },
            "colorscale": [
             [
              0,
              "#0d0887"
             ],
             [
              0.1111111111111111,
              "#46039f"
             ],
             [
              0.2222222222222222,
              "#7201a8"
             ],
             [
              0.3333333333333333,
              "#9c179e"
             ],
             [
              0.4444444444444444,
              "#bd3786"
             ],
             [
              0.5555555555555556,
              "#d8576b"
             ],
             [
              0.6666666666666666,
              "#ed7953"
             ],
             [
              0.7777777777777778,
              "#fb9f3a"
             ],
             [
              0.8888888888888888,
              "#fdca26"
             ],
             [
              1,
              "#f0f921"
             ]
            ],
            "type": "heatmapgl"
           }
          ],
          "histogram": [
           {
            "marker": {
             "colorbar": {
              "outlinewidth": 0,
              "ticks": ""
             }
            },
            "type": "histogram"
           }
          ],
          "histogram2d": [
           {
            "colorbar": {
             "outlinewidth": 0,
             "ticks": ""
            },
            "colorscale": [
             [
              0,
              "#0d0887"
             ],
             [
              0.1111111111111111,
              "#46039f"
             ],
             [
              0.2222222222222222,
              "#7201a8"
             ],
             [
              0.3333333333333333,
              "#9c179e"
             ],
             [
              0.4444444444444444,
              "#bd3786"
             ],
             [
              0.5555555555555556,
              "#d8576b"
             ],
             [
              0.6666666666666666,
              "#ed7953"
             ],
             [
              0.7777777777777778,
              "#fb9f3a"
             ],
             [
              0.8888888888888888,
              "#fdca26"
             ],
             [
              1,
              "#f0f921"
             ]
            ],
            "type": "histogram2d"
           }
          ],
          "histogram2dcontour": [
           {
            "colorbar": {
             "outlinewidth": 0,
             "ticks": ""
            },
            "colorscale": [
             [
              0,
              "#0d0887"
             ],
             [
              0.1111111111111111,
              "#46039f"
             ],
             [
              0.2222222222222222,
              "#7201a8"
             ],
             [
              0.3333333333333333,
              "#9c179e"
             ],
             [
              0.4444444444444444,
              "#bd3786"
             ],
             [
              0.5555555555555556,
              "#d8576b"
             ],
             [
              0.6666666666666666,
              "#ed7953"
             ],
             [
              0.7777777777777778,
              "#fb9f3a"
             ],
             [
              0.8888888888888888,
              "#fdca26"
             ],
             [
              1,
              "#f0f921"
             ]
            ],
            "type": "histogram2dcontour"
           }
          ],
          "mesh3d": [
           {
            "colorbar": {
             "outlinewidth": 0,
             "ticks": ""
            },
            "type": "mesh3d"
           }
          ],
          "parcoords": [
           {
            "line": {
             "colorbar": {
              "outlinewidth": 0,
              "ticks": ""
             }
            },
            "type": "parcoords"
           }
          ],
          "pie": [
           {
            "automargin": true,
            "type": "pie"
           }
          ],
          "scatter": [
           {
            "marker": {
             "colorbar": {
              "outlinewidth": 0,
              "ticks": ""
             }
            },
            "type": "scatter"
           }
          ],
          "scatter3d": [
           {
            "line": {
             "colorbar": {
              "outlinewidth": 0,
              "ticks": ""
             }
            },
            "marker": {
             "colorbar": {
              "outlinewidth": 0,
              "ticks": ""
             }
            },
            "type": "scatter3d"
           }
          ],
          "scattercarpet": [
           {
            "marker": {
             "colorbar": {
              "outlinewidth": 0,
              "ticks": ""
             }
            },
            "type": "scattercarpet"
           }
          ],
          "scattergeo": [
           {
            "marker": {
             "colorbar": {
              "outlinewidth": 0,
              "ticks": ""
             }
            },
            "type": "scattergeo"
           }
          ],
          "scattergl": [
           {
            "marker": {
             "colorbar": {
              "outlinewidth": 0,
              "ticks": ""
             }
            },
            "type": "scattergl"
           }
          ],
          "scattermapbox": [
           {
            "marker": {
             "colorbar": {
              "outlinewidth": 0,
              "ticks": ""
             }
            },
            "type": "scattermapbox"
           }
          ],
          "scatterpolar": [
           {
            "marker": {
             "colorbar": {
              "outlinewidth": 0,
              "ticks": ""
             }
            },
            "type": "scatterpolar"
           }
          ],
          "scatterpolargl": [
           {
            "marker": {
             "colorbar": {
              "outlinewidth": 0,
              "ticks": ""
             }
            },
            "type": "scatterpolargl"
           }
          ],
          "scatterternary": [
           {
            "marker": {
             "colorbar": {
              "outlinewidth": 0,
              "ticks": ""
             }
            },
            "type": "scatterternary"
           }
          ],
          "surface": [
           {
            "colorbar": {
             "outlinewidth": 0,
             "ticks": ""
            },
            "colorscale": [
             [
              0,
              "#0d0887"
             ],
             [
              0.1111111111111111,
              "#46039f"
             ],
             [
              0.2222222222222222,
              "#7201a8"
             ],
             [
              0.3333333333333333,
              "#9c179e"
             ],
             [
              0.4444444444444444,
              "#bd3786"
             ],
             [
              0.5555555555555556,
              "#d8576b"
             ],
             [
              0.6666666666666666,
              "#ed7953"
             ],
             [
              0.7777777777777778,
              "#fb9f3a"
             ],
             [
              0.8888888888888888,
              "#fdca26"
             ],
             [
              1,
              "#f0f921"
             ]
            ],
            "type": "surface"
           }
          ],
          "table": [
           {
            "cells": {
             "fill": {
              "color": "#EBF0F8"
             },
             "line": {
              "color": "white"
             }
            },
            "header": {
             "fill": {
              "color": "#C8D4E3"
             },
             "line": {
              "color": "white"
             }
            },
            "type": "table"
           }
          ]
         },
         "layout": {
          "annotationdefaults": {
           "arrowcolor": "#2a3f5f",
           "arrowhead": 0,
           "arrowwidth": 1
          },
          "autotypenumbers": "strict",
          "coloraxis": {
           "colorbar": {
            "outlinewidth": 0,
            "ticks": ""
           }
          },
          "colorscale": {
           "diverging": [
            [
             0,
             "#8e0152"
            ],
            [
             0.1,
             "#c51b7d"
            ],
            [
             0.2,
             "#de77ae"
            ],
            [
             0.3,
             "#f1b6da"
            ],
            [
             0.4,
             "#fde0ef"
            ],
            [
             0.5,
             "#f7f7f7"
            ],
            [
             0.6,
             "#e6f5d0"
            ],
            [
             0.7,
             "#b8e186"
            ],
            [
             0.8,
             "#7fbc41"
            ],
            [
             0.9,
             "#4d9221"
            ],
            [
             1,
             "#276419"
            ]
           ],
           "sequential": [
            [
             0,
             "#0d0887"
            ],
            [
             0.1111111111111111,
             "#46039f"
            ],
            [
             0.2222222222222222,
             "#7201a8"
            ],
            [
             0.3333333333333333,
             "#9c179e"
            ],
            [
             0.4444444444444444,
             "#bd3786"
            ],
            [
             0.5555555555555556,
             "#d8576b"
            ],
            [
             0.6666666666666666,
             "#ed7953"
            ],
            [
             0.7777777777777778,
             "#fb9f3a"
            ],
            [
             0.8888888888888888,
             "#fdca26"
            ],
            [
             1,
             "#f0f921"
            ]
           ],
           "sequentialminus": [
            [
             0,
             "#0d0887"
            ],
            [
             0.1111111111111111,
             "#46039f"
            ],
            [
             0.2222222222222222,
             "#7201a8"
            ],
            [
             0.3333333333333333,
             "#9c179e"
            ],
            [
             0.4444444444444444,
             "#bd3786"
            ],
            [
             0.5555555555555556,
             "#d8576b"
            ],
            [
             0.6666666666666666,
             "#ed7953"
            ],
            [
             0.7777777777777778,
             "#fb9f3a"
            ],
            [
             0.8888888888888888,
             "#fdca26"
            ],
            [
             1,
             "#f0f921"
            ]
           ]
          },
          "colorway": [
           "#636efa",
           "#EF553B",
           "#00cc96",
           "#ab63fa",
           "#FFA15A",
           "#19d3f3",
           "#FF6692",
           "#B6E880",
           "#FF97FF",
           "#FECB52"
          ],
          "font": {
           "color": "#2a3f5f"
          },
          "geo": {
           "bgcolor": "white",
           "lakecolor": "white",
           "landcolor": "#E5ECF6",
           "showlakes": true,
           "showland": true,
           "subunitcolor": "white"
          },
          "hoverlabel": {
           "align": "left"
          },
          "hovermode": "closest",
          "mapbox": {
           "style": "light"
          },
          "paper_bgcolor": "white",
          "plot_bgcolor": "#E5ECF6",
          "polar": {
           "angularaxis": {
            "gridcolor": "white",
            "linecolor": "white",
            "ticks": ""
           },
           "bgcolor": "#E5ECF6",
           "radialaxis": {
            "gridcolor": "white",
            "linecolor": "white",
            "ticks": ""
           }
          },
          "scene": {
           "xaxis": {
            "backgroundcolor": "#E5ECF6",
            "gridcolor": "white",
            "gridwidth": 2,
            "linecolor": "white",
            "showbackground": true,
            "ticks": "",
            "zerolinecolor": "white"
           },
           "yaxis": {
            "backgroundcolor": "#E5ECF6",
            "gridcolor": "white",
            "gridwidth": 2,
            "linecolor": "white",
            "showbackground": true,
            "ticks": "",
            "zerolinecolor": "white"
           },
           "zaxis": {
            "backgroundcolor": "#E5ECF6",
            "gridcolor": "white",
            "gridwidth": 2,
            "linecolor": "white",
            "showbackground": true,
            "ticks": "",
            "zerolinecolor": "white"
           }
          },
          "shapedefaults": {
           "line": {
            "color": "#2a3f5f"
           }
          },
          "ternary": {
           "aaxis": {
            "gridcolor": "white",
            "linecolor": "white",
            "ticks": ""
           },
           "baxis": {
            "gridcolor": "white",
            "linecolor": "white",
            "ticks": ""
           },
           "bgcolor": "#E5ECF6",
           "caxis": {
            "gridcolor": "white",
            "linecolor": "white",
            "ticks": ""
           }
          },
          "title": {
           "x": 0.05
          },
          "xaxis": {
           "automargin": true,
           "gridcolor": "white",
           "linecolor": "white",
           "ticks": "",
           "title": {
            "standoff": 15
           },
           "zerolinecolor": "white",
           "zerolinewidth": 2
          },
          "yaxis": {
           "automargin": true,
           "gridcolor": "white",
           "linecolor": "white",
           "ticks": "",
           "title": {
            "standoff": 15
           },
           "zerolinecolor": "white",
           "zerolinewidth": 2
          }
         }
        },
        "xaxis": {
         "range": [
          0,
          615
         ]
        }
       }
      },
      "text/html": [
       "<div>                            <div id=\"52824793-a153-47b0-b5e7-147cc8d9fe3f\" class=\"plotly-graph-div\" style=\"height:525px; width:100%;\"></div>            <script type=\"text/javascript\">                require([\"plotly\"], function(Plotly) {                    window.PLOTLYENV=window.PLOTLYENV || {};                                    if (document.getElementById(\"52824793-a153-47b0-b5e7-147cc8d9fe3f\")) {                    Plotly.newPlot(                        \"52824793-a153-47b0-b5e7-147cc8d9fe3f\",                        [{\"marker\": {\"color\": [\"rgba(255,  40,  80, 0.7)\", \"rgba(210,  50, 120, 0.7)\", \"rgba(210, 120, 255, 0.7)\", \"rgba(160, 100, 255, 0.7)\", \"rgba(150,   0, 255, 0.7)\", \"rgba(105,  25, 255, 0.7)\", \"rgba( 45, 120, 255, 0.7)\", \"rgba(115, 200, 255, 0.7)\", \"rgba(120, 220, 225, 0.7)\", \"rgba(100, 255, 200, 0.7)\", \"rgba( 20, 220,  80, 0.7)\", \"rgba(  0, 150,  60, 0.7)\", \"rgba(100, 255,   0, 0.7)\", \"rgba(200, 255,   0, 0.7)\", \"rgba(255, 255,  35, 0.7)\", \"rgba(255, 225,   0, 0.7)\", \"rgba(255, 155,   0, 0.7)\", \"rgba(255, 105,   0, 0.7)\", \"rgba(255,  50,   0, 0.7)\", \"rgba(255,   0,   0, 0.7)\"], \"line\": {\"color\": [\"rgb(255,  40,  80)\", \"rgb(210,  50, 120)\", \"rgb(210, 120, 255)\", \"rgb(160, 100, 255)\", \"rgb(150,   0, 255)\", \"rgb(105,  25, 255)\", \"rgb( 45, 120, 255)\", \"rgb(115, 200, 255)\", \"rgb(120, 220, 225)\", \"rgb(100, 255, 200)\", \"rgb( 20, 220,  80)\", \"rgb(  0, 150,  60)\", \"rgb(100, 255,   0)\", \"rgb(200, 255,   0)\", \"rgb(255, 255,  35)\", \"rgb(255, 225,   0)\", \"rgb(255, 155,   0)\", \"rgb(255, 105,   0)\", \"rgb(255,  50,   0)\", \"rgb(255,   0,   0)\"], \"width\": 1}}, \"orientation\": \"h\", \"outsidetextfont\": {\"color\": \"red\", \"size\": 12}, \"textposition\": \"outside\", \"texttemplate\": \"%{x:.2f}\", \"type\": \"bar\", \"x\": [163.03220206709895, 167.83996306035868, 169.8898381429143, 181.69558412961814, 183.27606593871187, 184.17354700083516, 201.01998236068908, 207.6093584269528, 210.5115714005753, 223.250639662935, 230.21234400327583, 233.9765706417416, 250.82447333279057, 284.4130687285324, 295.449561519915, 315.60872069383345, 322.66549878756183, 344.6873168050352, 373.95941334894155, 559.5125339094815], \"y\": [\"\\u042f\\u0440\\u043e\\u0441\\u043b\\u0430\\u0432\\u0441\\u043a\\u0430\\u044f \\u043e\\u0431\\u043b\\u0430\\u0441\\u0442\\u044c - \\u042f\\u0440\\u043e\\u0441\\u043b\\u0430\\u0432\\u043b\\u044c - 2020-05-01\", \"\\u0412\\u043b\\u0430\\u0434\\u0438\\u043c\\u0438\\u0440\\u0441\\u043a\\u0430\\u044f \\u043e\\u0431\\u043b\\u0430\\u0441\\u0442\\u044c - \\u0412\\u043b\\u0430\\u0434\\u0438\\u043c\\u0438\\u0440 - 2020-05-01\", \"\\u041e\\u043c\\u0441\\u043a\\u0430\\u044f \\u043e\\u0431\\u043b\\u0430\\u0441\\u0442\\u044c - \\u041e\\u043c\\u0441\\u043a - 2020-09-01\", \"\\u041a\\u0443\\u0440\\u0433\\u0430\\u043d\\u0441\\u043a\\u0430\\u044f \\u043e\\u0431\\u043b\\u0430\\u0441\\u0442\\u044c - \\u041a\\u0443\\u0440\\u0433\\u0430\\u043d - 2020-10-01\", \"\\u0410\\u043b\\u0442\\u0430\\u0439\\u0441\\u043a\\u0438\\u0439 \\u043a\\u0440\\u0430\\u0439 - \\u0411\\u0430\\u0440\\u043d\\u0430\\u0443\\u043b - 2020-11-01\", \"\\u041e\\u043c\\u0441\\u043a\\u0430\\u044f \\u043e\\u0431\\u043b\\u0430\\u0441\\u0442\\u044c - \\u041e\\u043c\\u0441\\u043a - 2021-01-01\", \"\\u0410\\u043b\\u0442\\u0430\\u0439\\u0441\\u043a\\u0438\\u0439 \\u043a\\u0440\\u0430\\u0439 - \\u0411\\u0430\\u0440\\u043d\\u0430\\u0443\\u043b - 2020-07-01\", \"\\u041d\\u043e\\u0432\\u043e\\u0441\\u0438\\u0431\\u0438\\u0440\\u0441\\u043a\\u0430\\u044f \\u043e\\u0431\\u043b\\u0430\\u0441\\u0442\\u044c - \\u041d\\u043e\\u0432\\u043e\\u0441\\u0438\\u0431\\u0438\\u0440\\u0441\\u043a - 2020-07-01\", \"\\u042f\\u0440\\u043e\\u0441\\u043b\\u0430\\u0432\\u0441\\u043a\\u0430\\u044f \\u043e\\u0431\\u043b\\u0430\\u0441\\u0442\\u044c - \\u042f\\u0440\\u043e\\u0441\\u043b\\u0430\\u0432\\u043b\\u044c - 2020-10-01\", \"\\u0410\\u043b\\u0442\\u0430\\u0439\\u0441\\u043a\\u0438\\u0439 \\u043a\\u0440\\u0430\\u0439 - \\u0411\\u0430\\u0440\\u043d\\u0430\\u0443\\u043b - 2020-04-01\", \"\\u0418\\u0432\\u0430\\u043d\\u043e\\u0432\\u0441\\u043a\\u0430\\u044f \\u043e\\u0431\\u043b\\u0430\\u0441\\u0442\\u044c - \\u0418\\u0432\\u0430\\u043d\\u043e\\u0432\\u043e - 2020-06-01\", \"\\u042f\\u0440\\u043e\\u0441\\u043b\\u0430\\u0432\\u0441\\u043a\\u0430\\u044f \\u043e\\u0431\\u043b\\u0430\\u0441\\u0442\\u044c - \\u042f\\u0440\\u043e\\u0441\\u043b\\u0430\\u0432\\u043b\\u044c - 2020-11-01\", \"\\u042f\\u0440\\u043e\\u0441\\u043b\\u0430\\u0432\\u0441\\u043a\\u0430\\u044f \\u043e\\u0431\\u043b\\u0430\\u0441\\u0442\\u044c - \\u042f\\u0440\\u043e\\u0441\\u043b\\u0430\\u0432\\u043b\\u044c - 2020-06-01\", \"\\u042f\\u0440\\u043e\\u0441\\u043b\\u0430\\u0432\\u0441\\u043a\\u0430\\u044f \\u043e\\u0431\\u043b\\u0430\\u0441\\u0442\\u044c - \\u042f\\u0440\\u043e\\u0441\\u043b\\u0430\\u0432\\u043b\\u044c - 2020-04-01\", \"\\u0410\\u043b\\u0442\\u0430\\u0439\\u0441\\u043a\\u0438\\u0439 \\u043a\\u0440\\u0430\\u0439 - \\u0411\\u0430\\u0440\\u043d\\u0430\\u0443\\u043b - 2020-06-01\", \"\\u041c\\u043e\\u0441\\u043a\\u043e\\u0432\\u0441\\u043a\\u0430\\u044f \\u043e\\u0431\\u043b\\u0430\\u0441\\u0442\\u044c - \\u0425\\u0438\\u043c\\u043a\\u0438 - 2020-07-01\", \"\\u0410\\u043b\\u0442\\u0430\\u0439\\u0441\\u043a\\u0438\\u0439 \\u043a\\u0440\\u0430\\u0439 - \\u0411\\u0430\\u0440\\u043d\\u0430\\u0443\\u043b - 2020-05-01\", \"\\u0418\\u0432\\u0430\\u043d\\u043e\\u0432\\u0441\\u043a\\u0430\\u044f \\u043e\\u0431\\u043b\\u0430\\u0441\\u0442\\u044c - \\u0418\\u0432\\u0430\\u043d\\u043e\\u0432\\u043e - 2020-05-01\", \"\\u041d\\u043e\\u0432\\u043e\\u0441\\u0438\\u0431\\u0438\\u0440\\u0441\\u043a\\u0430\\u044f \\u043e\\u0431\\u043b\\u0430\\u0441\\u0442\\u044c - \\u041d\\u043e\\u0432\\u043e\\u0441\\u0438\\u0431\\u0438\\u0440\\u0441\\u043a - 2020-05-01\", \"\\u041a\\u0435\\u043c\\u0435\\u0440\\u043e\\u0432\\u0441\\u043a\\u0430\\u044f \\u043e\\u0431\\u043b\\u0430\\u0441\\u0442\\u044c - \\u041a\\u0435\\u043c\\u0435\\u0440\\u043e\\u0432\\u043e - 2020-04-01\"]}],                        {\"margin\": {\"b\": 20, \"t\": 20}, \"paper_bgcolor\": \"rgb(248, 248, 255)\", \"plot_bgcolor\": \"rgb(248, 248, 255)\", \"showlegend\": false, \"template\": {\"data\": {\"bar\": [{\"error_x\": {\"color\": \"#2a3f5f\"}, \"error_y\": {\"color\": \"#2a3f5f\"}, \"marker\": {\"line\": {\"color\": \"#E5ECF6\", \"width\": 0.5}}, \"type\": \"bar\"}], \"barpolar\": [{\"marker\": {\"line\": {\"color\": \"#E5ECF6\", \"width\": 0.5}}, \"type\": \"barpolar\"}], \"carpet\": [{\"aaxis\": {\"endlinecolor\": \"#2a3f5f\", \"gridcolor\": \"white\", \"linecolor\": \"white\", \"minorgridcolor\": \"white\", \"startlinecolor\": \"#2a3f5f\"}, \"baxis\": {\"endlinecolor\": \"#2a3f5f\", \"gridcolor\": \"white\", \"linecolor\": \"white\", \"minorgridcolor\": \"white\", \"startlinecolor\": \"#2a3f5f\"}, \"type\": \"carpet\"}], \"choropleth\": [{\"colorbar\": {\"outlinewidth\": 0, \"ticks\": \"\"}, \"type\": \"choropleth\"}], \"contour\": [{\"colorbar\": {\"outlinewidth\": 0, \"ticks\": \"\"}, \"colorscale\": [[0.0, \"#0d0887\"], [0.1111111111111111, \"#46039f\"], [0.2222222222222222, \"#7201a8\"], [0.3333333333333333, \"#9c179e\"], [0.4444444444444444, \"#bd3786\"], [0.5555555555555556, \"#d8576b\"], [0.6666666666666666, \"#ed7953\"], [0.7777777777777778, \"#fb9f3a\"], [0.8888888888888888, \"#fdca26\"], [1.0, \"#f0f921\"]], \"type\": \"contour\"}], \"contourcarpet\": [{\"colorbar\": {\"outlinewidth\": 0, \"ticks\": \"\"}, \"type\": \"contourcarpet\"}], \"heatmap\": [{\"colorbar\": {\"outlinewidth\": 0, \"ticks\": \"\"}, \"colorscale\": [[0.0, \"#0d0887\"], [0.1111111111111111, \"#46039f\"], [0.2222222222222222, \"#7201a8\"], [0.3333333333333333, \"#9c179e\"], [0.4444444444444444, \"#bd3786\"], [0.5555555555555556, \"#d8576b\"], [0.6666666666666666, \"#ed7953\"], [0.7777777777777778, \"#fb9f3a\"], [0.8888888888888888, \"#fdca26\"], [1.0, \"#f0f921\"]], \"type\": \"heatmap\"}], \"heatmapgl\": [{\"colorbar\": {\"outlinewidth\": 0, \"ticks\": \"\"}, \"colorscale\": [[0.0, \"#0d0887\"], [0.1111111111111111, \"#46039f\"], [0.2222222222222222, \"#7201a8\"], [0.3333333333333333, \"#9c179e\"], [0.4444444444444444, \"#bd3786\"], [0.5555555555555556, \"#d8576b\"], [0.6666666666666666, \"#ed7953\"], [0.7777777777777778, \"#fb9f3a\"], [0.8888888888888888, \"#fdca26\"], [1.0, \"#f0f921\"]], \"type\": \"heatmapgl\"}], \"histogram\": [{\"marker\": {\"colorbar\": {\"outlinewidth\": 0, \"ticks\": \"\"}}, \"type\": \"histogram\"}], \"histogram2d\": [{\"colorbar\": {\"outlinewidth\": 0, \"ticks\": \"\"}, \"colorscale\": [[0.0, \"#0d0887\"], [0.1111111111111111, \"#46039f\"], [0.2222222222222222, \"#7201a8\"], [0.3333333333333333, \"#9c179e\"], [0.4444444444444444, \"#bd3786\"], [0.5555555555555556, \"#d8576b\"], [0.6666666666666666, \"#ed7953\"], [0.7777777777777778, \"#fb9f3a\"], [0.8888888888888888, \"#fdca26\"], [1.0, \"#f0f921\"]], \"type\": \"histogram2d\"}], \"histogram2dcontour\": [{\"colorbar\": {\"outlinewidth\": 0, \"ticks\": \"\"}, \"colorscale\": [[0.0, \"#0d0887\"], [0.1111111111111111, \"#46039f\"], [0.2222222222222222, \"#7201a8\"], [0.3333333333333333, \"#9c179e\"], [0.4444444444444444, \"#bd3786\"], [0.5555555555555556, \"#d8576b\"], [0.6666666666666666, \"#ed7953\"], [0.7777777777777778, \"#fb9f3a\"], [0.8888888888888888, \"#fdca26\"], [1.0, \"#f0f921\"]], \"type\": \"histogram2dcontour\"}], \"mesh3d\": [{\"colorbar\": {\"outlinewidth\": 0, \"ticks\": \"\"}, \"type\": \"mesh3d\"}], \"parcoords\": [{\"line\": {\"colorbar\": {\"outlinewidth\": 0, \"ticks\": \"\"}}, \"type\": \"parcoords\"}], \"pie\": [{\"automargin\": true, \"type\": \"pie\"}], \"scatter\": [{\"marker\": {\"colorbar\": {\"outlinewidth\": 0, \"ticks\": \"\"}}, \"type\": \"scatter\"}], \"scatter3d\": [{\"line\": {\"colorbar\": {\"outlinewidth\": 0, \"ticks\": \"\"}}, \"marker\": {\"colorbar\": {\"outlinewidth\": 0, \"ticks\": \"\"}}, \"type\": \"scatter3d\"}], \"scattercarpet\": [{\"marker\": {\"colorbar\": {\"outlinewidth\": 0, \"ticks\": \"\"}}, \"type\": \"scattercarpet\"}], \"scattergeo\": [{\"marker\": {\"colorbar\": {\"outlinewidth\": 0, \"ticks\": \"\"}}, \"type\": \"scattergeo\"}], \"scattergl\": [{\"marker\": {\"colorbar\": {\"outlinewidth\": 0, \"ticks\": \"\"}}, \"type\": \"scattergl\"}], \"scattermapbox\": [{\"marker\": {\"colorbar\": {\"outlinewidth\": 0, \"ticks\": \"\"}}, \"type\": \"scattermapbox\"}], \"scatterpolar\": [{\"marker\": {\"colorbar\": {\"outlinewidth\": 0, \"ticks\": \"\"}}, \"type\": \"scatterpolar\"}], \"scatterpolargl\": [{\"marker\": {\"colorbar\": {\"outlinewidth\": 0, \"ticks\": \"\"}}, \"type\": \"scatterpolargl\"}], \"scatterternary\": [{\"marker\": {\"colorbar\": {\"outlinewidth\": 0, \"ticks\": \"\"}}, \"type\": \"scatterternary\"}], \"surface\": [{\"colorbar\": {\"outlinewidth\": 0, \"ticks\": \"\"}, \"colorscale\": [[0.0, \"#0d0887\"], [0.1111111111111111, \"#46039f\"], [0.2222222222222222, \"#7201a8\"], [0.3333333333333333, \"#9c179e\"], [0.4444444444444444, \"#bd3786\"], [0.5555555555555556, \"#d8576b\"], [0.6666666666666666, \"#ed7953\"], [0.7777777777777778, \"#fb9f3a\"], [0.8888888888888888, \"#fdca26\"], [1.0, \"#f0f921\"]], \"type\": \"surface\"}], \"table\": [{\"cells\": {\"fill\": {\"color\": \"#EBF0F8\"}, \"line\": {\"color\": \"white\"}}, \"header\": {\"fill\": {\"color\": \"#C8D4E3\"}, \"line\": {\"color\": \"white\"}}, \"type\": \"table\"}]}, \"layout\": {\"annotationdefaults\": {\"arrowcolor\": \"#2a3f5f\", \"arrowhead\": 0, \"arrowwidth\": 1}, \"autotypenumbers\": \"strict\", \"coloraxis\": {\"colorbar\": {\"outlinewidth\": 0, \"ticks\": \"\"}}, \"colorscale\": {\"diverging\": [[0, \"#8e0152\"], [0.1, \"#c51b7d\"], [0.2, \"#de77ae\"], [0.3, \"#f1b6da\"], [0.4, \"#fde0ef\"], [0.5, \"#f7f7f7\"], [0.6, \"#e6f5d0\"], [0.7, \"#b8e186\"], [0.8, \"#7fbc41\"], [0.9, \"#4d9221\"], [1, \"#276419\"]], \"sequential\": [[0.0, \"#0d0887\"], [0.1111111111111111, \"#46039f\"], [0.2222222222222222, \"#7201a8\"], [0.3333333333333333, \"#9c179e\"], [0.4444444444444444, \"#bd3786\"], [0.5555555555555556, \"#d8576b\"], [0.6666666666666666, \"#ed7953\"], [0.7777777777777778, \"#fb9f3a\"], [0.8888888888888888, \"#fdca26\"], [1.0, \"#f0f921\"]], \"sequentialminus\": [[0.0, \"#0d0887\"], [0.1111111111111111, \"#46039f\"], [0.2222222222222222, \"#7201a8\"], [0.3333333333333333, \"#9c179e\"], [0.4444444444444444, \"#bd3786\"], [0.5555555555555556, \"#d8576b\"], [0.6666666666666666, \"#ed7953\"], [0.7777777777777778, \"#fb9f3a\"], [0.8888888888888888, \"#fdca26\"], [1.0, \"#f0f921\"]]}, \"colorway\": [\"#636efa\", \"#EF553B\", \"#00cc96\", \"#ab63fa\", \"#FFA15A\", \"#19d3f3\", \"#FF6692\", \"#B6E880\", \"#FF97FF\", \"#FECB52\"], \"font\": {\"color\": \"#2a3f5f\"}, \"geo\": {\"bgcolor\": \"white\", \"lakecolor\": \"white\", \"landcolor\": \"#E5ECF6\", \"showlakes\": true, \"showland\": true, \"subunitcolor\": \"white\"}, \"hoverlabel\": {\"align\": \"left\"}, \"hovermode\": \"closest\", \"mapbox\": {\"style\": \"light\"}, \"paper_bgcolor\": \"white\", \"plot_bgcolor\": \"#E5ECF6\", \"polar\": {\"angularaxis\": {\"gridcolor\": \"white\", \"linecolor\": \"white\", \"ticks\": \"\"}, \"bgcolor\": \"#E5ECF6\", \"radialaxis\": {\"gridcolor\": \"white\", \"linecolor\": \"white\", \"ticks\": \"\"}}, \"scene\": {\"xaxis\": {\"backgroundcolor\": \"#E5ECF6\", \"gridcolor\": \"white\", \"gridwidth\": 2, \"linecolor\": \"white\", \"showbackground\": true, \"ticks\": \"\", \"zerolinecolor\": \"white\"}, \"yaxis\": {\"backgroundcolor\": \"#E5ECF6\", \"gridcolor\": \"white\", \"gridwidth\": 2, \"linecolor\": \"white\", \"showbackground\": true, \"ticks\": \"\", \"zerolinecolor\": \"white\"}, \"zaxis\": {\"backgroundcolor\": \"#E5ECF6\", \"gridcolor\": \"white\", \"gridwidth\": 2, \"linecolor\": \"white\", \"showbackground\": true, \"ticks\": \"\", \"zerolinecolor\": \"white\"}}, \"shapedefaults\": {\"line\": {\"color\": \"#2a3f5f\"}}, \"ternary\": {\"aaxis\": {\"gridcolor\": \"white\", \"linecolor\": \"white\", \"ticks\": \"\"}, \"baxis\": {\"gridcolor\": \"white\", \"linecolor\": \"white\", \"ticks\": \"\"}, \"bgcolor\": \"#E5ECF6\", \"caxis\": {\"gridcolor\": \"white\", \"linecolor\": \"white\", \"ticks\": \"\"}}, \"title\": {\"x\": 0.05}, \"xaxis\": {\"automargin\": true, \"gridcolor\": \"white\", \"linecolor\": \"white\", \"ticks\": \"\", \"title\": {\"standoff\": 15}, \"zerolinecolor\": \"white\", \"zerolinewidth\": 2}, \"yaxis\": {\"automargin\": true, \"gridcolor\": \"white\", \"linecolor\": \"white\", \"ticks\": \"\", \"title\": {\"standoff\": 15}, \"zerolinecolor\": \"white\", \"zerolinewidth\": 2}}}, \"xaxis\": {\"range\": [0, 615]}},                        {\"responsive\": true}                    ).then(function(){\n",
       "                            \n",
       "var gd = document.getElementById('52824793-a153-47b0-b5e7-147cc8d9fe3f');\n",
       "var x = new MutationObserver(function (mutations, observer) {{\n",
       "        var display = window.getComputedStyle(gd).display;\n",
       "        if (!display || display === 'none') {{\n",
       "            console.log([gd, 'removed!']);\n",
       "            Plotly.purge(gd);\n",
       "            observer.disconnect();\n",
       "        }}\n",
       "}});\n",
       "\n",
       "// Listen for the removal of the full notebook cells\n",
       "var notebookContainer = gd.closest('#notebook-container');\n",
       "if (notebookContainer) {{\n",
       "    x.observe(notebookContainer, {childList: true});\n",
       "}}\n",
       "\n",
       "// Listen for the clearing of the current output cell\n",
       "var outputEl = gd.closest('.output');\n",
       "if (outputEl) {{\n",
       "    x.observe(outputEl, {childList: true});\n",
       "}}\n",
       "\n",
       "                        })                };                });            </script>        </div>"
      ]
     },
     "metadata": {},
     "output_type": "display_data"
    }
   ],
   "source": [
    "xs = (census_all_sorted_top['distance']).to_list()[::-1]\n",
    "ys = (census_all_sorted_top['city_nm'] + ' - ' + census_all_sorted_top['partition_dt']).to_list()[::-1]\n",
    "\n",
    "# Plot data as Bar Horizontal Histogram\n",
    "plotBarAll(xs, ys)"
   ]
  },
  {
   "cell_type": "markdown",
   "metadata": {},
   "source": [
    "# Гистограмма динамики отклонений расстояний городов Census"
   ]
  },
  {
   "cell_type": "code",
   "execution_count": 73,
   "metadata": {},
   "outputs": [
    {
     "data": {
      "application/vnd.plotly.v1+json": {
       "config": {
        "plotlyServerURL": "https://plot.ly"
       },
       "data": [
        {
         "marker": {
          "color": [
           "rgba(255,  40,  80, 0.7)",
           "rgba(210,  50, 120, 0.7)",
           "rgba(210, 120, 255, 0.7)",
           "rgba(160, 100, 255, 0.7)",
           "rgba(150,   0, 255, 0.7)",
           "rgba(105,  25, 255, 0.7)",
           "rgba( 45, 120, 255, 0.7)",
           "rgba(115, 200, 255, 0.7)",
           "rgba(120, 220, 225, 0.7)",
           "rgba(100, 255, 200, 0.7)",
           "rgba( 20, 220,  80, 0.7)",
           "rgba(  0, 150,  60, 0.7)",
           "rgba(100, 255,   0, 0.7)",
           "rgba(200, 255,   0, 0.7)",
           "rgba(255, 255,  35, 0.7)",
           "rgba(255, 225,   0, 0.7)",
           "rgba(255, 155,   0, 0.7)",
           "rgba(255, 105,   0, 0.7)",
           "rgba(255,  50,   0, 0.7)",
           "rgba(255,   0,   0, 0.7)"
          ],
          "line": {
           "color": [
            "rgb(255,  40,  80)",
            "rgb(210,  50, 120)",
            "rgb(210, 120, 255)",
            "rgb(160, 100, 255)",
            "rgb(150,   0, 255)",
            "rgb(105,  25, 255)",
            "rgb( 45, 120, 255)",
            "rgb(115, 200, 255)",
            "rgb(120, 220, 225)",
            "rgb(100, 255, 200)",
            "rgb( 20, 220,  80)",
            "rgb(  0, 150,  60)",
            "rgb(100, 255,   0)",
            "rgb(200, 255,   0)",
            "rgb(255, 255,  35)",
            "rgb(255, 225,   0)",
            "rgb(255, 155,   0)",
            "rgb(255, 105,   0)",
            "rgb(255,  50,   0)",
            "rgb(255,   0,   0)"
           ],
           "width": 1
          }
         },
         "orientation": "h",
         "outsidetextfont": {
          "color": "red",
          "size": 12
         },
         "textposition": "outside",
         "texttemplate": "%{x:.2f}",
         "type": "bar",
         "visible": true,
         "x": [
          4.890477754521818,
          5.295355136772802,
          6.649403667473729,
          7.234719882700353,
          7.973268998167464,
          12.386014933441135,
          16.5515955362465,
          22.168584841070402,
          22.925494557431676,
          27.122842189397485,
          31.87892425448095,
          33.17595836146415,
          42.46987777675002,
          42.61564528934124,
          46.81855869625974,
          51.005619674010234,
          56.180032732903044,
          57.75138853270717,
          71.64583835300263,
          147.12750830334053
         ],
         "y": [
          "Оренбургская область - Оренбург - 2020-01-01",
          "Московская область - Подольск - 2020-01-01",
          "Самарская область - Самара - 2020-01-01",
          "Иркутская область - Братск - 2020-01-01",
          "Новосибирская область - Новосибирск - 2020-01-01",
          "Владимирская область - Владимир - 2020-01-01",
          "Омская область - Омск - 2020-01-01",
          "Ярославская область - Ярославль - 2020-01-01",
          "Калужская область - Калуга - 2020-01-01",
          "Москва - Москва - 2020-01-01",
          "Томская область - Томск - 2020-01-01",
          "Краснодарский край - Краснодар - 2020-01-01",
          "Орловская область - Орел - 2020-01-01",
          "Мурманская область - Мурманск - 2020-01-01",
          "Московская область - Королев - 2020-01-01",
          "Алтайский край - Барнаул - 2020-01-01",
          "Свердловская область - Екатеринбург - 2020-01-01",
          "Челябинская область - Магнитогорск - 2020-01-01",
          "Кемеровская область - Новокузнецк - 2020-01-01",
          "Московская область - Химки - 2020-01-01"
         ]
        },
        {
         "marker": {
          "color": [
           "rgba(255,  40,  80, 0.7)",
           "rgba(210,  50, 120, 0.7)",
           "rgba(210, 120, 255, 0.7)",
           "rgba(160, 100, 255, 0.7)",
           "rgba(150,   0, 255, 0.7)",
           "rgba(105,  25, 255, 0.7)",
           "rgba( 45, 120, 255, 0.7)",
           "rgba(115, 200, 255, 0.7)",
           "rgba(120, 220, 225, 0.7)",
           "rgba(100, 255, 200, 0.7)",
           "rgba( 20, 220,  80, 0.7)",
           "rgba(  0, 150,  60, 0.7)",
           "rgba(100, 255,   0, 0.7)",
           "rgba(200, 255,   0, 0.7)",
           "rgba(255, 255,  35, 0.7)",
           "rgba(255, 225,   0, 0.7)",
           "rgba(255, 155,   0, 0.7)",
           "rgba(255, 105,   0, 0.7)",
           "rgba(255,  50,   0, 0.7)",
           "rgba(255,   0,   0, 0.7)"
          ],
          "line": {
           "color": [
            "rgb(255,  40,  80)",
            "rgb(210,  50, 120)",
            "rgb(210, 120, 255)",
            "rgb(160, 100, 255)",
            "rgb(150,   0, 255)",
            "rgb(105,  25, 255)",
            "rgb( 45, 120, 255)",
            "rgb(115, 200, 255)",
            "rgb(120, 220, 225)",
            "rgb(100, 255, 200)",
            "rgb( 20, 220,  80)",
            "rgb(  0, 150,  60)",
            "rgb(100, 255,   0)",
            "rgb(200, 255,   0)",
            "rgb(255, 255,  35)",
            "rgb(255, 225,   0)",
            "rgb(255, 155,   0)",
            "rgb(255, 105,   0)",
            "rgb(255,  50,   0)",
            "rgb(255,   0,   0)"
           ],
           "width": 1
          }
         },
         "orientation": "h",
         "outsidetextfont": {
          "color": "red",
          "size": 12
         },
         "textposition": "outside",
         "texttemplate": "%{x:.2f}",
         "type": "bar",
         "visible": false,
         "x": [
          6.518088983454923,
          7.943185812711957,
          8.020762750029126,
          11.439290420442278,
          16.507851379777772,
          23.63531099540685,
          30.56843348188936,
          32.70740139857137,
          32.841340545336024,
          41.70347856591803,
          42.78797405164691,
          47.045529999249894,
          54.50088750894819,
          59.312320175233836,
          63.808740957361344,
          71.64507097824244,
          81.32327285179335,
          118.56430748259125,
          119.30796808781875,
          156.2068223078851
         ],
         "y": [
          "Самарская область - Самара - 2020-02-01",
          "Иркутская область - Братск - 2020-02-01",
          "Томская область - Томск - 2020-02-01",
          "Владимирская область - Владимир - 2020-02-01",
          "Ярославская область - Ярославль - 2020-02-01",
          "Калужская область - Калуга - 2020-02-01",
          "Москва - Москва - 2020-02-01",
          "Челябинская область - Магнитогорск - 2020-02-01",
          "Краснодарский край - Краснодар - 2020-02-01",
          "Мурманская область - Мурманск - 2020-02-01",
          "Орловская область - Орел - 2020-02-01",
          "Московская область - Королев - 2020-02-01",
          "Красноярский край - Красноярск - 2020-02-01",
          "Свердловская область - Екатеринбург - 2020-02-01",
          "Псковская область - Псков - 2020-02-01",
          "Курганская область - Курган - 2020-02-01",
          "Алтайский край - Барнаул - 2020-02-01",
          "Нижегородская область - Дзержинск - 2020-02-01",
          "Кемеровская область - Новокузнецк - 2020-02-01",
          "Московская область - Химки - 2020-02-01"
         ]
        },
        {
         "marker": {
          "color": [
           "rgba(255,  40,  80, 0.7)",
           "rgba(210,  50, 120, 0.7)",
           "rgba(210, 120, 255, 0.7)",
           "rgba(160, 100, 255, 0.7)",
           "rgba(150,   0, 255, 0.7)",
           "rgba(105,  25, 255, 0.7)",
           "rgba( 45, 120, 255, 0.7)",
           "rgba(115, 200, 255, 0.7)",
           "rgba(120, 220, 225, 0.7)",
           "rgba(100, 255, 200, 0.7)",
           "rgba( 20, 220,  80, 0.7)",
           "rgba(  0, 150,  60, 0.7)",
           "rgba(100, 255,   0, 0.7)",
           "rgba(200, 255,   0, 0.7)",
           "rgba(255, 255,  35, 0.7)",
           "rgba(255, 225,   0, 0.7)",
           "rgba(255, 155,   0, 0.7)",
           "rgba(255, 105,   0, 0.7)",
           "rgba(255,  50,   0, 0.7)",
           "rgba(255,   0,   0, 0.7)"
          ],
          "line": {
           "color": [
            "rgb(255,  40,  80)",
            "rgb(210,  50, 120)",
            "rgb(210, 120, 255)",
            "rgb(160, 100, 255)",
            "rgb(150,   0, 255)",
            "rgb(105,  25, 255)",
            "rgb( 45, 120, 255)",
            "rgb(115, 200, 255)",
            "rgb(120, 220, 225)",
            "rgb(100, 255, 200)",
            "rgb( 20, 220,  80)",
            "rgb(  0, 150,  60)",
            "rgb(100, 255,   0)",
            "rgb(200, 255,   0)",
            "rgb(255, 255,  35)",
            "rgb(255, 225,   0)",
            "rgb(255, 155,   0)",
            "rgb(255, 105,   0)",
            "rgb(255,  50,   0)",
            "rgb(255,   0,   0)"
           ],
           "width": 1
          }
         },
         "orientation": "h",
         "outsidetextfont": {
          "color": "red",
          "size": 12
         },
         "textposition": "outside",
         "texttemplate": "%{x:.2f}",
         "type": "bar",
         "visible": false,
         "x": [
          5.614016410299672,
          5.8978352096914115,
          8.29865985387994,
          10.511963969467802,
          11.691091374889831,
          13.129833353811115,
          19.51177825882197,
          23.133025048672934,
          27.489130905447357,
          27.861555178998575,
          32.493230738188124,
          40.66874704405019,
          41.242288540780514,
          42.8596329585539,
          42.864462325479636,
          43.1159500550693,
          46.99340953584548,
          57.81130102914966,
          96.5995317048528,
          146.4689738880894
         ],
         "y": [
          "Самарская область - Самара - 2020-03-01",
          "Самарская область - Тольятти - 2020-03-01",
          "Иркутская область - Братск - 2020-03-01",
          "Владимирская область - Владимир - 2020-03-01",
          "Краснодарский край - Сочи - 2020-03-01",
          "Нижегородская область - Нижний Новгород - 2020-03-01",
          "Красноярский край - Красноярск - 2020-03-01",
          "Калужская область - Калуга - 2020-03-01",
          "Москва - Москва - 2020-03-01",
          "Вологодская область - Череповец - 2020-03-01",
          "Краснодарский край - Краснодар - 2020-03-01",
          "Свердловская область - Екатеринбург - 2020-03-01",
          "Новосибирская область - Новосибирск - 2020-03-01",
          "Орловская область - Орел - 2020-03-01",
          "Мурманская область - Мурманск - 2020-03-01",
          "Омская область - Омск - 2020-03-01",
          "Московская область - Королев - 2020-03-01",
          "Томская область - Томск - 2020-03-01",
          "Ярославская область - Ярославль - 2020-03-01",
          "Московская область - Химки - 2020-03-01"
         ]
        },
        {
         "marker": {
          "color": [
           "rgba(255,  40,  80, 0.7)",
           "rgba(210,  50, 120, 0.7)",
           "rgba(210, 120, 255, 0.7)",
           "rgba(160, 100, 255, 0.7)",
           "rgba(150,   0, 255, 0.7)",
           "rgba(105,  25, 255, 0.7)",
           "rgba( 45, 120, 255, 0.7)",
           "rgba(115, 200, 255, 0.7)",
           "rgba(120, 220, 225, 0.7)",
           "rgba(100, 255, 200, 0.7)",
           "rgba( 20, 220,  80, 0.7)",
           "rgba(  0, 150,  60, 0.7)",
           "rgba(100, 255,   0, 0.7)",
           "rgba(200, 255,   0, 0.7)",
           "rgba(255, 255,  35, 0.7)",
           "rgba(255, 225,   0, 0.7)",
           "rgba(255, 155,   0, 0.7)",
           "rgba(255, 105,   0, 0.7)",
           "rgba(255,  50,   0, 0.7)",
           "rgba(255,   0,   0, 0.7)"
          ],
          "line": {
           "color": [
            "rgb(255,  40,  80)",
            "rgb(210,  50, 120)",
            "rgb(210, 120, 255)",
            "rgb(160, 100, 255)",
            "rgb(150,   0, 255)",
            "rgb(105,  25, 255)",
            "rgb( 45, 120, 255)",
            "rgb(115, 200, 255)",
            "rgb(120, 220, 225)",
            "rgb(100, 255, 200)",
            "rgb( 20, 220,  80)",
            "rgb(  0, 150,  60)",
            "rgb(100, 255,   0)",
            "rgb(200, 255,   0)",
            "rgb(255, 255,  35)",
            "rgb(255, 225,   0)",
            "rgb(255, 155,   0)",
            "rgb(255, 105,   0)",
            "rgb(255,  50,   0)",
            "rgb(255,   0,   0)"
           ],
           "width": 1
          }
         },
         "orientation": "h",
         "outsidetextfont": {
          "color": "red",
          "size": 12
         },
         "textposition": "outside",
         "texttemplate": "%{x:.2f}",
         "type": "bar",
         "visible": false,
         "x": [
          5.284395143528781,
          5.871826959186716,
          6.821883776571062,
          9.699869399945856,
          12.148365702075935,
          17.182456949056025,
          18.345997002848907,
          22.705557476556056,
          32.45687876804829,
          39.684932851019205,
          41.800911979120215,
          42.93733790827818,
          46.807490475092735,
          49.23980979048494,
          71.57131260541735,
          80.22816060309525,
          97.65944972191095,
          223.250639662935,
          284.4130687285324,
          559.5125339094815
         ],
         "y": [
          "Самарская область - Тольятти - 2020-04-01",
          "Иркутская область - Братск - 2020-04-01",
          "Самарская область - Самара - 2020-04-01",
          "Владимирская область - Владимир - 2020-04-01",
          "Краснодарский край - Сочи - 2020-04-01",
          "Нижегородская область - Нижний Новгород - 2020-04-01",
          "Омская область - Омск - 2020-04-01",
          "Калужская область - Калуга - 2020-04-01",
          "Краснодарский край - Краснодар - 2020-04-01",
          "Свердловская область - Екатеринбург - 2020-04-01",
          "Орловская область - Орел - 2020-04-01",
          "Мурманская область - Мурманск - 2020-04-01",
          "Московская область - Королев - 2020-04-01",
          "Московская область - Подольск - 2020-04-01",
          "Новосибирская область - Новосибирск - 2020-04-01",
          "Тюменская область - Тюмень - 2020-04-01",
          "Томская область - Томск - 2020-04-01",
          "Алтайский край - Барнаул - 2020-04-01",
          "Ярославская область - Ярославль - 2020-04-01",
          "Кемеровская область - Кемерово - 2020-04-01"
         ]
        },
        {
         "marker": {
          "color": [
           "rgba(255,  40,  80, 0.7)",
           "rgba(210,  50, 120, 0.7)",
           "rgba(210, 120, 255, 0.7)",
           "rgba(160, 100, 255, 0.7)",
           "rgba(150,   0, 255, 0.7)",
           "rgba(105,  25, 255, 0.7)",
           "rgba( 45, 120, 255, 0.7)",
           "rgba(115, 200, 255, 0.7)",
           "rgba(120, 220, 225, 0.7)",
           "rgba(100, 255, 200, 0.7)",
           "rgba( 20, 220,  80, 0.7)",
           "rgba(  0, 150,  60, 0.7)",
           "rgba(100, 255,   0, 0.7)",
           "rgba(200, 255,   0, 0.7)",
           "rgba(255, 255,  35, 0.7)",
           "rgba(255, 225,   0, 0.7)",
           "rgba(255, 155,   0, 0.7)",
           "rgba(255, 105,   0, 0.7)",
           "rgba(255,  50,   0, 0.7)",
           "rgba(255,   0,   0, 0.7)"
          ],
          "line": {
           "color": [
            "rgb(255,  40,  80)",
            "rgb(210,  50, 120)",
            "rgb(210, 120, 255)",
            "rgb(160, 100, 255)",
            "rgb(150,   0, 255)",
            "rgb(105,  25, 255)",
            "rgb( 45, 120, 255)",
            "rgb(115, 200, 255)",
            "rgb(120, 220, 225)",
            "rgb(100, 255, 200)",
            "rgb( 20, 220,  80)",
            "rgb(  0, 150,  60)",
            "rgb(100, 255,   0)",
            "rgb(200, 255,   0)",
            "rgb(255, 255,  35)",
            "rgb(255, 225,   0)",
            "rgb(255, 155,   0)",
            "rgb(255, 105,   0)",
            "rgb(255,  50,   0)",
            "rgb(255,   0,   0)"
           ],
           "width": 1
          }
         },
         "orientation": "h",
         "outsidetextfont": {
          "color": "red",
          "size": 12
         },
         "textposition": "outside",
         "texttemplate": "%{x:.2f}",
         "type": "bar",
         "visible": false,
         "x": [
          6.229493344370258,
          7.924687229106306,
          11.394463535362718,
          17.69431600737666,
          19.0091760617408,
          22.78671876480163,
          38.502957973243554,
          39.496899876088946,
          41.69624281408862,
          42.98543629272478,
          47.182528281421696,
          47.26513180264706,
          49.16722280127217,
          55.61345829280007,
          143.9764712013309,
          163.03220206709895,
          167.83996306035868,
          322.66549878756183,
          344.6873168050352,
          373.95941334894155
         ],
         "y": [
          "Самарская область - Самара - 2020-05-01",
          "Нижегородская область - Нижний Новгород - 2020-05-01",
          "Краснодарский край - Сочи - 2020-05-01",
          "Москва - Москва - 2020-05-01",
          "Тюменская область - Тюмень - 2020-05-01",
          "Калужская область - Калуга - 2020-05-01",
          "Красноярский край - Красноярск - 2020-05-01",
          "Свердловская область - Екатеринбург - 2020-05-01",
          "Орловская область - Орел - 2020-05-01",
          "Мурманская область - Мурманск - 2020-05-01",
          "Московская область - Королев - 2020-05-01",
          "Томская область - Томск - 2020-05-01",
          "Нижегородская область - Дзержинск - 2020-05-01",
          "Краснодарский край - Краснодар - 2020-05-01",
          "Кемеровская область - Кемерово - 2020-05-01",
          "Ярославская область - Ярославль - 2020-05-01",
          "Владимирская область - Владимир - 2020-05-01",
          "Алтайский край - Барнаул - 2020-05-01",
          "Ивановская область - Иваново - 2020-05-01",
          "Новосибирская область - Новосибирск - 2020-05-01"
         ]
        },
        {
         "marker": {
          "color": [
           "rgba(255,  40,  80, 0.7)",
           "rgba(210,  50, 120, 0.7)",
           "rgba(210, 120, 255, 0.7)",
           "rgba(160, 100, 255, 0.7)",
           "rgba(150,   0, 255, 0.7)",
           "rgba(105,  25, 255, 0.7)",
           "rgba( 45, 120, 255, 0.7)",
           "rgba(115, 200, 255, 0.7)",
           "rgba(120, 220, 225, 0.7)",
           "rgba(100, 255, 200, 0.7)",
           "rgba( 20, 220,  80, 0.7)",
           "rgba(  0, 150,  60, 0.7)",
           "rgba(100, 255,   0, 0.7)",
           "rgba(200, 255,   0, 0.7)",
           "rgba(255, 255,  35, 0.7)",
           "rgba(255, 225,   0, 0.7)",
           "rgba(255, 155,   0, 0.7)",
           "rgba(255, 105,   0, 0.7)",
           "rgba(255,  50,   0, 0.7)",
           "rgba(255,   0,   0, 0.7)"
          ],
          "line": {
           "color": [
            "rgb(255,  40,  80)",
            "rgb(210,  50, 120)",
            "rgb(210, 120, 255)",
            "rgb(160, 100, 255)",
            "rgb(150,   0, 255)",
            "rgb(105,  25, 255)",
            "rgb( 45, 120, 255)",
            "rgb(115, 200, 255)",
            "rgb(120, 220, 225)",
            "rgb(100, 255, 200)",
            "rgb( 20, 220,  80)",
            "rgb(  0, 150,  60)",
            "rgb(100, 255,   0)",
            "rgb(200, 255,   0)",
            "rgb(255, 255,  35)",
            "rgb(255, 225,   0)",
            "rgb(255, 155,   0)",
            "rgb(255, 105,   0)",
            "rgb(255,  50,   0)",
            "rgb(255,   0,   0)"
           ],
           "width": 1
          }
         },
         "orientation": "h",
         "outsidetextfont": {
          "color": "red",
          "size": 12
         },
         "textposition": "outside",
         "texttemplate": "%{x:.2f}",
         "type": "bar",
         "visible": false,
         "x": [
          5.74462034556828,
          6.5834989570757205,
          7.6681536761136435,
          8.0337032995335,
          8.644401015059394,
          10.164102259053973,
          10.403618616446035,
          17.001997311530754,
          17.0547089744045,
          22.118665334987003,
          32.52340253343389,
          41.78171030355782,
          41.81086492533427,
          42.054241931891326,
          46.947661763015226,
          57.3411777246787,
          69.75181632727131,
          230.21234400327583,
          250.82447333279057,
          295.449561519915
         ],
         "y": [
          "Удмуртская Республика - Ижевск - 2020-06-01",
          "Самарская область - Самара - 2020-06-01",
          "Нижегородская область - Нижний Новгород - 2020-06-01",
          "Томская область - Томск - 2020-06-01",
          "Краснодарский край - Сочи - 2020-06-01",
          "Псковская область - Псков - 2020-06-01",
          "Владимирская область - Владимир - 2020-06-01",
          "Тюменская область - Тюмень - 2020-06-01",
          "Калужская область - Калуга - 2020-06-01",
          "Красноярский край - Красноярск - 2020-06-01",
          "Краснодарский край - Краснодар - 2020-06-01",
          "Орловская область - Орел - 2020-06-01",
          "Свердловская область - Екатеринбург - 2020-06-01",
          "Мурманская область - Мурманск - 2020-06-01",
          "Московская область - Королев - 2020-06-01",
          "Новосибирская область - Новосибирск - 2020-06-01",
          "Нижегородская область - Дзержинск - 2020-06-01",
          "Ивановская область - Иваново - 2020-06-01",
          "Ярославская область - Ярославль - 2020-06-01",
          "Алтайский край - Барнаул - 2020-06-01"
         ]
        },
        {
         "marker": {
          "color": [
           "rgba(255,  40,  80, 0.7)",
           "rgba(210,  50, 120, 0.7)",
           "rgba(210, 120, 255, 0.7)",
           "rgba(160, 100, 255, 0.7)",
           "rgba(150,   0, 255, 0.7)",
           "rgba(105,  25, 255, 0.7)",
           "rgba( 45, 120, 255, 0.7)",
           "rgba(115, 200, 255, 0.7)",
           "rgba(120, 220, 225, 0.7)",
           "rgba(100, 255, 200, 0.7)",
           "rgba( 20, 220,  80, 0.7)",
           "rgba(  0, 150,  60, 0.7)",
           "rgba(100, 255,   0, 0.7)",
           "rgba(200, 255,   0, 0.7)",
           "rgba(255, 255,  35, 0.7)",
           "rgba(255, 225,   0, 0.7)",
           "rgba(255, 155,   0, 0.7)",
           "rgba(255, 105,   0, 0.7)",
           "rgba(255,  50,   0, 0.7)",
           "rgba(255,   0,   0, 0.7)"
          ],
          "line": {
           "color": [
            "rgb(255,  40,  80)",
            "rgb(210,  50, 120)",
            "rgb(210, 120, 255)",
            "rgb(160, 100, 255)",
            "rgb(150,   0, 255)",
            "rgb(105,  25, 255)",
            "rgb( 45, 120, 255)",
            "rgb(115, 200, 255)",
            "rgb(120, 220, 225)",
            "rgb(100, 255, 200)",
            "rgb( 20, 220,  80)",
            "rgb(  0, 150,  60)",
            "rgb(100, 255,   0)",
            "rgb(200, 255,   0)",
            "rgb(255, 255,  35)",
            "rgb(255, 225,   0)",
            "rgb(255, 155,   0)",
            "rgb(255, 105,   0)",
            "rgb(255,  50,   0)",
            "rgb(255,   0,   0)"
           ],
           "width": 1
          }
         },
         "orientation": "h",
         "outsidetextfont": {
          "color": "red",
          "size": 12
         },
         "textposition": "outside",
         "texttemplate": "%{x:.2f}",
         "type": "bar",
         "visible": false,
         "x": [
          6.691317690853377,
          11.276665238838067,
          23.056625087141576,
          31.19647560365277,
          31.31437082242064,
          32.968996631470034,
          34.707099139117474,
          39.20461289021289,
          41.22884771761693,
          41.639136523413484,
          42.3214773283343,
          46.81113375473672,
          92.92623246192005,
          99.50772635344569,
          108.43825848835397,
          112.18927133393113,
          117.26707173212917,
          201.01998236068908,
          207.6093584269528,
          315.60872069383345
         ],
         "y": [
          "Самарская область - Самара - 2020-07-01",
          "Владимирская область - Владимир - 2020-07-01",
          "Калужская область - Калуга - 2020-07-01",
          "Москва - Москва - 2020-07-01",
          "Тюменская область - Тюмень - 2020-07-01",
          "Краснодарский край - Краснодар - 2020-07-01",
          "Омская область - Омск - 2020-07-01",
          "Красноярский край - Красноярск - 2020-07-01",
          "Свердловская область - Екатеринбург - 2020-07-01",
          "Мурманская область - Мурманск - 2020-07-01",
          "Орловская область - Орел - 2020-07-01",
          "Московская область - Королев - 2020-07-01",
          "Ивановская область - Иваново - 2020-07-01",
          "Нижегородская область - Нижний Новгород - 2020-07-01",
          "Томская область - Томск - 2020-07-01",
          "Кемеровская область - Кемерово - 2020-07-01",
          "Нижегородская область - Дзержинск - 2020-07-01",
          "Алтайский край - Барнаул - 2020-07-01",
          "Новосибирская область - Новосибирск - 2020-07-01",
          "Московская область - Химки - 2020-07-01"
         ]
        },
        {
         "marker": {
          "color": [
           "rgba(255,  40,  80, 0.7)",
           "rgba(210,  50, 120, 0.7)",
           "rgba(210, 120, 255, 0.7)",
           "rgba(160, 100, 255, 0.7)",
           "rgba(150,   0, 255, 0.7)",
           "rgba(105,  25, 255, 0.7)",
           "rgba( 45, 120, 255, 0.7)",
           "rgba(115, 200, 255, 0.7)",
           "rgba(120, 220, 225, 0.7)",
           "rgba(100, 255, 200, 0.7)",
           "rgba( 20, 220,  80, 0.7)",
           "rgba(  0, 150,  60, 0.7)",
           "rgba(100, 255,   0, 0.7)",
           "rgba(200, 255,   0, 0.7)",
           "rgba(255, 255,  35, 0.7)",
           "rgba(255, 225,   0, 0.7)",
           "rgba(255, 155,   0, 0.7)",
           "rgba(255, 105,   0, 0.7)",
           "rgba(255,  50,   0, 0.7)",
           "rgba(255,   0,   0, 0.7)"
          ],
          "line": {
           "color": [
            "rgb(255,  40,  80)",
            "rgb(210,  50, 120)",
            "rgb(210, 120, 255)",
            "rgb(160, 100, 255)",
            "rgb(150,   0, 255)",
            "rgb(105,  25, 255)",
            "rgb( 45, 120, 255)",
            "rgb(115, 200, 255)",
            "rgb(120, 220, 225)",
            "rgb(100, 255, 200)",
            "rgb( 20, 220,  80)",
            "rgb(  0, 150,  60)",
            "rgb(100, 255,   0)",
            "rgb(200, 255,   0)",
            "rgb(255, 255,  35)",
            "rgb(255, 225,   0)",
            "rgb(255, 155,   0)",
            "rgb(255, 105,   0)",
            "rgb(255,  50,   0)",
            "rgb(255,   0,   0)"
           ],
           "width": 1
          }
         },
         "orientation": "h",
         "outsidetextfont": {
          "color": "red",
          "size": 12
         },
         "textposition": "outside",
         "texttemplate": "%{x:.2f}",
         "type": "bar",
         "visible": false,
         "x": [
          5.908932743286997,
          6.0823501254403105,
          8.003306207165583,
          10.555619581533513,
          10.904072199311269,
          15.768440422630972,
          16.344448845308047,
          20.922801816646924,
          21.661308245224895,
          30.58309056298383,
          32.40396430564504,
          42.75099959216082,
          42.9500082502119,
          47.16746256245721,
          48.253144210241985,
          58.06185718921942,
          65.28314324346357,
          109.47921295084241,
          110.84332724373624,
          123.63258080275483
         ],
         "y": [
          "Самарская область - Самара - 2020-08-01",
          "Самарская область - Тольятти - 2020-08-01",
          "Томская область - Томск - 2020-08-01",
          "Владимирская область - Владимир - 2020-08-01",
          "Челябинская область - Челябинск - 2020-08-01",
          "Москва - Москва - 2020-08-01",
          "Нижегородская область - Нижний Новгород - 2020-08-01",
          "Калужская область - Калуга - 2020-08-01",
          "Красноярский край - Красноярск - 2020-08-01",
          "Нижегородская область - Дзержинск - 2020-08-01",
          "Краснодарский край - Краснодар - 2020-08-01",
          "Орловская область - Орел - 2020-08-01",
          "Мурманская область - Мурманск - 2020-08-01",
          "Московская область - Королев - 2020-08-01",
          "Свердловская область - Екатеринбург - 2020-08-01",
          "Ивановская область - Иваново - 2020-08-01",
          "Новосибирская область - Новосибирск - 2020-08-01",
          "Кемеровская область - Кемерово - 2020-08-01",
          "Кемеровская область - Новокузнецк - 2020-08-01",
          "Алтайский край - Барнаул - 2020-08-01"
         ]
        },
        {
         "marker": {
          "color": [
           "rgba(255,  40,  80, 0.7)",
           "rgba(210,  50, 120, 0.7)",
           "rgba(210, 120, 255, 0.7)",
           "rgba(160, 100, 255, 0.7)",
           "rgba(150,   0, 255, 0.7)",
           "rgba(105,  25, 255, 0.7)",
           "rgba( 45, 120, 255, 0.7)",
           "rgba(115, 200, 255, 0.7)",
           "rgba(120, 220, 225, 0.7)",
           "rgba(100, 255, 200, 0.7)",
           "rgba( 20, 220,  80, 0.7)",
           "rgba(  0, 150,  60, 0.7)",
           "rgba(100, 255,   0, 0.7)",
           "rgba(200, 255,   0, 0.7)",
           "rgba(255, 255,  35, 0.7)",
           "rgba(255, 225,   0, 0.7)",
           "rgba(255, 155,   0, 0.7)",
           "rgba(255, 105,   0, 0.7)",
           "rgba(255,  50,   0, 0.7)",
           "rgba(255,   0,   0, 0.7)"
          ],
          "line": {
           "color": [
            "rgb(255,  40,  80)",
            "rgb(210,  50, 120)",
            "rgb(210, 120, 255)",
            "rgb(160, 100, 255)",
            "rgb(150,   0, 255)",
            "rgb(105,  25, 255)",
            "rgb( 45, 120, 255)",
            "rgb(115, 200, 255)",
            "rgb(120, 220, 225)",
            "rgb(100, 255, 200)",
            "rgb( 20, 220,  80)",
            "rgb(  0, 150,  60)",
            "rgb(100, 255,   0)",
            "rgb(200, 255,   0)",
            "rgb(255, 255,  35)",
            "rgb(255, 225,   0)",
            "rgb(255, 155,   0)",
            "rgb(255, 105,   0)",
            "rgb(255,  50,   0)",
            "rgb(255,   0,   0)"
           ],
           "width": 1
          }
         },
         "orientation": "h",
         "outsidetextfont": {
          "color": "red",
          "size": 12
         },
         "textposition": "outside",
         "texttemplate": "%{x:.2f}",
         "type": "bar",
         "visible": false,
         "x": [
          6.071410580027895,
          6.9760337322213015,
          10.945498426800478,
          14.648949980546735,
          15.742289093040569,
          17.199329506144057,
          21.209071917094896,
          22.66121568925207,
          32.80474972529915,
          41.72946724726026,
          42.11129835496503,
          42.82545808377541,
          44.21692447686841,
          46.97411652084379,
          50.561605375247076,
          52.712736247866765,
          66.84553158996124,
          93.83101409037205,
          110.75223973207628,
          169.8898381429143
         ],
         "y": [
          "Краснодарский край - Сочи - 2020-09-01",
          "Ярославская область - Ярославль - 2020-09-01",
          "Владимирская область - Владимир - 2020-09-01",
          "Москва - Москва - 2020-09-01",
          "Нижегородская область - Нижний Новгород - 2020-09-01",
          "Ивановская область - Иваново - 2020-09-01",
          "Калужская область - Калуга - 2020-09-01",
          "Нижегородская область - Дзержинск - 2020-09-01",
          "Краснодарский край - Краснодар - 2020-09-01",
          "Кемеровская область - Кемерово - 2020-09-01",
          "Орловская область - Орел - 2020-09-01",
          "Мурманская область - Мурманск - 2020-09-01",
          "Томская область - Томск - 2020-09-01",
          "Московская область - Королев - 2020-09-01",
          "Новосибирская область - Новосибирск - 2020-09-01",
          "Свердловская область - Екатеринбург - 2020-09-01",
          "Красноярский край - Красноярск - 2020-09-01",
          "Московская область - Химки - 2020-09-01",
          "Кемеровская область - Новокузнецк - 2020-09-01",
          "Омская область - Омск - 2020-09-01"
         ]
        },
        {
         "marker": {
          "color": [
           "rgba(255,  40,  80, 0.7)",
           "rgba(210,  50, 120, 0.7)",
           "rgba(210, 120, 255, 0.7)",
           "rgba(160, 100, 255, 0.7)",
           "rgba(150,   0, 255, 0.7)",
           "rgba(105,  25, 255, 0.7)",
           "rgba( 45, 120, 255, 0.7)",
           "rgba(115, 200, 255, 0.7)",
           "rgba(120, 220, 225, 0.7)",
           "rgba(100, 255, 200, 0.7)",
           "rgba( 20, 220,  80, 0.7)",
           "rgba(  0, 150,  60, 0.7)",
           "rgba(100, 255,   0, 0.7)",
           "rgba(200, 255,   0, 0.7)",
           "rgba(255, 255,  35, 0.7)",
           "rgba(255, 225,   0, 0.7)",
           "rgba(255, 155,   0, 0.7)",
           "rgba(255, 105,   0, 0.7)",
           "rgba(255,  50,   0, 0.7)",
           "rgba(255,   0,   0, 0.7)"
          ],
          "line": {
           "color": [
            "rgb(255,  40,  80)",
            "rgb(210,  50, 120)",
            "rgb(210, 120, 255)",
            "rgb(160, 100, 255)",
            "rgb(150,   0, 255)",
            "rgb(105,  25, 255)",
            "rgb( 45, 120, 255)",
            "rgb(115, 200, 255)",
            "rgb(120, 220, 225)",
            "rgb(100, 255, 200)",
            "rgb( 20, 220,  80)",
            "rgb(  0, 150,  60)",
            "rgb(100, 255,   0)",
            "rgb(200, 255,   0)",
            "rgb(255, 255,  35)",
            "rgb(255, 225,   0)",
            "rgb(255, 155,   0)",
            "rgb(255, 105,   0)",
            "rgb(255,  50,   0)",
            "rgb(255,   0,   0)"
           ],
           "width": 1
          }
         },
         "orientation": "h",
         "outsidetextfont": {
          "color": "red",
          "size": 12
         },
         "textposition": "outside",
         "texttemplate": "%{x:.2f}",
         "type": "bar",
         "visible": false,
         "x": [
          13.9575412629776,
          15.091091297493039,
          16.626070901142512,
          19.682821846561293,
          19.916444892799518,
          20.562196597515502,
          28.87503789970968,
          35.640634812171264,
          41.19536547394137,
          43.37174370252535,
          46.94134386378709,
          52.16833495033494,
          54.14665356974663,
          54.23135611232888,
          60.43897006682236,
          90.06202525349492,
          93.73583624588457,
          120.21270421143362,
          181.69558412961814,
          210.5115714005753
         ],
         "y": [
          "Краснодарский край - Сочи - 2020-10-01",
          "Омская область - Омск - 2020-10-01",
          "Москва - Москва - 2020-10-01",
          "Нижегородская область - Нижний Новгород - 2020-10-01",
          "Калужская область - Калуга - 2020-10-01",
          "Новосибирская область - Новосибирск - 2020-10-01",
          "Нижегородская область - Дзержинск - 2020-10-01",
          "Краснодарский край - Краснодар - 2020-10-01",
          "Орловская область - Орел - 2020-10-01",
          "Мурманская область - Мурманск - 2020-10-01",
          "Московская область - Королев - 2020-10-01",
          "Кемеровская область - Кемерово - 2020-10-01",
          "Томская область - Томск - 2020-10-01",
          "Ивановская область - Иваново - 2020-10-01",
          "Красноярский край - Красноярск - 2020-10-01",
          "Свердловская область - Екатеринбург - 2020-10-01",
          "Московская область - Химки - 2020-10-01",
          "Кемеровская область - Новокузнецк - 2020-10-01",
          "Курганская область - Курган - 2020-10-01",
          "Ярославская область - Ярославль - 2020-10-01"
         ]
        },
        {
         "marker": {
          "color": [
           "rgba(255,  40,  80, 0.7)",
           "rgba(210,  50, 120, 0.7)",
           "rgba(210, 120, 255, 0.7)",
           "rgba(160, 100, 255, 0.7)",
           "rgba(150,   0, 255, 0.7)",
           "rgba(105,  25, 255, 0.7)",
           "rgba( 45, 120, 255, 0.7)",
           "rgba(115, 200, 255, 0.7)",
           "rgba(120, 220, 225, 0.7)",
           "rgba(100, 255, 200, 0.7)",
           "rgba( 20, 220,  80, 0.7)",
           "rgba(  0, 150,  60, 0.7)",
           "rgba(100, 255,   0, 0.7)",
           "rgba(200, 255,   0, 0.7)",
           "rgba(255, 255,  35, 0.7)",
           "rgba(255, 225,   0, 0.7)",
           "rgba(255, 155,   0, 0.7)",
           "rgba(255, 105,   0, 0.7)",
           "rgba(255,  50,   0, 0.7)",
           "rgba(255,   0,   0, 0.7)"
          ],
          "line": {
           "color": [
            "rgb(255,  40,  80)",
            "rgb(210,  50, 120)",
            "rgb(210, 120, 255)",
            "rgb(160, 100, 255)",
            "rgb(150,   0, 255)",
            "rgb(105,  25, 255)",
            "rgb( 45, 120, 255)",
            "rgb(115, 200, 255)",
            "rgb(120, 220, 225)",
            "rgb(100, 255, 200)",
            "rgb( 20, 220,  80)",
            "rgb(  0, 150,  60)",
            "rgb(100, 255,   0)",
            "rgb(200, 255,   0)",
            "rgb(255, 255,  35)",
            "rgb(255, 225,   0)",
            "rgb(255, 155,   0)",
            "rgb(255, 105,   0)",
            "rgb(255,  50,   0)",
            "rgb(255,   0,   0)"
           ],
           "width": 1
          }
         },
         "orientation": "h",
         "outsidetextfont": {
          "color": "red",
          "size": 12
         },
         "textposition": "outside",
         "texttemplate": "%{x:.2f}",
         "type": "bar",
         "visible": false,
         "x": [
          8.092522150192833,
          10.54770423741528,
          15.891876974061484,
          16.38805904128684,
          20.82940282149993,
          32.01527654455717,
          35.49545153055407,
          36.688044682238605,
          41.48445870691485,
          41.502420100121,
          43.05491908886469,
          46.98181393102816,
          54.226351297676366,
          75.64504387178201,
          82.43816452904241,
          91.22540122828232,
          119.22391044949063,
          141.96544376571302,
          183.27606593871187,
          233.9765706417416
         ],
         "y": [
          "Томская область - Томск - 2020-11-01",
          "Владимирская область - Владимир - 2020-11-01",
          "Нижегородская область - Нижний Новгород - 2020-11-01",
          "Омская область - Омск - 2020-11-01",
          "Калужская область - Калуга - 2020-11-01",
          "Нижегородская область - Дзержинск - 2020-11-01",
          "Краснодарский край - Краснодар - 2020-11-01",
          "Москва - Москва - 2020-11-01",
          "Орловская область - Орел - 2020-11-01",
          "Новосибирская область - Новосибирск - 2020-11-01",
          "Мурманская область - Мурманск - 2020-11-01",
          "Московская область - Королев - 2020-11-01",
          "Свердловская область - Екатеринбург - 2020-11-01",
          "Кемеровская область - Новокузнецк - 2020-11-01",
          "Красноярский край - Красноярск - 2020-11-01",
          "Ханты-Мансийский автон... - Нижневартовск - 2020-11-01",
          "Кемеровская область - Кемерово - 2020-11-01",
          "Ивановская область - Иваново - 2020-11-01",
          "Алтайский край - Барнаул - 2020-11-01",
          "Ярославская область - Ярославль - 2020-11-01"
         ]
        },
        {
         "marker": {
          "color": [
           "rgba(255,  40,  80, 0.7)",
           "rgba(210,  50, 120, 0.7)",
           "rgba(210, 120, 255, 0.7)",
           "rgba(160, 100, 255, 0.7)",
           "rgba(150,   0, 255, 0.7)",
           "rgba(105,  25, 255, 0.7)",
           "rgba( 45, 120, 255, 0.7)",
           "rgba(115, 200, 255, 0.7)",
           "rgba(120, 220, 225, 0.7)",
           "rgba(100, 255, 200, 0.7)",
           "rgba( 20, 220,  80, 0.7)",
           "rgba(  0, 150,  60, 0.7)",
           "rgba(100, 255,   0, 0.7)",
           "rgba(200, 255,   0, 0.7)",
           "rgba(255, 255,  35, 0.7)",
           "rgba(255, 225,   0, 0.7)",
           "rgba(255, 155,   0, 0.7)",
           "rgba(255, 105,   0, 0.7)",
           "rgba(255,  50,   0, 0.7)",
           "rgba(255,   0,   0, 0.7)"
          ],
          "line": {
           "color": [
            "rgb(255,  40,  80)",
            "rgb(210,  50, 120)",
            "rgb(210, 120, 255)",
            "rgb(160, 100, 255)",
            "rgb(150,   0, 255)",
            "rgb(105,  25, 255)",
            "rgb( 45, 120, 255)",
            "rgb(115, 200, 255)",
            "rgb(120, 220, 225)",
            "rgb(100, 255, 200)",
            "rgb( 20, 220,  80)",
            "rgb(  0, 150,  60)",
            "rgb(100, 255,   0)",
            "rgb(200, 255,   0)",
            "rgb(255, 255,  35)",
            "rgb(255, 225,   0)",
            "rgb(255, 155,   0)",
            "rgb(255, 105,   0)",
            "rgb(255,  50,   0)",
            "rgb(255,   0,   0)"
           ],
           "width": 1
          }
         },
         "orientation": "h",
         "outsidetextfont": {
          "color": "red",
          "size": 12
         },
         "textposition": "outside",
         "texttemplate": "%{x:.2f}",
         "type": "bar",
         "visible": false,
         "x": [
          6.0413019656861335,
          6.477524443387936,
          7.062906943401088,
          7.556418529931511,
          11.477456093682763,
          20.568875191594355,
          23.409624063172515,
          33.28293786273068,
          37.622903175233404,
          42.35464052956596,
          42.68582444074977,
          43.24475069181359,
          47.01974767641614,
          61.99164665966038,
          65.74344905374318,
          66.5145788334187,
          80.07123523963718,
          80.17773412959005,
          93.02825831852923,
          143.5090605081274
         ],
         "y": [
          "Самарская область - Самара - 2020-12-01",
          "Ярославская область - Ярославль - 2020-12-01",
          "Челябинская область - Челябинск - 2020-12-01",
          "Иркутская область - Братск - 2020-12-01",
          "Нижегородская область - Нижний Новгород - 2020-12-01",
          "Омская область - Омск - 2020-12-01",
          "Калужская область - Калуга - 2020-12-01",
          "Краснодарский край - Краснодар - 2020-12-01",
          "Томская область - Томск - 2020-12-01",
          "Орловская область - Орел - 2020-12-01",
          "Свердловская область - Екатеринбург - 2020-12-01",
          "Мурманская область - Мурманск - 2020-12-01",
          "Московская область - Королев - 2020-12-01",
          "Новосибирская область - Новосибирск - 2020-12-01",
          "Москва - Москва - 2020-12-01",
          "Красноярский край - Красноярск - 2020-12-01",
          "Кемеровская область - Кемерово - 2020-12-01",
          "Ханты-Мансийский автон... - Нижневартовск - 2020-12-01",
          "Санкт-Петербург - Санкт-Петербург - 2020-12-01",
          "Кемеровская область - Новокузнецк - 2020-12-01"
         ]
        },
        {
         "marker": {
          "color": [
           "rgba(255,  40,  80, 0.7)",
           "rgba(210,  50, 120, 0.7)",
           "rgba(210, 120, 255, 0.7)",
           "rgba(160, 100, 255, 0.7)",
           "rgba(150,   0, 255, 0.7)",
           "rgba(105,  25, 255, 0.7)",
           "rgba( 45, 120, 255, 0.7)",
           "rgba(115, 200, 255, 0.7)",
           "rgba(120, 220, 225, 0.7)",
           "rgba(100, 255, 200, 0.7)",
           "rgba( 20, 220,  80, 0.7)",
           "rgba(  0, 150,  60, 0.7)",
           "rgba(100, 255,   0, 0.7)",
           "rgba(200, 255,   0, 0.7)",
           "rgba(255, 255,  35, 0.7)",
           "rgba(255, 225,   0, 0.7)",
           "rgba(255, 155,   0, 0.7)",
           "rgba(255, 105,   0, 0.7)",
           "rgba(255,  50,   0, 0.7)",
           "rgba(255,   0,   0, 0.7)"
          ],
          "line": {
           "color": [
            "rgb(255,  40,  80)",
            "rgb(210,  50, 120)",
            "rgb(210, 120, 255)",
            "rgb(160, 100, 255)",
            "rgb(150,   0, 255)",
            "rgb(105,  25, 255)",
            "rgb( 45, 120, 255)",
            "rgb(115, 200, 255)",
            "rgb(120, 220, 225)",
            "rgb(100, 255, 200)",
            "rgb( 20, 220,  80)",
            "rgb(  0, 150,  60)",
            "rgb(100, 255,   0)",
            "rgb(200, 255,   0)",
            "rgb(255, 255,  35)",
            "rgb(255, 225,   0)",
            "rgb(255, 155,   0)",
            "rgb(255, 105,   0)",
            "rgb(255,  50,   0)",
            "rgb(255,   0,   0)"
           ],
           "width": 1
          }
         },
         "orientation": "h",
         "outsidetextfont": {
          "color": "red",
          "size": 12
         },
         "textposition": "outside",
         "texttemplate": "%{x:.2f}",
         "type": "bar",
         "visible": false,
         "x": [
          4.0167976902649745,
          4.050330323729792,
          4.057507095200201,
          4.187985351409308,
          4.2132083572574075,
          4.382094348829232,
          4.8703625363706005,
          5.10846809353981,
          5.691004616659544,
          6.7570685890449464,
          8.131094105323006,
          14.390359990001434,
          16.331551934529074,
          23.86163085592023,
          32.228652822179534,
          40.56398207256446,
          42.71664363233684,
          43.00402904789696,
          46.6626021680426,
          184.17354700083516
         ],
         "y": [
          "Республика Башкортостан - Уфа - 2021-01-01",
          "Челябинская область - Магнитогорск - 2021-01-01",
          "Самарская область - Тольятти - 2021-01-01",
          "Республика Коми - Сыктывкар - 2021-01-01",
          "Республика Бурятия - Улан-Удэ - 2021-01-01",
          "Республика Татарстан - Набережные Челны - 2021-01-01",
          "Владимирская область - Владимир - 2021-01-01",
          "Краснодарский край - Сочи - 2021-01-01",
          "Томская область - Томск - 2021-01-01",
          "Самарская область - Самара - 2021-01-01",
          "Иркутская область - Братск - 2021-01-01",
          "Нижегородская область - Дзержинск - 2021-01-01",
          "Нижегородская область - Нижний Новгород - 2021-01-01",
          "Калужская область - Калуга - 2021-01-01",
          "Краснодарский край - Краснодар - 2021-01-01",
          "Свердловская область - Екатеринбург - 2021-01-01",
          "Мурманская область - Мурманск - 2021-01-01",
          "Орловская область - Орел - 2021-01-01",
          "Московская область - Королев - 2021-01-01",
          "Омская область - Омск - 2021-01-01"
         ]
        },
        {
         "marker": {
          "color": [
           "rgba(255,  40,  80, 0.7)",
           "rgba(210,  50, 120, 0.7)",
           "rgba(210, 120, 255, 0.7)",
           "rgba(160, 100, 255, 0.7)",
           "rgba(150,   0, 255, 0.7)",
           "rgba(105,  25, 255, 0.7)",
           "rgba( 45, 120, 255, 0.7)",
           "rgba(115, 200, 255, 0.7)",
           "rgba(120, 220, 225, 0.7)",
           "rgba(100, 255, 200, 0.7)",
           "rgba( 20, 220,  80, 0.7)",
           "rgba(  0, 150,  60, 0.7)",
           "rgba(100, 255,   0, 0.7)",
           "rgba(200, 255,   0, 0.7)",
           "rgba(255, 255,  35, 0.7)",
           "rgba(255, 225,   0, 0.7)",
           "rgba(255, 155,   0, 0.7)",
           "rgba(255, 105,   0, 0.7)",
           "rgba(255,  50,   0, 0.7)",
           "rgba(255,   0,   0, 0.7)"
          ],
          "line": {
           "color": [
            "rgb(255,  40,  80)",
            "rgb(210,  50, 120)",
            "rgb(210, 120, 255)",
            "rgb(160, 100, 255)",
            "rgb(150,   0, 255)",
            "rgb(105,  25, 255)",
            "rgb( 45, 120, 255)",
            "rgb(115, 200, 255)",
            "rgb(120, 220, 225)",
            "rgb(100, 255, 200)",
            "rgb( 20, 220,  80)",
            "rgb(  0, 150,  60)",
            "rgb(100, 255,   0)",
            "rgb(200, 255,   0)",
            "rgb(255, 255,  35)",
            "rgb(255, 225,   0)",
            "rgb(255, 155,   0)",
            "rgb(255, 105,   0)",
            "rgb(255,  50,   0)",
            "rgb(255,   0,   0)"
           ],
           "width": 1
          }
         },
         "orientation": "h",
         "outsidetextfont": {
          "color": "red",
          "size": 12
         },
         "textposition": "outside",
         "texttemplate": "%{x:.2f}",
         "type": "bar",
         "visible": false,
         "x": [
          3.809624741755539,
          3.8325487394151296,
          4.120246951825551,
          4.1504014762038555,
          4.765653489380647,
          4.980400648207159,
          5.0520585203860655,
          5.615585712904608,
          6.721444453316367,
          6.9690737944694465,
          7.168420255882227,
          8.818669527721488,
          9.922667172059251,
          23.31609841469075,
          32.29090629775854,
          42.930046705969644,
          42.970704428072274,
          43.72384021083109,
          46.770258309308275,
          128.82146125439863
         ],
         "y": [
          "Удмуртская Республика - Ижевск - 2021-02-01",
          "Оренбургская область - Оренбург - 2021-02-01",
          "Республика Башкортостан - Уфа - 2021-02-01",
          "Нижегородская область - Нижний Новгород - 2021-02-01",
          "Самарская область - Тольятти - 2021-02-01",
          "Владимирская область - Владимир - 2021-02-01",
          "Челябинская область - Челябинск - 2021-02-01",
          "Томская область - Томск - 2021-02-01",
          "Нижегородская область - Дзержинск - 2021-02-01",
          "Краснодарский край - Сочи - 2021-02-01",
          "Самарская область - Самара - 2021-02-01",
          "Иркутская область - Братск - 2021-02-01",
          "Ханты-Мансийский автон... - Нижневартовск - 2021-02-01",
          "Калужская область - Калуга - 2021-02-01",
          "Краснодарский край - Краснодар - 2021-02-01",
          "Свердловская область - Екатеринбург - 2021-02-01",
          "Мурманская область - Мурманск - 2021-02-01",
          "Орловская область - Орел - 2021-02-01",
          "Московская область - Королев - 2021-02-01",
          "Омская область - Омск - 2021-02-01"
         ]
        },
        {
         "marker": {
          "color": [
           "rgba(255,  40,  80, 0.7)",
           "rgba(210,  50, 120, 0.7)",
           "rgba(210, 120, 255, 0.7)",
           "rgba(160, 100, 255, 0.7)",
           "rgba(150,   0, 255, 0.7)",
           "rgba(105,  25, 255, 0.7)",
           "rgba( 45, 120, 255, 0.7)",
           "rgba(115, 200, 255, 0.7)",
           "rgba(120, 220, 225, 0.7)",
           "rgba(100, 255, 200, 0.7)",
           "rgba( 20, 220,  80, 0.7)",
           "rgba(  0, 150,  60, 0.7)",
           "rgba(100, 255,   0, 0.7)",
           "rgba(200, 255,   0, 0.7)",
           "rgba(255, 255,  35, 0.7)",
           "rgba(255, 225,   0, 0.7)",
           "rgba(255, 155,   0, 0.7)",
           "rgba(255, 105,   0, 0.7)",
           "rgba(255,  50,   0, 0.7)",
           "rgba(255,   0,   0, 0.7)"
          ],
          "line": {
           "color": [
            "rgb(255,  40,  80)",
            "rgb(210,  50, 120)",
            "rgb(210, 120, 255)",
            "rgb(160, 100, 255)",
            "rgb(150,   0, 255)",
            "rgb(105,  25, 255)",
            "rgb( 45, 120, 255)",
            "rgb(115, 200, 255)",
            "rgb(120, 220, 225)",
            "rgb(100, 255, 200)",
            "rgb( 20, 220,  80)",
            "rgb(  0, 150,  60)",
            "rgb(100, 255,   0)",
            "rgb(200, 255,   0)",
            "rgb(255, 255,  35)",
            "rgb(255, 225,   0)",
            "rgb(255, 155,   0)",
            "rgb(255, 105,   0)",
            "rgb(255,  50,   0)",
            "rgb(255,   0,   0)"
           ],
           "width": 1
          }
         },
         "orientation": "h",
         "outsidetextfont": {
          "color": "red",
          "size": 12
         },
         "textposition": "outside",
         "texttemplate": "%{x:.2f}",
         "type": "bar",
         "visible": false,
         "x": [
          3.6915581802654502,
          4.078802853242961,
          4.081021748079092,
          4.347869489904751,
          4.406656835213932,
          4.4190008591670535,
          4.969393663431547,
          5.567605471891785,
          5.72127836950845,
          5.917650575791835,
          8.16591488832512,
          11.191501080411273,
          13.850930602002974,
          23.253124387614374,
          31.860809589375123,
          33.13957396206307,
          42.612525333528524,
          43.23407265016551,
          46.533434740962484,
          48.78986796035827
         ],
         "y": [
          "Республика Башкортостан - Уфа - 2021-03-01",
          "Нижегородская область - Нижний Новгород - 2021-03-01",
          "Брянская область - Брянск - 2021-03-01",
          "Удмуртская Республика - Ижевск - 2021-03-01",
          "Тюменская область - Тюмень - 2021-03-01",
          "Иркутская область - Братск - 2021-03-01",
          "Владимирская область - Владимир - 2021-03-01",
          "Самарская область - Тольятти - 2021-03-01",
          "Томская область - Томск - 2021-03-01",
          "Самарская область - Самара - 2021-03-01",
          "Краснодарский край - Сочи - 2021-03-01",
          "Ханты-Мансийский автон... - Нижневартовск - 2021-03-01",
          "Челябинская область - Челябинск - 2021-03-01",
          "Калужская область - Калуга - 2021-03-01",
          "Краснодарский край - Краснодар - 2021-03-01",
          "Омская область - Омск - 2021-03-01",
          "Мурманская область - Мурманск - 2021-03-01",
          "Орловская область - Орел - 2021-03-01",
          "Московская область - Королев - 2021-03-01",
          "Свердловская область - Екатеринбург - 2021-03-01"
         ]
        }
       ],
       "layout": {
        "height": 630,
        "legend": {
         "orientation": "h",
         "traceorder": "reversed",
         "x": 0.5,
         "xanchor": "center",
         "yanchor": "auto"
        },
        "margin": {
         "b": 30,
         "l": 5,
         "r": 5,
         "t": 30
        },
        "paper_bgcolor": "rgb(248, 248, 255)",
        "plot_bgcolor": "rgb(248, 248, 255)",
        "sliders": [
         {
          "active": 0,
          "bgcolor": "rgba(0,0,255,0.5)",
          "currentvalue": {
           "prefix": "Отчетный месяц: "
          },
          "pad": {
           "t": 10
          },
          "steps": [
           {
            "args": [
             {
              "visible": [
               true,
               false,
               false,
               false,
               false,
               false,
               false,
               false,
               false,
               false,
               false,
               false,
               false,
               false,
               false
              ]
             }
            ],
            "method": "update"
           },
           {
            "args": [
             {
              "visible": [
               false,
               true,
               false,
               false,
               false,
               false,
               false,
               false,
               false,
               false,
               false,
               false,
               false,
               false,
               false
              ]
             }
            ],
            "method": "update"
           },
           {
            "args": [
             {
              "visible": [
               false,
               false,
               true,
               false,
               false,
               false,
               false,
               false,
               false,
               false,
               false,
               false,
               false,
               false,
               false
              ]
             }
            ],
            "method": "update"
           },
           {
            "args": [
             {
              "visible": [
               false,
               false,
               false,
               true,
               false,
               false,
               false,
               false,
               false,
               false,
               false,
               false,
               false,
               false,
               false
              ]
             }
            ],
            "method": "update"
           },
           {
            "args": [
             {
              "visible": [
               false,
               false,
               false,
               false,
               true,
               false,
               false,
               false,
               false,
               false,
               false,
               false,
               false,
               false,
               false
              ]
             }
            ],
            "method": "update"
           },
           {
            "args": [
             {
              "visible": [
               false,
               false,
               false,
               false,
               false,
               true,
               false,
               false,
               false,
               false,
               false,
               false,
               false,
               false,
               false
              ]
             }
            ],
            "method": "update"
           },
           {
            "args": [
             {
              "visible": [
               false,
               false,
               false,
               false,
               false,
               false,
               true,
               false,
               false,
               false,
               false,
               false,
               false,
               false,
               false
              ]
             }
            ],
            "method": "update"
           },
           {
            "args": [
             {
              "visible": [
               false,
               false,
               false,
               false,
               false,
               false,
               false,
               true,
               false,
               false,
               false,
               false,
               false,
               false,
               false
              ]
             }
            ],
            "method": "update"
           },
           {
            "args": [
             {
              "visible": [
               false,
               false,
               false,
               false,
               false,
               false,
               false,
               false,
               true,
               false,
               false,
               false,
               false,
               false,
               false
              ]
             }
            ],
            "method": "update"
           },
           {
            "args": [
             {
              "visible": [
               false,
               false,
               false,
               false,
               false,
               false,
               false,
               false,
               false,
               true,
               false,
               false,
               false,
               false,
               false
              ]
             }
            ],
            "method": "update"
           },
           {
            "args": [
             {
              "visible": [
               false,
               false,
               false,
               false,
               false,
               false,
               false,
               false,
               false,
               false,
               true,
               false,
               false,
               false,
               false
              ]
             }
            ],
            "method": "update"
           },
           {
            "args": [
             {
              "visible": [
               false,
               false,
               false,
               false,
               false,
               false,
               false,
               false,
               false,
               false,
               false,
               true,
               false,
               false,
               false
              ]
             }
            ],
            "method": "update"
           },
           {
            "args": [
             {
              "visible": [
               false,
               false,
               false,
               false,
               false,
               false,
               false,
               false,
               false,
               false,
               false,
               false,
               true,
               false,
               false
              ]
             }
            ],
            "method": "update"
           },
           {
            "args": [
             {
              "visible": [
               false,
               false,
               false,
               false,
               false,
               false,
               false,
               false,
               false,
               false,
               false,
               false,
               false,
               true,
               false
              ]
             }
            ],
            "method": "update"
           },
           {
            "args": [
             {
              "visible": [
               false,
               false,
               false,
               false,
               false,
               false,
               false,
               false,
               false,
               false,
               false,
               false,
               false,
               false,
               true
              ]
             }
            ],
            "method": "update"
           }
          ],
          "tickcolor": "rgb(0,0,255)",
          "ticklen": 10,
          "tickwidth": 3,
          "xanchor": "right"
         }
        ],
        "template": {
         "data": {
          "bar": [
           {
            "error_x": {
             "color": "#2a3f5f"
            },
            "error_y": {
             "color": "#2a3f5f"
            },
            "marker": {
             "line": {
              "color": "#E5ECF6",
              "width": 0.5
             }
            },
            "type": "bar"
           }
          ],
          "barpolar": [
           {
            "marker": {
             "line": {
              "color": "#E5ECF6",
              "width": 0.5
             }
            },
            "type": "barpolar"
           }
          ],
          "carpet": [
           {
            "aaxis": {
             "endlinecolor": "#2a3f5f",
             "gridcolor": "white",
             "linecolor": "white",
             "minorgridcolor": "white",
             "startlinecolor": "#2a3f5f"
            },
            "baxis": {
             "endlinecolor": "#2a3f5f",
             "gridcolor": "white",
             "linecolor": "white",
             "minorgridcolor": "white",
             "startlinecolor": "#2a3f5f"
            },
            "type": "carpet"
           }
          ],
          "choropleth": [
           {
            "colorbar": {
             "outlinewidth": 0,
             "ticks": ""
            },
            "type": "choropleth"
           }
          ],
          "contour": [
           {
            "colorbar": {
             "outlinewidth": 0,
             "ticks": ""
            },
            "colorscale": [
             [
              0,
              "#0d0887"
             ],
             [
              0.1111111111111111,
              "#46039f"
             ],
             [
              0.2222222222222222,
              "#7201a8"
             ],
             [
              0.3333333333333333,
              "#9c179e"
             ],
             [
              0.4444444444444444,
              "#bd3786"
             ],
             [
              0.5555555555555556,
              "#d8576b"
             ],
             [
              0.6666666666666666,
              "#ed7953"
             ],
             [
              0.7777777777777778,
              "#fb9f3a"
             ],
             [
              0.8888888888888888,
              "#fdca26"
             ],
             [
              1,
              "#f0f921"
             ]
            ],
            "type": "contour"
           }
          ],
          "contourcarpet": [
           {
            "colorbar": {
             "outlinewidth": 0,
             "ticks": ""
            },
            "type": "contourcarpet"
           }
          ],
          "heatmap": [
           {
            "colorbar": {
             "outlinewidth": 0,
             "ticks": ""
            },
            "colorscale": [
             [
              0,
              "#0d0887"
             ],
             [
              0.1111111111111111,
              "#46039f"
             ],
             [
              0.2222222222222222,
              "#7201a8"
             ],
             [
              0.3333333333333333,
              "#9c179e"
             ],
             [
              0.4444444444444444,
              "#bd3786"
             ],
             [
              0.5555555555555556,
              "#d8576b"
             ],
             [
              0.6666666666666666,
              "#ed7953"
             ],
             [
              0.7777777777777778,
              "#fb9f3a"
             ],
             [
              0.8888888888888888,
              "#fdca26"
             ],
             [
              1,
              "#f0f921"
             ]
            ],
            "type": "heatmap"
           }
          ],
          "heatmapgl": [
           {
            "colorbar": {
             "outlinewidth": 0,
             "ticks": ""
            },
            "colorscale": [
             [
              0,
              "#0d0887"
             ],
             [
              0.1111111111111111,
              "#46039f"
             ],
             [
              0.2222222222222222,
              "#7201a8"
             ],
             [
              0.3333333333333333,
              "#9c179e"
             ],
             [
              0.4444444444444444,
              "#bd3786"
             ],
             [
              0.5555555555555556,
              "#d8576b"
             ],
             [
              0.6666666666666666,
              "#ed7953"
             ],
             [
              0.7777777777777778,
              "#fb9f3a"
             ],
             [
              0.8888888888888888,
              "#fdca26"
             ],
             [
              1,
              "#f0f921"
             ]
            ],
            "type": "heatmapgl"
           }
          ],
          "histogram": [
           {
            "marker": {
             "colorbar": {
              "outlinewidth": 0,
              "ticks": ""
             }
            },
            "type": "histogram"
           }
          ],
          "histogram2d": [
           {
            "colorbar": {
             "outlinewidth": 0,
             "ticks": ""
            },
            "colorscale": [
             [
              0,
              "#0d0887"
             ],
             [
              0.1111111111111111,
              "#46039f"
             ],
             [
              0.2222222222222222,
              "#7201a8"
             ],
             [
              0.3333333333333333,
              "#9c179e"
             ],
             [
              0.4444444444444444,
              "#bd3786"
             ],
             [
              0.5555555555555556,
              "#d8576b"
             ],
             [
              0.6666666666666666,
              "#ed7953"
             ],
             [
              0.7777777777777778,
              "#fb9f3a"
             ],
             [
              0.8888888888888888,
              "#fdca26"
             ],
             [
              1,
              "#f0f921"
             ]
            ],
            "type": "histogram2d"
           }
          ],
          "histogram2dcontour": [
           {
            "colorbar": {
             "outlinewidth": 0,
             "ticks": ""
            },
            "colorscale": [
             [
              0,
              "#0d0887"
             ],
             [
              0.1111111111111111,
              "#46039f"
             ],
             [
              0.2222222222222222,
              "#7201a8"
             ],
             [
              0.3333333333333333,
              "#9c179e"
             ],
             [
              0.4444444444444444,
              "#bd3786"
             ],
             [
              0.5555555555555556,
              "#d8576b"
             ],
             [
              0.6666666666666666,
              "#ed7953"
             ],
             [
              0.7777777777777778,
              "#fb9f3a"
             ],
             [
              0.8888888888888888,
              "#fdca26"
             ],
             [
              1,
              "#f0f921"
             ]
            ],
            "type": "histogram2dcontour"
           }
          ],
          "mesh3d": [
           {
            "colorbar": {
             "outlinewidth": 0,
             "ticks": ""
            },
            "type": "mesh3d"
           }
          ],
          "parcoords": [
           {
            "line": {
             "colorbar": {
              "outlinewidth": 0,
              "ticks": ""
             }
            },
            "type": "parcoords"
           }
          ],
          "pie": [
           {
            "automargin": true,
            "type": "pie"
           }
          ],
          "scatter": [
           {
            "marker": {
             "colorbar": {
              "outlinewidth": 0,
              "ticks": ""
             }
            },
            "type": "scatter"
           }
          ],
          "scatter3d": [
           {
            "line": {
             "colorbar": {
              "outlinewidth": 0,
              "ticks": ""
             }
            },
            "marker": {
             "colorbar": {
              "outlinewidth": 0,
              "ticks": ""
             }
            },
            "type": "scatter3d"
           }
          ],
          "scattercarpet": [
           {
            "marker": {
             "colorbar": {
              "outlinewidth": 0,
              "ticks": ""
             }
            },
            "type": "scattercarpet"
           }
          ],
          "scattergeo": [
           {
            "marker": {
             "colorbar": {
              "outlinewidth": 0,
              "ticks": ""
             }
            },
            "type": "scattergeo"
           }
          ],
          "scattergl": [
           {
            "marker": {
             "colorbar": {
              "outlinewidth": 0,
              "ticks": ""
             }
            },
            "type": "scattergl"
           }
          ],
          "scattermapbox": [
           {
            "marker": {
             "colorbar": {
              "outlinewidth": 0,
              "ticks": ""
             }
            },
            "type": "scattermapbox"
           }
          ],
          "scatterpolar": [
           {
            "marker": {
             "colorbar": {
              "outlinewidth": 0,
              "ticks": ""
             }
            },
            "type": "scatterpolar"
           }
          ],
          "scatterpolargl": [
           {
            "marker": {
             "colorbar": {
              "outlinewidth": 0,
              "ticks": ""
             }
            },
            "type": "scatterpolargl"
           }
          ],
          "scatterternary": [
           {
            "marker": {
             "colorbar": {
              "outlinewidth": 0,
              "ticks": ""
             }
            },
            "type": "scatterternary"
           }
          ],
          "surface": [
           {
            "colorbar": {
             "outlinewidth": 0,
             "ticks": ""
            },
            "colorscale": [
             [
              0,
              "#0d0887"
             ],
             [
              0.1111111111111111,
              "#46039f"
             ],
             [
              0.2222222222222222,
              "#7201a8"
             ],
             [
              0.3333333333333333,
              "#9c179e"
             ],
             [
              0.4444444444444444,
              "#bd3786"
             ],
             [
              0.5555555555555556,
              "#d8576b"
             ],
             [
              0.6666666666666666,
              "#ed7953"
             ],
             [
              0.7777777777777778,
              "#fb9f3a"
             ],
             [
              0.8888888888888888,
              "#fdca26"
             ],
             [
              1,
              "#f0f921"
             ]
            ],
            "type": "surface"
           }
          ],
          "table": [
           {
            "cells": {
             "fill": {
              "color": "#EBF0F8"
             },
             "line": {
              "color": "white"
             }
            },
            "header": {
             "fill": {
              "color": "#C8D4E3"
             },
             "line": {
              "color": "white"
             }
            },
            "type": "table"
           }
          ]
         },
         "layout": {
          "annotationdefaults": {
           "arrowcolor": "#2a3f5f",
           "arrowhead": 0,
           "arrowwidth": 1
          },
          "autotypenumbers": "strict",
          "coloraxis": {
           "colorbar": {
            "outlinewidth": 0,
            "ticks": ""
           }
          },
          "colorscale": {
           "diverging": [
            [
             0,
             "#8e0152"
            ],
            [
             0.1,
             "#c51b7d"
            ],
            [
             0.2,
             "#de77ae"
            ],
            [
             0.3,
             "#f1b6da"
            ],
            [
             0.4,
             "#fde0ef"
            ],
            [
             0.5,
             "#f7f7f7"
            ],
            [
             0.6,
             "#e6f5d0"
            ],
            [
             0.7,
             "#b8e186"
            ],
            [
             0.8,
             "#7fbc41"
            ],
            [
             0.9,
             "#4d9221"
            ],
            [
             1,
             "#276419"
            ]
           ],
           "sequential": [
            [
             0,
             "#0d0887"
            ],
            [
             0.1111111111111111,
             "#46039f"
            ],
            [
             0.2222222222222222,
             "#7201a8"
            ],
            [
             0.3333333333333333,
             "#9c179e"
            ],
            [
             0.4444444444444444,
             "#bd3786"
            ],
            [
             0.5555555555555556,
             "#d8576b"
            ],
            [
             0.6666666666666666,
             "#ed7953"
            ],
            [
             0.7777777777777778,
             "#fb9f3a"
            ],
            [
             0.8888888888888888,
             "#fdca26"
            ],
            [
             1,
             "#f0f921"
            ]
           ],
           "sequentialminus": [
            [
             0,
             "#0d0887"
            ],
            [
             0.1111111111111111,
             "#46039f"
            ],
            [
             0.2222222222222222,
             "#7201a8"
            ],
            [
             0.3333333333333333,
             "#9c179e"
            ],
            [
             0.4444444444444444,
             "#bd3786"
            ],
            [
             0.5555555555555556,
             "#d8576b"
            ],
            [
             0.6666666666666666,
             "#ed7953"
            ],
            [
             0.7777777777777778,
             "#fb9f3a"
            ],
            [
             0.8888888888888888,
             "#fdca26"
            ],
            [
             1,
             "#f0f921"
            ]
           ]
          },
          "colorway": [
           "#636efa",
           "#EF553B",
           "#00cc96",
           "#ab63fa",
           "#FFA15A",
           "#19d3f3",
           "#FF6692",
           "#B6E880",
           "#FF97FF",
           "#FECB52"
          ],
          "font": {
           "color": "#2a3f5f"
          },
          "geo": {
           "bgcolor": "white",
           "lakecolor": "white",
           "landcolor": "#E5ECF6",
           "showlakes": true,
           "showland": true,
           "subunitcolor": "white"
          },
          "hoverlabel": {
           "align": "left"
          },
          "hovermode": "closest",
          "mapbox": {
           "style": "light"
          },
          "paper_bgcolor": "white",
          "plot_bgcolor": "#E5ECF6",
          "polar": {
           "angularaxis": {
            "gridcolor": "white",
            "linecolor": "white",
            "ticks": ""
           },
           "bgcolor": "#E5ECF6",
           "radialaxis": {
            "gridcolor": "white",
            "linecolor": "white",
            "ticks": ""
           }
          },
          "scene": {
           "xaxis": {
            "backgroundcolor": "#E5ECF6",
            "gridcolor": "white",
            "gridwidth": 2,
            "linecolor": "white",
            "showbackground": true,
            "ticks": "",
            "zerolinecolor": "white"
           },
           "yaxis": {
            "backgroundcolor": "#E5ECF6",
            "gridcolor": "white",
            "gridwidth": 2,
            "linecolor": "white",
            "showbackground": true,
            "ticks": "",
            "zerolinecolor": "white"
           },
           "zaxis": {
            "backgroundcolor": "#E5ECF6",
            "gridcolor": "white",
            "gridwidth": 2,
            "linecolor": "white",
            "showbackground": true,
            "ticks": "",
            "zerolinecolor": "white"
           }
          },
          "shapedefaults": {
           "line": {
            "color": "#2a3f5f"
           }
          },
          "ternary": {
           "aaxis": {
            "gridcolor": "white",
            "linecolor": "white",
            "ticks": ""
           },
           "baxis": {
            "gridcolor": "white",
            "linecolor": "white",
            "ticks": ""
           },
           "bgcolor": "#E5ECF6",
           "caxis": {
            "gridcolor": "white",
            "linecolor": "white",
            "ticks": ""
           }
          },
          "title": {
           "x": 0.05
          },
          "xaxis": {
           "automargin": true,
           "gridcolor": "white",
           "linecolor": "white",
           "ticks": "",
           "title": {
            "standoff": 15
           },
           "zerolinecolor": "white",
           "zerolinewidth": 2
          },
          "yaxis": {
           "automargin": true,
           "gridcolor": "white",
           "linecolor": "white",
           "ticks": "",
           "title": {
            "standoff": 15
           },
           "zerolinecolor": "white",
           "zerolinewidth": 2
          }
         }
        },
        "width": 980,
        "xaxis": {
         "range": [
          0,
          615
         ]
        }
       }
      },
      "text/html": [
       "<div>                            <div id=\"2b7100ba-a164-4181-bc8e-28ecafd33a76\" class=\"plotly-graph-div\" style=\"height:630px; width:980px;\"></div>            <script type=\"text/javascript\">                require([\"plotly\"], function(Plotly) {                    window.PLOTLYENV=window.PLOTLYENV || {};                                    if (document.getElementById(\"2b7100ba-a164-4181-bc8e-28ecafd33a76\")) {                    Plotly.newPlot(                        \"2b7100ba-a164-4181-bc8e-28ecafd33a76\",                        [{\"marker\": {\"color\": [\"rgba(255,  40,  80, 0.7)\", \"rgba(210,  50, 120, 0.7)\", \"rgba(210, 120, 255, 0.7)\", \"rgba(160, 100, 255, 0.7)\", \"rgba(150,   0, 255, 0.7)\", \"rgba(105,  25, 255, 0.7)\", \"rgba( 45, 120, 255, 0.7)\", \"rgba(115, 200, 255, 0.7)\", \"rgba(120, 220, 225, 0.7)\", \"rgba(100, 255, 200, 0.7)\", \"rgba( 20, 220,  80, 0.7)\", \"rgba(  0, 150,  60, 0.7)\", \"rgba(100, 255,   0, 0.7)\", \"rgba(200, 255,   0, 0.7)\", \"rgba(255, 255,  35, 0.7)\", \"rgba(255, 225,   0, 0.7)\", \"rgba(255, 155,   0, 0.7)\", \"rgba(255, 105,   0, 0.7)\", \"rgba(255,  50,   0, 0.7)\", \"rgba(255,   0,   0, 0.7)\"], \"line\": {\"color\": [\"rgb(255,  40,  80)\", \"rgb(210,  50, 120)\", \"rgb(210, 120, 255)\", \"rgb(160, 100, 255)\", \"rgb(150,   0, 255)\", \"rgb(105,  25, 255)\", \"rgb( 45, 120, 255)\", \"rgb(115, 200, 255)\", \"rgb(120, 220, 225)\", \"rgb(100, 255, 200)\", \"rgb( 20, 220,  80)\", \"rgb(  0, 150,  60)\", \"rgb(100, 255,   0)\", \"rgb(200, 255,   0)\", \"rgb(255, 255,  35)\", \"rgb(255, 225,   0)\", \"rgb(255, 155,   0)\", \"rgb(255, 105,   0)\", \"rgb(255,  50,   0)\", \"rgb(255,   0,   0)\"], \"width\": 1}}, \"orientation\": \"h\", \"outsidetextfont\": {\"color\": \"red\", \"size\": 12}, \"textposition\": \"outside\", \"texttemplate\": \"%{x:.2f}\", \"type\": \"bar\", \"visible\": true, \"x\": [4.890477754521818, 5.295355136772802, 6.649403667473729, 7.234719882700353, 7.973268998167464, 12.386014933441135, 16.5515955362465, 22.168584841070402, 22.925494557431676, 27.122842189397485, 31.87892425448095, 33.17595836146415, 42.46987777675002, 42.61564528934124, 46.81855869625974, 51.005619674010234, 56.180032732903044, 57.75138853270717, 71.64583835300263, 147.12750830334053], \"y\": [\"\\u041e\\u0440\\u0435\\u043d\\u0431\\u0443\\u0440\\u0433\\u0441\\u043a\\u0430\\u044f \\u043e\\u0431\\u043b\\u0430\\u0441\\u0442\\u044c - \\u041e\\u0440\\u0435\\u043d\\u0431\\u0443\\u0440\\u0433 - 2020-01-01\", \"\\u041c\\u043e\\u0441\\u043a\\u043e\\u0432\\u0441\\u043a\\u0430\\u044f \\u043e\\u0431\\u043b\\u0430\\u0441\\u0442\\u044c - \\u041f\\u043e\\u0434\\u043e\\u043b\\u044c\\u0441\\u043a - 2020-01-01\", \"\\u0421\\u0430\\u043c\\u0430\\u0440\\u0441\\u043a\\u0430\\u044f \\u043e\\u0431\\u043b\\u0430\\u0441\\u0442\\u044c - \\u0421\\u0430\\u043c\\u0430\\u0440\\u0430 - 2020-01-01\", \"\\u0418\\u0440\\u043a\\u0443\\u0442\\u0441\\u043a\\u0430\\u044f \\u043e\\u0431\\u043b\\u0430\\u0441\\u0442\\u044c - \\u0411\\u0440\\u0430\\u0442\\u0441\\u043a - 2020-01-01\", \"\\u041d\\u043e\\u0432\\u043e\\u0441\\u0438\\u0431\\u0438\\u0440\\u0441\\u043a\\u0430\\u044f \\u043e\\u0431\\u043b\\u0430\\u0441\\u0442\\u044c - \\u041d\\u043e\\u0432\\u043e\\u0441\\u0438\\u0431\\u0438\\u0440\\u0441\\u043a - 2020-01-01\", \"\\u0412\\u043b\\u0430\\u0434\\u0438\\u043c\\u0438\\u0440\\u0441\\u043a\\u0430\\u044f \\u043e\\u0431\\u043b\\u0430\\u0441\\u0442\\u044c - \\u0412\\u043b\\u0430\\u0434\\u0438\\u043c\\u0438\\u0440 - 2020-01-01\", \"\\u041e\\u043c\\u0441\\u043a\\u0430\\u044f \\u043e\\u0431\\u043b\\u0430\\u0441\\u0442\\u044c - \\u041e\\u043c\\u0441\\u043a - 2020-01-01\", \"\\u042f\\u0440\\u043e\\u0441\\u043b\\u0430\\u0432\\u0441\\u043a\\u0430\\u044f \\u043e\\u0431\\u043b\\u0430\\u0441\\u0442\\u044c - \\u042f\\u0440\\u043e\\u0441\\u043b\\u0430\\u0432\\u043b\\u044c - 2020-01-01\", \"\\u041a\\u0430\\u043b\\u0443\\u0436\\u0441\\u043a\\u0430\\u044f \\u043e\\u0431\\u043b\\u0430\\u0441\\u0442\\u044c - \\u041a\\u0430\\u043b\\u0443\\u0433\\u0430 - 2020-01-01\", \"\\u041c\\u043e\\u0441\\u043a\\u0432\\u0430 - \\u041c\\u043e\\u0441\\u043a\\u0432\\u0430 - 2020-01-01\", \"\\u0422\\u043e\\u043c\\u0441\\u043a\\u0430\\u044f \\u043e\\u0431\\u043b\\u0430\\u0441\\u0442\\u044c - \\u0422\\u043e\\u043c\\u0441\\u043a - 2020-01-01\", \"\\u041a\\u0440\\u0430\\u0441\\u043d\\u043e\\u0434\\u0430\\u0440\\u0441\\u043a\\u0438\\u0439 \\u043a\\u0440\\u0430\\u0439 - \\u041a\\u0440\\u0430\\u0441\\u043d\\u043e\\u0434\\u0430\\u0440 - 2020-01-01\", \"\\u041e\\u0440\\u043b\\u043e\\u0432\\u0441\\u043a\\u0430\\u044f \\u043e\\u0431\\u043b\\u0430\\u0441\\u0442\\u044c - \\u041e\\u0440\\u0435\\u043b - 2020-01-01\", \"\\u041c\\u0443\\u0440\\u043c\\u0430\\u043d\\u0441\\u043a\\u0430\\u044f \\u043e\\u0431\\u043b\\u0430\\u0441\\u0442\\u044c - \\u041c\\u0443\\u0440\\u043c\\u0430\\u043d\\u0441\\u043a - 2020-01-01\", \"\\u041c\\u043e\\u0441\\u043a\\u043e\\u0432\\u0441\\u043a\\u0430\\u044f \\u043e\\u0431\\u043b\\u0430\\u0441\\u0442\\u044c - \\u041a\\u043e\\u0440\\u043e\\u043b\\u0435\\u0432 - 2020-01-01\", \"\\u0410\\u043b\\u0442\\u0430\\u0439\\u0441\\u043a\\u0438\\u0439 \\u043a\\u0440\\u0430\\u0439 - \\u0411\\u0430\\u0440\\u043d\\u0430\\u0443\\u043b - 2020-01-01\", \"\\u0421\\u0432\\u0435\\u0440\\u0434\\u043b\\u043e\\u0432\\u0441\\u043a\\u0430\\u044f \\u043e\\u0431\\u043b\\u0430\\u0441\\u0442\\u044c - \\u0415\\u043a\\u0430\\u0442\\u0435\\u0440\\u0438\\u043d\\u0431\\u0443\\u0440\\u0433 - 2020-01-01\", \"\\u0427\\u0435\\u043b\\u044f\\u0431\\u0438\\u043d\\u0441\\u043a\\u0430\\u044f \\u043e\\u0431\\u043b\\u0430\\u0441\\u0442\\u044c - \\u041c\\u0430\\u0433\\u043d\\u0438\\u0442\\u043e\\u0433\\u043e\\u0440\\u0441\\u043a - 2020-01-01\", \"\\u041a\\u0435\\u043c\\u0435\\u0440\\u043e\\u0432\\u0441\\u043a\\u0430\\u044f \\u043e\\u0431\\u043b\\u0430\\u0441\\u0442\\u044c - \\u041d\\u043e\\u0432\\u043e\\u043a\\u0443\\u0437\\u043d\\u0435\\u0446\\u043a - 2020-01-01\", \"\\u041c\\u043e\\u0441\\u043a\\u043e\\u0432\\u0441\\u043a\\u0430\\u044f \\u043e\\u0431\\u043b\\u0430\\u0441\\u0442\\u044c - \\u0425\\u0438\\u043c\\u043a\\u0438 - 2020-01-01\"]}, {\"marker\": {\"color\": [\"rgba(255,  40,  80, 0.7)\", \"rgba(210,  50, 120, 0.7)\", \"rgba(210, 120, 255, 0.7)\", \"rgba(160, 100, 255, 0.7)\", \"rgba(150,   0, 255, 0.7)\", \"rgba(105,  25, 255, 0.7)\", \"rgba( 45, 120, 255, 0.7)\", \"rgba(115, 200, 255, 0.7)\", \"rgba(120, 220, 225, 0.7)\", \"rgba(100, 255, 200, 0.7)\", \"rgba( 20, 220,  80, 0.7)\", \"rgba(  0, 150,  60, 0.7)\", \"rgba(100, 255,   0, 0.7)\", \"rgba(200, 255,   0, 0.7)\", \"rgba(255, 255,  35, 0.7)\", \"rgba(255, 225,   0, 0.7)\", \"rgba(255, 155,   0, 0.7)\", \"rgba(255, 105,   0, 0.7)\", \"rgba(255,  50,   0, 0.7)\", \"rgba(255,   0,   0, 0.7)\"], \"line\": {\"color\": [\"rgb(255,  40,  80)\", \"rgb(210,  50, 120)\", \"rgb(210, 120, 255)\", \"rgb(160, 100, 255)\", \"rgb(150,   0, 255)\", \"rgb(105,  25, 255)\", \"rgb( 45, 120, 255)\", \"rgb(115, 200, 255)\", \"rgb(120, 220, 225)\", \"rgb(100, 255, 200)\", \"rgb( 20, 220,  80)\", \"rgb(  0, 150,  60)\", \"rgb(100, 255,   0)\", \"rgb(200, 255,   0)\", \"rgb(255, 255,  35)\", \"rgb(255, 225,   0)\", \"rgb(255, 155,   0)\", \"rgb(255, 105,   0)\", \"rgb(255,  50,   0)\", \"rgb(255,   0,   0)\"], \"width\": 1}}, \"orientation\": \"h\", \"outsidetextfont\": {\"color\": \"red\", \"size\": 12}, \"textposition\": \"outside\", \"texttemplate\": \"%{x:.2f}\", \"type\": \"bar\", \"visible\": false, \"x\": [6.518088983454923, 7.943185812711957, 8.020762750029126, 11.439290420442278, 16.507851379777772, 23.63531099540685, 30.56843348188936, 32.70740139857137, 32.841340545336024, 41.70347856591803, 42.78797405164691, 47.045529999249894, 54.50088750894819, 59.312320175233836, 63.808740957361344, 71.64507097824244, 81.32327285179335, 118.56430748259125, 119.30796808781875, 156.2068223078851], \"y\": [\"\\u0421\\u0430\\u043c\\u0430\\u0440\\u0441\\u043a\\u0430\\u044f \\u043e\\u0431\\u043b\\u0430\\u0441\\u0442\\u044c - \\u0421\\u0430\\u043c\\u0430\\u0440\\u0430 - 2020-02-01\", \"\\u0418\\u0440\\u043a\\u0443\\u0442\\u0441\\u043a\\u0430\\u044f \\u043e\\u0431\\u043b\\u0430\\u0441\\u0442\\u044c - \\u0411\\u0440\\u0430\\u0442\\u0441\\u043a - 2020-02-01\", \"\\u0422\\u043e\\u043c\\u0441\\u043a\\u0430\\u044f \\u043e\\u0431\\u043b\\u0430\\u0441\\u0442\\u044c - \\u0422\\u043e\\u043c\\u0441\\u043a - 2020-02-01\", \"\\u0412\\u043b\\u0430\\u0434\\u0438\\u043c\\u0438\\u0440\\u0441\\u043a\\u0430\\u044f \\u043e\\u0431\\u043b\\u0430\\u0441\\u0442\\u044c - \\u0412\\u043b\\u0430\\u0434\\u0438\\u043c\\u0438\\u0440 - 2020-02-01\", \"\\u042f\\u0440\\u043e\\u0441\\u043b\\u0430\\u0432\\u0441\\u043a\\u0430\\u044f \\u043e\\u0431\\u043b\\u0430\\u0441\\u0442\\u044c - \\u042f\\u0440\\u043e\\u0441\\u043b\\u0430\\u0432\\u043b\\u044c - 2020-02-01\", \"\\u041a\\u0430\\u043b\\u0443\\u0436\\u0441\\u043a\\u0430\\u044f \\u043e\\u0431\\u043b\\u0430\\u0441\\u0442\\u044c - \\u041a\\u0430\\u043b\\u0443\\u0433\\u0430 - 2020-02-01\", \"\\u041c\\u043e\\u0441\\u043a\\u0432\\u0430 - \\u041c\\u043e\\u0441\\u043a\\u0432\\u0430 - 2020-02-01\", \"\\u0427\\u0435\\u043b\\u044f\\u0431\\u0438\\u043d\\u0441\\u043a\\u0430\\u044f \\u043e\\u0431\\u043b\\u0430\\u0441\\u0442\\u044c - \\u041c\\u0430\\u0433\\u043d\\u0438\\u0442\\u043e\\u0433\\u043e\\u0440\\u0441\\u043a - 2020-02-01\", \"\\u041a\\u0440\\u0430\\u0441\\u043d\\u043e\\u0434\\u0430\\u0440\\u0441\\u043a\\u0438\\u0439 \\u043a\\u0440\\u0430\\u0439 - \\u041a\\u0440\\u0430\\u0441\\u043d\\u043e\\u0434\\u0430\\u0440 - 2020-02-01\", \"\\u041c\\u0443\\u0440\\u043c\\u0430\\u043d\\u0441\\u043a\\u0430\\u044f \\u043e\\u0431\\u043b\\u0430\\u0441\\u0442\\u044c - \\u041c\\u0443\\u0440\\u043c\\u0430\\u043d\\u0441\\u043a - 2020-02-01\", \"\\u041e\\u0440\\u043b\\u043e\\u0432\\u0441\\u043a\\u0430\\u044f \\u043e\\u0431\\u043b\\u0430\\u0441\\u0442\\u044c - \\u041e\\u0440\\u0435\\u043b - 2020-02-01\", \"\\u041c\\u043e\\u0441\\u043a\\u043e\\u0432\\u0441\\u043a\\u0430\\u044f \\u043e\\u0431\\u043b\\u0430\\u0441\\u0442\\u044c - \\u041a\\u043e\\u0440\\u043e\\u043b\\u0435\\u0432 - 2020-02-01\", \"\\u041a\\u0440\\u0430\\u0441\\u043d\\u043e\\u044f\\u0440\\u0441\\u043a\\u0438\\u0439 \\u043a\\u0440\\u0430\\u0439 - \\u041a\\u0440\\u0430\\u0441\\u043d\\u043e\\u044f\\u0440\\u0441\\u043a - 2020-02-01\", \"\\u0421\\u0432\\u0435\\u0440\\u0434\\u043b\\u043e\\u0432\\u0441\\u043a\\u0430\\u044f \\u043e\\u0431\\u043b\\u0430\\u0441\\u0442\\u044c - \\u0415\\u043a\\u0430\\u0442\\u0435\\u0440\\u0438\\u043d\\u0431\\u0443\\u0440\\u0433 - 2020-02-01\", \"\\u041f\\u0441\\u043a\\u043e\\u0432\\u0441\\u043a\\u0430\\u044f \\u043e\\u0431\\u043b\\u0430\\u0441\\u0442\\u044c - \\u041f\\u0441\\u043a\\u043e\\u0432 - 2020-02-01\", \"\\u041a\\u0443\\u0440\\u0433\\u0430\\u043d\\u0441\\u043a\\u0430\\u044f \\u043e\\u0431\\u043b\\u0430\\u0441\\u0442\\u044c - \\u041a\\u0443\\u0440\\u0433\\u0430\\u043d - 2020-02-01\", \"\\u0410\\u043b\\u0442\\u0430\\u0439\\u0441\\u043a\\u0438\\u0439 \\u043a\\u0440\\u0430\\u0439 - \\u0411\\u0430\\u0440\\u043d\\u0430\\u0443\\u043b - 2020-02-01\", \"\\u041d\\u0438\\u0436\\u0435\\u0433\\u043e\\u0440\\u043e\\u0434\\u0441\\u043a\\u0430\\u044f \\u043e\\u0431\\u043b\\u0430\\u0441\\u0442\\u044c - \\u0414\\u0437\\u0435\\u0440\\u0436\\u0438\\u043d\\u0441\\u043a - 2020-02-01\", \"\\u041a\\u0435\\u043c\\u0435\\u0440\\u043e\\u0432\\u0441\\u043a\\u0430\\u044f \\u043e\\u0431\\u043b\\u0430\\u0441\\u0442\\u044c - \\u041d\\u043e\\u0432\\u043e\\u043a\\u0443\\u0437\\u043d\\u0435\\u0446\\u043a - 2020-02-01\", \"\\u041c\\u043e\\u0441\\u043a\\u043e\\u0432\\u0441\\u043a\\u0430\\u044f \\u043e\\u0431\\u043b\\u0430\\u0441\\u0442\\u044c - \\u0425\\u0438\\u043c\\u043a\\u0438 - 2020-02-01\"]}, {\"marker\": {\"color\": [\"rgba(255,  40,  80, 0.7)\", \"rgba(210,  50, 120, 0.7)\", \"rgba(210, 120, 255, 0.7)\", \"rgba(160, 100, 255, 0.7)\", \"rgba(150,   0, 255, 0.7)\", \"rgba(105,  25, 255, 0.7)\", \"rgba( 45, 120, 255, 0.7)\", \"rgba(115, 200, 255, 0.7)\", \"rgba(120, 220, 225, 0.7)\", \"rgba(100, 255, 200, 0.7)\", \"rgba( 20, 220,  80, 0.7)\", \"rgba(  0, 150,  60, 0.7)\", \"rgba(100, 255,   0, 0.7)\", \"rgba(200, 255,   0, 0.7)\", \"rgba(255, 255,  35, 0.7)\", \"rgba(255, 225,   0, 0.7)\", \"rgba(255, 155,   0, 0.7)\", \"rgba(255, 105,   0, 0.7)\", \"rgba(255,  50,   0, 0.7)\", \"rgba(255,   0,   0, 0.7)\"], \"line\": {\"color\": [\"rgb(255,  40,  80)\", \"rgb(210,  50, 120)\", \"rgb(210, 120, 255)\", \"rgb(160, 100, 255)\", \"rgb(150,   0, 255)\", \"rgb(105,  25, 255)\", \"rgb( 45, 120, 255)\", \"rgb(115, 200, 255)\", \"rgb(120, 220, 225)\", \"rgb(100, 255, 200)\", \"rgb( 20, 220,  80)\", \"rgb(  0, 150,  60)\", \"rgb(100, 255,   0)\", \"rgb(200, 255,   0)\", \"rgb(255, 255,  35)\", \"rgb(255, 225,   0)\", \"rgb(255, 155,   0)\", \"rgb(255, 105,   0)\", \"rgb(255,  50,   0)\", \"rgb(255,   0,   0)\"], \"width\": 1}}, \"orientation\": \"h\", \"outsidetextfont\": {\"color\": \"red\", \"size\": 12}, \"textposition\": \"outside\", \"texttemplate\": \"%{x:.2f}\", \"type\": \"bar\", \"visible\": false, \"x\": [5.614016410299672, 5.8978352096914115, 8.29865985387994, 10.511963969467802, 11.691091374889831, 13.129833353811115, 19.51177825882197, 23.133025048672934, 27.489130905447357, 27.861555178998575, 32.493230738188124, 40.66874704405019, 41.242288540780514, 42.8596329585539, 42.864462325479636, 43.1159500550693, 46.99340953584548, 57.81130102914966, 96.5995317048528, 146.4689738880894], \"y\": [\"\\u0421\\u0430\\u043c\\u0430\\u0440\\u0441\\u043a\\u0430\\u044f \\u043e\\u0431\\u043b\\u0430\\u0441\\u0442\\u044c - \\u0421\\u0430\\u043c\\u0430\\u0440\\u0430 - 2020-03-01\", \"\\u0421\\u0430\\u043c\\u0430\\u0440\\u0441\\u043a\\u0430\\u044f \\u043e\\u0431\\u043b\\u0430\\u0441\\u0442\\u044c - \\u0422\\u043e\\u043b\\u044c\\u044f\\u0442\\u0442\\u0438 - 2020-03-01\", \"\\u0418\\u0440\\u043a\\u0443\\u0442\\u0441\\u043a\\u0430\\u044f \\u043e\\u0431\\u043b\\u0430\\u0441\\u0442\\u044c - \\u0411\\u0440\\u0430\\u0442\\u0441\\u043a - 2020-03-01\", \"\\u0412\\u043b\\u0430\\u0434\\u0438\\u043c\\u0438\\u0440\\u0441\\u043a\\u0430\\u044f \\u043e\\u0431\\u043b\\u0430\\u0441\\u0442\\u044c - \\u0412\\u043b\\u0430\\u0434\\u0438\\u043c\\u0438\\u0440 - 2020-03-01\", \"\\u041a\\u0440\\u0430\\u0441\\u043d\\u043e\\u0434\\u0430\\u0440\\u0441\\u043a\\u0438\\u0439 \\u043a\\u0440\\u0430\\u0439 - \\u0421\\u043e\\u0447\\u0438 - 2020-03-01\", \"\\u041d\\u0438\\u0436\\u0435\\u0433\\u043e\\u0440\\u043e\\u0434\\u0441\\u043a\\u0430\\u044f \\u043e\\u0431\\u043b\\u0430\\u0441\\u0442\\u044c - \\u041d\\u0438\\u0436\\u043d\\u0438\\u0439 \\u041d\\u043e\\u0432\\u0433\\u043e\\u0440\\u043e\\u0434 - 2020-03-01\", \"\\u041a\\u0440\\u0430\\u0441\\u043d\\u043e\\u044f\\u0440\\u0441\\u043a\\u0438\\u0439 \\u043a\\u0440\\u0430\\u0439 - \\u041a\\u0440\\u0430\\u0441\\u043d\\u043e\\u044f\\u0440\\u0441\\u043a - 2020-03-01\", \"\\u041a\\u0430\\u043b\\u0443\\u0436\\u0441\\u043a\\u0430\\u044f \\u043e\\u0431\\u043b\\u0430\\u0441\\u0442\\u044c - \\u041a\\u0430\\u043b\\u0443\\u0433\\u0430 - 2020-03-01\", \"\\u041c\\u043e\\u0441\\u043a\\u0432\\u0430 - \\u041c\\u043e\\u0441\\u043a\\u0432\\u0430 - 2020-03-01\", \"\\u0412\\u043e\\u043b\\u043e\\u0433\\u043e\\u0434\\u0441\\u043a\\u0430\\u044f \\u043e\\u0431\\u043b\\u0430\\u0441\\u0442\\u044c - \\u0427\\u0435\\u0440\\u0435\\u043f\\u043e\\u0432\\u0435\\u0446 - 2020-03-01\", \"\\u041a\\u0440\\u0430\\u0441\\u043d\\u043e\\u0434\\u0430\\u0440\\u0441\\u043a\\u0438\\u0439 \\u043a\\u0440\\u0430\\u0439 - \\u041a\\u0440\\u0430\\u0441\\u043d\\u043e\\u0434\\u0430\\u0440 - 2020-03-01\", \"\\u0421\\u0432\\u0435\\u0440\\u0434\\u043b\\u043e\\u0432\\u0441\\u043a\\u0430\\u044f \\u043e\\u0431\\u043b\\u0430\\u0441\\u0442\\u044c - \\u0415\\u043a\\u0430\\u0442\\u0435\\u0440\\u0438\\u043d\\u0431\\u0443\\u0440\\u0433 - 2020-03-01\", \"\\u041d\\u043e\\u0432\\u043e\\u0441\\u0438\\u0431\\u0438\\u0440\\u0441\\u043a\\u0430\\u044f \\u043e\\u0431\\u043b\\u0430\\u0441\\u0442\\u044c - \\u041d\\u043e\\u0432\\u043e\\u0441\\u0438\\u0431\\u0438\\u0440\\u0441\\u043a - 2020-03-01\", \"\\u041e\\u0440\\u043b\\u043e\\u0432\\u0441\\u043a\\u0430\\u044f \\u043e\\u0431\\u043b\\u0430\\u0441\\u0442\\u044c - \\u041e\\u0440\\u0435\\u043b - 2020-03-01\", \"\\u041c\\u0443\\u0440\\u043c\\u0430\\u043d\\u0441\\u043a\\u0430\\u044f \\u043e\\u0431\\u043b\\u0430\\u0441\\u0442\\u044c - \\u041c\\u0443\\u0440\\u043c\\u0430\\u043d\\u0441\\u043a - 2020-03-01\", \"\\u041e\\u043c\\u0441\\u043a\\u0430\\u044f \\u043e\\u0431\\u043b\\u0430\\u0441\\u0442\\u044c - \\u041e\\u043c\\u0441\\u043a - 2020-03-01\", \"\\u041c\\u043e\\u0441\\u043a\\u043e\\u0432\\u0441\\u043a\\u0430\\u044f \\u043e\\u0431\\u043b\\u0430\\u0441\\u0442\\u044c - \\u041a\\u043e\\u0440\\u043e\\u043b\\u0435\\u0432 - 2020-03-01\", \"\\u0422\\u043e\\u043c\\u0441\\u043a\\u0430\\u044f \\u043e\\u0431\\u043b\\u0430\\u0441\\u0442\\u044c - \\u0422\\u043e\\u043c\\u0441\\u043a - 2020-03-01\", \"\\u042f\\u0440\\u043e\\u0441\\u043b\\u0430\\u0432\\u0441\\u043a\\u0430\\u044f \\u043e\\u0431\\u043b\\u0430\\u0441\\u0442\\u044c - \\u042f\\u0440\\u043e\\u0441\\u043b\\u0430\\u0432\\u043b\\u044c - 2020-03-01\", \"\\u041c\\u043e\\u0441\\u043a\\u043e\\u0432\\u0441\\u043a\\u0430\\u044f \\u043e\\u0431\\u043b\\u0430\\u0441\\u0442\\u044c - \\u0425\\u0438\\u043c\\u043a\\u0438 - 2020-03-01\"]}, {\"marker\": {\"color\": [\"rgba(255,  40,  80, 0.7)\", \"rgba(210,  50, 120, 0.7)\", \"rgba(210, 120, 255, 0.7)\", \"rgba(160, 100, 255, 0.7)\", \"rgba(150,   0, 255, 0.7)\", \"rgba(105,  25, 255, 0.7)\", \"rgba( 45, 120, 255, 0.7)\", \"rgba(115, 200, 255, 0.7)\", \"rgba(120, 220, 225, 0.7)\", \"rgba(100, 255, 200, 0.7)\", \"rgba( 20, 220,  80, 0.7)\", \"rgba(  0, 150,  60, 0.7)\", \"rgba(100, 255,   0, 0.7)\", \"rgba(200, 255,   0, 0.7)\", \"rgba(255, 255,  35, 0.7)\", \"rgba(255, 225,   0, 0.7)\", \"rgba(255, 155,   0, 0.7)\", \"rgba(255, 105,   0, 0.7)\", \"rgba(255,  50,   0, 0.7)\", \"rgba(255,   0,   0, 0.7)\"], \"line\": {\"color\": [\"rgb(255,  40,  80)\", \"rgb(210,  50, 120)\", \"rgb(210, 120, 255)\", \"rgb(160, 100, 255)\", \"rgb(150,   0, 255)\", \"rgb(105,  25, 255)\", \"rgb( 45, 120, 255)\", \"rgb(115, 200, 255)\", \"rgb(120, 220, 225)\", \"rgb(100, 255, 200)\", \"rgb( 20, 220,  80)\", \"rgb(  0, 150,  60)\", \"rgb(100, 255,   0)\", \"rgb(200, 255,   0)\", \"rgb(255, 255,  35)\", \"rgb(255, 225,   0)\", \"rgb(255, 155,   0)\", \"rgb(255, 105,   0)\", \"rgb(255,  50,   0)\", \"rgb(255,   0,   0)\"], \"width\": 1}}, \"orientation\": \"h\", \"outsidetextfont\": {\"color\": \"red\", \"size\": 12}, \"textposition\": \"outside\", \"texttemplate\": \"%{x:.2f}\", \"type\": \"bar\", \"visible\": false, \"x\": [5.284395143528781, 5.871826959186716, 6.821883776571062, 9.699869399945856, 12.148365702075935, 17.182456949056025, 18.345997002848907, 22.705557476556056, 32.45687876804829, 39.684932851019205, 41.800911979120215, 42.93733790827818, 46.807490475092735, 49.23980979048494, 71.57131260541735, 80.22816060309525, 97.65944972191095, 223.250639662935, 284.4130687285324, 559.5125339094815], \"y\": [\"\\u0421\\u0430\\u043c\\u0430\\u0440\\u0441\\u043a\\u0430\\u044f \\u043e\\u0431\\u043b\\u0430\\u0441\\u0442\\u044c - \\u0422\\u043e\\u043b\\u044c\\u044f\\u0442\\u0442\\u0438 - 2020-04-01\", \"\\u0418\\u0440\\u043a\\u0443\\u0442\\u0441\\u043a\\u0430\\u044f \\u043e\\u0431\\u043b\\u0430\\u0441\\u0442\\u044c - \\u0411\\u0440\\u0430\\u0442\\u0441\\u043a - 2020-04-01\", \"\\u0421\\u0430\\u043c\\u0430\\u0440\\u0441\\u043a\\u0430\\u044f \\u043e\\u0431\\u043b\\u0430\\u0441\\u0442\\u044c - \\u0421\\u0430\\u043c\\u0430\\u0440\\u0430 - 2020-04-01\", \"\\u0412\\u043b\\u0430\\u0434\\u0438\\u043c\\u0438\\u0440\\u0441\\u043a\\u0430\\u044f \\u043e\\u0431\\u043b\\u0430\\u0441\\u0442\\u044c - \\u0412\\u043b\\u0430\\u0434\\u0438\\u043c\\u0438\\u0440 - 2020-04-01\", \"\\u041a\\u0440\\u0430\\u0441\\u043d\\u043e\\u0434\\u0430\\u0440\\u0441\\u043a\\u0438\\u0439 \\u043a\\u0440\\u0430\\u0439 - \\u0421\\u043e\\u0447\\u0438 - 2020-04-01\", \"\\u041d\\u0438\\u0436\\u0435\\u0433\\u043e\\u0440\\u043e\\u0434\\u0441\\u043a\\u0430\\u044f \\u043e\\u0431\\u043b\\u0430\\u0441\\u0442\\u044c - \\u041d\\u0438\\u0436\\u043d\\u0438\\u0439 \\u041d\\u043e\\u0432\\u0433\\u043e\\u0440\\u043e\\u0434 - 2020-04-01\", \"\\u041e\\u043c\\u0441\\u043a\\u0430\\u044f \\u043e\\u0431\\u043b\\u0430\\u0441\\u0442\\u044c - \\u041e\\u043c\\u0441\\u043a - 2020-04-01\", \"\\u041a\\u0430\\u043b\\u0443\\u0436\\u0441\\u043a\\u0430\\u044f \\u043e\\u0431\\u043b\\u0430\\u0441\\u0442\\u044c - \\u041a\\u0430\\u043b\\u0443\\u0433\\u0430 - 2020-04-01\", \"\\u041a\\u0440\\u0430\\u0441\\u043d\\u043e\\u0434\\u0430\\u0440\\u0441\\u043a\\u0438\\u0439 \\u043a\\u0440\\u0430\\u0439 - \\u041a\\u0440\\u0430\\u0441\\u043d\\u043e\\u0434\\u0430\\u0440 - 2020-04-01\", \"\\u0421\\u0432\\u0435\\u0440\\u0434\\u043b\\u043e\\u0432\\u0441\\u043a\\u0430\\u044f \\u043e\\u0431\\u043b\\u0430\\u0441\\u0442\\u044c - \\u0415\\u043a\\u0430\\u0442\\u0435\\u0440\\u0438\\u043d\\u0431\\u0443\\u0440\\u0433 - 2020-04-01\", \"\\u041e\\u0440\\u043b\\u043e\\u0432\\u0441\\u043a\\u0430\\u044f \\u043e\\u0431\\u043b\\u0430\\u0441\\u0442\\u044c - \\u041e\\u0440\\u0435\\u043b - 2020-04-01\", \"\\u041c\\u0443\\u0440\\u043c\\u0430\\u043d\\u0441\\u043a\\u0430\\u044f \\u043e\\u0431\\u043b\\u0430\\u0441\\u0442\\u044c - \\u041c\\u0443\\u0440\\u043c\\u0430\\u043d\\u0441\\u043a - 2020-04-01\", \"\\u041c\\u043e\\u0441\\u043a\\u043e\\u0432\\u0441\\u043a\\u0430\\u044f \\u043e\\u0431\\u043b\\u0430\\u0441\\u0442\\u044c - \\u041a\\u043e\\u0440\\u043e\\u043b\\u0435\\u0432 - 2020-04-01\", \"\\u041c\\u043e\\u0441\\u043a\\u043e\\u0432\\u0441\\u043a\\u0430\\u044f \\u043e\\u0431\\u043b\\u0430\\u0441\\u0442\\u044c - \\u041f\\u043e\\u0434\\u043e\\u043b\\u044c\\u0441\\u043a - 2020-04-01\", \"\\u041d\\u043e\\u0432\\u043e\\u0441\\u0438\\u0431\\u0438\\u0440\\u0441\\u043a\\u0430\\u044f \\u043e\\u0431\\u043b\\u0430\\u0441\\u0442\\u044c - \\u041d\\u043e\\u0432\\u043e\\u0441\\u0438\\u0431\\u0438\\u0440\\u0441\\u043a - 2020-04-01\", \"\\u0422\\u044e\\u043c\\u0435\\u043d\\u0441\\u043a\\u0430\\u044f \\u043e\\u0431\\u043b\\u0430\\u0441\\u0442\\u044c - \\u0422\\u044e\\u043c\\u0435\\u043d\\u044c - 2020-04-01\", \"\\u0422\\u043e\\u043c\\u0441\\u043a\\u0430\\u044f \\u043e\\u0431\\u043b\\u0430\\u0441\\u0442\\u044c - \\u0422\\u043e\\u043c\\u0441\\u043a - 2020-04-01\", \"\\u0410\\u043b\\u0442\\u0430\\u0439\\u0441\\u043a\\u0438\\u0439 \\u043a\\u0440\\u0430\\u0439 - \\u0411\\u0430\\u0440\\u043d\\u0430\\u0443\\u043b - 2020-04-01\", \"\\u042f\\u0440\\u043e\\u0441\\u043b\\u0430\\u0432\\u0441\\u043a\\u0430\\u044f \\u043e\\u0431\\u043b\\u0430\\u0441\\u0442\\u044c - \\u042f\\u0440\\u043e\\u0441\\u043b\\u0430\\u0432\\u043b\\u044c - 2020-04-01\", \"\\u041a\\u0435\\u043c\\u0435\\u0440\\u043e\\u0432\\u0441\\u043a\\u0430\\u044f \\u043e\\u0431\\u043b\\u0430\\u0441\\u0442\\u044c - \\u041a\\u0435\\u043c\\u0435\\u0440\\u043e\\u0432\\u043e - 2020-04-01\"]}, {\"marker\": {\"color\": [\"rgba(255,  40,  80, 0.7)\", \"rgba(210,  50, 120, 0.7)\", \"rgba(210, 120, 255, 0.7)\", \"rgba(160, 100, 255, 0.7)\", \"rgba(150,   0, 255, 0.7)\", \"rgba(105,  25, 255, 0.7)\", \"rgba( 45, 120, 255, 0.7)\", \"rgba(115, 200, 255, 0.7)\", \"rgba(120, 220, 225, 0.7)\", \"rgba(100, 255, 200, 0.7)\", \"rgba( 20, 220,  80, 0.7)\", \"rgba(  0, 150,  60, 0.7)\", \"rgba(100, 255,   0, 0.7)\", \"rgba(200, 255,   0, 0.7)\", \"rgba(255, 255,  35, 0.7)\", \"rgba(255, 225,   0, 0.7)\", \"rgba(255, 155,   0, 0.7)\", \"rgba(255, 105,   0, 0.7)\", \"rgba(255,  50,   0, 0.7)\", \"rgba(255,   0,   0, 0.7)\"], \"line\": {\"color\": [\"rgb(255,  40,  80)\", \"rgb(210,  50, 120)\", \"rgb(210, 120, 255)\", \"rgb(160, 100, 255)\", \"rgb(150,   0, 255)\", \"rgb(105,  25, 255)\", \"rgb( 45, 120, 255)\", \"rgb(115, 200, 255)\", \"rgb(120, 220, 225)\", \"rgb(100, 255, 200)\", \"rgb( 20, 220,  80)\", \"rgb(  0, 150,  60)\", \"rgb(100, 255,   0)\", \"rgb(200, 255,   0)\", \"rgb(255, 255,  35)\", \"rgb(255, 225,   0)\", \"rgb(255, 155,   0)\", \"rgb(255, 105,   0)\", \"rgb(255,  50,   0)\", \"rgb(255,   0,   0)\"], \"width\": 1}}, \"orientation\": \"h\", \"outsidetextfont\": {\"color\": \"red\", \"size\": 12}, \"textposition\": \"outside\", \"texttemplate\": \"%{x:.2f}\", \"type\": \"bar\", \"visible\": false, \"x\": [6.229493344370258, 7.924687229106306, 11.394463535362718, 17.69431600737666, 19.0091760617408, 22.78671876480163, 38.502957973243554, 39.496899876088946, 41.69624281408862, 42.98543629272478, 47.182528281421696, 47.26513180264706, 49.16722280127217, 55.61345829280007, 143.9764712013309, 163.03220206709895, 167.83996306035868, 322.66549878756183, 344.6873168050352, 373.95941334894155], \"y\": [\"\\u0421\\u0430\\u043c\\u0430\\u0440\\u0441\\u043a\\u0430\\u044f \\u043e\\u0431\\u043b\\u0430\\u0441\\u0442\\u044c - \\u0421\\u0430\\u043c\\u0430\\u0440\\u0430 - 2020-05-01\", \"\\u041d\\u0438\\u0436\\u0435\\u0433\\u043e\\u0440\\u043e\\u0434\\u0441\\u043a\\u0430\\u044f \\u043e\\u0431\\u043b\\u0430\\u0441\\u0442\\u044c - \\u041d\\u0438\\u0436\\u043d\\u0438\\u0439 \\u041d\\u043e\\u0432\\u0433\\u043e\\u0440\\u043e\\u0434 - 2020-05-01\", \"\\u041a\\u0440\\u0430\\u0441\\u043d\\u043e\\u0434\\u0430\\u0440\\u0441\\u043a\\u0438\\u0439 \\u043a\\u0440\\u0430\\u0439 - \\u0421\\u043e\\u0447\\u0438 - 2020-05-01\", \"\\u041c\\u043e\\u0441\\u043a\\u0432\\u0430 - \\u041c\\u043e\\u0441\\u043a\\u0432\\u0430 - 2020-05-01\", \"\\u0422\\u044e\\u043c\\u0435\\u043d\\u0441\\u043a\\u0430\\u044f \\u043e\\u0431\\u043b\\u0430\\u0441\\u0442\\u044c - \\u0422\\u044e\\u043c\\u0435\\u043d\\u044c - 2020-05-01\", \"\\u041a\\u0430\\u043b\\u0443\\u0436\\u0441\\u043a\\u0430\\u044f \\u043e\\u0431\\u043b\\u0430\\u0441\\u0442\\u044c - \\u041a\\u0430\\u043b\\u0443\\u0433\\u0430 - 2020-05-01\", \"\\u041a\\u0440\\u0430\\u0441\\u043d\\u043e\\u044f\\u0440\\u0441\\u043a\\u0438\\u0439 \\u043a\\u0440\\u0430\\u0439 - \\u041a\\u0440\\u0430\\u0441\\u043d\\u043e\\u044f\\u0440\\u0441\\u043a - 2020-05-01\", \"\\u0421\\u0432\\u0435\\u0440\\u0434\\u043b\\u043e\\u0432\\u0441\\u043a\\u0430\\u044f \\u043e\\u0431\\u043b\\u0430\\u0441\\u0442\\u044c - \\u0415\\u043a\\u0430\\u0442\\u0435\\u0440\\u0438\\u043d\\u0431\\u0443\\u0440\\u0433 - 2020-05-01\", \"\\u041e\\u0440\\u043b\\u043e\\u0432\\u0441\\u043a\\u0430\\u044f \\u043e\\u0431\\u043b\\u0430\\u0441\\u0442\\u044c - \\u041e\\u0440\\u0435\\u043b - 2020-05-01\", \"\\u041c\\u0443\\u0440\\u043c\\u0430\\u043d\\u0441\\u043a\\u0430\\u044f \\u043e\\u0431\\u043b\\u0430\\u0441\\u0442\\u044c - \\u041c\\u0443\\u0440\\u043c\\u0430\\u043d\\u0441\\u043a - 2020-05-01\", \"\\u041c\\u043e\\u0441\\u043a\\u043e\\u0432\\u0441\\u043a\\u0430\\u044f \\u043e\\u0431\\u043b\\u0430\\u0441\\u0442\\u044c - \\u041a\\u043e\\u0440\\u043e\\u043b\\u0435\\u0432 - 2020-05-01\", \"\\u0422\\u043e\\u043c\\u0441\\u043a\\u0430\\u044f \\u043e\\u0431\\u043b\\u0430\\u0441\\u0442\\u044c - \\u0422\\u043e\\u043c\\u0441\\u043a - 2020-05-01\", \"\\u041d\\u0438\\u0436\\u0435\\u0433\\u043e\\u0440\\u043e\\u0434\\u0441\\u043a\\u0430\\u044f \\u043e\\u0431\\u043b\\u0430\\u0441\\u0442\\u044c - \\u0414\\u0437\\u0435\\u0440\\u0436\\u0438\\u043d\\u0441\\u043a - 2020-05-01\", \"\\u041a\\u0440\\u0430\\u0441\\u043d\\u043e\\u0434\\u0430\\u0440\\u0441\\u043a\\u0438\\u0439 \\u043a\\u0440\\u0430\\u0439 - \\u041a\\u0440\\u0430\\u0441\\u043d\\u043e\\u0434\\u0430\\u0440 - 2020-05-01\", \"\\u041a\\u0435\\u043c\\u0435\\u0440\\u043e\\u0432\\u0441\\u043a\\u0430\\u044f \\u043e\\u0431\\u043b\\u0430\\u0441\\u0442\\u044c - \\u041a\\u0435\\u043c\\u0435\\u0440\\u043e\\u0432\\u043e - 2020-05-01\", \"\\u042f\\u0440\\u043e\\u0441\\u043b\\u0430\\u0432\\u0441\\u043a\\u0430\\u044f \\u043e\\u0431\\u043b\\u0430\\u0441\\u0442\\u044c - \\u042f\\u0440\\u043e\\u0441\\u043b\\u0430\\u0432\\u043b\\u044c - 2020-05-01\", \"\\u0412\\u043b\\u0430\\u0434\\u0438\\u043c\\u0438\\u0440\\u0441\\u043a\\u0430\\u044f \\u043e\\u0431\\u043b\\u0430\\u0441\\u0442\\u044c - \\u0412\\u043b\\u0430\\u0434\\u0438\\u043c\\u0438\\u0440 - 2020-05-01\", \"\\u0410\\u043b\\u0442\\u0430\\u0439\\u0441\\u043a\\u0438\\u0439 \\u043a\\u0440\\u0430\\u0439 - \\u0411\\u0430\\u0440\\u043d\\u0430\\u0443\\u043b - 2020-05-01\", \"\\u0418\\u0432\\u0430\\u043d\\u043e\\u0432\\u0441\\u043a\\u0430\\u044f \\u043e\\u0431\\u043b\\u0430\\u0441\\u0442\\u044c - \\u0418\\u0432\\u0430\\u043d\\u043e\\u0432\\u043e - 2020-05-01\", \"\\u041d\\u043e\\u0432\\u043e\\u0441\\u0438\\u0431\\u0438\\u0440\\u0441\\u043a\\u0430\\u044f \\u043e\\u0431\\u043b\\u0430\\u0441\\u0442\\u044c - \\u041d\\u043e\\u0432\\u043e\\u0441\\u0438\\u0431\\u0438\\u0440\\u0441\\u043a - 2020-05-01\"]}, {\"marker\": {\"color\": [\"rgba(255,  40,  80, 0.7)\", \"rgba(210,  50, 120, 0.7)\", \"rgba(210, 120, 255, 0.7)\", \"rgba(160, 100, 255, 0.7)\", \"rgba(150,   0, 255, 0.7)\", \"rgba(105,  25, 255, 0.7)\", \"rgba( 45, 120, 255, 0.7)\", \"rgba(115, 200, 255, 0.7)\", \"rgba(120, 220, 225, 0.7)\", \"rgba(100, 255, 200, 0.7)\", \"rgba( 20, 220,  80, 0.7)\", \"rgba(  0, 150,  60, 0.7)\", \"rgba(100, 255,   0, 0.7)\", \"rgba(200, 255,   0, 0.7)\", \"rgba(255, 255,  35, 0.7)\", \"rgba(255, 225,   0, 0.7)\", \"rgba(255, 155,   0, 0.7)\", \"rgba(255, 105,   0, 0.7)\", \"rgba(255,  50,   0, 0.7)\", \"rgba(255,   0,   0, 0.7)\"], \"line\": {\"color\": [\"rgb(255,  40,  80)\", \"rgb(210,  50, 120)\", \"rgb(210, 120, 255)\", \"rgb(160, 100, 255)\", \"rgb(150,   0, 255)\", \"rgb(105,  25, 255)\", \"rgb( 45, 120, 255)\", \"rgb(115, 200, 255)\", \"rgb(120, 220, 225)\", \"rgb(100, 255, 200)\", \"rgb( 20, 220,  80)\", \"rgb(  0, 150,  60)\", \"rgb(100, 255,   0)\", \"rgb(200, 255,   0)\", \"rgb(255, 255,  35)\", \"rgb(255, 225,   0)\", \"rgb(255, 155,   0)\", \"rgb(255, 105,   0)\", \"rgb(255,  50,   0)\", \"rgb(255,   0,   0)\"], \"width\": 1}}, \"orientation\": \"h\", \"outsidetextfont\": {\"color\": \"red\", \"size\": 12}, \"textposition\": \"outside\", \"texttemplate\": \"%{x:.2f}\", \"type\": \"bar\", \"visible\": false, \"x\": [5.74462034556828, 6.5834989570757205, 7.6681536761136435, 8.0337032995335, 8.644401015059394, 10.164102259053973, 10.403618616446035, 17.001997311530754, 17.0547089744045, 22.118665334987003, 32.52340253343389, 41.78171030355782, 41.81086492533427, 42.054241931891326, 46.947661763015226, 57.3411777246787, 69.75181632727131, 230.21234400327583, 250.82447333279057, 295.449561519915], \"y\": [\"\\u0423\\u0434\\u043c\\u0443\\u0440\\u0442\\u0441\\u043a\\u0430\\u044f \\u0420\\u0435\\u0441\\u043f\\u0443\\u0431\\u043b\\u0438\\u043a\\u0430 - \\u0418\\u0436\\u0435\\u0432\\u0441\\u043a - 2020-06-01\", \"\\u0421\\u0430\\u043c\\u0430\\u0440\\u0441\\u043a\\u0430\\u044f \\u043e\\u0431\\u043b\\u0430\\u0441\\u0442\\u044c - \\u0421\\u0430\\u043c\\u0430\\u0440\\u0430 - 2020-06-01\", \"\\u041d\\u0438\\u0436\\u0435\\u0433\\u043e\\u0440\\u043e\\u0434\\u0441\\u043a\\u0430\\u044f \\u043e\\u0431\\u043b\\u0430\\u0441\\u0442\\u044c - \\u041d\\u0438\\u0436\\u043d\\u0438\\u0439 \\u041d\\u043e\\u0432\\u0433\\u043e\\u0440\\u043e\\u0434 - 2020-06-01\", \"\\u0422\\u043e\\u043c\\u0441\\u043a\\u0430\\u044f \\u043e\\u0431\\u043b\\u0430\\u0441\\u0442\\u044c - \\u0422\\u043e\\u043c\\u0441\\u043a - 2020-06-01\", \"\\u041a\\u0440\\u0430\\u0441\\u043d\\u043e\\u0434\\u0430\\u0440\\u0441\\u043a\\u0438\\u0439 \\u043a\\u0440\\u0430\\u0439 - \\u0421\\u043e\\u0447\\u0438 - 2020-06-01\", \"\\u041f\\u0441\\u043a\\u043e\\u0432\\u0441\\u043a\\u0430\\u044f \\u043e\\u0431\\u043b\\u0430\\u0441\\u0442\\u044c - \\u041f\\u0441\\u043a\\u043e\\u0432 - 2020-06-01\", \"\\u0412\\u043b\\u0430\\u0434\\u0438\\u043c\\u0438\\u0440\\u0441\\u043a\\u0430\\u044f \\u043e\\u0431\\u043b\\u0430\\u0441\\u0442\\u044c - \\u0412\\u043b\\u0430\\u0434\\u0438\\u043c\\u0438\\u0440 - 2020-06-01\", \"\\u0422\\u044e\\u043c\\u0435\\u043d\\u0441\\u043a\\u0430\\u044f \\u043e\\u0431\\u043b\\u0430\\u0441\\u0442\\u044c - \\u0422\\u044e\\u043c\\u0435\\u043d\\u044c - 2020-06-01\", \"\\u041a\\u0430\\u043b\\u0443\\u0436\\u0441\\u043a\\u0430\\u044f \\u043e\\u0431\\u043b\\u0430\\u0441\\u0442\\u044c - \\u041a\\u0430\\u043b\\u0443\\u0433\\u0430 - 2020-06-01\", \"\\u041a\\u0440\\u0430\\u0441\\u043d\\u043e\\u044f\\u0440\\u0441\\u043a\\u0438\\u0439 \\u043a\\u0440\\u0430\\u0439 - \\u041a\\u0440\\u0430\\u0441\\u043d\\u043e\\u044f\\u0440\\u0441\\u043a - 2020-06-01\", \"\\u041a\\u0440\\u0430\\u0441\\u043d\\u043e\\u0434\\u0430\\u0440\\u0441\\u043a\\u0438\\u0439 \\u043a\\u0440\\u0430\\u0439 - \\u041a\\u0440\\u0430\\u0441\\u043d\\u043e\\u0434\\u0430\\u0440 - 2020-06-01\", \"\\u041e\\u0440\\u043b\\u043e\\u0432\\u0441\\u043a\\u0430\\u044f \\u043e\\u0431\\u043b\\u0430\\u0441\\u0442\\u044c - \\u041e\\u0440\\u0435\\u043b - 2020-06-01\", \"\\u0421\\u0432\\u0435\\u0440\\u0434\\u043b\\u043e\\u0432\\u0441\\u043a\\u0430\\u044f \\u043e\\u0431\\u043b\\u0430\\u0441\\u0442\\u044c - \\u0415\\u043a\\u0430\\u0442\\u0435\\u0440\\u0438\\u043d\\u0431\\u0443\\u0440\\u0433 - 2020-06-01\", \"\\u041c\\u0443\\u0440\\u043c\\u0430\\u043d\\u0441\\u043a\\u0430\\u044f \\u043e\\u0431\\u043b\\u0430\\u0441\\u0442\\u044c - \\u041c\\u0443\\u0440\\u043c\\u0430\\u043d\\u0441\\u043a - 2020-06-01\", \"\\u041c\\u043e\\u0441\\u043a\\u043e\\u0432\\u0441\\u043a\\u0430\\u044f \\u043e\\u0431\\u043b\\u0430\\u0441\\u0442\\u044c - \\u041a\\u043e\\u0440\\u043e\\u043b\\u0435\\u0432 - 2020-06-01\", \"\\u041d\\u043e\\u0432\\u043e\\u0441\\u0438\\u0431\\u0438\\u0440\\u0441\\u043a\\u0430\\u044f \\u043e\\u0431\\u043b\\u0430\\u0441\\u0442\\u044c - \\u041d\\u043e\\u0432\\u043e\\u0441\\u0438\\u0431\\u0438\\u0440\\u0441\\u043a - 2020-06-01\", \"\\u041d\\u0438\\u0436\\u0435\\u0433\\u043e\\u0440\\u043e\\u0434\\u0441\\u043a\\u0430\\u044f \\u043e\\u0431\\u043b\\u0430\\u0441\\u0442\\u044c - \\u0414\\u0437\\u0435\\u0440\\u0436\\u0438\\u043d\\u0441\\u043a - 2020-06-01\", \"\\u0418\\u0432\\u0430\\u043d\\u043e\\u0432\\u0441\\u043a\\u0430\\u044f \\u043e\\u0431\\u043b\\u0430\\u0441\\u0442\\u044c - \\u0418\\u0432\\u0430\\u043d\\u043e\\u0432\\u043e - 2020-06-01\", \"\\u042f\\u0440\\u043e\\u0441\\u043b\\u0430\\u0432\\u0441\\u043a\\u0430\\u044f \\u043e\\u0431\\u043b\\u0430\\u0441\\u0442\\u044c - \\u042f\\u0440\\u043e\\u0441\\u043b\\u0430\\u0432\\u043b\\u044c - 2020-06-01\", \"\\u0410\\u043b\\u0442\\u0430\\u0439\\u0441\\u043a\\u0438\\u0439 \\u043a\\u0440\\u0430\\u0439 - \\u0411\\u0430\\u0440\\u043d\\u0430\\u0443\\u043b - 2020-06-01\"]}, {\"marker\": {\"color\": [\"rgba(255,  40,  80, 0.7)\", \"rgba(210,  50, 120, 0.7)\", \"rgba(210, 120, 255, 0.7)\", \"rgba(160, 100, 255, 0.7)\", \"rgba(150,   0, 255, 0.7)\", \"rgba(105,  25, 255, 0.7)\", \"rgba( 45, 120, 255, 0.7)\", \"rgba(115, 200, 255, 0.7)\", \"rgba(120, 220, 225, 0.7)\", \"rgba(100, 255, 200, 0.7)\", \"rgba( 20, 220,  80, 0.7)\", \"rgba(  0, 150,  60, 0.7)\", \"rgba(100, 255,   0, 0.7)\", \"rgba(200, 255,   0, 0.7)\", \"rgba(255, 255,  35, 0.7)\", \"rgba(255, 225,   0, 0.7)\", \"rgba(255, 155,   0, 0.7)\", \"rgba(255, 105,   0, 0.7)\", \"rgba(255,  50,   0, 0.7)\", \"rgba(255,   0,   0, 0.7)\"], \"line\": {\"color\": [\"rgb(255,  40,  80)\", \"rgb(210,  50, 120)\", \"rgb(210, 120, 255)\", \"rgb(160, 100, 255)\", \"rgb(150,   0, 255)\", \"rgb(105,  25, 255)\", \"rgb( 45, 120, 255)\", \"rgb(115, 200, 255)\", \"rgb(120, 220, 225)\", \"rgb(100, 255, 200)\", \"rgb( 20, 220,  80)\", \"rgb(  0, 150,  60)\", \"rgb(100, 255,   0)\", \"rgb(200, 255,   0)\", \"rgb(255, 255,  35)\", \"rgb(255, 225,   0)\", \"rgb(255, 155,   0)\", \"rgb(255, 105,   0)\", \"rgb(255,  50,   0)\", \"rgb(255,   0,   0)\"], \"width\": 1}}, \"orientation\": \"h\", \"outsidetextfont\": {\"color\": \"red\", \"size\": 12}, \"textposition\": \"outside\", \"texttemplate\": \"%{x:.2f}\", \"type\": \"bar\", \"visible\": false, \"x\": [6.691317690853377, 11.276665238838067, 23.056625087141576, 31.19647560365277, 31.31437082242064, 32.968996631470034, 34.707099139117474, 39.20461289021289, 41.22884771761693, 41.639136523413484, 42.3214773283343, 46.81113375473672, 92.92623246192005, 99.50772635344569, 108.43825848835397, 112.18927133393113, 117.26707173212917, 201.01998236068908, 207.6093584269528, 315.60872069383345], \"y\": [\"\\u0421\\u0430\\u043c\\u0430\\u0440\\u0441\\u043a\\u0430\\u044f \\u043e\\u0431\\u043b\\u0430\\u0441\\u0442\\u044c - \\u0421\\u0430\\u043c\\u0430\\u0440\\u0430 - 2020-07-01\", \"\\u0412\\u043b\\u0430\\u0434\\u0438\\u043c\\u0438\\u0440\\u0441\\u043a\\u0430\\u044f \\u043e\\u0431\\u043b\\u0430\\u0441\\u0442\\u044c - \\u0412\\u043b\\u0430\\u0434\\u0438\\u043c\\u0438\\u0440 - 2020-07-01\", \"\\u041a\\u0430\\u043b\\u0443\\u0436\\u0441\\u043a\\u0430\\u044f \\u043e\\u0431\\u043b\\u0430\\u0441\\u0442\\u044c - \\u041a\\u0430\\u043b\\u0443\\u0433\\u0430 - 2020-07-01\", \"\\u041c\\u043e\\u0441\\u043a\\u0432\\u0430 - \\u041c\\u043e\\u0441\\u043a\\u0432\\u0430 - 2020-07-01\", \"\\u0422\\u044e\\u043c\\u0435\\u043d\\u0441\\u043a\\u0430\\u044f \\u043e\\u0431\\u043b\\u0430\\u0441\\u0442\\u044c - \\u0422\\u044e\\u043c\\u0435\\u043d\\u044c - 2020-07-01\", \"\\u041a\\u0440\\u0430\\u0441\\u043d\\u043e\\u0434\\u0430\\u0440\\u0441\\u043a\\u0438\\u0439 \\u043a\\u0440\\u0430\\u0439 - \\u041a\\u0440\\u0430\\u0441\\u043d\\u043e\\u0434\\u0430\\u0440 - 2020-07-01\", \"\\u041e\\u043c\\u0441\\u043a\\u0430\\u044f \\u043e\\u0431\\u043b\\u0430\\u0441\\u0442\\u044c - \\u041e\\u043c\\u0441\\u043a - 2020-07-01\", \"\\u041a\\u0440\\u0430\\u0441\\u043d\\u043e\\u044f\\u0440\\u0441\\u043a\\u0438\\u0439 \\u043a\\u0440\\u0430\\u0439 - \\u041a\\u0440\\u0430\\u0441\\u043d\\u043e\\u044f\\u0440\\u0441\\u043a - 2020-07-01\", \"\\u0421\\u0432\\u0435\\u0440\\u0434\\u043b\\u043e\\u0432\\u0441\\u043a\\u0430\\u044f \\u043e\\u0431\\u043b\\u0430\\u0441\\u0442\\u044c - \\u0415\\u043a\\u0430\\u0442\\u0435\\u0440\\u0438\\u043d\\u0431\\u0443\\u0440\\u0433 - 2020-07-01\", \"\\u041c\\u0443\\u0440\\u043c\\u0430\\u043d\\u0441\\u043a\\u0430\\u044f \\u043e\\u0431\\u043b\\u0430\\u0441\\u0442\\u044c - \\u041c\\u0443\\u0440\\u043c\\u0430\\u043d\\u0441\\u043a - 2020-07-01\", \"\\u041e\\u0440\\u043b\\u043e\\u0432\\u0441\\u043a\\u0430\\u044f \\u043e\\u0431\\u043b\\u0430\\u0441\\u0442\\u044c - \\u041e\\u0440\\u0435\\u043b - 2020-07-01\", \"\\u041c\\u043e\\u0441\\u043a\\u043e\\u0432\\u0441\\u043a\\u0430\\u044f \\u043e\\u0431\\u043b\\u0430\\u0441\\u0442\\u044c - \\u041a\\u043e\\u0440\\u043e\\u043b\\u0435\\u0432 - 2020-07-01\", \"\\u0418\\u0432\\u0430\\u043d\\u043e\\u0432\\u0441\\u043a\\u0430\\u044f \\u043e\\u0431\\u043b\\u0430\\u0441\\u0442\\u044c - \\u0418\\u0432\\u0430\\u043d\\u043e\\u0432\\u043e - 2020-07-01\", \"\\u041d\\u0438\\u0436\\u0435\\u0433\\u043e\\u0440\\u043e\\u0434\\u0441\\u043a\\u0430\\u044f \\u043e\\u0431\\u043b\\u0430\\u0441\\u0442\\u044c - \\u041d\\u0438\\u0436\\u043d\\u0438\\u0439 \\u041d\\u043e\\u0432\\u0433\\u043e\\u0440\\u043e\\u0434 - 2020-07-01\", \"\\u0422\\u043e\\u043c\\u0441\\u043a\\u0430\\u044f \\u043e\\u0431\\u043b\\u0430\\u0441\\u0442\\u044c - \\u0422\\u043e\\u043c\\u0441\\u043a - 2020-07-01\", \"\\u041a\\u0435\\u043c\\u0435\\u0440\\u043e\\u0432\\u0441\\u043a\\u0430\\u044f \\u043e\\u0431\\u043b\\u0430\\u0441\\u0442\\u044c - \\u041a\\u0435\\u043c\\u0435\\u0440\\u043e\\u0432\\u043e - 2020-07-01\", \"\\u041d\\u0438\\u0436\\u0435\\u0433\\u043e\\u0440\\u043e\\u0434\\u0441\\u043a\\u0430\\u044f \\u043e\\u0431\\u043b\\u0430\\u0441\\u0442\\u044c - \\u0414\\u0437\\u0435\\u0440\\u0436\\u0438\\u043d\\u0441\\u043a - 2020-07-01\", \"\\u0410\\u043b\\u0442\\u0430\\u0439\\u0441\\u043a\\u0438\\u0439 \\u043a\\u0440\\u0430\\u0439 - \\u0411\\u0430\\u0440\\u043d\\u0430\\u0443\\u043b - 2020-07-01\", \"\\u041d\\u043e\\u0432\\u043e\\u0441\\u0438\\u0431\\u0438\\u0440\\u0441\\u043a\\u0430\\u044f \\u043e\\u0431\\u043b\\u0430\\u0441\\u0442\\u044c - \\u041d\\u043e\\u0432\\u043e\\u0441\\u0438\\u0431\\u0438\\u0440\\u0441\\u043a - 2020-07-01\", \"\\u041c\\u043e\\u0441\\u043a\\u043e\\u0432\\u0441\\u043a\\u0430\\u044f \\u043e\\u0431\\u043b\\u0430\\u0441\\u0442\\u044c - \\u0425\\u0438\\u043c\\u043a\\u0438 - 2020-07-01\"]}, {\"marker\": {\"color\": [\"rgba(255,  40,  80, 0.7)\", \"rgba(210,  50, 120, 0.7)\", \"rgba(210, 120, 255, 0.7)\", \"rgba(160, 100, 255, 0.7)\", \"rgba(150,   0, 255, 0.7)\", \"rgba(105,  25, 255, 0.7)\", \"rgba( 45, 120, 255, 0.7)\", \"rgba(115, 200, 255, 0.7)\", \"rgba(120, 220, 225, 0.7)\", \"rgba(100, 255, 200, 0.7)\", \"rgba( 20, 220,  80, 0.7)\", \"rgba(  0, 150,  60, 0.7)\", \"rgba(100, 255,   0, 0.7)\", \"rgba(200, 255,   0, 0.7)\", \"rgba(255, 255,  35, 0.7)\", \"rgba(255, 225,   0, 0.7)\", \"rgba(255, 155,   0, 0.7)\", \"rgba(255, 105,   0, 0.7)\", \"rgba(255,  50,   0, 0.7)\", \"rgba(255,   0,   0, 0.7)\"], \"line\": {\"color\": [\"rgb(255,  40,  80)\", \"rgb(210,  50, 120)\", \"rgb(210, 120, 255)\", \"rgb(160, 100, 255)\", \"rgb(150,   0, 255)\", \"rgb(105,  25, 255)\", \"rgb( 45, 120, 255)\", \"rgb(115, 200, 255)\", \"rgb(120, 220, 225)\", \"rgb(100, 255, 200)\", \"rgb( 20, 220,  80)\", \"rgb(  0, 150,  60)\", \"rgb(100, 255,   0)\", \"rgb(200, 255,   0)\", \"rgb(255, 255,  35)\", \"rgb(255, 225,   0)\", \"rgb(255, 155,   0)\", \"rgb(255, 105,   0)\", \"rgb(255,  50,   0)\", \"rgb(255,   0,   0)\"], \"width\": 1}}, \"orientation\": \"h\", \"outsidetextfont\": {\"color\": \"red\", \"size\": 12}, \"textposition\": \"outside\", \"texttemplate\": \"%{x:.2f}\", \"type\": \"bar\", \"visible\": false, \"x\": [5.908932743286997, 6.0823501254403105, 8.003306207165583, 10.555619581533513, 10.904072199311269, 15.768440422630972, 16.344448845308047, 20.922801816646924, 21.661308245224895, 30.58309056298383, 32.40396430564504, 42.75099959216082, 42.9500082502119, 47.16746256245721, 48.253144210241985, 58.06185718921942, 65.28314324346357, 109.47921295084241, 110.84332724373624, 123.63258080275483], \"y\": [\"\\u0421\\u0430\\u043c\\u0430\\u0440\\u0441\\u043a\\u0430\\u044f \\u043e\\u0431\\u043b\\u0430\\u0441\\u0442\\u044c - \\u0421\\u0430\\u043c\\u0430\\u0440\\u0430 - 2020-08-01\", \"\\u0421\\u0430\\u043c\\u0430\\u0440\\u0441\\u043a\\u0430\\u044f \\u043e\\u0431\\u043b\\u0430\\u0441\\u0442\\u044c - \\u0422\\u043e\\u043b\\u044c\\u044f\\u0442\\u0442\\u0438 - 2020-08-01\", \"\\u0422\\u043e\\u043c\\u0441\\u043a\\u0430\\u044f \\u043e\\u0431\\u043b\\u0430\\u0441\\u0442\\u044c - \\u0422\\u043e\\u043c\\u0441\\u043a - 2020-08-01\", \"\\u0412\\u043b\\u0430\\u0434\\u0438\\u043c\\u0438\\u0440\\u0441\\u043a\\u0430\\u044f \\u043e\\u0431\\u043b\\u0430\\u0441\\u0442\\u044c - \\u0412\\u043b\\u0430\\u0434\\u0438\\u043c\\u0438\\u0440 - 2020-08-01\", \"\\u0427\\u0435\\u043b\\u044f\\u0431\\u0438\\u043d\\u0441\\u043a\\u0430\\u044f \\u043e\\u0431\\u043b\\u0430\\u0441\\u0442\\u044c - \\u0427\\u0435\\u043b\\u044f\\u0431\\u0438\\u043d\\u0441\\u043a - 2020-08-01\", \"\\u041c\\u043e\\u0441\\u043a\\u0432\\u0430 - \\u041c\\u043e\\u0441\\u043a\\u0432\\u0430 - 2020-08-01\", \"\\u041d\\u0438\\u0436\\u0435\\u0433\\u043e\\u0440\\u043e\\u0434\\u0441\\u043a\\u0430\\u044f \\u043e\\u0431\\u043b\\u0430\\u0441\\u0442\\u044c - \\u041d\\u0438\\u0436\\u043d\\u0438\\u0439 \\u041d\\u043e\\u0432\\u0433\\u043e\\u0440\\u043e\\u0434 - 2020-08-01\", \"\\u041a\\u0430\\u043b\\u0443\\u0436\\u0441\\u043a\\u0430\\u044f \\u043e\\u0431\\u043b\\u0430\\u0441\\u0442\\u044c - \\u041a\\u0430\\u043b\\u0443\\u0433\\u0430 - 2020-08-01\", \"\\u041a\\u0440\\u0430\\u0441\\u043d\\u043e\\u044f\\u0440\\u0441\\u043a\\u0438\\u0439 \\u043a\\u0440\\u0430\\u0439 - \\u041a\\u0440\\u0430\\u0441\\u043d\\u043e\\u044f\\u0440\\u0441\\u043a - 2020-08-01\", \"\\u041d\\u0438\\u0436\\u0435\\u0433\\u043e\\u0440\\u043e\\u0434\\u0441\\u043a\\u0430\\u044f \\u043e\\u0431\\u043b\\u0430\\u0441\\u0442\\u044c - \\u0414\\u0437\\u0435\\u0440\\u0436\\u0438\\u043d\\u0441\\u043a - 2020-08-01\", \"\\u041a\\u0440\\u0430\\u0441\\u043d\\u043e\\u0434\\u0430\\u0440\\u0441\\u043a\\u0438\\u0439 \\u043a\\u0440\\u0430\\u0439 - \\u041a\\u0440\\u0430\\u0441\\u043d\\u043e\\u0434\\u0430\\u0440 - 2020-08-01\", \"\\u041e\\u0440\\u043b\\u043e\\u0432\\u0441\\u043a\\u0430\\u044f \\u043e\\u0431\\u043b\\u0430\\u0441\\u0442\\u044c - \\u041e\\u0440\\u0435\\u043b - 2020-08-01\", \"\\u041c\\u0443\\u0440\\u043c\\u0430\\u043d\\u0441\\u043a\\u0430\\u044f \\u043e\\u0431\\u043b\\u0430\\u0441\\u0442\\u044c - \\u041c\\u0443\\u0440\\u043c\\u0430\\u043d\\u0441\\u043a - 2020-08-01\", \"\\u041c\\u043e\\u0441\\u043a\\u043e\\u0432\\u0441\\u043a\\u0430\\u044f \\u043e\\u0431\\u043b\\u0430\\u0441\\u0442\\u044c - \\u041a\\u043e\\u0440\\u043e\\u043b\\u0435\\u0432 - 2020-08-01\", \"\\u0421\\u0432\\u0435\\u0440\\u0434\\u043b\\u043e\\u0432\\u0441\\u043a\\u0430\\u044f \\u043e\\u0431\\u043b\\u0430\\u0441\\u0442\\u044c - \\u0415\\u043a\\u0430\\u0442\\u0435\\u0440\\u0438\\u043d\\u0431\\u0443\\u0440\\u0433 - 2020-08-01\", \"\\u0418\\u0432\\u0430\\u043d\\u043e\\u0432\\u0441\\u043a\\u0430\\u044f \\u043e\\u0431\\u043b\\u0430\\u0441\\u0442\\u044c - \\u0418\\u0432\\u0430\\u043d\\u043e\\u0432\\u043e - 2020-08-01\", \"\\u041d\\u043e\\u0432\\u043e\\u0441\\u0438\\u0431\\u0438\\u0440\\u0441\\u043a\\u0430\\u044f \\u043e\\u0431\\u043b\\u0430\\u0441\\u0442\\u044c - \\u041d\\u043e\\u0432\\u043e\\u0441\\u0438\\u0431\\u0438\\u0440\\u0441\\u043a - 2020-08-01\", \"\\u041a\\u0435\\u043c\\u0435\\u0440\\u043e\\u0432\\u0441\\u043a\\u0430\\u044f \\u043e\\u0431\\u043b\\u0430\\u0441\\u0442\\u044c - \\u041a\\u0435\\u043c\\u0435\\u0440\\u043e\\u0432\\u043e - 2020-08-01\", \"\\u041a\\u0435\\u043c\\u0435\\u0440\\u043e\\u0432\\u0441\\u043a\\u0430\\u044f \\u043e\\u0431\\u043b\\u0430\\u0441\\u0442\\u044c - \\u041d\\u043e\\u0432\\u043e\\u043a\\u0443\\u0437\\u043d\\u0435\\u0446\\u043a - 2020-08-01\", \"\\u0410\\u043b\\u0442\\u0430\\u0439\\u0441\\u043a\\u0438\\u0439 \\u043a\\u0440\\u0430\\u0439 - \\u0411\\u0430\\u0440\\u043d\\u0430\\u0443\\u043b - 2020-08-01\"]}, {\"marker\": {\"color\": [\"rgba(255,  40,  80, 0.7)\", \"rgba(210,  50, 120, 0.7)\", \"rgba(210, 120, 255, 0.7)\", \"rgba(160, 100, 255, 0.7)\", \"rgba(150,   0, 255, 0.7)\", \"rgba(105,  25, 255, 0.7)\", \"rgba( 45, 120, 255, 0.7)\", \"rgba(115, 200, 255, 0.7)\", \"rgba(120, 220, 225, 0.7)\", \"rgba(100, 255, 200, 0.7)\", \"rgba( 20, 220,  80, 0.7)\", \"rgba(  0, 150,  60, 0.7)\", \"rgba(100, 255,   0, 0.7)\", \"rgba(200, 255,   0, 0.7)\", \"rgba(255, 255,  35, 0.7)\", \"rgba(255, 225,   0, 0.7)\", \"rgba(255, 155,   0, 0.7)\", \"rgba(255, 105,   0, 0.7)\", \"rgba(255,  50,   0, 0.7)\", \"rgba(255,   0,   0, 0.7)\"], \"line\": {\"color\": [\"rgb(255,  40,  80)\", \"rgb(210,  50, 120)\", \"rgb(210, 120, 255)\", \"rgb(160, 100, 255)\", \"rgb(150,   0, 255)\", \"rgb(105,  25, 255)\", \"rgb( 45, 120, 255)\", \"rgb(115, 200, 255)\", \"rgb(120, 220, 225)\", \"rgb(100, 255, 200)\", \"rgb( 20, 220,  80)\", \"rgb(  0, 150,  60)\", \"rgb(100, 255,   0)\", \"rgb(200, 255,   0)\", \"rgb(255, 255,  35)\", \"rgb(255, 225,   0)\", \"rgb(255, 155,   0)\", \"rgb(255, 105,   0)\", \"rgb(255,  50,   0)\", \"rgb(255,   0,   0)\"], \"width\": 1}}, \"orientation\": \"h\", \"outsidetextfont\": {\"color\": \"red\", \"size\": 12}, \"textposition\": \"outside\", \"texttemplate\": \"%{x:.2f}\", \"type\": \"bar\", \"visible\": false, \"x\": [6.071410580027895, 6.9760337322213015, 10.945498426800478, 14.648949980546735, 15.742289093040569, 17.199329506144057, 21.209071917094896, 22.66121568925207, 32.80474972529915, 41.72946724726026, 42.11129835496503, 42.82545808377541, 44.21692447686841, 46.97411652084379, 50.561605375247076, 52.712736247866765, 66.84553158996124, 93.83101409037205, 110.75223973207628, 169.8898381429143], \"y\": [\"\\u041a\\u0440\\u0430\\u0441\\u043d\\u043e\\u0434\\u0430\\u0440\\u0441\\u043a\\u0438\\u0439 \\u043a\\u0440\\u0430\\u0439 - \\u0421\\u043e\\u0447\\u0438 - 2020-09-01\", \"\\u042f\\u0440\\u043e\\u0441\\u043b\\u0430\\u0432\\u0441\\u043a\\u0430\\u044f \\u043e\\u0431\\u043b\\u0430\\u0441\\u0442\\u044c - \\u042f\\u0440\\u043e\\u0441\\u043b\\u0430\\u0432\\u043b\\u044c - 2020-09-01\", \"\\u0412\\u043b\\u0430\\u0434\\u0438\\u043c\\u0438\\u0440\\u0441\\u043a\\u0430\\u044f \\u043e\\u0431\\u043b\\u0430\\u0441\\u0442\\u044c - \\u0412\\u043b\\u0430\\u0434\\u0438\\u043c\\u0438\\u0440 - 2020-09-01\", \"\\u041c\\u043e\\u0441\\u043a\\u0432\\u0430 - \\u041c\\u043e\\u0441\\u043a\\u0432\\u0430 - 2020-09-01\", \"\\u041d\\u0438\\u0436\\u0435\\u0433\\u043e\\u0440\\u043e\\u0434\\u0441\\u043a\\u0430\\u044f \\u043e\\u0431\\u043b\\u0430\\u0441\\u0442\\u044c - \\u041d\\u0438\\u0436\\u043d\\u0438\\u0439 \\u041d\\u043e\\u0432\\u0433\\u043e\\u0440\\u043e\\u0434 - 2020-09-01\", \"\\u0418\\u0432\\u0430\\u043d\\u043e\\u0432\\u0441\\u043a\\u0430\\u044f \\u043e\\u0431\\u043b\\u0430\\u0441\\u0442\\u044c - \\u0418\\u0432\\u0430\\u043d\\u043e\\u0432\\u043e - 2020-09-01\", \"\\u041a\\u0430\\u043b\\u0443\\u0436\\u0441\\u043a\\u0430\\u044f \\u043e\\u0431\\u043b\\u0430\\u0441\\u0442\\u044c - \\u041a\\u0430\\u043b\\u0443\\u0433\\u0430 - 2020-09-01\", \"\\u041d\\u0438\\u0436\\u0435\\u0433\\u043e\\u0440\\u043e\\u0434\\u0441\\u043a\\u0430\\u044f \\u043e\\u0431\\u043b\\u0430\\u0441\\u0442\\u044c - \\u0414\\u0437\\u0435\\u0440\\u0436\\u0438\\u043d\\u0441\\u043a - 2020-09-01\", \"\\u041a\\u0440\\u0430\\u0441\\u043d\\u043e\\u0434\\u0430\\u0440\\u0441\\u043a\\u0438\\u0439 \\u043a\\u0440\\u0430\\u0439 - \\u041a\\u0440\\u0430\\u0441\\u043d\\u043e\\u0434\\u0430\\u0440 - 2020-09-01\", \"\\u041a\\u0435\\u043c\\u0435\\u0440\\u043e\\u0432\\u0441\\u043a\\u0430\\u044f \\u043e\\u0431\\u043b\\u0430\\u0441\\u0442\\u044c - \\u041a\\u0435\\u043c\\u0435\\u0440\\u043e\\u0432\\u043e - 2020-09-01\", \"\\u041e\\u0440\\u043b\\u043e\\u0432\\u0441\\u043a\\u0430\\u044f \\u043e\\u0431\\u043b\\u0430\\u0441\\u0442\\u044c - \\u041e\\u0440\\u0435\\u043b - 2020-09-01\", \"\\u041c\\u0443\\u0440\\u043c\\u0430\\u043d\\u0441\\u043a\\u0430\\u044f \\u043e\\u0431\\u043b\\u0430\\u0441\\u0442\\u044c - \\u041c\\u0443\\u0440\\u043c\\u0430\\u043d\\u0441\\u043a - 2020-09-01\", \"\\u0422\\u043e\\u043c\\u0441\\u043a\\u0430\\u044f \\u043e\\u0431\\u043b\\u0430\\u0441\\u0442\\u044c - \\u0422\\u043e\\u043c\\u0441\\u043a - 2020-09-01\", \"\\u041c\\u043e\\u0441\\u043a\\u043e\\u0432\\u0441\\u043a\\u0430\\u044f \\u043e\\u0431\\u043b\\u0430\\u0441\\u0442\\u044c - \\u041a\\u043e\\u0440\\u043e\\u043b\\u0435\\u0432 - 2020-09-01\", \"\\u041d\\u043e\\u0432\\u043e\\u0441\\u0438\\u0431\\u0438\\u0440\\u0441\\u043a\\u0430\\u044f \\u043e\\u0431\\u043b\\u0430\\u0441\\u0442\\u044c - \\u041d\\u043e\\u0432\\u043e\\u0441\\u0438\\u0431\\u0438\\u0440\\u0441\\u043a - 2020-09-01\", \"\\u0421\\u0432\\u0435\\u0440\\u0434\\u043b\\u043e\\u0432\\u0441\\u043a\\u0430\\u044f \\u043e\\u0431\\u043b\\u0430\\u0441\\u0442\\u044c - \\u0415\\u043a\\u0430\\u0442\\u0435\\u0440\\u0438\\u043d\\u0431\\u0443\\u0440\\u0433 - 2020-09-01\", \"\\u041a\\u0440\\u0430\\u0441\\u043d\\u043e\\u044f\\u0440\\u0441\\u043a\\u0438\\u0439 \\u043a\\u0440\\u0430\\u0439 - \\u041a\\u0440\\u0430\\u0441\\u043d\\u043e\\u044f\\u0440\\u0441\\u043a - 2020-09-01\", \"\\u041c\\u043e\\u0441\\u043a\\u043e\\u0432\\u0441\\u043a\\u0430\\u044f \\u043e\\u0431\\u043b\\u0430\\u0441\\u0442\\u044c - \\u0425\\u0438\\u043c\\u043a\\u0438 - 2020-09-01\", \"\\u041a\\u0435\\u043c\\u0435\\u0440\\u043e\\u0432\\u0441\\u043a\\u0430\\u044f \\u043e\\u0431\\u043b\\u0430\\u0441\\u0442\\u044c - \\u041d\\u043e\\u0432\\u043e\\u043a\\u0443\\u0437\\u043d\\u0435\\u0446\\u043a - 2020-09-01\", \"\\u041e\\u043c\\u0441\\u043a\\u0430\\u044f \\u043e\\u0431\\u043b\\u0430\\u0441\\u0442\\u044c - \\u041e\\u043c\\u0441\\u043a - 2020-09-01\"]}, {\"marker\": {\"color\": [\"rgba(255,  40,  80, 0.7)\", \"rgba(210,  50, 120, 0.7)\", \"rgba(210, 120, 255, 0.7)\", \"rgba(160, 100, 255, 0.7)\", \"rgba(150,   0, 255, 0.7)\", \"rgba(105,  25, 255, 0.7)\", \"rgba( 45, 120, 255, 0.7)\", \"rgba(115, 200, 255, 0.7)\", \"rgba(120, 220, 225, 0.7)\", \"rgba(100, 255, 200, 0.7)\", \"rgba( 20, 220,  80, 0.7)\", \"rgba(  0, 150,  60, 0.7)\", \"rgba(100, 255,   0, 0.7)\", \"rgba(200, 255,   0, 0.7)\", \"rgba(255, 255,  35, 0.7)\", \"rgba(255, 225,   0, 0.7)\", \"rgba(255, 155,   0, 0.7)\", \"rgba(255, 105,   0, 0.7)\", \"rgba(255,  50,   0, 0.7)\", \"rgba(255,   0,   0, 0.7)\"], \"line\": {\"color\": [\"rgb(255,  40,  80)\", \"rgb(210,  50, 120)\", \"rgb(210, 120, 255)\", \"rgb(160, 100, 255)\", \"rgb(150,   0, 255)\", \"rgb(105,  25, 255)\", \"rgb( 45, 120, 255)\", \"rgb(115, 200, 255)\", \"rgb(120, 220, 225)\", \"rgb(100, 255, 200)\", \"rgb( 20, 220,  80)\", \"rgb(  0, 150,  60)\", \"rgb(100, 255,   0)\", \"rgb(200, 255,   0)\", \"rgb(255, 255,  35)\", \"rgb(255, 225,   0)\", \"rgb(255, 155,   0)\", \"rgb(255, 105,   0)\", \"rgb(255,  50,   0)\", \"rgb(255,   0,   0)\"], \"width\": 1}}, \"orientation\": \"h\", \"outsidetextfont\": {\"color\": \"red\", \"size\": 12}, \"textposition\": \"outside\", \"texttemplate\": \"%{x:.2f}\", \"type\": \"bar\", \"visible\": false, \"x\": [13.9575412629776, 15.091091297493039, 16.626070901142512, 19.682821846561293, 19.916444892799518, 20.562196597515502, 28.87503789970968, 35.640634812171264, 41.19536547394137, 43.37174370252535, 46.94134386378709, 52.16833495033494, 54.14665356974663, 54.23135611232888, 60.43897006682236, 90.06202525349492, 93.73583624588457, 120.21270421143362, 181.69558412961814, 210.5115714005753], \"y\": [\"\\u041a\\u0440\\u0430\\u0441\\u043d\\u043e\\u0434\\u0430\\u0440\\u0441\\u043a\\u0438\\u0439 \\u043a\\u0440\\u0430\\u0439 - \\u0421\\u043e\\u0447\\u0438 - 2020-10-01\", \"\\u041e\\u043c\\u0441\\u043a\\u0430\\u044f \\u043e\\u0431\\u043b\\u0430\\u0441\\u0442\\u044c - \\u041e\\u043c\\u0441\\u043a - 2020-10-01\", \"\\u041c\\u043e\\u0441\\u043a\\u0432\\u0430 - \\u041c\\u043e\\u0441\\u043a\\u0432\\u0430 - 2020-10-01\", \"\\u041d\\u0438\\u0436\\u0435\\u0433\\u043e\\u0440\\u043e\\u0434\\u0441\\u043a\\u0430\\u044f \\u043e\\u0431\\u043b\\u0430\\u0441\\u0442\\u044c - \\u041d\\u0438\\u0436\\u043d\\u0438\\u0439 \\u041d\\u043e\\u0432\\u0433\\u043e\\u0440\\u043e\\u0434 - 2020-10-01\", \"\\u041a\\u0430\\u043b\\u0443\\u0436\\u0441\\u043a\\u0430\\u044f \\u043e\\u0431\\u043b\\u0430\\u0441\\u0442\\u044c - \\u041a\\u0430\\u043b\\u0443\\u0433\\u0430 - 2020-10-01\", \"\\u041d\\u043e\\u0432\\u043e\\u0441\\u0438\\u0431\\u0438\\u0440\\u0441\\u043a\\u0430\\u044f \\u043e\\u0431\\u043b\\u0430\\u0441\\u0442\\u044c - \\u041d\\u043e\\u0432\\u043e\\u0441\\u0438\\u0431\\u0438\\u0440\\u0441\\u043a - 2020-10-01\", \"\\u041d\\u0438\\u0436\\u0435\\u0433\\u043e\\u0440\\u043e\\u0434\\u0441\\u043a\\u0430\\u044f \\u043e\\u0431\\u043b\\u0430\\u0441\\u0442\\u044c - \\u0414\\u0437\\u0435\\u0440\\u0436\\u0438\\u043d\\u0441\\u043a - 2020-10-01\", \"\\u041a\\u0440\\u0430\\u0441\\u043d\\u043e\\u0434\\u0430\\u0440\\u0441\\u043a\\u0438\\u0439 \\u043a\\u0440\\u0430\\u0439 - \\u041a\\u0440\\u0430\\u0441\\u043d\\u043e\\u0434\\u0430\\u0440 - 2020-10-01\", \"\\u041e\\u0440\\u043b\\u043e\\u0432\\u0441\\u043a\\u0430\\u044f \\u043e\\u0431\\u043b\\u0430\\u0441\\u0442\\u044c - \\u041e\\u0440\\u0435\\u043b - 2020-10-01\", \"\\u041c\\u0443\\u0440\\u043c\\u0430\\u043d\\u0441\\u043a\\u0430\\u044f \\u043e\\u0431\\u043b\\u0430\\u0441\\u0442\\u044c - \\u041c\\u0443\\u0440\\u043c\\u0430\\u043d\\u0441\\u043a - 2020-10-01\", \"\\u041c\\u043e\\u0441\\u043a\\u043e\\u0432\\u0441\\u043a\\u0430\\u044f \\u043e\\u0431\\u043b\\u0430\\u0441\\u0442\\u044c - \\u041a\\u043e\\u0440\\u043e\\u043b\\u0435\\u0432 - 2020-10-01\", \"\\u041a\\u0435\\u043c\\u0435\\u0440\\u043e\\u0432\\u0441\\u043a\\u0430\\u044f \\u043e\\u0431\\u043b\\u0430\\u0441\\u0442\\u044c - \\u041a\\u0435\\u043c\\u0435\\u0440\\u043e\\u0432\\u043e - 2020-10-01\", \"\\u0422\\u043e\\u043c\\u0441\\u043a\\u0430\\u044f \\u043e\\u0431\\u043b\\u0430\\u0441\\u0442\\u044c - \\u0422\\u043e\\u043c\\u0441\\u043a - 2020-10-01\", \"\\u0418\\u0432\\u0430\\u043d\\u043e\\u0432\\u0441\\u043a\\u0430\\u044f \\u043e\\u0431\\u043b\\u0430\\u0441\\u0442\\u044c - \\u0418\\u0432\\u0430\\u043d\\u043e\\u0432\\u043e - 2020-10-01\", \"\\u041a\\u0440\\u0430\\u0441\\u043d\\u043e\\u044f\\u0440\\u0441\\u043a\\u0438\\u0439 \\u043a\\u0440\\u0430\\u0439 - \\u041a\\u0440\\u0430\\u0441\\u043d\\u043e\\u044f\\u0440\\u0441\\u043a - 2020-10-01\", \"\\u0421\\u0432\\u0435\\u0440\\u0434\\u043b\\u043e\\u0432\\u0441\\u043a\\u0430\\u044f \\u043e\\u0431\\u043b\\u0430\\u0441\\u0442\\u044c - \\u0415\\u043a\\u0430\\u0442\\u0435\\u0440\\u0438\\u043d\\u0431\\u0443\\u0440\\u0433 - 2020-10-01\", \"\\u041c\\u043e\\u0441\\u043a\\u043e\\u0432\\u0441\\u043a\\u0430\\u044f \\u043e\\u0431\\u043b\\u0430\\u0441\\u0442\\u044c - \\u0425\\u0438\\u043c\\u043a\\u0438 - 2020-10-01\", \"\\u041a\\u0435\\u043c\\u0435\\u0440\\u043e\\u0432\\u0441\\u043a\\u0430\\u044f \\u043e\\u0431\\u043b\\u0430\\u0441\\u0442\\u044c - \\u041d\\u043e\\u0432\\u043e\\u043a\\u0443\\u0437\\u043d\\u0435\\u0446\\u043a - 2020-10-01\", \"\\u041a\\u0443\\u0440\\u0433\\u0430\\u043d\\u0441\\u043a\\u0430\\u044f \\u043e\\u0431\\u043b\\u0430\\u0441\\u0442\\u044c - \\u041a\\u0443\\u0440\\u0433\\u0430\\u043d - 2020-10-01\", \"\\u042f\\u0440\\u043e\\u0441\\u043b\\u0430\\u0432\\u0441\\u043a\\u0430\\u044f \\u043e\\u0431\\u043b\\u0430\\u0441\\u0442\\u044c - \\u042f\\u0440\\u043e\\u0441\\u043b\\u0430\\u0432\\u043b\\u044c - 2020-10-01\"]}, {\"marker\": {\"color\": [\"rgba(255,  40,  80, 0.7)\", \"rgba(210,  50, 120, 0.7)\", \"rgba(210, 120, 255, 0.7)\", \"rgba(160, 100, 255, 0.7)\", \"rgba(150,   0, 255, 0.7)\", \"rgba(105,  25, 255, 0.7)\", \"rgba( 45, 120, 255, 0.7)\", \"rgba(115, 200, 255, 0.7)\", \"rgba(120, 220, 225, 0.7)\", \"rgba(100, 255, 200, 0.7)\", \"rgba( 20, 220,  80, 0.7)\", \"rgba(  0, 150,  60, 0.7)\", \"rgba(100, 255,   0, 0.7)\", \"rgba(200, 255,   0, 0.7)\", \"rgba(255, 255,  35, 0.7)\", \"rgba(255, 225,   0, 0.7)\", \"rgba(255, 155,   0, 0.7)\", \"rgba(255, 105,   0, 0.7)\", \"rgba(255,  50,   0, 0.7)\", \"rgba(255,   0,   0, 0.7)\"], \"line\": {\"color\": [\"rgb(255,  40,  80)\", \"rgb(210,  50, 120)\", \"rgb(210, 120, 255)\", \"rgb(160, 100, 255)\", \"rgb(150,   0, 255)\", \"rgb(105,  25, 255)\", \"rgb( 45, 120, 255)\", \"rgb(115, 200, 255)\", \"rgb(120, 220, 225)\", \"rgb(100, 255, 200)\", \"rgb( 20, 220,  80)\", \"rgb(  0, 150,  60)\", \"rgb(100, 255,   0)\", \"rgb(200, 255,   0)\", \"rgb(255, 255,  35)\", \"rgb(255, 225,   0)\", \"rgb(255, 155,   0)\", \"rgb(255, 105,   0)\", \"rgb(255,  50,   0)\", \"rgb(255,   0,   0)\"], \"width\": 1}}, \"orientation\": \"h\", \"outsidetextfont\": {\"color\": \"red\", \"size\": 12}, \"textposition\": \"outside\", \"texttemplate\": \"%{x:.2f}\", \"type\": \"bar\", \"visible\": false, \"x\": [8.092522150192833, 10.54770423741528, 15.891876974061484, 16.38805904128684, 20.82940282149993, 32.01527654455717, 35.49545153055407, 36.688044682238605, 41.48445870691485, 41.502420100121, 43.05491908886469, 46.98181393102816, 54.226351297676366, 75.64504387178201, 82.43816452904241, 91.22540122828232, 119.22391044949063, 141.96544376571302, 183.27606593871187, 233.9765706417416], \"y\": [\"\\u0422\\u043e\\u043c\\u0441\\u043a\\u0430\\u044f \\u043e\\u0431\\u043b\\u0430\\u0441\\u0442\\u044c - \\u0422\\u043e\\u043c\\u0441\\u043a - 2020-11-01\", \"\\u0412\\u043b\\u0430\\u0434\\u0438\\u043c\\u0438\\u0440\\u0441\\u043a\\u0430\\u044f \\u043e\\u0431\\u043b\\u0430\\u0441\\u0442\\u044c - \\u0412\\u043b\\u0430\\u0434\\u0438\\u043c\\u0438\\u0440 - 2020-11-01\", \"\\u041d\\u0438\\u0436\\u0435\\u0433\\u043e\\u0440\\u043e\\u0434\\u0441\\u043a\\u0430\\u044f \\u043e\\u0431\\u043b\\u0430\\u0441\\u0442\\u044c - \\u041d\\u0438\\u0436\\u043d\\u0438\\u0439 \\u041d\\u043e\\u0432\\u0433\\u043e\\u0440\\u043e\\u0434 - 2020-11-01\", \"\\u041e\\u043c\\u0441\\u043a\\u0430\\u044f \\u043e\\u0431\\u043b\\u0430\\u0441\\u0442\\u044c - \\u041e\\u043c\\u0441\\u043a - 2020-11-01\", \"\\u041a\\u0430\\u043b\\u0443\\u0436\\u0441\\u043a\\u0430\\u044f \\u043e\\u0431\\u043b\\u0430\\u0441\\u0442\\u044c - \\u041a\\u0430\\u043b\\u0443\\u0433\\u0430 - 2020-11-01\", \"\\u041d\\u0438\\u0436\\u0435\\u0433\\u043e\\u0440\\u043e\\u0434\\u0441\\u043a\\u0430\\u044f \\u043e\\u0431\\u043b\\u0430\\u0441\\u0442\\u044c - \\u0414\\u0437\\u0435\\u0440\\u0436\\u0438\\u043d\\u0441\\u043a - 2020-11-01\", \"\\u041a\\u0440\\u0430\\u0441\\u043d\\u043e\\u0434\\u0430\\u0440\\u0441\\u043a\\u0438\\u0439 \\u043a\\u0440\\u0430\\u0439 - \\u041a\\u0440\\u0430\\u0441\\u043d\\u043e\\u0434\\u0430\\u0440 - 2020-11-01\", \"\\u041c\\u043e\\u0441\\u043a\\u0432\\u0430 - \\u041c\\u043e\\u0441\\u043a\\u0432\\u0430 - 2020-11-01\", \"\\u041e\\u0440\\u043b\\u043e\\u0432\\u0441\\u043a\\u0430\\u044f \\u043e\\u0431\\u043b\\u0430\\u0441\\u0442\\u044c - \\u041e\\u0440\\u0435\\u043b - 2020-11-01\", \"\\u041d\\u043e\\u0432\\u043e\\u0441\\u0438\\u0431\\u0438\\u0440\\u0441\\u043a\\u0430\\u044f \\u043e\\u0431\\u043b\\u0430\\u0441\\u0442\\u044c - \\u041d\\u043e\\u0432\\u043e\\u0441\\u0438\\u0431\\u0438\\u0440\\u0441\\u043a - 2020-11-01\", \"\\u041c\\u0443\\u0440\\u043c\\u0430\\u043d\\u0441\\u043a\\u0430\\u044f \\u043e\\u0431\\u043b\\u0430\\u0441\\u0442\\u044c - \\u041c\\u0443\\u0440\\u043c\\u0430\\u043d\\u0441\\u043a - 2020-11-01\", \"\\u041c\\u043e\\u0441\\u043a\\u043e\\u0432\\u0441\\u043a\\u0430\\u044f \\u043e\\u0431\\u043b\\u0430\\u0441\\u0442\\u044c - \\u041a\\u043e\\u0440\\u043e\\u043b\\u0435\\u0432 - 2020-11-01\", \"\\u0421\\u0432\\u0435\\u0440\\u0434\\u043b\\u043e\\u0432\\u0441\\u043a\\u0430\\u044f \\u043e\\u0431\\u043b\\u0430\\u0441\\u0442\\u044c - \\u0415\\u043a\\u0430\\u0442\\u0435\\u0440\\u0438\\u043d\\u0431\\u0443\\u0440\\u0433 - 2020-11-01\", \"\\u041a\\u0435\\u043c\\u0435\\u0440\\u043e\\u0432\\u0441\\u043a\\u0430\\u044f \\u043e\\u0431\\u043b\\u0430\\u0441\\u0442\\u044c - \\u041d\\u043e\\u0432\\u043e\\u043a\\u0443\\u0437\\u043d\\u0435\\u0446\\u043a - 2020-11-01\", \"\\u041a\\u0440\\u0430\\u0441\\u043d\\u043e\\u044f\\u0440\\u0441\\u043a\\u0438\\u0439 \\u043a\\u0440\\u0430\\u0439 - \\u041a\\u0440\\u0430\\u0441\\u043d\\u043e\\u044f\\u0440\\u0441\\u043a - 2020-11-01\", \"\\u0425\\u0430\\u043d\\u0442\\u044b-\\u041c\\u0430\\u043d\\u0441\\u0438\\u0439\\u0441\\u043a\\u0438\\u0439 \\u0430\\u0432\\u0442\\u043e\\u043d... - \\u041d\\u0438\\u0436\\u043d\\u0435\\u0432\\u0430\\u0440\\u0442\\u043e\\u0432\\u0441\\u043a - 2020-11-01\", \"\\u041a\\u0435\\u043c\\u0435\\u0440\\u043e\\u0432\\u0441\\u043a\\u0430\\u044f \\u043e\\u0431\\u043b\\u0430\\u0441\\u0442\\u044c - \\u041a\\u0435\\u043c\\u0435\\u0440\\u043e\\u0432\\u043e - 2020-11-01\", \"\\u0418\\u0432\\u0430\\u043d\\u043e\\u0432\\u0441\\u043a\\u0430\\u044f \\u043e\\u0431\\u043b\\u0430\\u0441\\u0442\\u044c - \\u0418\\u0432\\u0430\\u043d\\u043e\\u0432\\u043e - 2020-11-01\", \"\\u0410\\u043b\\u0442\\u0430\\u0439\\u0441\\u043a\\u0438\\u0439 \\u043a\\u0440\\u0430\\u0439 - \\u0411\\u0430\\u0440\\u043d\\u0430\\u0443\\u043b - 2020-11-01\", \"\\u042f\\u0440\\u043e\\u0441\\u043b\\u0430\\u0432\\u0441\\u043a\\u0430\\u044f \\u043e\\u0431\\u043b\\u0430\\u0441\\u0442\\u044c - \\u042f\\u0440\\u043e\\u0441\\u043b\\u0430\\u0432\\u043b\\u044c - 2020-11-01\"]}, {\"marker\": {\"color\": [\"rgba(255,  40,  80, 0.7)\", \"rgba(210,  50, 120, 0.7)\", \"rgba(210, 120, 255, 0.7)\", \"rgba(160, 100, 255, 0.7)\", \"rgba(150,   0, 255, 0.7)\", \"rgba(105,  25, 255, 0.7)\", \"rgba( 45, 120, 255, 0.7)\", \"rgba(115, 200, 255, 0.7)\", \"rgba(120, 220, 225, 0.7)\", \"rgba(100, 255, 200, 0.7)\", \"rgba( 20, 220,  80, 0.7)\", \"rgba(  0, 150,  60, 0.7)\", \"rgba(100, 255,   0, 0.7)\", \"rgba(200, 255,   0, 0.7)\", \"rgba(255, 255,  35, 0.7)\", \"rgba(255, 225,   0, 0.7)\", \"rgba(255, 155,   0, 0.7)\", \"rgba(255, 105,   0, 0.7)\", \"rgba(255,  50,   0, 0.7)\", \"rgba(255,   0,   0, 0.7)\"], \"line\": {\"color\": [\"rgb(255,  40,  80)\", \"rgb(210,  50, 120)\", \"rgb(210, 120, 255)\", \"rgb(160, 100, 255)\", \"rgb(150,   0, 255)\", \"rgb(105,  25, 255)\", \"rgb( 45, 120, 255)\", \"rgb(115, 200, 255)\", \"rgb(120, 220, 225)\", \"rgb(100, 255, 200)\", \"rgb( 20, 220,  80)\", \"rgb(  0, 150,  60)\", \"rgb(100, 255,   0)\", \"rgb(200, 255,   0)\", \"rgb(255, 255,  35)\", \"rgb(255, 225,   0)\", \"rgb(255, 155,   0)\", \"rgb(255, 105,   0)\", \"rgb(255,  50,   0)\", \"rgb(255,   0,   0)\"], \"width\": 1}}, \"orientation\": \"h\", \"outsidetextfont\": {\"color\": \"red\", \"size\": 12}, \"textposition\": \"outside\", \"texttemplate\": \"%{x:.2f}\", \"type\": \"bar\", \"visible\": false, \"x\": [6.0413019656861335, 6.477524443387936, 7.062906943401088, 7.556418529931511, 11.477456093682763, 20.568875191594355, 23.409624063172515, 33.28293786273068, 37.622903175233404, 42.35464052956596, 42.68582444074977, 43.24475069181359, 47.01974767641614, 61.99164665966038, 65.74344905374318, 66.5145788334187, 80.07123523963718, 80.17773412959005, 93.02825831852923, 143.5090605081274], \"y\": [\"\\u0421\\u0430\\u043c\\u0430\\u0440\\u0441\\u043a\\u0430\\u044f \\u043e\\u0431\\u043b\\u0430\\u0441\\u0442\\u044c - \\u0421\\u0430\\u043c\\u0430\\u0440\\u0430 - 2020-12-01\", \"\\u042f\\u0440\\u043e\\u0441\\u043b\\u0430\\u0432\\u0441\\u043a\\u0430\\u044f \\u043e\\u0431\\u043b\\u0430\\u0441\\u0442\\u044c - \\u042f\\u0440\\u043e\\u0441\\u043b\\u0430\\u0432\\u043b\\u044c - 2020-12-01\", \"\\u0427\\u0435\\u043b\\u044f\\u0431\\u0438\\u043d\\u0441\\u043a\\u0430\\u044f \\u043e\\u0431\\u043b\\u0430\\u0441\\u0442\\u044c - \\u0427\\u0435\\u043b\\u044f\\u0431\\u0438\\u043d\\u0441\\u043a - 2020-12-01\", \"\\u0418\\u0440\\u043a\\u0443\\u0442\\u0441\\u043a\\u0430\\u044f \\u043e\\u0431\\u043b\\u0430\\u0441\\u0442\\u044c - \\u0411\\u0440\\u0430\\u0442\\u0441\\u043a - 2020-12-01\", \"\\u041d\\u0438\\u0436\\u0435\\u0433\\u043e\\u0440\\u043e\\u0434\\u0441\\u043a\\u0430\\u044f \\u043e\\u0431\\u043b\\u0430\\u0441\\u0442\\u044c - \\u041d\\u0438\\u0436\\u043d\\u0438\\u0439 \\u041d\\u043e\\u0432\\u0433\\u043e\\u0440\\u043e\\u0434 - 2020-12-01\", \"\\u041e\\u043c\\u0441\\u043a\\u0430\\u044f \\u043e\\u0431\\u043b\\u0430\\u0441\\u0442\\u044c - \\u041e\\u043c\\u0441\\u043a - 2020-12-01\", \"\\u041a\\u0430\\u043b\\u0443\\u0436\\u0441\\u043a\\u0430\\u044f \\u043e\\u0431\\u043b\\u0430\\u0441\\u0442\\u044c - \\u041a\\u0430\\u043b\\u0443\\u0433\\u0430 - 2020-12-01\", \"\\u041a\\u0440\\u0430\\u0441\\u043d\\u043e\\u0434\\u0430\\u0440\\u0441\\u043a\\u0438\\u0439 \\u043a\\u0440\\u0430\\u0439 - \\u041a\\u0440\\u0430\\u0441\\u043d\\u043e\\u0434\\u0430\\u0440 - 2020-12-01\", \"\\u0422\\u043e\\u043c\\u0441\\u043a\\u0430\\u044f \\u043e\\u0431\\u043b\\u0430\\u0441\\u0442\\u044c - \\u0422\\u043e\\u043c\\u0441\\u043a - 2020-12-01\", \"\\u041e\\u0440\\u043b\\u043e\\u0432\\u0441\\u043a\\u0430\\u044f \\u043e\\u0431\\u043b\\u0430\\u0441\\u0442\\u044c - \\u041e\\u0440\\u0435\\u043b - 2020-12-01\", \"\\u0421\\u0432\\u0435\\u0440\\u0434\\u043b\\u043e\\u0432\\u0441\\u043a\\u0430\\u044f \\u043e\\u0431\\u043b\\u0430\\u0441\\u0442\\u044c - \\u0415\\u043a\\u0430\\u0442\\u0435\\u0440\\u0438\\u043d\\u0431\\u0443\\u0440\\u0433 - 2020-12-01\", \"\\u041c\\u0443\\u0440\\u043c\\u0430\\u043d\\u0441\\u043a\\u0430\\u044f \\u043e\\u0431\\u043b\\u0430\\u0441\\u0442\\u044c - \\u041c\\u0443\\u0440\\u043c\\u0430\\u043d\\u0441\\u043a - 2020-12-01\", \"\\u041c\\u043e\\u0441\\u043a\\u043e\\u0432\\u0441\\u043a\\u0430\\u044f \\u043e\\u0431\\u043b\\u0430\\u0441\\u0442\\u044c - \\u041a\\u043e\\u0440\\u043e\\u043b\\u0435\\u0432 - 2020-12-01\", \"\\u041d\\u043e\\u0432\\u043e\\u0441\\u0438\\u0431\\u0438\\u0440\\u0441\\u043a\\u0430\\u044f \\u043e\\u0431\\u043b\\u0430\\u0441\\u0442\\u044c - \\u041d\\u043e\\u0432\\u043e\\u0441\\u0438\\u0431\\u0438\\u0440\\u0441\\u043a - 2020-12-01\", \"\\u041c\\u043e\\u0441\\u043a\\u0432\\u0430 - \\u041c\\u043e\\u0441\\u043a\\u0432\\u0430 - 2020-12-01\", \"\\u041a\\u0440\\u0430\\u0441\\u043d\\u043e\\u044f\\u0440\\u0441\\u043a\\u0438\\u0439 \\u043a\\u0440\\u0430\\u0439 - \\u041a\\u0440\\u0430\\u0441\\u043d\\u043e\\u044f\\u0440\\u0441\\u043a - 2020-12-01\", \"\\u041a\\u0435\\u043c\\u0435\\u0440\\u043e\\u0432\\u0441\\u043a\\u0430\\u044f \\u043e\\u0431\\u043b\\u0430\\u0441\\u0442\\u044c - \\u041a\\u0435\\u043c\\u0435\\u0440\\u043e\\u0432\\u043e - 2020-12-01\", \"\\u0425\\u0430\\u043d\\u0442\\u044b-\\u041c\\u0430\\u043d\\u0441\\u0438\\u0439\\u0441\\u043a\\u0438\\u0439 \\u0430\\u0432\\u0442\\u043e\\u043d... - \\u041d\\u0438\\u0436\\u043d\\u0435\\u0432\\u0430\\u0440\\u0442\\u043e\\u0432\\u0441\\u043a - 2020-12-01\", \"\\u0421\\u0430\\u043d\\u043a\\u0442-\\u041f\\u0435\\u0442\\u0435\\u0440\\u0431\\u0443\\u0440\\u0433 - \\u0421\\u0430\\u043d\\u043a\\u0442-\\u041f\\u0435\\u0442\\u0435\\u0440\\u0431\\u0443\\u0440\\u0433 - 2020-12-01\", \"\\u041a\\u0435\\u043c\\u0435\\u0440\\u043e\\u0432\\u0441\\u043a\\u0430\\u044f \\u043e\\u0431\\u043b\\u0430\\u0441\\u0442\\u044c - \\u041d\\u043e\\u0432\\u043e\\u043a\\u0443\\u0437\\u043d\\u0435\\u0446\\u043a - 2020-12-01\"]}, {\"marker\": {\"color\": [\"rgba(255,  40,  80, 0.7)\", \"rgba(210,  50, 120, 0.7)\", \"rgba(210, 120, 255, 0.7)\", \"rgba(160, 100, 255, 0.7)\", \"rgba(150,   0, 255, 0.7)\", \"rgba(105,  25, 255, 0.7)\", \"rgba( 45, 120, 255, 0.7)\", \"rgba(115, 200, 255, 0.7)\", \"rgba(120, 220, 225, 0.7)\", \"rgba(100, 255, 200, 0.7)\", \"rgba( 20, 220,  80, 0.7)\", \"rgba(  0, 150,  60, 0.7)\", \"rgba(100, 255,   0, 0.7)\", \"rgba(200, 255,   0, 0.7)\", \"rgba(255, 255,  35, 0.7)\", \"rgba(255, 225,   0, 0.7)\", \"rgba(255, 155,   0, 0.7)\", \"rgba(255, 105,   0, 0.7)\", \"rgba(255,  50,   0, 0.7)\", \"rgba(255,   0,   0, 0.7)\"], \"line\": {\"color\": [\"rgb(255,  40,  80)\", \"rgb(210,  50, 120)\", \"rgb(210, 120, 255)\", \"rgb(160, 100, 255)\", \"rgb(150,   0, 255)\", \"rgb(105,  25, 255)\", \"rgb( 45, 120, 255)\", \"rgb(115, 200, 255)\", \"rgb(120, 220, 225)\", \"rgb(100, 255, 200)\", \"rgb( 20, 220,  80)\", \"rgb(  0, 150,  60)\", \"rgb(100, 255,   0)\", \"rgb(200, 255,   0)\", \"rgb(255, 255,  35)\", \"rgb(255, 225,   0)\", \"rgb(255, 155,   0)\", \"rgb(255, 105,   0)\", \"rgb(255,  50,   0)\", \"rgb(255,   0,   0)\"], \"width\": 1}}, \"orientation\": \"h\", \"outsidetextfont\": {\"color\": \"red\", \"size\": 12}, \"textposition\": \"outside\", \"texttemplate\": \"%{x:.2f}\", \"type\": \"bar\", \"visible\": false, \"x\": [4.0167976902649745, 4.050330323729792, 4.057507095200201, 4.187985351409308, 4.2132083572574075, 4.382094348829232, 4.8703625363706005, 5.10846809353981, 5.691004616659544, 6.7570685890449464, 8.131094105323006, 14.390359990001434, 16.331551934529074, 23.86163085592023, 32.228652822179534, 40.56398207256446, 42.71664363233684, 43.00402904789696, 46.6626021680426, 184.17354700083516], \"y\": [\"\\u0420\\u0435\\u0441\\u043f\\u0443\\u0431\\u043b\\u0438\\u043a\\u0430 \\u0411\\u0430\\u0448\\u043a\\u043e\\u0440\\u0442\\u043e\\u0441\\u0442\\u0430\\u043d - \\u0423\\u0444\\u0430 - 2021-01-01\", \"\\u0427\\u0435\\u043b\\u044f\\u0431\\u0438\\u043d\\u0441\\u043a\\u0430\\u044f \\u043e\\u0431\\u043b\\u0430\\u0441\\u0442\\u044c - \\u041c\\u0430\\u0433\\u043d\\u0438\\u0442\\u043e\\u0433\\u043e\\u0440\\u0441\\u043a - 2021-01-01\", \"\\u0421\\u0430\\u043c\\u0430\\u0440\\u0441\\u043a\\u0430\\u044f \\u043e\\u0431\\u043b\\u0430\\u0441\\u0442\\u044c - \\u0422\\u043e\\u043b\\u044c\\u044f\\u0442\\u0442\\u0438 - 2021-01-01\", \"\\u0420\\u0435\\u0441\\u043f\\u0443\\u0431\\u043b\\u0438\\u043a\\u0430 \\u041a\\u043e\\u043c\\u0438 - \\u0421\\u044b\\u043a\\u0442\\u044b\\u0432\\u043a\\u0430\\u0440 - 2021-01-01\", \"\\u0420\\u0435\\u0441\\u043f\\u0443\\u0431\\u043b\\u0438\\u043a\\u0430 \\u0411\\u0443\\u0440\\u044f\\u0442\\u0438\\u044f - \\u0423\\u043b\\u0430\\u043d-\\u0423\\u0434\\u044d - 2021-01-01\", \"\\u0420\\u0435\\u0441\\u043f\\u0443\\u0431\\u043b\\u0438\\u043a\\u0430 \\u0422\\u0430\\u0442\\u0430\\u0440\\u0441\\u0442\\u0430\\u043d - \\u041d\\u0430\\u0431\\u0435\\u0440\\u0435\\u0436\\u043d\\u044b\\u0435 \\u0427\\u0435\\u043b\\u043d\\u044b - 2021-01-01\", \"\\u0412\\u043b\\u0430\\u0434\\u0438\\u043c\\u0438\\u0440\\u0441\\u043a\\u0430\\u044f \\u043e\\u0431\\u043b\\u0430\\u0441\\u0442\\u044c - \\u0412\\u043b\\u0430\\u0434\\u0438\\u043c\\u0438\\u0440 - 2021-01-01\", \"\\u041a\\u0440\\u0430\\u0441\\u043d\\u043e\\u0434\\u0430\\u0440\\u0441\\u043a\\u0438\\u0439 \\u043a\\u0440\\u0430\\u0439 - \\u0421\\u043e\\u0447\\u0438 - 2021-01-01\", \"\\u0422\\u043e\\u043c\\u0441\\u043a\\u0430\\u044f \\u043e\\u0431\\u043b\\u0430\\u0441\\u0442\\u044c - \\u0422\\u043e\\u043c\\u0441\\u043a - 2021-01-01\", \"\\u0421\\u0430\\u043c\\u0430\\u0440\\u0441\\u043a\\u0430\\u044f \\u043e\\u0431\\u043b\\u0430\\u0441\\u0442\\u044c - \\u0421\\u0430\\u043c\\u0430\\u0440\\u0430 - 2021-01-01\", \"\\u0418\\u0440\\u043a\\u0443\\u0442\\u0441\\u043a\\u0430\\u044f \\u043e\\u0431\\u043b\\u0430\\u0441\\u0442\\u044c - \\u0411\\u0440\\u0430\\u0442\\u0441\\u043a - 2021-01-01\", \"\\u041d\\u0438\\u0436\\u0435\\u0433\\u043e\\u0440\\u043e\\u0434\\u0441\\u043a\\u0430\\u044f \\u043e\\u0431\\u043b\\u0430\\u0441\\u0442\\u044c - \\u0414\\u0437\\u0435\\u0440\\u0436\\u0438\\u043d\\u0441\\u043a - 2021-01-01\", \"\\u041d\\u0438\\u0436\\u0435\\u0433\\u043e\\u0440\\u043e\\u0434\\u0441\\u043a\\u0430\\u044f \\u043e\\u0431\\u043b\\u0430\\u0441\\u0442\\u044c - \\u041d\\u0438\\u0436\\u043d\\u0438\\u0439 \\u041d\\u043e\\u0432\\u0433\\u043e\\u0440\\u043e\\u0434 - 2021-01-01\", \"\\u041a\\u0430\\u043b\\u0443\\u0436\\u0441\\u043a\\u0430\\u044f \\u043e\\u0431\\u043b\\u0430\\u0441\\u0442\\u044c - \\u041a\\u0430\\u043b\\u0443\\u0433\\u0430 - 2021-01-01\", \"\\u041a\\u0440\\u0430\\u0441\\u043d\\u043e\\u0434\\u0430\\u0440\\u0441\\u043a\\u0438\\u0439 \\u043a\\u0440\\u0430\\u0439 - \\u041a\\u0440\\u0430\\u0441\\u043d\\u043e\\u0434\\u0430\\u0440 - 2021-01-01\", \"\\u0421\\u0432\\u0435\\u0440\\u0434\\u043b\\u043e\\u0432\\u0441\\u043a\\u0430\\u044f \\u043e\\u0431\\u043b\\u0430\\u0441\\u0442\\u044c - \\u0415\\u043a\\u0430\\u0442\\u0435\\u0440\\u0438\\u043d\\u0431\\u0443\\u0440\\u0433 - 2021-01-01\", \"\\u041c\\u0443\\u0440\\u043c\\u0430\\u043d\\u0441\\u043a\\u0430\\u044f \\u043e\\u0431\\u043b\\u0430\\u0441\\u0442\\u044c - \\u041c\\u0443\\u0440\\u043c\\u0430\\u043d\\u0441\\u043a - 2021-01-01\", \"\\u041e\\u0440\\u043b\\u043e\\u0432\\u0441\\u043a\\u0430\\u044f \\u043e\\u0431\\u043b\\u0430\\u0441\\u0442\\u044c - \\u041e\\u0440\\u0435\\u043b - 2021-01-01\", \"\\u041c\\u043e\\u0441\\u043a\\u043e\\u0432\\u0441\\u043a\\u0430\\u044f \\u043e\\u0431\\u043b\\u0430\\u0441\\u0442\\u044c - \\u041a\\u043e\\u0440\\u043e\\u043b\\u0435\\u0432 - 2021-01-01\", \"\\u041e\\u043c\\u0441\\u043a\\u0430\\u044f \\u043e\\u0431\\u043b\\u0430\\u0441\\u0442\\u044c - \\u041e\\u043c\\u0441\\u043a - 2021-01-01\"]}, {\"marker\": {\"color\": [\"rgba(255,  40,  80, 0.7)\", \"rgba(210,  50, 120, 0.7)\", \"rgba(210, 120, 255, 0.7)\", \"rgba(160, 100, 255, 0.7)\", \"rgba(150,   0, 255, 0.7)\", \"rgba(105,  25, 255, 0.7)\", \"rgba( 45, 120, 255, 0.7)\", \"rgba(115, 200, 255, 0.7)\", \"rgba(120, 220, 225, 0.7)\", \"rgba(100, 255, 200, 0.7)\", \"rgba( 20, 220,  80, 0.7)\", \"rgba(  0, 150,  60, 0.7)\", \"rgba(100, 255,   0, 0.7)\", \"rgba(200, 255,   0, 0.7)\", \"rgba(255, 255,  35, 0.7)\", \"rgba(255, 225,   0, 0.7)\", \"rgba(255, 155,   0, 0.7)\", \"rgba(255, 105,   0, 0.7)\", \"rgba(255,  50,   0, 0.7)\", \"rgba(255,   0,   0, 0.7)\"], \"line\": {\"color\": [\"rgb(255,  40,  80)\", \"rgb(210,  50, 120)\", \"rgb(210, 120, 255)\", \"rgb(160, 100, 255)\", \"rgb(150,   0, 255)\", \"rgb(105,  25, 255)\", \"rgb( 45, 120, 255)\", \"rgb(115, 200, 255)\", \"rgb(120, 220, 225)\", \"rgb(100, 255, 200)\", \"rgb( 20, 220,  80)\", \"rgb(  0, 150,  60)\", \"rgb(100, 255,   0)\", \"rgb(200, 255,   0)\", \"rgb(255, 255,  35)\", \"rgb(255, 225,   0)\", \"rgb(255, 155,   0)\", \"rgb(255, 105,   0)\", \"rgb(255,  50,   0)\", \"rgb(255,   0,   0)\"], \"width\": 1}}, \"orientation\": \"h\", \"outsidetextfont\": {\"color\": \"red\", \"size\": 12}, \"textposition\": \"outside\", \"texttemplate\": \"%{x:.2f}\", \"type\": \"bar\", \"visible\": false, \"x\": [3.809624741755539, 3.8325487394151296, 4.120246951825551, 4.1504014762038555, 4.765653489380647, 4.980400648207159, 5.0520585203860655, 5.615585712904608, 6.721444453316367, 6.9690737944694465, 7.168420255882227, 8.818669527721488, 9.922667172059251, 23.31609841469075, 32.29090629775854, 42.930046705969644, 42.970704428072274, 43.72384021083109, 46.770258309308275, 128.82146125439863], \"y\": [\"\\u0423\\u0434\\u043c\\u0443\\u0440\\u0442\\u0441\\u043a\\u0430\\u044f \\u0420\\u0435\\u0441\\u043f\\u0443\\u0431\\u043b\\u0438\\u043a\\u0430 - \\u0418\\u0436\\u0435\\u0432\\u0441\\u043a - 2021-02-01\", \"\\u041e\\u0440\\u0435\\u043d\\u0431\\u0443\\u0440\\u0433\\u0441\\u043a\\u0430\\u044f \\u043e\\u0431\\u043b\\u0430\\u0441\\u0442\\u044c - \\u041e\\u0440\\u0435\\u043d\\u0431\\u0443\\u0440\\u0433 - 2021-02-01\", \"\\u0420\\u0435\\u0441\\u043f\\u0443\\u0431\\u043b\\u0438\\u043a\\u0430 \\u0411\\u0430\\u0448\\u043a\\u043e\\u0440\\u0442\\u043e\\u0441\\u0442\\u0430\\u043d - \\u0423\\u0444\\u0430 - 2021-02-01\", \"\\u041d\\u0438\\u0436\\u0435\\u0433\\u043e\\u0440\\u043e\\u0434\\u0441\\u043a\\u0430\\u044f \\u043e\\u0431\\u043b\\u0430\\u0441\\u0442\\u044c - \\u041d\\u0438\\u0436\\u043d\\u0438\\u0439 \\u041d\\u043e\\u0432\\u0433\\u043e\\u0440\\u043e\\u0434 - 2021-02-01\", \"\\u0421\\u0430\\u043c\\u0430\\u0440\\u0441\\u043a\\u0430\\u044f \\u043e\\u0431\\u043b\\u0430\\u0441\\u0442\\u044c - \\u0422\\u043e\\u043b\\u044c\\u044f\\u0442\\u0442\\u0438 - 2021-02-01\", \"\\u0412\\u043b\\u0430\\u0434\\u0438\\u043c\\u0438\\u0440\\u0441\\u043a\\u0430\\u044f \\u043e\\u0431\\u043b\\u0430\\u0441\\u0442\\u044c - \\u0412\\u043b\\u0430\\u0434\\u0438\\u043c\\u0438\\u0440 - 2021-02-01\", \"\\u0427\\u0435\\u043b\\u044f\\u0431\\u0438\\u043d\\u0441\\u043a\\u0430\\u044f \\u043e\\u0431\\u043b\\u0430\\u0441\\u0442\\u044c - \\u0427\\u0435\\u043b\\u044f\\u0431\\u0438\\u043d\\u0441\\u043a - 2021-02-01\", \"\\u0422\\u043e\\u043c\\u0441\\u043a\\u0430\\u044f \\u043e\\u0431\\u043b\\u0430\\u0441\\u0442\\u044c - \\u0422\\u043e\\u043c\\u0441\\u043a - 2021-02-01\", \"\\u041d\\u0438\\u0436\\u0435\\u0433\\u043e\\u0440\\u043e\\u0434\\u0441\\u043a\\u0430\\u044f \\u043e\\u0431\\u043b\\u0430\\u0441\\u0442\\u044c - \\u0414\\u0437\\u0435\\u0440\\u0436\\u0438\\u043d\\u0441\\u043a - 2021-02-01\", \"\\u041a\\u0440\\u0430\\u0441\\u043d\\u043e\\u0434\\u0430\\u0440\\u0441\\u043a\\u0438\\u0439 \\u043a\\u0440\\u0430\\u0439 - \\u0421\\u043e\\u0447\\u0438 - 2021-02-01\", \"\\u0421\\u0430\\u043c\\u0430\\u0440\\u0441\\u043a\\u0430\\u044f \\u043e\\u0431\\u043b\\u0430\\u0441\\u0442\\u044c - \\u0421\\u0430\\u043c\\u0430\\u0440\\u0430 - 2021-02-01\", \"\\u0418\\u0440\\u043a\\u0443\\u0442\\u0441\\u043a\\u0430\\u044f \\u043e\\u0431\\u043b\\u0430\\u0441\\u0442\\u044c - \\u0411\\u0440\\u0430\\u0442\\u0441\\u043a - 2021-02-01\", \"\\u0425\\u0430\\u043d\\u0442\\u044b-\\u041c\\u0430\\u043d\\u0441\\u0438\\u0439\\u0441\\u043a\\u0438\\u0439 \\u0430\\u0432\\u0442\\u043e\\u043d... - \\u041d\\u0438\\u0436\\u043d\\u0435\\u0432\\u0430\\u0440\\u0442\\u043e\\u0432\\u0441\\u043a - 2021-02-01\", \"\\u041a\\u0430\\u043b\\u0443\\u0436\\u0441\\u043a\\u0430\\u044f \\u043e\\u0431\\u043b\\u0430\\u0441\\u0442\\u044c - \\u041a\\u0430\\u043b\\u0443\\u0433\\u0430 - 2021-02-01\", \"\\u041a\\u0440\\u0430\\u0441\\u043d\\u043e\\u0434\\u0430\\u0440\\u0441\\u043a\\u0438\\u0439 \\u043a\\u0440\\u0430\\u0439 - \\u041a\\u0440\\u0430\\u0441\\u043d\\u043e\\u0434\\u0430\\u0440 - 2021-02-01\", \"\\u0421\\u0432\\u0435\\u0440\\u0434\\u043b\\u043e\\u0432\\u0441\\u043a\\u0430\\u044f \\u043e\\u0431\\u043b\\u0430\\u0441\\u0442\\u044c - \\u0415\\u043a\\u0430\\u0442\\u0435\\u0440\\u0438\\u043d\\u0431\\u0443\\u0440\\u0433 - 2021-02-01\", \"\\u041c\\u0443\\u0440\\u043c\\u0430\\u043d\\u0441\\u043a\\u0430\\u044f \\u043e\\u0431\\u043b\\u0430\\u0441\\u0442\\u044c - \\u041c\\u0443\\u0440\\u043c\\u0430\\u043d\\u0441\\u043a - 2021-02-01\", \"\\u041e\\u0440\\u043b\\u043e\\u0432\\u0441\\u043a\\u0430\\u044f \\u043e\\u0431\\u043b\\u0430\\u0441\\u0442\\u044c - \\u041e\\u0440\\u0435\\u043b - 2021-02-01\", \"\\u041c\\u043e\\u0441\\u043a\\u043e\\u0432\\u0441\\u043a\\u0430\\u044f \\u043e\\u0431\\u043b\\u0430\\u0441\\u0442\\u044c - \\u041a\\u043e\\u0440\\u043e\\u043b\\u0435\\u0432 - 2021-02-01\", \"\\u041e\\u043c\\u0441\\u043a\\u0430\\u044f \\u043e\\u0431\\u043b\\u0430\\u0441\\u0442\\u044c - \\u041e\\u043c\\u0441\\u043a - 2021-02-01\"]}, {\"marker\": {\"color\": [\"rgba(255,  40,  80, 0.7)\", \"rgba(210,  50, 120, 0.7)\", \"rgba(210, 120, 255, 0.7)\", \"rgba(160, 100, 255, 0.7)\", \"rgba(150,   0, 255, 0.7)\", \"rgba(105,  25, 255, 0.7)\", \"rgba( 45, 120, 255, 0.7)\", \"rgba(115, 200, 255, 0.7)\", \"rgba(120, 220, 225, 0.7)\", \"rgba(100, 255, 200, 0.7)\", \"rgba( 20, 220,  80, 0.7)\", \"rgba(  0, 150,  60, 0.7)\", \"rgba(100, 255,   0, 0.7)\", \"rgba(200, 255,   0, 0.7)\", \"rgba(255, 255,  35, 0.7)\", \"rgba(255, 225,   0, 0.7)\", \"rgba(255, 155,   0, 0.7)\", \"rgba(255, 105,   0, 0.7)\", \"rgba(255,  50,   0, 0.7)\", \"rgba(255,   0,   0, 0.7)\"], \"line\": {\"color\": [\"rgb(255,  40,  80)\", \"rgb(210,  50, 120)\", \"rgb(210, 120, 255)\", \"rgb(160, 100, 255)\", \"rgb(150,   0, 255)\", \"rgb(105,  25, 255)\", \"rgb( 45, 120, 255)\", \"rgb(115, 200, 255)\", \"rgb(120, 220, 225)\", \"rgb(100, 255, 200)\", \"rgb( 20, 220,  80)\", \"rgb(  0, 150,  60)\", \"rgb(100, 255,   0)\", \"rgb(200, 255,   0)\", \"rgb(255, 255,  35)\", \"rgb(255, 225,   0)\", \"rgb(255, 155,   0)\", \"rgb(255, 105,   0)\", \"rgb(255,  50,   0)\", \"rgb(255,   0,   0)\"], \"width\": 1}}, \"orientation\": \"h\", \"outsidetextfont\": {\"color\": \"red\", \"size\": 12}, \"textposition\": \"outside\", \"texttemplate\": \"%{x:.2f}\", \"type\": \"bar\", \"visible\": false, \"x\": [3.6915581802654502, 4.078802853242961, 4.081021748079092, 4.347869489904751, 4.406656835213932, 4.4190008591670535, 4.969393663431547, 5.567605471891785, 5.72127836950845, 5.917650575791835, 8.16591488832512, 11.191501080411273, 13.850930602002974, 23.253124387614374, 31.860809589375123, 33.13957396206307, 42.612525333528524, 43.23407265016551, 46.533434740962484, 48.78986796035827], \"y\": [\"\\u0420\\u0435\\u0441\\u043f\\u0443\\u0431\\u043b\\u0438\\u043a\\u0430 \\u0411\\u0430\\u0448\\u043a\\u043e\\u0440\\u0442\\u043e\\u0441\\u0442\\u0430\\u043d - \\u0423\\u0444\\u0430 - 2021-03-01\", \"\\u041d\\u0438\\u0436\\u0435\\u0433\\u043e\\u0440\\u043e\\u0434\\u0441\\u043a\\u0430\\u044f \\u043e\\u0431\\u043b\\u0430\\u0441\\u0442\\u044c - \\u041d\\u0438\\u0436\\u043d\\u0438\\u0439 \\u041d\\u043e\\u0432\\u0433\\u043e\\u0440\\u043e\\u0434 - 2021-03-01\", \"\\u0411\\u0440\\u044f\\u043d\\u0441\\u043a\\u0430\\u044f \\u043e\\u0431\\u043b\\u0430\\u0441\\u0442\\u044c - \\u0411\\u0440\\u044f\\u043d\\u0441\\u043a - 2021-03-01\", \"\\u0423\\u0434\\u043c\\u0443\\u0440\\u0442\\u0441\\u043a\\u0430\\u044f \\u0420\\u0435\\u0441\\u043f\\u0443\\u0431\\u043b\\u0438\\u043a\\u0430 - \\u0418\\u0436\\u0435\\u0432\\u0441\\u043a - 2021-03-01\", \"\\u0422\\u044e\\u043c\\u0435\\u043d\\u0441\\u043a\\u0430\\u044f \\u043e\\u0431\\u043b\\u0430\\u0441\\u0442\\u044c - \\u0422\\u044e\\u043c\\u0435\\u043d\\u044c - 2021-03-01\", \"\\u0418\\u0440\\u043a\\u0443\\u0442\\u0441\\u043a\\u0430\\u044f \\u043e\\u0431\\u043b\\u0430\\u0441\\u0442\\u044c - \\u0411\\u0440\\u0430\\u0442\\u0441\\u043a - 2021-03-01\", \"\\u0412\\u043b\\u0430\\u0434\\u0438\\u043c\\u0438\\u0440\\u0441\\u043a\\u0430\\u044f \\u043e\\u0431\\u043b\\u0430\\u0441\\u0442\\u044c - \\u0412\\u043b\\u0430\\u0434\\u0438\\u043c\\u0438\\u0440 - 2021-03-01\", \"\\u0421\\u0430\\u043c\\u0430\\u0440\\u0441\\u043a\\u0430\\u044f \\u043e\\u0431\\u043b\\u0430\\u0441\\u0442\\u044c - \\u0422\\u043e\\u043b\\u044c\\u044f\\u0442\\u0442\\u0438 - 2021-03-01\", \"\\u0422\\u043e\\u043c\\u0441\\u043a\\u0430\\u044f \\u043e\\u0431\\u043b\\u0430\\u0441\\u0442\\u044c - \\u0422\\u043e\\u043c\\u0441\\u043a - 2021-03-01\", \"\\u0421\\u0430\\u043c\\u0430\\u0440\\u0441\\u043a\\u0430\\u044f \\u043e\\u0431\\u043b\\u0430\\u0441\\u0442\\u044c - \\u0421\\u0430\\u043c\\u0430\\u0440\\u0430 - 2021-03-01\", \"\\u041a\\u0440\\u0430\\u0441\\u043d\\u043e\\u0434\\u0430\\u0440\\u0441\\u043a\\u0438\\u0439 \\u043a\\u0440\\u0430\\u0439 - \\u0421\\u043e\\u0447\\u0438 - 2021-03-01\", \"\\u0425\\u0430\\u043d\\u0442\\u044b-\\u041c\\u0430\\u043d\\u0441\\u0438\\u0439\\u0441\\u043a\\u0438\\u0439 \\u0430\\u0432\\u0442\\u043e\\u043d... - \\u041d\\u0438\\u0436\\u043d\\u0435\\u0432\\u0430\\u0440\\u0442\\u043e\\u0432\\u0441\\u043a - 2021-03-01\", \"\\u0427\\u0435\\u043b\\u044f\\u0431\\u0438\\u043d\\u0441\\u043a\\u0430\\u044f \\u043e\\u0431\\u043b\\u0430\\u0441\\u0442\\u044c - \\u0427\\u0435\\u043b\\u044f\\u0431\\u0438\\u043d\\u0441\\u043a - 2021-03-01\", \"\\u041a\\u0430\\u043b\\u0443\\u0436\\u0441\\u043a\\u0430\\u044f \\u043e\\u0431\\u043b\\u0430\\u0441\\u0442\\u044c - \\u041a\\u0430\\u043b\\u0443\\u0433\\u0430 - 2021-03-01\", \"\\u041a\\u0440\\u0430\\u0441\\u043d\\u043e\\u0434\\u0430\\u0440\\u0441\\u043a\\u0438\\u0439 \\u043a\\u0440\\u0430\\u0439 - \\u041a\\u0440\\u0430\\u0441\\u043d\\u043e\\u0434\\u0430\\u0440 - 2021-03-01\", \"\\u041e\\u043c\\u0441\\u043a\\u0430\\u044f \\u043e\\u0431\\u043b\\u0430\\u0441\\u0442\\u044c - \\u041e\\u043c\\u0441\\u043a - 2021-03-01\", \"\\u041c\\u0443\\u0440\\u043c\\u0430\\u043d\\u0441\\u043a\\u0430\\u044f \\u043e\\u0431\\u043b\\u0430\\u0441\\u0442\\u044c - \\u041c\\u0443\\u0440\\u043c\\u0430\\u043d\\u0441\\u043a - 2021-03-01\", \"\\u041e\\u0440\\u043b\\u043e\\u0432\\u0441\\u043a\\u0430\\u044f \\u043e\\u0431\\u043b\\u0430\\u0441\\u0442\\u044c - \\u041e\\u0440\\u0435\\u043b - 2021-03-01\", \"\\u041c\\u043e\\u0441\\u043a\\u043e\\u0432\\u0441\\u043a\\u0430\\u044f \\u043e\\u0431\\u043b\\u0430\\u0441\\u0442\\u044c - \\u041a\\u043e\\u0440\\u043e\\u043b\\u0435\\u0432 - 2021-03-01\", \"\\u0421\\u0432\\u0435\\u0440\\u0434\\u043b\\u043e\\u0432\\u0441\\u043a\\u0430\\u044f \\u043e\\u0431\\u043b\\u0430\\u0441\\u0442\\u044c - \\u0415\\u043a\\u0430\\u0442\\u0435\\u0440\\u0438\\u043d\\u0431\\u0443\\u0440\\u0433 - 2021-03-01\"]}],                        {\"height\": 630, \"legend\": {\"orientation\": \"h\", \"traceorder\": \"reversed\", \"x\": 0.5, \"xanchor\": \"center\", \"yanchor\": \"auto\"}, \"margin\": {\"b\": 30, \"l\": 5, \"r\": 5, \"t\": 30}, \"paper_bgcolor\": \"rgb(248, 248, 255)\", \"plot_bgcolor\": \"rgb(248, 248, 255)\", \"sliders\": [{\"active\": 0, \"bgcolor\": \"rgba(0,0,255,0.5)\", \"currentvalue\": {\"prefix\": \"\\u041e\\u0442\\u0447\\u0435\\u0442\\u043d\\u044b\\u0439 \\u043c\\u0435\\u0441\\u044f\\u0446: \"}, \"pad\": {\"t\": 10}, \"steps\": [{\"args\": [{\"visible\": [true, false, false, false, false, false, false, false, false, false, false, false, false, false, false]}], \"method\": \"update\"}, {\"args\": [{\"visible\": [false, true, false, false, false, false, false, false, false, false, false, false, false, false, false]}], \"method\": \"update\"}, {\"args\": [{\"visible\": [false, false, true, false, false, false, false, false, false, false, false, false, false, false, false]}], \"method\": \"update\"}, {\"args\": [{\"visible\": [false, false, false, true, false, false, false, false, false, false, false, false, false, false, false]}], \"method\": \"update\"}, {\"args\": [{\"visible\": [false, false, false, false, true, false, false, false, false, false, false, false, false, false, false]}], \"method\": \"update\"}, {\"args\": [{\"visible\": [false, false, false, false, false, true, false, false, false, false, false, false, false, false, false]}], \"method\": \"update\"}, {\"args\": [{\"visible\": [false, false, false, false, false, false, true, false, false, false, false, false, false, false, false]}], \"method\": \"update\"}, {\"args\": [{\"visible\": [false, false, false, false, false, false, false, true, false, false, false, false, false, false, false]}], \"method\": \"update\"}, {\"args\": [{\"visible\": [false, false, false, false, false, false, false, false, true, false, false, false, false, false, false]}], \"method\": \"update\"}, {\"args\": [{\"visible\": [false, false, false, false, false, false, false, false, false, true, false, false, false, false, false]}], \"method\": \"update\"}, {\"args\": [{\"visible\": [false, false, false, false, false, false, false, false, false, false, true, false, false, false, false]}], \"method\": \"update\"}, {\"args\": [{\"visible\": [false, false, false, false, false, false, false, false, false, false, false, true, false, false, false]}], \"method\": \"update\"}, {\"args\": [{\"visible\": [false, false, false, false, false, false, false, false, false, false, false, false, true, false, false]}], \"method\": \"update\"}, {\"args\": [{\"visible\": [false, false, false, false, false, false, false, false, false, false, false, false, false, true, false]}], \"method\": \"update\"}, {\"args\": [{\"visible\": [false, false, false, false, false, false, false, false, false, false, false, false, false, false, true]}], \"method\": \"update\"}], \"tickcolor\": \"rgb(0,0,255)\", \"ticklen\": 10, \"tickwidth\": 3, \"xanchor\": \"right\"}], \"template\": {\"data\": {\"bar\": [{\"error_x\": {\"color\": \"#2a3f5f\"}, \"error_y\": {\"color\": \"#2a3f5f\"}, \"marker\": {\"line\": {\"color\": \"#E5ECF6\", \"width\": 0.5}}, \"type\": \"bar\"}], \"barpolar\": [{\"marker\": {\"line\": {\"color\": \"#E5ECF6\", \"width\": 0.5}}, \"type\": \"barpolar\"}], \"carpet\": [{\"aaxis\": {\"endlinecolor\": \"#2a3f5f\", \"gridcolor\": \"white\", \"linecolor\": \"white\", \"minorgridcolor\": \"white\", \"startlinecolor\": \"#2a3f5f\"}, \"baxis\": {\"endlinecolor\": \"#2a3f5f\", \"gridcolor\": \"white\", \"linecolor\": \"white\", \"minorgridcolor\": \"white\", \"startlinecolor\": \"#2a3f5f\"}, \"type\": \"carpet\"}], \"choropleth\": [{\"colorbar\": {\"outlinewidth\": 0, \"ticks\": \"\"}, \"type\": \"choropleth\"}], \"contour\": [{\"colorbar\": {\"outlinewidth\": 0, \"ticks\": \"\"}, \"colorscale\": [[0.0, \"#0d0887\"], [0.1111111111111111, \"#46039f\"], [0.2222222222222222, \"#7201a8\"], [0.3333333333333333, \"#9c179e\"], [0.4444444444444444, \"#bd3786\"], [0.5555555555555556, \"#d8576b\"], [0.6666666666666666, \"#ed7953\"], [0.7777777777777778, \"#fb9f3a\"], [0.8888888888888888, \"#fdca26\"], [1.0, \"#f0f921\"]], \"type\": \"contour\"}], \"contourcarpet\": [{\"colorbar\": {\"outlinewidth\": 0, \"ticks\": \"\"}, \"type\": \"contourcarpet\"}], \"heatmap\": [{\"colorbar\": {\"outlinewidth\": 0, \"ticks\": \"\"}, \"colorscale\": [[0.0, \"#0d0887\"], [0.1111111111111111, \"#46039f\"], [0.2222222222222222, \"#7201a8\"], [0.3333333333333333, \"#9c179e\"], [0.4444444444444444, \"#bd3786\"], [0.5555555555555556, \"#d8576b\"], [0.6666666666666666, \"#ed7953\"], [0.7777777777777778, \"#fb9f3a\"], [0.8888888888888888, \"#fdca26\"], [1.0, \"#f0f921\"]], \"type\": \"heatmap\"}], \"heatmapgl\": [{\"colorbar\": {\"outlinewidth\": 0, \"ticks\": \"\"}, \"colorscale\": [[0.0, \"#0d0887\"], [0.1111111111111111, \"#46039f\"], [0.2222222222222222, \"#7201a8\"], [0.3333333333333333, \"#9c179e\"], [0.4444444444444444, \"#bd3786\"], [0.5555555555555556, \"#d8576b\"], [0.6666666666666666, \"#ed7953\"], [0.7777777777777778, \"#fb9f3a\"], [0.8888888888888888, \"#fdca26\"], [1.0, \"#f0f921\"]], \"type\": \"heatmapgl\"}], \"histogram\": [{\"marker\": {\"colorbar\": {\"outlinewidth\": 0, \"ticks\": \"\"}}, \"type\": \"histogram\"}], \"histogram2d\": [{\"colorbar\": {\"outlinewidth\": 0, \"ticks\": \"\"}, \"colorscale\": [[0.0, \"#0d0887\"], [0.1111111111111111, \"#46039f\"], [0.2222222222222222, \"#7201a8\"], [0.3333333333333333, \"#9c179e\"], [0.4444444444444444, \"#bd3786\"], [0.5555555555555556, \"#d8576b\"], [0.6666666666666666, \"#ed7953\"], [0.7777777777777778, \"#fb9f3a\"], [0.8888888888888888, \"#fdca26\"], [1.0, \"#f0f921\"]], \"type\": \"histogram2d\"}], \"histogram2dcontour\": [{\"colorbar\": {\"outlinewidth\": 0, \"ticks\": \"\"}, \"colorscale\": [[0.0, \"#0d0887\"], [0.1111111111111111, \"#46039f\"], [0.2222222222222222, \"#7201a8\"], [0.3333333333333333, \"#9c179e\"], [0.4444444444444444, \"#bd3786\"], [0.5555555555555556, \"#d8576b\"], [0.6666666666666666, \"#ed7953\"], [0.7777777777777778, \"#fb9f3a\"], [0.8888888888888888, \"#fdca26\"], [1.0, \"#f0f921\"]], \"type\": \"histogram2dcontour\"}], \"mesh3d\": [{\"colorbar\": {\"outlinewidth\": 0, \"ticks\": \"\"}, \"type\": \"mesh3d\"}], \"parcoords\": [{\"line\": {\"colorbar\": {\"outlinewidth\": 0, \"ticks\": \"\"}}, \"type\": \"parcoords\"}], \"pie\": [{\"automargin\": true, \"type\": \"pie\"}], \"scatter\": [{\"marker\": {\"colorbar\": {\"outlinewidth\": 0, \"ticks\": \"\"}}, \"type\": \"scatter\"}], \"scatter3d\": [{\"line\": {\"colorbar\": {\"outlinewidth\": 0, \"ticks\": \"\"}}, \"marker\": {\"colorbar\": {\"outlinewidth\": 0, \"ticks\": \"\"}}, \"type\": \"scatter3d\"}], \"scattercarpet\": [{\"marker\": {\"colorbar\": {\"outlinewidth\": 0, \"ticks\": \"\"}}, \"type\": \"scattercarpet\"}], \"scattergeo\": [{\"marker\": {\"colorbar\": {\"outlinewidth\": 0, \"ticks\": \"\"}}, \"type\": \"scattergeo\"}], \"scattergl\": [{\"marker\": {\"colorbar\": {\"outlinewidth\": 0, \"ticks\": \"\"}}, \"type\": \"scattergl\"}], \"scattermapbox\": [{\"marker\": {\"colorbar\": {\"outlinewidth\": 0, \"ticks\": \"\"}}, \"type\": \"scattermapbox\"}], \"scatterpolar\": [{\"marker\": {\"colorbar\": {\"outlinewidth\": 0, \"ticks\": \"\"}}, \"type\": \"scatterpolar\"}], \"scatterpolargl\": [{\"marker\": {\"colorbar\": {\"outlinewidth\": 0, \"ticks\": \"\"}}, \"type\": \"scatterpolargl\"}], \"scatterternary\": [{\"marker\": {\"colorbar\": {\"outlinewidth\": 0, \"ticks\": \"\"}}, \"type\": \"scatterternary\"}], \"surface\": [{\"colorbar\": {\"outlinewidth\": 0, \"ticks\": \"\"}, \"colorscale\": [[0.0, \"#0d0887\"], [0.1111111111111111, \"#46039f\"], [0.2222222222222222, \"#7201a8\"], [0.3333333333333333, \"#9c179e\"], [0.4444444444444444, \"#bd3786\"], [0.5555555555555556, \"#d8576b\"], [0.6666666666666666, \"#ed7953\"], [0.7777777777777778, \"#fb9f3a\"], [0.8888888888888888, \"#fdca26\"], [1.0, \"#f0f921\"]], \"type\": \"surface\"}], \"table\": [{\"cells\": {\"fill\": {\"color\": \"#EBF0F8\"}, \"line\": {\"color\": \"white\"}}, \"header\": {\"fill\": {\"color\": \"#C8D4E3\"}, \"line\": {\"color\": \"white\"}}, \"type\": \"table\"}]}, \"layout\": {\"annotationdefaults\": {\"arrowcolor\": \"#2a3f5f\", \"arrowhead\": 0, \"arrowwidth\": 1}, \"autotypenumbers\": \"strict\", \"coloraxis\": {\"colorbar\": {\"outlinewidth\": 0, \"ticks\": \"\"}}, \"colorscale\": {\"diverging\": [[0, \"#8e0152\"], [0.1, \"#c51b7d\"], [0.2, \"#de77ae\"], [0.3, \"#f1b6da\"], [0.4, \"#fde0ef\"], [0.5, \"#f7f7f7\"], [0.6, \"#e6f5d0\"], [0.7, \"#b8e186\"], [0.8, \"#7fbc41\"], [0.9, \"#4d9221\"], [1, \"#276419\"]], \"sequential\": [[0.0, \"#0d0887\"], [0.1111111111111111, \"#46039f\"], [0.2222222222222222, \"#7201a8\"], [0.3333333333333333, \"#9c179e\"], [0.4444444444444444, \"#bd3786\"], [0.5555555555555556, \"#d8576b\"], [0.6666666666666666, \"#ed7953\"], [0.7777777777777778, \"#fb9f3a\"], [0.8888888888888888, \"#fdca26\"], [1.0, \"#f0f921\"]], \"sequentialminus\": [[0.0, \"#0d0887\"], [0.1111111111111111, \"#46039f\"], [0.2222222222222222, \"#7201a8\"], [0.3333333333333333, \"#9c179e\"], [0.4444444444444444, \"#bd3786\"], [0.5555555555555556, \"#d8576b\"], [0.6666666666666666, \"#ed7953\"], [0.7777777777777778, \"#fb9f3a\"], [0.8888888888888888, \"#fdca26\"], [1.0, \"#f0f921\"]]}, \"colorway\": [\"#636efa\", \"#EF553B\", \"#00cc96\", \"#ab63fa\", \"#FFA15A\", \"#19d3f3\", \"#FF6692\", \"#B6E880\", \"#FF97FF\", \"#FECB52\"], \"font\": {\"color\": \"#2a3f5f\"}, \"geo\": {\"bgcolor\": \"white\", \"lakecolor\": \"white\", \"landcolor\": \"#E5ECF6\", \"showlakes\": true, \"showland\": true, \"subunitcolor\": \"white\"}, \"hoverlabel\": {\"align\": \"left\"}, \"hovermode\": \"closest\", \"mapbox\": {\"style\": \"light\"}, \"paper_bgcolor\": \"white\", \"plot_bgcolor\": \"#E5ECF6\", \"polar\": {\"angularaxis\": {\"gridcolor\": \"white\", \"linecolor\": \"white\", \"ticks\": \"\"}, \"bgcolor\": \"#E5ECF6\", \"radialaxis\": {\"gridcolor\": \"white\", \"linecolor\": \"white\", \"ticks\": \"\"}}, \"scene\": {\"xaxis\": {\"backgroundcolor\": \"#E5ECF6\", \"gridcolor\": \"white\", \"gridwidth\": 2, \"linecolor\": \"white\", \"showbackground\": true, \"ticks\": \"\", \"zerolinecolor\": \"white\"}, \"yaxis\": {\"backgroundcolor\": \"#E5ECF6\", \"gridcolor\": \"white\", \"gridwidth\": 2, \"linecolor\": \"white\", \"showbackground\": true, \"ticks\": \"\", \"zerolinecolor\": \"white\"}, \"zaxis\": {\"backgroundcolor\": \"#E5ECF6\", \"gridcolor\": \"white\", \"gridwidth\": 2, \"linecolor\": \"white\", \"showbackground\": true, \"ticks\": \"\", \"zerolinecolor\": \"white\"}}, \"shapedefaults\": {\"line\": {\"color\": \"#2a3f5f\"}}, \"ternary\": {\"aaxis\": {\"gridcolor\": \"white\", \"linecolor\": \"white\", \"ticks\": \"\"}, \"baxis\": {\"gridcolor\": \"white\", \"linecolor\": \"white\", \"ticks\": \"\"}, \"bgcolor\": \"#E5ECF6\", \"caxis\": {\"gridcolor\": \"white\", \"linecolor\": \"white\", \"ticks\": \"\"}}, \"title\": {\"x\": 0.05}, \"xaxis\": {\"automargin\": true, \"gridcolor\": \"white\", \"linecolor\": \"white\", \"ticks\": \"\", \"title\": {\"standoff\": 15}, \"zerolinecolor\": \"white\", \"zerolinewidth\": 2}, \"yaxis\": {\"automargin\": true, \"gridcolor\": \"white\", \"linecolor\": \"white\", \"ticks\": \"\", \"title\": {\"standoff\": 15}, \"zerolinecolor\": \"white\", \"zerolinewidth\": 2}}}, \"width\": 980, \"xaxis\": {\"range\": [0, 615]}},                        {\"responsive\": true}                    ).then(function(){\n",
       "                            \n",
       "var gd = document.getElementById('2b7100ba-a164-4181-bc8e-28ecafd33a76');\n",
       "var x = new MutationObserver(function (mutations, observer) {{\n",
       "        var display = window.getComputedStyle(gd).display;\n",
       "        if (!display || display === 'none') {{\n",
       "            console.log([gd, 'removed!']);\n",
       "            Plotly.purge(gd);\n",
       "            observer.disconnect();\n",
       "        }}\n",
       "}});\n",
       "\n",
       "// Listen for the removal of the full notebook cells\n",
       "var notebookContainer = gd.closest('#notebook-container');\n",
       "if (notebookContainer) {{\n",
       "    x.observe(notebookContainer, {childList: true});\n",
       "}}\n",
       "\n",
       "// Listen for the clearing of the current output cell\n",
       "var outputEl = gd.closest('.output');\n",
       "if (outputEl) {{\n",
       "    x.observe(outputEl, {childList: true});\n",
       "}}\n",
       "\n",
       "                        })                };                });            </script>        </div>"
      ]
     },
     "metadata": {},
     "output_type": "display_data"
    }
   ],
   "source": [
    "# Setup months\n",
    "months = census['partition_dt'].drop_duplicates().sort_values().to_list()\n",
    "# Setup data for every months\n",
    "census_months_sorted_top = {}\n",
    "\n",
    "# Adding data for each month in dict\n",
    "for month in months:\n",
    "    census_sorted = census[census['partition_dt'] == month].sort_values(by='dist_rn', ascending=True).reset_index()\n",
    "    census_sorted_top = census_sorted[:20]\n",
    "    xs = (census_sorted_top['distance']).to_list()[::-1]\n",
    "    ys = (census_sorted_top['city_nm'] + ' - ' + census_sorted_top['partition_dt']).to_list()[::-1]\n",
    "    ys2 = list(map(lambda x: '{:>60}'.format(x), ys))\n",
    "    census_months_sorted_top.update({month: [xs, ys]})\n",
    "\n",
    "# Plot data as Slider Bar Horizontal Histogram\n",
    "plotBarHistory(months, census_months_sorted_top)"
   ]
  },
  {
   "cell_type": "markdown",
   "metadata": {},
   "source": [
    "# Гистограмма отклонений расстояний одного города Census"
   ]
  },
  {
   "cell_type": "code",
   "execution_count": 74,
   "metadata": {},
   "outputs": [],
   "source": [
    "# Setup locality to analyze\n",
    "city_province = 'Кемеровская область'\n",
    "city_locality = 'Кемерово'\n",
    "\n",
    "# Find locality data\n",
    "census_city_sorted = census[(census['province_mt'] == city_province) & (census['locality_mt'] == city_locality)]\\\n",
    ".sort_values(by='partition_dt', ascending=True).reset_index()\n",
    "census_city_sorted_top = census_city_sorted[:20]"
   ]
  },
  {
   "cell_type": "code",
   "execution_count": 75,
   "metadata": {},
   "outputs": [
    {
     "data": {
      "application/vnd.plotly.v1+json": {
       "config": {
        "plotlyServerURL": "https://plot.ly"
       },
       "data": [
        {
         "marker": {
          "color": "rgba( 45, 120, 255, 0.7)",
          "line": {
           "color": "rgb(105,  25, 255)",
           "width": 1
          }
         },
         "outsidetextfont": {
          "color": "red",
          "size": 12
         },
         "textposition": "outside",
         "texttemplate": "%{y:.2f}",
         "type": "bar",
         "x": [
          "Кемерово - 2020-01-01",
          "Кемерово - 2020-02-01",
          "Кемерово - 2020-03-01",
          "Кемерово - 2020-04-01",
          "Кемерово - 2020-05-01",
          "Кемерово - 2020-06-01",
          "Кемерово - 2020-07-01",
          "Кемерово - 2020-08-01",
          "Кемерово - 2020-09-01",
          "Кемерово - 2020-10-01",
          "Кемерово - 2020-11-01",
          "Кемерово - 2020-12-01",
          "Кемерово - 2021-01-01",
          "Кемерово - 2021-02-01",
          "Кемерово - 2021-03-01"
         ],
         "y": [
          2.5907785562978054,
          3.2687482712709803,
          2.718487130616152,
          559.5125339094815,
          143.9764712013309,
          3.8547927646209876,
          112.18927133393113,
          109.47921295084241,
          41.72946724726026,
          52.16833495033494,
          119.22391044949063,
          80.07123523963718,
          1.6761513084578845,
          2.498948853194161,
          1.6093539859900132
         ]
        }
       ],
       "layout": {
        "height": 500,
        "margin": {
         "b": 20,
         "t": 20
        },
        "paper_bgcolor": "rgb(248, 248, 255)",
        "plot_bgcolor": "rgb(248, 248, 255)",
        "showlegend": false,
        "template": {
         "data": {
          "bar": [
           {
            "error_x": {
             "color": "#2a3f5f"
            },
            "error_y": {
             "color": "#2a3f5f"
            },
            "marker": {
             "line": {
              "color": "#E5ECF6",
              "width": 0.5
             }
            },
            "type": "bar"
           }
          ],
          "barpolar": [
           {
            "marker": {
             "line": {
              "color": "#E5ECF6",
              "width": 0.5
             }
            },
            "type": "barpolar"
           }
          ],
          "carpet": [
           {
            "aaxis": {
             "endlinecolor": "#2a3f5f",
             "gridcolor": "white",
             "linecolor": "white",
             "minorgridcolor": "white",
             "startlinecolor": "#2a3f5f"
            },
            "baxis": {
             "endlinecolor": "#2a3f5f",
             "gridcolor": "white",
             "linecolor": "white",
             "minorgridcolor": "white",
             "startlinecolor": "#2a3f5f"
            },
            "type": "carpet"
           }
          ],
          "choropleth": [
           {
            "colorbar": {
             "outlinewidth": 0,
             "ticks": ""
            },
            "type": "choropleth"
           }
          ],
          "contour": [
           {
            "colorbar": {
             "outlinewidth": 0,
             "ticks": ""
            },
            "colorscale": [
             [
              0,
              "#0d0887"
             ],
             [
              0.1111111111111111,
              "#46039f"
             ],
             [
              0.2222222222222222,
              "#7201a8"
             ],
             [
              0.3333333333333333,
              "#9c179e"
             ],
             [
              0.4444444444444444,
              "#bd3786"
             ],
             [
              0.5555555555555556,
              "#d8576b"
             ],
             [
              0.6666666666666666,
              "#ed7953"
             ],
             [
              0.7777777777777778,
              "#fb9f3a"
             ],
             [
              0.8888888888888888,
              "#fdca26"
             ],
             [
              1,
              "#f0f921"
             ]
            ],
            "type": "contour"
           }
          ],
          "contourcarpet": [
           {
            "colorbar": {
             "outlinewidth": 0,
             "ticks": ""
            },
            "type": "contourcarpet"
           }
          ],
          "heatmap": [
           {
            "colorbar": {
             "outlinewidth": 0,
             "ticks": ""
            },
            "colorscale": [
             [
              0,
              "#0d0887"
             ],
             [
              0.1111111111111111,
              "#46039f"
             ],
             [
              0.2222222222222222,
              "#7201a8"
             ],
             [
              0.3333333333333333,
              "#9c179e"
             ],
             [
              0.4444444444444444,
              "#bd3786"
             ],
             [
              0.5555555555555556,
              "#d8576b"
             ],
             [
              0.6666666666666666,
              "#ed7953"
             ],
             [
              0.7777777777777778,
              "#fb9f3a"
             ],
             [
              0.8888888888888888,
              "#fdca26"
             ],
             [
              1,
              "#f0f921"
             ]
            ],
            "type": "heatmap"
           }
          ],
          "heatmapgl": [
           {
            "colorbar": {
             "outlinewidth": 0,
             "ticks": ""
            },
            "colorscale": [
             [
              0,
              "#0d0887"
             ],
             [
              0.1111111111111111,
              "#46039f"
             ],
             [
              0.2222222222222222,
              "#7201a8"
             ],
             [
              0.3333333333333333,
              "#9c179e"
             ],
             [
              0.4444444444444444,
              "#bd3786"
             ],
             [
              0.5555555555555556,
              "#d8576b"
             ],
             [
              0.6666666666666666,
              "#ed7953"
             ],
             [
              0.7777777777777778,
              "#fb9f3a"
             ],
             [
              0.8888888888888888,
              "#fdca26"
             ],
             [
              1,
              "#f0f921"
             ]
            ],
            "type": "heatmapgl"
           }
          ],
          "histogram": [
           {
            "marker": {
             "colorbar": {
              "outlinewidth": 0,
              "ticks": ""
             }
            },
            "type": "histogram"
           }
          ],
          "histogram2d": [
           {
            "colorbar": {
             "outlinewidth": 0,
             "ticks": ""
            },
            "colorscale": [
             [
              0,
              "#0d0887"
             ],
             [
              0.1111111111111111,
              "#46039f"
             ],
             [
              0.2222222222222222,
              "#7201a8"
             ],
             [
              0.3333333333333333,
              "#9c179e"
             ],
             [
              0.4444444444444444,
              "#bd3786"
             ],
             [
              0.5555555555555556,
              "#d8576b"
             ],
             [
              0.6666666666666666,
              "#ed7953"
             ],
             [
              0.7777777777777778,
              "#fb9f3a"
             ],
             [
              0.8888888888888888,
              "#fdca26"
             ],
             [
              1,
              "#f0f921"
             ]
            ],
            "type": "histogram2d"
           }
          ],
          "histogram2dcontour": [
           {
            "colorbar": {
             "outlinewidth": 0,
             "ticks": ""
            },
            "colorscale": [
             [
              0,
              "#0d0887"
             ],
             [
              0.1111111111111111,
              "#46039f"
             ],
             [
              0.2222222222222222,
              "#7201a8"
             ],
             [
              0.3333333333333333,
              "#9c179e"
             ],
             [
              0.4444444444444444,
              "#bd3786"
             ],
             [
              0.5555555555555556,
              "#d8576b"
             ],
             [
              0.6666666666666666,
              "#ed7953"
             ],
             [
              0.7777777777777778,
              "#fb9f3a"
             ],
             [
              0.8888888888888888,
              "#fdca26"
             ],
             [
              1,
              "#f0f921"
             ]
            ],
            "type": "histogram2dcontour"
           }
          ],
          "mesh3d": [
           {
            "colorbar": {
             "outlinewidth": 0,
             "ticks": ""
            },
            "type": "mesh3d"
           }
          ],
          "parcoords": [
           {
            "line": {
             "colorbar": {
              "outlinewidth": 0,
              "ticks": ""
             }
            },
            "type": "parcoords"
           }
          ],
          "pie": [
           {
            "automargin": true,
            "type": "pie"
           }
          ],
          "scatter": [
           {
            "marker": {
             "colorbar": {
              "outlinewidth": 0,
              "ticks": ""
             }
            },
            "type": "scatter"
           }
          ],
          "scatter3d": [
           {
            "line": {
             "colorbar": {
              "outlinewidth": 0,
              "ticks": ""
             }
            },
            "marker": {
             "colorbar": {
              "outlinewidth": 0,
              "ticks": ""
             }
            },
            "type": "scatter3d"
           }
          ],
          "scattercarpet": [
           {
            "marker": {
             "colorbar": {
              "outlinewidth": 0,
              "ticks": ""
             }
            },
            "type": "scattercarpet"
           }
          ],
          "scattergeo": [
           {
            "marker": {
             "colorbar": {
              "outlinewidth": 0,
              "ticks": ""
             }
            },
            "type": "scattergeo"
           }
          ],
          "scattergl": [
           {
            "marker": {
             "colorbar": {
              "outlinewidth": 0,
              "ticks": ""
             }
            },
            "type": "scattergl"
           }
          ],
          "scattermapbox": [
           {
            "marker": {
             "colorbar": {
              "outlinewidth": 0,
              "ticks": ""
             }
            },
            "type": "scattermapbox"
           }
          ],
          "scatterpolar": [
           {
            "marker": {
             "colorbar": {
              "outlinewidth": 0,
              "ticks": ""
             }
            },
            "type": "scatterpolar"
           }
          ],
          "scatterpolargl": [
           {
            "marker": {
             "colorbar": {
              "outlinewidth": 0,
              "ticks": ""
             }
            },
            "type": "scatterpolargl"
           }
          ],
          "scatterternary": [
           {
            "marker": {
             "colorbar": {
              "outlinewidth": 0,
              "ticks": ""
             }
            },
            "type": "scatterternary"
           }
          ],
          "surface": [
           {
            "colorbar": {
             "outlinewidth": 0,
             "ticks": ""
            },
            "colorscale": [
             [
              0,
              "#0d0887"
             ],
             [
              0.1111111111111111,
              "#46039f"
             ],
             [
              0.2222222222222222,
              "#7201a8"
             ],
             [
              0.3333333333333333,
              "#9c179e"
             ],
             [
              0.4444444444444444,
              "#bd3786"
             ],
             [
              0.5555555555555556,
              "#d8576b"
             ],
             [
              0.6666666666666666,
              "#ed7953"
             ],
             [
              0.7777777777777778,
              "#fb9f3a"
             ],
             [
              0.8888888888888888,
              "#fdca26"
             ],
             [
              1,
              "#f0f921"
             ]
            ],
            "type": "surface"
           }
          ],
          "table": [
           {
            "cells": {
             "fill": {
              "color": "#EBF0F8"
             },
             "line": {
              "color": "white"
             }
            },
            "header": {
             "fill": {
              "color": "#C8D4E3"
             },
             "line": {
              "color": "white"
             }
            },
            "type": "table"
           }
          ]
         },
         "layout": {
          "annotationdefaults": {
           "arrowcolor": "#2a3f5f",
           "arrowhead": 0,
           "arrowwidth": 1
          },
          "autotypenumbers": "strict",
          "coloraxis": {
           "colorbar": {
            "outlinewidth": 0,
            "ticks": ""
           }
          },
          "colorscale": {
           "diverging": [
            [
             0,
             "#8e0152"
            ],
            [
             0.1,
             "#c51b7d"
            ],
            [
             0.2,
             "#de77ae"
            ],
            [
             0.3,
             "#f1b6da"
            ],
            [
             0.4,
             "#fde0ef"
            ],
            [
             0.5,
             "#f7f7f7"
            ],
            [
             0.6,
             "#e6f5d0"
            ],
            [
             0.7,
             "#b8e186"
            ],
            [
             0.8,
             "#7fbc41"
            ],
            [
             0.9,
             "#4d9221"
            ],
            [
             1,
             "#276419"
            ]
           ],
           "sequential": [
            [
             0,
             "#0d0887"
            ],
            [
             0.1111111111111111,
             "#46039f"
            ],
            [
             0.2222222222222222,
             "#7201a8"
            ],
            [
             0.3333333333333333,
             "#9c179e"
            ],
            [
             0.4444444444444444,
             "#bd3786"
            ],
            [
             0.5555555555555556,
             "#d8576b"
            ],
            [
             0.6666666666666666,
             "#ed7953"
            ],
            [
             0.7777777777777778,
             "#fb9f3a"
            ],
            [
             0.8888888888888888,
             "#fdca26"
            ],
            [
             1,
             "#f0f921"
            ]
           ],
           "sequentialminus": [
            [
             0,
             "#0d0887"
            ],
            [
             0.1111111111111111,
             "#46039f"
            ],
            [
             0.2222222222222222,
             "#7201a8"
            ],
            [
             0.3333333333333333,
             "#9c179e"
            ],
            [
             0.4444444444444444,
             "#bd3786"
            ],
            [
             0.5555555555555556,
             "#d8576b"
            ],
            [
             0.6666666666666666,
             "#ed7953"
            ],
            [
             0.7777777777777778,
             "#fb9f3a"
            ],
            [
             0.8888888888888888,
             "#fdca26"
            ],
            [
             1,
             "#f0f921"
            ]
           ]
          },
          "colorway": [
           "#636efa",
           "#EF553B",
           "#00cc96",
           "#ab63fa",
           "#FFA15A",
           "#19d3f3",
           "#FF6692",
           "#B6E880",
           "#FF97FF",
           "#FECB52"
          ],
          "font": {
           "color": "#2a3f5f"
          },
          "geo": {
           "bgcolor": "white",
           "lakecolor": "white",
           "landcolor": "#E5ECF6",
           "showlakes": true,
           "showland": true,
           "subunitcolor": "white"
          },
          "hoverlabel": {
           "align": "left"
          },
          "hovermode": "closest",
          "mapbox": {
           "style": "light"
          },
          "paper_bgcolor": "white",
          "plot_bgcolor": "#E5ECF6",
          "polar": {
           "angularaxis": {
            "gridcolor": "white",
            "linecolor": "white",
            "ticks": ""
           },
           "bgcolor": "#E5ECF6",
           "radialaxis": {
            "gridcolor": "white",
            "linecolor": "white",
            "ticks": ""
           }
          },
          "scene": {
           "xaxis": {
            "backgroundcolor": "#E5ECF6",
            "gridcolor": "white",
            "gridwidth": 2,
            "linecolor": "white",
            "showbackground": true,
            "ticks": "",
            "zerolinecolor": "white"
           },
           "yaxis": {
            "backgroundcolor": "#E5ECF6",
            "gridcolor": "white",
            "gridwidth": 2,
            "linecolor": "white",
            "showbackground": true,
            "ticks": "",
            "zerolinecolor": "white"
           },
           "zaxis": {
            "backgroundcolor": "#E5ECF6",
            "gridcolor": "white",
            "gridwidth": 2,
            "linecolor": "white",
            "showbackground": true,
            "ticks": "",
            "zerolinecolor": "white"
           }
          },
          "shapedefaults": {
           "line": {
            "color": "#2a3f5f"
           }
          },
          "ternary": {
           "aaxis": {
            "gridcolor": "white",
            "linecolor": "white",
            "ticks": ""
           },
           "baxis": {
            "gridcolor": "white",
            "linecolor": "white",
            "ticks": ""
           },
           "bgcolor": "#E5ECF6",
           "caxis": {
            "gridcolor": "white",
            "linecolor": "white",
            "ticks": ""
           }
          },
          "title": {
           "x": 0.05
          },
          "xaxis": {
           "automargin": true,
           "gridcolor": "white",
           "linecolor": "white",
           "ticks": "",
           "title": {
            "standoff": 15
           },
           "zerolinecolor": "white",
           "zerolinewidth": 2
          },
          "yaxis": {
           "automargin": true,
           "gridcolor": "white",
           "linecolor": "white",
           "ticks": "",
           "title": {
            "standoff": 15
           },
           "zerolinecolor": "white",
           "zerolinewidth": 2
          }
         }
        },
        "width": 980
       }
      },
      "text/html": [
       "<div>                            <div id=\"32757a1b-9ee2-4041-be04-15ccc0e540d3\" class=\"plotly-graph-div\" style=\"height:500px; width:980px;\"></div>            <script type=\"text/javascript\">                require([\"plotly\"], function(Plotly) {                    window.PLOTLYENV=window.PLOTLYENV || {};                                    if (document.getElementById(\"32757a1b-9ee2-4041-be04-15ccc0e540d3\")) {                    Plotly.newPlot(                        \"32757a1b-9ee2-4041-be04-15ccc0e540d3\",                        [{\"marker\": {\"color\": \"rgba( 45, 120, 255, 0.7)\", \"line\": {\"color\": \"rgb(105,  25, 255)\", \"width\": 1}}, \"outsidetextfont\": {\"color\": \"red\", \"size\": 12}, \"textposition\": \"outside\", \"texttemplate\": \"%{y:.2f}\", \"type\": \"bar\", \"x\": [\"\\u041a\\u0435\\u043c\\u0435\\u0440\\u043e\\u0432\\u043e - 2020-01-01\", \"\\u041a\\u0435\\u043c\\u0435\\u0440\\u043e\\u0432\\u043e - 2020-02-01\", \"\\u041a\\u0435\\u043c\\u0435\\u0440\\u043e\\u0432\\u043e - 2020-03-01\", \"\\u041a\\u0435\\u043c\\u0435\\u0440\\u043e\\u0432\\u043e - 2020-04-01\", \"\\u041a\\u0435\\u043c\\u0435\\u0440\\u043e\\u0432\\u043e - 2020-05-01\", \"\\u041a\\u0435\\u043c\\u0435\\u0440\\u043e\\u0432\\u043e - 2020-06-01\", \"\\u041a\\u0435\\u043c\\u0435\\u0440\\u043e\\u0432\\u043e - 2020-07-01\", \"\\u041a\\u0435\\u043c\\u0435\\u0440\\u043e\\u0432\\u043e - 2020-08-01\", \"\\u041a\\u0435\\u043c\\u0435\\u0440\\u043e\\u0432\\u043e - 2020-09-01\", \"\\u041a\\u0435\\u043c\\u0435\\u0440\\u043e\\u0432\\u043e - 2020-10-01\", \"\\u041a\\u0435\\u043c\\u0435\\u0440\\u043e\\u0432\\u043e - 2020-11-01\", \"\\u041a\\u0435\\u043c\\u0435\\u0440\\u043e\\u0432\\u043e - 2020-12-01\", \"\\u041a\\u0435\\u043c\\u0435\\u0440\\u043e\\u0432\\u043e - 2021-01-01\", \"\\u041a\\u0435\\u043c\\u0435\\u0440\\u043e\\u0432\\u043e - 2021-02-01\", \"\\u041a\\u0435\\u043c\\u0435\\u0440\\u043e\\u0432\\u043e - 2021-03-01\"], \"y\": [2.5907785562978054, 3.2687482712709803, 2.718487130616152, 559.5125339094815, 143.9764712013309, 3.8547927646209876, 112.18927133393113, 109.47921295084241, 41.72946724726026, 52.16833495033494, 119.22391044949063, 80.07123523963718, 1.6761513084578845, 2.498948853194161, 1.6093539859900132]}],                        {\"height\": 500, \"margin\": {\"b\": 20, \"t\": 20}, \"paper_bgcolor\": \"rgb(248, 248, 255)\", \"plot_bgcolor\": \"rgb(248, 248, 255)\", \"showlegend\": false, \"template\": {\"data\": {\"bar\": [{\"error_x\": {\"color\": \"#2a3f5f\"}, \"error_y\": {\"color\": \"#2a3f5f\"}, \"marker\": {\"line\": {\"color\": \"#E5ECF6\", \"width\": 0.5}}, \"type\": \"bar\"}], \"barpolar\": [{\"marker\": {\"line\": {\"color\": \"#E5ECF6\", \"width\": 0.5}}, \"type\": \"barpolar\"}], \"carpet\": [{\"aaxis\": {\"endlinecolor\": \"#2a3f5f\", \"gridcolor\": \"white\", \"linecolor\": \"white\", \"minorgridcolor\": \"white\", \"startlinecolor\": \"#2a3f5f\"}, \"baxis\": {\"endlinecolor\": \"#2a3f5f\", \"gridcolor\": \"white\", \"linecolor\": \"white\", \"minorgridcolor\": \"white\", \"startlinecolor\": \"#2a3f5f\"}, \"type\": \"carpet\"}], \"choropleth\": [{\"colorbar\": {\"outlinewidth\": 0, \"ticks\": \"\"}, \"type\": \"choropleth\"}], \"contour\": [{\"colorbar\": {\"outlinewidth\": 0, \"ticks\": \"\"}, \"colorscale\": [[0.0, \"#0d0887\"], [0.1111111111111111, \"#46039f\"], [0.2222222222222222, \"#7201a8\"], [0.3333333333333333, \"#9c179e\"], [0.4444444444444444, \"#bd3786\"], [0.5555555555555556, \"#d8576b\"], [0.6666666666666666, \"#ed7953\"], [0.7777777777777778, \"#fb9f3a\"], [0.8888888888888888, \"#fdca26\"], [1.0, \"#f0f921\"]], \"type\": \"contour\"}], \"contourcarpet\": [{\"colorbar\": {\"outlinewidth\": 0, \"ticks\": \"\"}, \"type\": \"contourcarpet\"}], \"heatmap\": [{\"colorbar\": {\"outlinewidth\": 0, \"ticks\": \"\"}, \"colorscale\": [[0.0, \"#0d0887\"], [0.1111111111111111, \"#46039f\"], [0.2222222222222222, \"#7201a8\"], [0.3333333333333333, \"#9c179e\"], [0.4444444444444444, \"#bd3786\"], [0.5555555555555556, \"#d8576b\"], [0.6666666666666666, \"#ed7953\"], [0.7777777777777778, \"#fb9f3a\"], [0.8888888888888888, \"#fdca26\"], [1.0, \"#f0f921\"]], \"type\": \"heatmap\"}], \"heatmapgl\": [{\"colorbar\": {\"outlinewidth\": 0, \"ticks\": \"\"}, \"colorscale\": [[0.0, \"#0d0887\"], [0.1111111111111111, \"#46039f\"], [0.2222222222222222, \"#7201a8\"], [0.3333333333333333, \"#9c179e\"], [0.4444444444444444, \"#bd3786\"], [0.5555555555555556, \"#d8576b\"], [0.6666666666666666, \"#ed7953\"], [0.7777777777777778, \"#fb9f3a\"], [0.8888888888888888, \"#fdca26\"], [1.0, \"#f0f921\"]], \"type\": \"heatmapgl\"}], \"histogram\": [{\"marker\": {\"colorbar\": {\"outlinewidth\": 0, \"ticks\": \"\"}}, \"type\": \"histogram\"}], \"histogram2d\": [{\"colorbar\": {\"outlinewidth\": 0, \"ticks\": \"\"}, \"colorscale\": [[0.0, \"#0d0887\"], [0.1111111111111111, \"#46039f\"], [0.2222222222222222, \"#7201a8\"], [0.3333333333333333, \"#9c179e\"], [0.4444444444444444, \"#bd3786\"], [0.5555555555555556, \"#d8576b\"], [0.6666666666666666, \"#ed7953\"], [0.7777777777777778, \"#fb9f3a\"], [0.8888888888888888, \"#fdca26\"], [1.0, \"#f0f921\"]], \"type\": \"histogram2d\"}], \"histogram2dcontour\": [{\"colorbar\": {\"outlinewidth\": 0, \"ticks\": \"\"}, \"colorscale\": [[0.0, \"#0d0887\"], [0.1111111111111111, \"#46039f\"], [0.2222222222222222, \"#7201a8\"], [0.3333333333333333, \"#9c179e\"], [0.4444444444444444, \"#bd3786\"], [0.5555555555555556, \"#d8576b\"], [0.6666666666666666, \"#ed7953\"], [0.7777777777777778, \"#fb9f3a\"], [0.8888888888888888, \"#fdca26\"], [1.0, \"#f0f921\"]], \"type\": \"histogram2dcontour\"}], \"mesh3d\": [{\"colorbar\": {\"outlinewidth\": 0, \"ticks\": \"\"}, \"type\": \"mesh3d\"}], \"parcoords\": [{\"line\": {\"colorbar\": {\"outlinewidth\": 0, \"ticks\": \"\"}}, \"type\": \"parcoords\"}], \"pie\": [{\"automargin\": true, \"type\": \"pie\"}], \"scatter\": [{\"marker\": {\"colorbar\": {\"outlinewidth\": 0, \"ticks\": \"\"}}, \"type\": \"scatter\"}], \"scatter3d\": [{\"line\": {\"colorbar\": {\"outlinewidth\": 0, \"ticks\": \"\"}}, \"marker\": {\"colorbar\": {\"outlinewidth\": 0, \"ticks\": \"\"}}, \"type\": \"scatter3d\"}], \"scattercarpet\": [{\"marker\": {\"colorbar\": {\"outlinewidth\": 0, \"ticks\": \"\"}}, \"type\": \"scattercarpet\"}], \"scattergeo\": [{\"marker\": {\"colorbar\": {\"outlinewidth\": 0, \"ticks\": \"\"}}, \"type\": \"scattergeo\"}], \"scattergl\": [{\"marker\": {\"colorbar\": {\"outlinewidth\": 0, \"ticks\": \"\"}}, \"type\": \"scattergl\"}], \"scattermapbox\": [{\"marker\": {\"colorbar\": {\"outlinewidth\": 0, \"ticks\": \"\"}}, \"type\": \"scattermapbox\"}], \"scatterpolar\": [{\"marker\": {\"colorbar\": {\"outlinewidth\": 0, \"ticks\": \"\"}}, \"type\": \"scatterpolar\"}], \"scatterpolargl\": [{\"marker\": {\"colorbar\": {\"outlinewidth\": 0, \"ticks\": \"\"}}, \"type\": \"scatterpolargl\"}], \"scatterternary\": [{\"marker\": {\"colorbar\": {\"outlinewidth\": 0, \"ticks\": \"\"}}, \"type\": \"scatterternary\"}], \"surface\": [{\"colorbar\": {\"outlinewidth\": 0, \"ticks\": \"\"}, \"colorscale\": [[0.0, \"#0d0887\"], [0.1111111111111111, \"#46039f\"], [0.2222222222222222, \"#7201a8\"], [0.3333333333333333, \"#9c179e\"], [0.4444444444444444, \"#bd3786\"], [0.5555555555555556, \"#d8576b\"], [0.6666666666666666, \"#ed7953\"], [0.7777777777777778, \"#fb9f3a\"], [0.8888888888888888, \"#fdca26\"], [1.0, \"#f0f921\"]], \"type\": \"surface\"}], \"table\": [{\"cells\": {\"fill\": {\"color\": \"#EBF0F8\"}, \"line\": {\"color\": \"white\"}}, \"header\": {\"fill\": {\"color\": \"#C8D4E3\"}, \"line\": {\"color\": \"white\"}}, \"type\": \"table\"}]}, \"layout\": {\"annotationdefaults\": {\"arrowcolor\": \"#2a3f5f\", \"arrowhead\": 0, \"arrowwidth\": 1}, \"autotypenumbers\": \"strict\", \"coloraxis\": {\"colorbar\": {\"outlinewidth\": 0, \"ticks\": \"\"}}, \"colorscale\": {\"diverging\": [[0, \"#8e0152\"], [0.1, \"#c51b7d\"], [0.2, \"#de77ae\"], [0.3, \"#f1b6da\"], [0.4, \"#fde0ef\"], [0.5, \"#f7f7f7\"], [0.6, \"#e6f5d0\"], [0.7, \"#b8e186\"], [0.8, \"#7fbc41\"], [0.9, \"#4d9221\"], [1, \"#276419\"]], \"sequential\": [[0.0, \"#0d0887\"], [0.1111111111111111, \"#46039f\"], [0.2222222222222222, \"#7201a8\"], [0.3333333333333333, \"#9c179e\"], [0.4444444444444444, \"#bd3786\"], [0.5555555555555556, \"#d8576b\"], [0.6666666666666666, \"#ed7953\"], [0.7777777777777778, \"#fb9f3a\"], [0.8888888888888888, \"#fdca26\"], [1.0, \"#f0f921\"]], \"sequentialminus\": [[0.0, \"#0d0887\"], [0.1111111111111111, \"#46039f\"], [0.2222222222222222, \"#7201a8\"], [0.3333333333333333, \"#9c179e\"], [0.4444444444444444, \"#bd3786\"], [0.5555555555555556, \"#d8576b\"], [0.6666666666666666, \"#ed7953\"], [0.7777777777777778, \"#fb9f3a\"], [0.8888888888888888, \"#fdca26\"], [1.0, \"#f0f921\"]]}, \"colorway\": [\"#636efa\", \"#EF553B\", \"#00cc96\", \"#ab63fa\", \"#FFA15A\", \"#19d3f3\", \"#FF6692\", \"#B6E880\", \"#FF97FF\", \"#FECB52\"], \"font\": {\"color\": \"#2a3f5f\"}, \"geo\": {\"bgcolor\": \"white\", \"lakecolor\": \"white\", \"landcolor\": \"#E5ECF6\", \"showlakes\": true, \"showland\": true, \"subunitcolor\": \"white\"}, \"hoverlabel\": {\"align\": \"left\"}, \"hovermode\": \"closest\", \"mapbox\": {\"style\": \"light\"}, \"paper_bgcolor\": \"white\", \"plot_bgcolor\": \"#E5ECF6\", \"polar\": {\"angularaxis\": {\"gridcolor\": \"white\", \"linecolor\": \"white\", \"ticks\": \"\"}, \"bgcolor\": \"#E5ECF6\", \"radialaxis\": {\"gridcolor\": \"white\", \"linecolor\": \"white\", \"ticks\": \"\"}}, \"scene\": {\"xaxis\": {\"backgroundcolor\": \"#E5ECF6\", \"gridcolor\": \"white\", \"gridwidth\": 2, \"linecolor\": \"white\", \"showbackground\": true, \"ticks\": \"\", \"zerolinecolor\": \"white\"}, \"yaxis\": {\"backgroundcolor\": \"#E5ECF6\", \"gridcolor\": \"white\", \"gridwidth\": 2, \"linecolor\": \"white\", \"showbackground\": true, \"ticks\": \"\", \"zerolinecolor\": \"white\"}, \"zaxis\": {\"backgroundcolor\": \"#E5ECF6\", \"gridcolor\": \"white\", \"gridwidth\": 2, \"linecolor\": \"white\", \"showbackground\": true, \"ticks\": \"\", \"zerolinecolor\": \"white\"}}, \"shapedefaults\": {\"line\": {\"color\": \"#2a3f5f\"}}, \"ternary\": {\"aaxis\": {\"gridcolor\": \"white\", \"linecolor\": \"white\", \"ticks\": \"\"}, \"baxis\": {\"gridcolor\": \"white\", \"linecolor\": \"white\", \"ticks\": \"\"}, \"bgcolor\": \"#E5ECF6\", \"caxis\": {\"gridcolor\": \"white\", \"linecolor\": \"white\", \"ticks\": \"\"}}, \"title\": {\"x\": 0.05}, \"xaxis\": {\"automargin\": true, \"gridcolor\": \"white\", \"linecolor\": \"white\", \"ticks\": \"\", \"title\": {\"standoff\": 15}, \"zerolinecolor\": \"white\", \"zerolinewidth\": 2}, \"yaxis\": {\"automargin\": true, \"gridcolor\": \"white\", \"linecolor\": \"white\", \"ticks\": \"\", \"title\": {\"standoff\": 15}, \"zerolinecolor\": \"white\", \"zerolinewidth\": 2}}}, \"width\": 980},                        {\"responsive\": true}                    ).then(function(){\n",
       "                            \n",
       "var gd = document.getElementById('32757a1b-9ee2-4041-be04-15ccc0e540d3');\n",
       "var x = new MutationObserver(function (mutations, observer) {{\n",
       "        var display = window.getComputedStyle(gd).display;\n",
       "        if (!display || display === 'none') {{\n",
       "            console.log([gd, 'removed!']);\n",
       "            Plotly.purge(gd);\n",
       "            observer.disconnect();\n",
       "        }}\n",
       "}});\n",
       "\n",
       "// Listen for the removal of the full notebook cells\n",
       "var notebookContainer = gd.closest('#notebook-container');\n",
       "if (notebookContainer) {{\n",
       "    x.observe(notebookContainer, {childList: true});\n",
       "}}\n",
       "\n",
       "// Listen for the clearing of the current output cell\n",
       "var outputEl = gd.closest('.output');\n",
       "if (outputEl) {{\n",
       "    x.observe(outputEl, {childList: true});\n",
       "}}\n",
       "\n",
       "                        })                };                });            </script>        </div>"
      ]
     },
     "metadata": {},
     "output_type": "display_data"
    }
   ],
   "source": [
    "xs = census_city_sorted_top['locality_mt'] + ' - ' + census_city_sorted_top['partition_dt']\n",
    "ys = census_city_sorted_top['distance']\n",
    "\n",
    "# Plot data as Bar Vertical Histogram\n",
    "plotBarLocality(xs, ys, barcolors = BAR_COLORS[13], linecolors = BAR_LINE_COLORS[14])"
   ]
  },
  {
   "cell_type": "markdown",
   "metadata": {},
   "source": [
    "# Гео-визуализация на карте отклонений расстояний городов Census"
   ]
  },
  {
   "cell_type": "code",
   "execution_count": 76,
   "metadata": {},
   "outputs": [],
   "source": [
    "census_one_month = census[census['partition_dt'] == '2020-04-01'].reset_index()"
   ]
  },
  {
   "cell_type": "code",
   "execution_count": 77,
   "metadata": {
    "scrolled": true
   },
   "outputs": [
    {
     "data": {
      "application/vnd.plotly.v1+json": {
       "config": {
        "plotlyServerURL": "https://plot.ly"
       },
       "data": [
        {
         "lat": [
          55.755814,
          55.7472562844902
         ],
         "legendgroup": "Линии",
         "lon": [
          37.617635,
          37.60908591739412
         ],
         "marker": {
          "color": "black",
          "opacity": 0.5,
          "size": 5
         },
         "mode": "lines",
         "name": "Линия Москва - Москва",
         "showlegend": false,
         "text": "Москва - Москва",
         "type": "scattermapbox"
        },
        {
         "lat": [
          59.939094999999995,
          59.90234502605
         ],
         "legendgroup": "Линии",
         "lon": [
          30.315868,
          30.331197179075
         ],
         "marker": {
          "color": "black",
          "opacity": 0.5,
          "size": 5
         },
         "mode": "lines",
         "name": "Линия Санкт-Петербург - Санкт-Петербург",
         "showlegend": false,
         "text": "Санкт-Петербург - Санкт-Петербург",
         "type": "scattermapbox"
        },
        {
         "lat": [
          55.030198999999996,
          55.59329324407001
         ],
         "legendgroup": "Линии",
         "lon": [
          82.92043000000001,
          82.37655319132
         ],
         "marker": {
          "color": "black",
          "opacity": 0.5,
          "size": 5
         },
         "mode": "lines",
         "name": "Линия Новосибирская область - Новосибирск",
         "showlegend": false,
         "text": "Новосибирская область - Новосибирск",
         "type": "scattermapbox"
        },
        {
         "lat": [
          56.5,
          56.82300418398667
         ],
         "legendgroup": "Линии",
         "lon": [
          60.35,
          60.62346513068001
         ],
         "marker": {
          "color": "black",
          "opacity": 0.5,
          "size": 5
         },
         "mode": "lines",
         "name": "Линия Свердловская область - Екатеринбург",
         "showlegend": false,
         "text": "Свердловская область - Екатеринбург",
         "type": "scattermapbox"
        },
        {
         "lat": [
          55.159896999999994,
          55.164073222540004
         ],
         "legendgroup": "Линии",
         "lon": [
          61.402554,
          61.389478065479985
         ],
         "marker": {
          "color": "black",
          "opacity": 0.5,
          "size": 5
         },
         "mode": "lines",
         "name": "Линия Челябинская область - Челябинск",
         "showlegend": false,
         "text": "Челябинская область - Челябинск",
         "type": "scattermapbox"
        },
        {
         "lat": [
          54.735147,
          54.73736992471765
         ],
         "legendgroup": "Линии",
         "lon": [
          55.958727,
          56.00787108621765
         ],
         "marker": {
          "color": "black",
          "opacity": 0.5,
          "size": 5
         },
         "mode": "lines",
         "name": "Линия Республика Башкортостан - Уфа",
         "showlegend": false,
         "text": "Республика Башкортостан - Уфа",
         "type": "scattermapbox"
        },
        {
         "lat": [
          53.195538,
          53.226141302950005
         ],
         "legendgroup": "Линии",
         "lon": [
          50.101783000000005,
          50.19025610856667
         ],
         "marker": {
          "color": "black",
          "opacity": 0.5,
          "size": 5
         },
         "mode": "lines",
         "name": "Линия Самарская область - Самара",
         "showlegend": false,
         "text": "Самарская область - Самара",
         "type": "scattermapbox"
        },
        {
         "lat": [
          54.98934200000001,
          55.12778985317142
         ],
         "legendgroup": "Линии",
         "lon": [
          73.368212,
          73.21248352894285
         ],
         "marker": {
          "color": "black",
          "opacity": 0.5,
          "size": 5
         },
         "mode": "lines",
         "name": "Линия Омская область - Омск",
         "showlegend": false,
         "text": "Омская область - Омск",
         "type": "scattermapbox"
        },
        {
         "lat": [
          56.010563,
          56.04594584034444
         ],
         "legendgroup": "Линии",
         "lon": [
          92.852572,
          92.84427225434445
         ],
         "marker": {
          "color": "black",
          "opacity": 0.5,
          "size": 5
         },
         "mode": "lines",
         "name": "Линия Красноярский край - Красноярск",
         "showlegend": false,
         "text": "Красноярский край - Красноярск",
         "type": "scattermapbox"
        },
        {
         "lat": [
          45.02,
          45.05511406813332
         ],
         "legendgroup": "Линии",
         "lon": [
          38.59,
          38.99892627756001
         ],
         "marker": {
          "color": "black",
          "opacity": 0.5,
          "size": 5
         },
         "mode": "lines",
         "name": "Линия Краснодарский край - Краснодар",
         "showlegend": false,
         "text": "Краснодарский край - Краснодар",
         "type": "scattermapbox"
        },
        {
         "lat": [
          56.326797,
          56.17461826633751
         ],
         "legendgroup": "Линии",
         "lon": [
          44.006516,
          44.05248272491249
         ],
         "marker": {
          "color": "black",
          "opacity": 0.5,
          "size": 5
         },
         "mode": "lines",
         "name": "Линия Нижегородская область - Нижний Новгород",
         "showlegend": false,
         "text": "Нижегородская область - Нижний Новгород",
         "type": "scattermapbox"
        },
        {
         "lat": [
          51.660781,
          51.6800396205
         ],
         "legendgroup": "Линии",
         "lon": [
          39.200269,
          39.207042508966666
         ],
         "marker": {
          "color": "black",
          "opacity": 0.5,
          "size": 5
         },
         "mode": "lines",
         "name": "Линия Воронежская область - Воронеж",
         "showlegend": false,
         "text": "Воронежская область - Воронеж",
         "type": "scattermapbox"
        },
        {
         "lat": [
          58.01045,
          57.994648795649994
         ],
         "legendgroup": "Линии",
         "lon": [
          56.229434,
          56.234655537150005
         ],
         "marker": {
          "color": "black",
          "opacity": 0.5,
          "size": 5
         },
         "mode": "lines",
         "name": "Линия Пермский край - Пермь",
         "showlegend": false,
         "text": "Пермский край - Пермь",
         "type": "scattermapbox"
        },
        {
         "lat": [
          55.796289,
          55.79580015614286
         ],
         "legendgroup": "Линии",
         "lon": [
          49.108795,
          49.15510143304286
         ],
         "marker": {
          "color": "black",
          "opacity": 0.5,
          "size": 5
         },
         "mode": "lines",
         "name": "Линия Республика Татарстан - Казань",
         "showlegend": false,
         "text": "Республика Татарстан - Казань",
         "type": "scattermapbox"
        },
        {
         "lat": [
          52.287054,
          52.279485120427275
         ],
         "legendgroup": "Линии",
         "lon": [
          104.281047,
          104.28339945697272
         ],
         "marker": {
          "color": "black",
          "opacity": 0.5,
          "size": 5
         },
         "mode": "lines",
         "name": "Линия Иркутская область - Иркутск",
         "showlegend": false,
         "text": "Иркутская область - Иркутск",
         "type": "scattermapbox"
        },
        {
         "lat": [
          47.222078,
          47.242371454063644
         ],
         "legendgroup": "Линии",
         "lon": [
          39.720349,
          39.7154392538
         ],
         "marker": {
          "color": "black",
          "opacity": 0.5,
          "size": 5
         },
         "mode": "lines",
         "name": "Линия Ростовская область - Ростов-на-Дону",
         "showlegend": false,
         "text": "Ростовская область - Ростов-на-Дону",
         "type": "scattermapbox"
        },
        {
         "lat": [
          48.707066999999995,
          48.70042876570909
         ],
         "legendgroup": "Линии",
         "lon": [
          44.516948,
          44.49951766678183
         ],
         "marker": {
          "color": "black",
          "opacity": 0.5,
          "size": 5
         },
         "mode": "lines",
         "name": "Линия Волгоградская область - Волгоград",
         "showlegend": false,
         "text": "Волгоградская область - Волгоград",
         "type": "scattermapbox"
        },
        {
         "lat": [
          56.8745655,
          56.85782113898001
         ],
         "legendgroup": "Линии",
         "lon": [
          53.17911949999999,
          53.252546989920006
         ],
         "marker": {
          "color": "black",
          "opacity": 0.5,
          "size": 5
         },
         "mode": "lines",
         "name": "Линия Удмуртская Республика - Ижевск",
         "showlegend": false,
         "text": "Удмуртская Республика - Ижевск",
         "type": "scattermapbox"
        },
        {
         "lat": [
          48.480222999999995,
          48.475258868666664
         ],
         "legendgroup": "Линии",
         "lon": [
          135.07191699999998,
          135.08203310438333
         ],
         "marker": {
          "color": "black",
          "opacity": 0.5,
          "size": 5
         },
         "mode": "lines",
         "name": "Линия Хабаровский край - Хабаровск",
         "showlegend": false,
         "text": "Хабаровский край - Хабаровск",
         "type": "scattermapbox"
        },
        {
         "lat": [
          57.15303299999999,
          57.78855385621537
         ],
         "legendgroup": "Линии",
         "lon": [
          65.534328,
          64.90469010821539
         ],
         "marker": {
          "color": "black",
          "opacity": 0.5,
          "size": 5
         },
         "mode": "lines",
         "name": "Линия Тюменская область - Тюмень",
         "showlegend": false,
         "text": "Тюменская область - Тюмень",
         "type": "scattermapbox"
        },
        {
         "lat": [
          56.4362295,
          57.20809724792
         ],
         "legendgroup": "Линии",
         "lon": [
          85.009911,
          84.25058314834999
         ],
         "marker": {
          "color": "black",
          "opacity": 0.5,
          "size": 5
         },
         "mode": "lines",
         "name": "Линия Томская область - Томск",
         "showlegend": false,
         "text": "Томская область - Томск",
         "type": "scattermapbox"
        },
        {
         "lat": [
          43.115536,
          43.122097349600004
         ],
         "legendgroup": "Линии",
         "lon": [
          131.88548500000002,
          131.9175785290125
         ],
         "marker": {
          "color": "black",
          "opacity": 0.5,
          "size": 5
         },
         "mode": "lines",
         "name": "Линия Приморский край - Владивосток",
         "showlegend": false,
         "text": "Приморский край - Владивосток",
         "type": "scattermapbox"
        },
        {
         "lat": [
          53.346785,
          55.07166650243334
         ],
         "legendgroup": "Линии",
         "lon": [
          83.77685600000001,
          82.03029287501109
         ],
         "marker": {
          "color": "black",
          "opacity": 0.5,
          "size": 5
         },
         "mode": "lines",
         "name": "Линия Алтайский край - Барнаул",
         "showlegend": false,
         "text": "Алтайский край - Барнаул",
         "type": "scattermapbox"
        },
        {
         "lat": [
          51.533103000000004,
          51.56012181606
         ],
         "legendgroup": "Линии",
         "lon": [
          46.034158000000005,
          45.99470886716998
         ],
         "marker": {
          "color": "black",
          "opacity": 0.5,
          "size": 5
         },
         "mode": "lines",
         "name": "Линия Саратовская область - Саратов",
         "showlegend": false,
         "text": "Саратовская область - Саратов",
         "type": "scattermapbox"
        },
        {
         "lat": [
          54.710156999999995,
          54.72444493272857
         ],
         "legendgroup": "Линии",
         "lon": [
          20.510137,
          20.48728280155714
         ],
         "marker": {
          "color": "black",
          "opacity": 0.5,
          "size": 5
         },
         "mode": "lines",
         "name": "Линия Калининградская область - Калининград",
         "showlegend": false,
         "text": "Калининградская область - Калининград",
         "type": "scattermapbox"
        },
        {
         "lat": [
          51.768198999999996,
          51.79485794871667
         ],
         "legendgroup": "Линии",
         "lon": [
          55.096955,
          55.12350195189999
         ],
         "marker": {
          "color": "black",
          "opacity": 0.5,
          "size": 5
         },
         "mode": "lines",
         "name": "Линия Оренбургская область - Оренбург",
         "showlegend": false,
         "text": "Оренбургская область - Оренбург",
         "type": "scattermapbox"
        },
        {
         "lat": [
          55.354727000000004,
          59.78492774255713
         ],
         "legendgroup": "Линии",
         "lon": [
          86.088374,
          81.66894848605713
         ],
         "marker": {
          "color": "black",
          "opacity": 0.5,
          "size": 5
         },
         "mode": "lines",
         "name": "Линия Кемеровская область - Кемерово",
         "showlegend": false,
         "text": "Кемеровская область - Кемерово",
         "type": "scattermapbox"
        },
        {
         "lat": [
          55.888740000000006,
          55.90648654620714
         ],
         "legendgroup": "Линии",
         "lon": [
          37.43039,
          37.43450732162857
         ],
         "marker": {
          "color": "black",
          "opacity": 0.5,
          "size": 5
         },
         "mode": "lines",
         "name": "Линия Московская область - Химки",
         "showlegend": false,
         "text": "Московская область - Химки",
         "type": "scattermapbox"
        },
        {
         "lat": [
          43.585525,
          43.510840541718174
         ],
         "legendgroup": "Линии",
         "lon": [
          39.723062,
          39.83286022404545
         ],
         "marker": {
          "color": "black",
          "opacity": 0.5,
          "size": 5
         },
         "mode": "lines",
         "name": "Линия Краснодарский край - Сочи",
         "showlegend": false,
         "text": "Краснодарский край - Сочи",
         "type": "scattermapbox"
        },
        {
         "lat": [
          58.603591,
          58.58490912915999
         ],
         "legendgroup": "Линии",
         "lon": [
          49.668014,
          49.657054978919994
         ],
         "marker": {
          "color": "black",
          "opacity": 0.5,
          "size": 5
         },
         "mode": "lines",
         "name": "Линия Кировская область - Киров",
         "showlegend": false,
         "text": "Кировская область - Киров",
         "type": "scattermapbox"
        },
        {
         "lat": [
          57.62655899999999,
          55.380978038550005
         ],
         "legendgroup": "Линии",
         "lon": [
          39.893803999999996,
          42.095849542012495
         ],
         "marker": {
          "color": "black",
          "opacity": 0.5,
          "size": 5
         },
         "mode": "lines",
         "name": "Линия Ярославская область - Ярославль",
         "showlegend": false,
         "text": "Ярославская область - Ярославль",
         "type": "scattermapbox"
        },
        {
         "lat": [
          53.5088,
          53.52836569703751
         ],
         "legendgroup": "Линии",
         "lon": [
          49.41918,
          49.34659042426251
         ],
         "marker": {
          "color": "black",
          "opacity": 0.5,
          "size": 5
         },
         "mode": "lines",
         "name": "Линия Самарская область - Тольятти",
         "showlegend": false,
         "text": "Самарская область - Тольятти",
         "type": "scattermapbox"
        },
        {
         "lat": [
          54.314192000000006,
          54.30707657187776
         ],
         "legendgroup": "Линии",
         "lon": [
          48.403123,
          48.347150338811105
         ],
         "marker": {
          "color": "black",
          "opacity": 0.5,
          "size": 5
         },
         "mode": "lines",
         "name": "Линия Ульяновская область - Ульяновск",
         "showlegend": false,
         "text": "Ульяновская область - Ульяновск",
         "type": "scattermapbox"
        },
        {
         "lat": [
          54.62921600000001,
          54.63161432332
         ],
         "legendgroup": "Линии",
         "lon": [
          39.736375,
          39.716121476279994
         ],
         "marker": {
          "color": "black",
          "opacity": 0.5,
          "size": 5
         },
         "mode": "lines",
         "name": "Линия Рязанская область - Рязань",
         "showlegend": false,
         "text": "Рязанская область - Рязань",
         "type": "scattermapbox"
        },
        {
         "lat": [
          52.033635,
          52.04109209383999
         ],
         "legendgroup": "Линии",
         "lon": [
          113.501049,
          113.49374957820001
         ],
         "marker": {
          "color": "black",
          "opacity": 0.5,
          "size": 5
         },
         "mode": "lines",
         "name": "Линия Забайкальский край - Чита",
         "showlegend": false,
         "text": "Забайкальский край - Чита",
         "type": "scattermapbox"
        },
        {
         "lat": [
          50.595414,
          50.60000374924444
         ],
         "legendgroup": "Линии",
         "lon": [
          36.587268,
          36.58384602355556
         ],
         "marker": {
          "color": "black",
          "opacity": 0.5,
          "size": 5
         },
         "mode": "lines",
         "name": "Линия Белгородская область - Белгород",
         "showlegend": false,
         "text": "Белгородская область - Белгород",
         "type": "scattermapbox"
        },
        {
         "lat": [
          54.193121999999995,
          54.168283496880015
         ],
         "legendgroup": "Линии",
         "lon": [
          37.617348,
          37.60937762324
         ],
         "marker": {
          "color": "black",
          "opacity": 0.5,
          "size": 5
         },
         "mode": "lines",
         "name": "Линия Тульская область - Тула",
         "showlegend": false,
         "text": "Тульская область - Тула",
         "type": "scattermapbox"
        },
        {
         "lat": [
          61.254034999999995,
          61.2631859224875
         ],
         "legendgroup": "Линии",
         "lon": [
          73.396221,
          73.3795305893125
         ],
         "marker": {
          "color": "black",
          "opacity": 0.5,
          "size": 5
         },
         "mode": "lines",
         "name": "Линия Ханты-Мансийский автон... - Сургут",
         "showlegend": false,
         "text": "Ханты-Мансийский автон... - Сургут",
         "type": "scattermapbox"
        },
        {
         "lat": [
          56.143529,
          56.1148182755
         ],
         "legendgroup": "Линии",
         "lon": [
          47.251123,
          47.27338309707145
         ],
         "marker": {
          "color": "black",
          "opacity": 0.5,
          "size": 5
         },
         "mode": "lines",
         "name": "Линия Чувашская Республика - Чебоксары",
         "showlegend": false,
         "text": "Чувашская Республика - Чебоксары",
         "type": "scattermapbox"
        },
        {
         "lat": [
          56.859846999999995,
          56.84797654997002
         ],
         "legendgroup": "Линии",
         "lon": [
          35.911995000000005,
          35.889208563980006
         ],
         "marker": {
          "color": "black",
          "opacity": 0.5,
          "size": 5
         },
         "mode": "lines",
         "name": "Линия Тверская область - Тверь",
         "showlegend": false,
         "text": "Тверская область - Тверь",
         "type": "scattermapbox"
        },
        {
         "lat": [
          56.08,
          56.1214999829
         ],
         "legendgroup": "Линии",
         "lon": [
          40.25,
          40.387047988877775
         ],
         "marker": {
          "color": "black",
          "opacity": 0.5,
          "size": 5
         },
         "mode": "lines",
         "name": "Линия Владимирская область - Владимир",
         "showlegend": false,
         "text": "Владимирская область - Владимир",
         "type": "scattermapbox"
        },
        {
         "lat": [
          45.04333,
          45.04253720122
         ],
         "legendgroup": "Линии",
         "lon": [
          41.969101,
          41.95607730462
         ],
         "marker": {
          "color": "black",
          "opacity": 0.5,
          "size": 5
         },
         "mode": "lines",
         "name": "Линия Ставропольский край - Ставрополь",
         "showlegend": false,
         "text": "Ставропольский край - Ставрополь",
         "type": "scattermapbox"
        },
        {
         "lat": [
          62.027216,
          62.032894316325006
         ],
         "legendgroup": "Линии",
         "lon": [
          129.732178,
          129.73331840662502
         ],
         "marker": {
          "color": "black",
          "opacity": 0.5,
          "size": 5
         },
         "mode": "lines",
         "name": "Линия Республика Саха (Якутия) - Якутск",
         "showlegend": false,
         "text": "Республика Саха (Якутия) - Якутск",
         "type": "scattermapbox"
        },
        {
         "lat": [
          53.195042,
          53.22019819302
         ],
         "legendgroup": "Линии",
         "lon": [
          45.018316,
          45.00634880127999
         ],
         "marker": {
          "color": "black",
          "opacity": 0.5,
          "size": 5
         },
         "mode": "lines",
         "name": "Линия Пензенская область - Пенза",
         "showlegend": false,
         "text": "Пензенская область - Пенза",
         "type": "scattermapbox"
        },
        {
         "lat": [
          51.73083,
          51.73607364898571
         ],
         "legendgroup": "Линии",
         "lon": [
          36.193186,
          36.15788406989999
         ],
         "marker": {
          "color": "black",
          "opacity": 0.5,
          "size": 5
         },
         "mode": "lines",
         "name": "Линия Курская область - Курск",
         "showlegend": false,
         "text": "Курская область - Курск",
         "type": "scattermapbox"
        },
        {
         "lat": [
          54.782635,
          54.780857579774995
         ],
         "legendgroup": "Линии",
         "lon": [
          32.045251,
          32.050663459987504
         ],
         "marker": {
          "color": "black",
          "opacity": 0.5,
          "size": 5
         },
         "mode": "lines",
         "name": "Линия Смоленская область - Смоленск",
         "showlegend": false,
         "text": "Смоленская область - Смоленск",
         "type": "scattermapbox"
        },
        {
         "lat": [
          51.834464000000004,
          51.82904227699999
         ],
         "legendgroup": "Линии",
         "lon": [
          107.584574,
          107.59980583402498
         ],
         "marker": {
          "color": "black",
          "opacity": 0.5,
          "size": 5
         },
         "mode": "lines",
         "name": "Линия Республика Бурятия - Улан-Удэ",
         "showlegend": false,
         "text": "Республика Бурятия - Улан-Удэ",
         "type": "scattermapbox"
        },
        {
         "lat": [
          46.347614,
          46.35120487773332
         ],
         "legendgroup": "Линии",
         "lon": [
          48.030169,
          48.03628564153333
         ],
         "marker": {
          "color": "black",
          "opacity": 0.5,
          "size": 5
         },
         "mode": "lines",
         "name": "Линия Астраханская область - Астрахань",
         "showlegend": false,
         "text": "Астраханская область - Астрахань",
         "type": "scattermapbox"
        },
        {
         "lat": [
          53.407157999999995,
          53.39140237401428
         ],
         "legendgroup": "Линии",
         "lon": [
          58.980281999999995,
          58.97004669901428
         ],
         "marker": {
          "color": "black",
          "opacity": 0.5,
          "size": 5
         },
         "mode": "lines",
         "name": "Линия Челябинская область - Магнитогорск",
         "showlegend": false,
         "text": "Челябинская область - Магнитогорск",
         "type": "scattermapbox"
        },
        {
         "lat": [
          59.220496,
          59.220038403516675
         ],
         "legendgroup": "Линии",
         "lon": [
          39.891523,
          39.90305711698333
         ],
         "marker": {
          "color": "black",
          "opacity": 0.5,
          "size": 5
         },
         "mode": "lines",
         "name": "Линия Вологодская область - Вологда",
         "showlegend": false,
         "text": "Вологодская область - Вологда",
         "type": "scattermapbox"
        },
        {
         "lat": [
          54.32,
          54.515911538481824
         ],
         "legendgroup": "Линии",
         "lon": [
          36.16,
          36.257397577409094
         ],
         "marker": {
          "color": "black",
          "opacity": 0.5,
          "size": 5
         },
         "mode": "lines",
         "name": "Линия Калужская область - Калуга",
         "showlegend": false,
         "text": "Калужская область - Калуга",
         "type": "scattermapbox"
        },
        {
         "lat": [
          64.539911,
          64.5333525116
         ],
         "legendgroup": "Линии",
         "lon": [
          40.515753000000004,
          40.5566509931
         ],
         "marker": {
          "color": "black",
          "opacity": 0.5,
          "size": 5
         },
         "mode": "lines",
         "name": "Линия Архангельская область - Архангельск",
         "showlegend": false,
         "text": "Архангельская область - Архангельск",
         "type": "scattermapbox"
        },
        {
         "lat": [
          52.721219,
          52.7350024456
         ],
         "legendgroup": "Линии",
         "lon": [
          41.452273999999996,
          41.44715610286668
         ],
         "marker": {
          "color": "black",
          "opacity": 0.5,
          "size": 5
         },
         "mode": "lines",
         "name": "Линия Тамбовская область - Тамбов",
         "showlegend": false,
         "text": "Тамбовская область - Тамбов",
         "type": "scattermapbox"
        },
        {
         "lat": [
          55.44100400000001,
          55.45045969455712
         ],
         "legendgroup": "Линии",
         "lon": [
          65.34111800000001,
          65.3269001127
         ],
         "marker": {
          "color": "black",
          "opacity": 0.5,
          "size": 5
         },
         "mode": "lines",
         "name": "Линия Курганская область - Курган",
         "showlegend": false,
         "text": "Курганская область - Курган",
         "type": "scattermapbox"
        },
        {
         "lat": [
          53.287848,
          53.257034823875
         ],
         "legendgroup": "Линии",
         "lon": [
          34.3171395,
          34.35348955110001
         ],
         "marker": {
          "color": "black",
          "opacity": 0.5,
          "size": 5
         },
         "mode": "lines",
         "name": "Линия Брянская область - Брянск",
         "showlegend": false,
         "text": "Брянская область - Брянск",
         "type": "scattermapbox"
        },
        {
         "lat": [
          55.7057135,
          55.727404298466666
         ],
         "legendgroup": "Линии",
         "lon": [
          52.344962,
          52.38959672188333
         ],
         "marker": {
          "color": "black",
          "opacity": 0.5,
          "size": 5
         },
         "mode": "lines",
         "name": "Линия Республика Татарстан - Набережные Челны",
         "showlegend": false,
         "text": "Республика Татарстан - Набережные Челны",
         "type": "scattermapbox"
        },
        {
         "lat": [
          52.608819999999994,
          52.59164071749999
         ],
         "legendgroup": "Линии",
         "lon": [
          39.59922,
          39.56140618916666
         ],
         "marker": {
          "color": "black",
          "opacity": 0.5,
          "size": 5
         },
         "mode": "lines",
         "name": "Линия Липецкая область - Липецк",
         "showlegend": false,
         "text": "Липецкая область - Липецк",
         "type": "scattermapbox"
        },
        {
         "lat": [
          68.58,
          68.96473231584
         ],
         "legendgroup": "Линии",
         "lon": [
          33.05,
          33.08395597338
         ],
         "marker": {
          "color": "black",
          "opacity": 0.5,
          "size": 5
         },
         "mode": "lines",
         "name": "Линия Мурманская область - Мурманск",
         "showlegend": false,
         "text": "Мурманская область - Мурманск",
         "type": "scattermapbox"
        },
        {
         "lat": [
          53.757546999999995,
          53.7697020085125
         ],
         "legendgroup": "Линии",
         "lon": [
          87.136044,
          87.1554696148
         ],
         "marker": {
          "color": "black",
          "opacity": 0.5,
          "size": 5
         },
         "mode": "lines",
         "name": "Линия Кемеровская область - Новокузнецк",
         "showlegend": false,
         "text": "Кемеровская область - Новокузнецк",
         "type": "scattermapbox"
        },
        {
         "lat": [
          56.151362,
          56.20052246849998
         ],
         "legendgroup": "Линии",
         "lon": [
          101.63408000000001,
          101.66829605027499
         ],
         "marker": {
          "color": "black",
          "opacity": 0.5,
          "size": 5
         },
         "mode": "lines",
         "name": "Линия Иркутская область - Братск",
         "showlegend": false,
         "text": "Иркутская область - Братск",
         "type": "scattermapbox"
        },
        {
         "lat": [
          57.000347999999995,
          56.973876906125
         ],
         "legendgroup": "Линии",
         "lon": [
          40.973921000000004,
          41.012521010724996
         ],
         "marker": {
          "color": "black",
          "opacity": 0.5,
          "size": 5
         },
         "mode": "lines",
         "name": "Линия Ивановская область - Иваново",
         "showlegend": false,
         "text": "Ивановская область - Иваново",
         "type": "scattermapbox"
        },
        {
         "lat": [
          52.544357999999995,
          52.521028630340005
         ],
         "legendgroup": "Линии",
         "lon": [
          103.88824,
          103.86909250622
         ],
         "marker": {
          "color": "black",
          "opacity": 0.5,
          "size": 5
         },
         "mode": "lines",
         "name": "Линия Иркутская область - Ангарск",
         "showlegend": false,
         "text": "Иркутская область - Ангарск",
         "type": "scattermapbox"
        },
        {
         "lat": [
          54.187433,
          54.1929995607
         ],
         "legendgroup": "Линии",
         "lon": [
          45.183938,
          45.16804768386667
         ],
         "marker": {
          "color": "black",
          "opacity": 0.5,
          "size": 5
         },
         "mode": "lines",
         "name": "Линия Республика Мордовия - Саранск",
         "showlegend": false,
         "text": "Республика Мордовия - Саранск",
         "type": "scattermapbox"
        },
        {
         "lat": [
          61.66879300000001,
          61.66835031835715
         ],
         "legendgroup": "Линии",
         "lon": [
          50.836399,
          50.82010973344287
         ],
         "marker": {
          "color": "black",
          "opacity": 0.5,
          "size": 5
         },
         "mode": "lines",
         "name": "Линия Республика Коми - Сыктывкар",
         "showlegend": false,
         "text": "Республика Коми - Сыктывкар",
         "type": "scattermapbox"
        },
        {
         "lat": [
          53.721152000000004,
          53.741467119499994
         ],
         "legendgroup": "Линии",
         "lon": [
          91.442387,
          91.4208739295
         ],
         "marker": {
          "color": "black",
          "opacity": 0.5,
          "size": 5
         },
         "mode": "lines",
         "name": "Линия Республика Хакасия - Абакан",
         "showlegend": false,
         "text": "Республика Хакасия - Абакан",
         "type": "scattermapbox"
        },
        {
         "lat": [
          50.257451,
          50.27154886368001
         ],
         "legendgroup": "Линии",
         "lon": [
          127.53461100000001,
          127.52419991526001
         ],
         "marker": {
          "color": "black",
          "opacity": 0.5,
          "size": 5
         },
         "mode": "lines",
         "name": "Линия Амурская область - Благовещенск",
         "showlegend": false,
         "text": "Амурская область - Благовещенск",
         "type": "scattermapbox"
        },
        {
         "lat": [
          55.796339,
          55.78740646165385
         ],
         "legendgroup": "Линии",
         "lon": [
          37.938199,
          37.940015256876926
         ],
         "marker": {
          "color": "black",
          "opacity": 0.5,
          "size": 5
         },
         "mode": "lines",
         "name": "Линия Московская область - Балашиха",
         "showlegend": false,
         "text": "Московская область - Балашиха",
         "type": "scattermapbox"
        },
        {
         "lat": [
          61.785017,
          61.78244697773332
         ],
         "legendgroup": "Линии",
         "lon": [
          34.346878000000004,
          34.3537685498
         ],
         "marker": {
          "color": "black",
          "opacity": 0.5,
          "size": 5
         },
         "mode": "lines",
         "name": "Линия Республика Карелия - Петрозаводск",
         "showlegend": false,
         "text": "Республика Карелия - Петрозаводск",
         "type": "scattermapbox"
        },
        {
         "lat": [
          59.122612,
          59.12951908738573
         ],
         "legendgroup": "Линии",
         "lon": [
          37.903461,
          37.94586305844286
         ],
         "marker": {
          "color": "black",
          "opacity": 0.5,
          "size": 5
         },
         "mode": "lines",
         "name": "Линия Вологодская область - Череповец",
         "showlegend": false,
         "text": "Вологодская область - Череповец",
         "type": "scattermapbox"
        },
        {
         "lat": [
          57.767961,
          57.75348841725001
         ],
         "legendgroup": "Линии",
         "lon": [
          40.926858,
          40.93371193998332
         ],
         "marker": {
          "color": "black",
          "opacity": 0.5,
          "size": 5
         },
         "mode": "lines",
         "name": "Линия Костромская область - Кострома",
         "showlegend": false,
         "text": "Костромская область - Кострома",
         "type": "scattermapbox"
        },
        {
         "lat": [
          52.58,
          52.95556914442001
         ],
         "legendgroup": "Линии",
         "lon": [
          36.05,
          36.061225387860006
         ],
         "marker": {
          "color": "black",
          "opacity": 0.5,
          "size": 5
         },
         "mode": "lines",
         "name": "Линия Орловская область - Орел",
         "showlegend": false,
         "text": "Орловская область - Орел",
         "type": "scattermapbox"
        },
        {
         "lat": [
          46.959148,
          46.954191580239986
         ],
         "legendgroup": "Линии",
         "lon": [
          142.737987,
          142.73703779919998
         ],
         "marker": {
          "color": "black",
          "opacity": 0.5,
          "size": 5
         },
         "mode": "lines",
         "name": "Линия Сахалинская область - Южно-Сахалинск",
         "showlegend": false,
         "text": "Сахалинская область - Южно-Сахалинск",
         "type": "scattermapbox"
        },
        {
         "lat": [
          53.630403,
          53.62713993436666
         ],
         "legendgroup": "Линии",
         "lon": [
          55.930825,
          55.9527493481
         ],
         "marker": {
          "color": "black",
          "opacity": 0.5,
          "size": 5
         },
         "mode": "lines",
         "name": "Линия Республика Башкортостан - Стерлитамак",
         "showlegend": false,
         "text": "Республика Башкортостан - Стерлитамак",
         "type": "scattermapbox"
        },
        {
         "lat": [
          57.819274,
          57.80277915651999
         ],
         "legendgroup": "Линии",
         "lon": [
          28.332451000000002,
          28.322839394680003
         ],
         "marker": {
          "color": "black",
          "opacity": 0.5,
          "size": 5
         },
         "mode": "lines",
         "name": "Линия Псковская область - Псков",
         "showlegend": false,
         "text": "Псковская область - Псков",
         "type": "scattermapbox"
        },
        {
         "lat": [
          44.616603999999995,
          44.588666162733325
         ],
         "legendgroup": "Линии",
         "lon": [
          33.525369,
          33.4839863626
         ],
         "marker": {
          "color": "black",
          "opacity": 0.5,
          "size": 5
         },
         "mode": "lines",
         "name": "Линия Севастополь - Севастополь",
         "showlegend": false,
         "text": "Севастополь - Севастополь",
         "type": "scattermapbox"
        },
        {
         "lat": [
          55.431177000000005,
          55.038109997350006
         ],
         "legendgroup": "Линии",
         "lon": [
          37.544737,
          37.899600935470005
         ],
         "marker": {
          "color": "black",
          "opacity": 0.5,
          "size": 5
         },
         "mode": "lines",
         "name": "Линия Московская область - Подольск",
         "showlegend": false,
         "text": "Московская область - Подольск",
         "type": "scattermapbox"
        },
        {
         "lat": [
          60.938545,
          60.93586462912859
         ],
         "legendgroup": "Линии",
         "lon": [
          76.558902,
          76.57912396018573
         ],
         "marker": {
          "color": "black",
          "opacity": 0.5,
          "size": 5
         },
         "mode": "lines",
         "name": "Линия Ханты-Мансийский автон... - Нижневартовск",
         "showlegend": false,
         "text": "Ханты-Мансийский автон... - Нижневартовск",
         "type": "scattermapbox"
        },
        {
         "lat": [
          56.631595,
          56.6345191468125
         ],
         "legendgroup": "Линии",
         "lon": [
          47.886178,
          47.890512030825
         ],
         "marker": {
          "color": "black",
          "opacity": 0.5,
          "size": 5
         },
         "mode": "lines",
         "name": "Линия Республика Марий Эл - Йошкар-Ола",
         "showlegend": false,
         "text": "Республика Марий Эл - Йошкар-Ола",
         "type": "scattermapbox"
        },
        {
         "lat": [
          64.562501,
          64.56535653990001
         ],
         "legendgroup": "Линии",
         "lon": [
          39.818175,
          39.811096207800006
         ],
         "marker": {
          "color": "black",
          "opacity": 0.5,
          "size": 5
         },
         "mode": "lines",
         "name": "Линия Архангельская область - Северодвинск",
         "showlegend": false,
         "text": "Архангельская область - Северодвинск",
         "type": "scattermapbox"
        },
        {
         "lat": [
          58.52281,
          58.53366965036667
         ],
         "legendgroup": "Линии",
         "lon": [
          31.269915,
          31.258403319466677
         ],
         "marker": {
          "color": "black",
          "opacity": 0.5,
          "size": 5
         },
         "mode": "lines",
         "name": "Линия Новгородская область - Великий Новгород",
         "showlegend": false,
         "text": "Новгородская область - Великий Новгород",
         "type": "scattermapbox"
        },
        {
         "lat": [
          47.22064,
          47.236783623079994
         ],
         "legendgroup": "Линии",
         "lon": [
          38.914713,
          38.92018530386
         ],
         "marker": {
          "color": "black",
          "opacity": 0.5,
          "size": 5
         },
         "mode": "lines",
         "name": "Линия Ростовская область - Таганрог",
         "showlegend": false,
         "text": "Ростовская область - Таганрог",
         "type": "scattermapbox"
        },
        {
         "lat": [
          57.907605000000004,
          57.91112891524998
         ],
         "legendgroup": "Линии",
         "lon": [
          59.972211,
          60.02420692417499
         ],
         "marker": {
          "color": "black",
          "opacity": 0.5,
          "size": 5
         },
         "mode": "lines",
         "name": "Линия Свердловская область - Нижний Тагил",
         "showlegend": false,
         "text": "Свердловская область - Нижний Тагил",
         "type": "scattermapbox"
        },
        {
         "lat": [
          51.229362,
          51.22947126919999
         ],
         "legendgroup": "Линии",
         "lon": [
          58.475196,
          58.50534584596668
         ],
         "marker": {
          "color": "black",
          "opacity": 0.5,
          "size": 5
         },
         "mode": "lines",
         "name": "Линия Оренбургская область - Орск",
         "showlegend": false,
         "text": "Оренбургская область - Орск",
         "type": "scattermapbox"
        },
        {
         "lat": [
          55.910483,
          55.91128564962857
         ],
         "legendgroup": "Линии",
         "lon": [
          37.736402000000005,
          37.748097798957126
         ],
         "marker": {
          "color": "black",
          "opacity": 0.5,
          "size": 5
         },
         "mode": "lines",
         "name": "Линия Московская область - Мытищи",
         "showlegend": false,
         "text": "Московская область - Мытищи",
         "type": "scattermapbox"
        },
        {
         "lat": [
          44.723912,
          44.714475794014284
         ],
         "legendgroup": "Линии",
         "lon": [
          37.768974,
          37.77453085557143
         ],
         "marker": {
          "color": "black",
          "opacity": 0.5,
          "size": 5
         },
         "mode": "lines",
         "name": "Линия Краснодарский край - Новороссийск",
         "showlegend": false,
         "text": "Краснодарский край - Новороссийск",
         "type": "scattermapbox"
        },
        {
         "lat": [
          55.831099,
          55.8242796473
         ],
         "legendgroup": "Линии",
         "lon": [
          37.330192,
          37.33111786736001
         ],
         "marker": {
          "color": "black",
          "opacity": 0.5,
          "size": 5
         },
         "mode": "lines",
         "name": "Линия Московская область - Красногорск",
         "showlegend": false,
         "text": "Московская область - Красногорск",
         "type": "scattermapbox"
        },
        {
         "lat": [
          56.238377,
          56.212628976975004
         ],
         "legendgroup": "Линии",
         "lon": [
          43.461625,
          43.46431591597501
         ],
         "marker": {
          "color": "black",
          "opacity": 0.5,
          "size": 5
         },
         "mode": "lines",
         "name": "Линия Нижегородская область - Дзержинск",
         "showlegend": false,
         "text": "Нижегородская область - Дзержинск",
         "type": "scattermapbox"
        },
        {
         "lat": [
          51.485489,
          51.487656484649996
         ],
         "legendgroup": "Линии",
         "lon": [
          46.126783,
          46.1244667022
         ],
         "marker": {
          "color": "black",
          "opacity": 0.5,
          "size": 5
         },
         "mode": "lines",
         "name": "Линия Саратовская область - Энгельс",
         "showlegend": false,
         "text": "Саратовская область - Энгельс",
         "type": "scattermapbox"
        },
        {
         "lat": [
          55.55,
          55.91954983179091
         ],
         "legendgroup": "Линии",
         "lon": [
          37.49,
          37.8452676858
         ],
         "marker": {
          "color": "black",
          "opacity": 0.5,
          "size": 5
         },
         "mode": "lines",
         "name": "Линия Московская область - Королев",
         "showlegend": false,
         "text": "Московская область - Королев",
         "type": "scattermapbox"
        },
        {
         "lat": [
          44.948237,
          44.955254024350005
         ],
         "legendgroup": "Линии",
         "lon": [
          34.100318,
          34.09766189855
         ],
         "marker": {
          "color": "black",
          "opacity": 0.5,
          "size": 5
         },
         "mode": "lines",
         "name": "Линия Республика Крым - Симферополь",
         "showlegend": false,
         "text": "Республика Крым - Симферополь",
         "type": "scattermapbox"
        },
        {
         "lat": [
          44.894965,
          44.89454854486667
         ],
         "legendgroup": "Линии",
         "lon": [
          37.31617,
          37.325957077300004
         ],
         "marker": {
          "color": "black",
          "opacity": 0.5,
          "size": 5
         },
         "mode": "lines",
         "name": "Линия Краснодарский край - Анапа",
         "showlegend": false,
         "text": "Краснодарский край - Анапа",
         "type": "scattermapbox"
        },
        {
         "lat": [
          44.039795,
          44.050839897974996
         ],
         "legendgroup": "Линии",
         "lon": [
          43.070634000000005,
          43.051231565449996
         ],
         "marker": {
          "color": "black",
          "opacity": 0.5,
          "size": 5
         },
         "mode": "lines",
         "name": "Линия Ставропольский край - Пятигорск",
         "showlegend": false,
         "text": "Ставропольский край - Пятигорск",
         "type": "scattermapbox"
        },
        {
         "lat": [
          56.252922,
          56.239230379149994
         ],
         "legendgroup": "Линии",
         "lon": [
          93.532264,
          93.5250003596
         ],
         "marker": {
          "color": "black",
          "opacity": 0.5,
          "size": 5
         },
         "mode": "lines",
         "name": "Линия Красноярский край - Железногорск",
         "showlegend": false,
         "text": "Красноярский край - Железногорск",
         "type": "scattermapbox"
        },
        {
         "lat": [
          52.337971,
          52.3426769841
         ],
         "legendgroup": "Линии",
         "lon": [
          35.351743,
          35.35990619329999
         ],
         "marker": {
          "color": "black",
          "opacity": 0.5,
          "size": 5
         },
         "mode": "lines",
         "name": "Линия Курская область - Железногорск",
         "showlegend": false,
         "text": "Курская область - Железногорск",
         "type": "scattermapbox"
        },
        {
         "lat": [
          55.7472562844902,
          59.90234502605,
          55.59329324407001,
          56.82300418398667,
          55.164073222540004,
          54.73736992471765,
          53.226141302950005,
          55.12778985317142,
          56.04594584034444,
          45.05511406813332,
          56.17461826633751,
          51.6800396205,
          57.994648795649994,
          55.79580015614286,
          52.279485120427275,
          47.242371454063644,
          48.70042876570909,
          56.85782113898001,
          48.475258868666664,
          57.78855385621537,
          57.20809724792,
          43.122097349600004,
          55.07166650243334,
          51.56012181606,
          54.72444493272857,
          51.79485794871667,
          59.78492774255713,
          55.90648654620714,
          43.510840541718174,
          58.58490912915999,
          55.380978038550005,
          53.52836569703751,
          54.30707657187776,
          54.63161432332,
          52.04109209383999,
          50.60000374924444,
          54.168283496880015,
          61.2631859224875,
          56.1148182755,
          56.84797654997002,
          56.1214999829,
          45.04253720122,
          62.032894316325006,
          53.22019819302,
          51.73607364898571,
          54.780857579774995,
          51.82904227699999,
          46.35120487773332,
          53.39140237401428,
          59.220038403516675,
          54.515911538481824,
          64.5333525116,
          52.7350024456,
          55.45045969455712,
          53.257034823875,
          55.727404298466666,
          52.59164071749999,
          68.96473231584,
          53.7697020085125,
          56.20052246849998,
          56.973876906125,
          52.521028630340005,
          54.1929995607,
          61.66835031835715,
          53.741467119499994,
          50.27154886368001,
          55.78740646165385,
          61.78244697773332,
          59.12951908738573,
          57.75348841725001,
          52.95556914442001,
          46.954191580239986,
          53.62713993436666,
          57.80277915651999,
          44.588666162733325,
          55.038109997350006,
          60.93586462912859,
          56.6345191468125,
          64.56535653990001,
          58.53366965036667,
          47.236783623079994,
          57.91112891524998,
          51.22947126919999,
          55.91128564962857,
          44.714475794014284,
          55.8242796473,
          56.212628976975004,
          51.487656484649996,
          55.91954983179091,
          44.955254024350005,
          44.89454854486667,
          44.050839897974996,
          56.239230379149994,
          52.3426769841
         ],
         "lon": [
          37.60908591739412,
          30.331197179075,
          82.37655319132,
          60.62346513068001,
          61.389478065479985,
          56.00787108621765,
          50.19025610856667,
          73.21248352894285,
          92.84427225434445,
          38.99892627756001,
          44.05248272491249,
          39.207042508966666,
          56.234655537150005,
          49.15510143304286,
          104.28339945697272,
          39.7154392538,
          44.49951766678183,
          53.252546989920006,
          135.08203310438333,
          64.90469010821539,
          84.25058314834999,
          131.9175785290125,
          82.03029287501109,
          45.99470886716998,
          20.48728280155714,
          55.12350195189999,
          81.66894848605713,
          37.43450732162857,
          39.83286022404545,
          49.657054978919994,
          42.095849542012495,
          49.34659042426251,
          48.347150338811105,
          39.716121476279994,
          113.49374957820001,
          36.58384602355556,
          37.60937762324,
          73.3795305893125,
          47.27338309707145,
          35.889208563980006,
          40.387047988877775,
          41.95607730462,
          129.73331840662502,
          45.00634880127999,
          36.15788406989999,
          32.050663459987504,
          107.59980583402498,
          48.03628564153333,
          58.97004669901428,
          39.90305711698333,
          36.257397577409094,
          40.5566509931,
          41.44715610286668,
          65.3269001127,
          34.35348955110001,
          52.38959672188333,
          39.56140618916666,
          33.08395597338,
          87.1554696148,
          101.66829605027499,
          41.012521010724996,
          103.86909250622,
          45.16804768386667,
          50.82010973344287,
          91.4208739295,
          127.52419991526001,
          37.940015256876926,
          34.3537685498,
          37.94586305844286,
          40.93371193998332,
          36.061225387860006,
          142.73703779919998,
          55.9527493481,
          28.322839394680003,
          33.4839863626,
          37.899600935470005,
          76.57912396018573,
          47.890512030825,
          39.811096207800006,
          31.258403319466677,
          38.92018530386,
          60.02420692417499,
          58.50534584596668,
          37.748097798957126,
          37.77453085557143,
          37.33111786736001,
          43.46431591597501,
          46.1244667022,
          37.8452676858,
          34.09766189855,
          37.325957077300004,
          43.051231565449996,
          93.5250003596,
          35.35990619329999
         ],
         "marker": {
          "color": "red",
          "opacity": 0.7,
          "size": 10
         },
         "mode": "markers",
         "name": "Терминалы",
         "showlegend": true,
         "text": [
          "Москва - Москва",
          "Санкт-Петербург - Санкт-Петербург",
          "Новосибирская область - Новосибирск",
          "Свердловская область - Екатеринбург",
          "Челябинская область - Челябинск",
          "Республика Башкортостан - Уфа",
          "Самарская область - Самара",
          "Омская область - Омск",
          "Красноярский край - Красноярск",
          "Краснодарский край - Краснодар",
          "Нижегородская область - Нижний Новгород",
          "Воронежская область - Воронеж",
          "Пермский край - Пермь",
          "Республика Татарстан - Казань",
          "Иркутская область - Иркутск",
          "Ростовская область - Ростов-на-Дону",
          "Волгоградская область - Волгоград",
          "Удмуртская Республика - Ижевск",
          "Хабаровский край - Хабаровск",
          "Тюменская область - Тюмень",
          "Томская область - Томск",
          "Приморский край - Владивосток",
          "Алтайский край - Барнаул",
          "Саратовская область - Саратов",
          "Калининградская область - Калининград",
          "Оренбургская область - Оренбург",
          "Кемеровская область - Кемерово",
          "Московская область - Химки",
          "Краснодарский край - Сочи",
          "Кировская область - Киров",
          "Ярославская область - Ярославль",
          "Самарская область - Тольятти",
          "Ульяновская область - Ульяновск",
          "Рязанская область - Рязань",
          "Забайкальский край - Чита",
          "Белгородская область - Белгород",
          "Тульская область - Тула",
          "Ханты-Мансийский автон... - Сургут",
          "Чувашская Республика - Чебоксары",
          "Тверская область - Тверь",
          "Владимирская область - Владимир",
          "Ставропольский край - Ставрополь",
          "Республика Саха (Якутия) - Якутск",
          "Пензенская область - Пенза",
          "Курская область - Курск",
          "Смоленская область - Смоленск",
          "Республика Бурятия - Улан-Удэ",
          "Астраханская область - Астрахань",
          "Челябинская область - Магнитогорск",
          "Вологодская область - Вологда",
          "Калужская область - Калуга",
          "Архангельская область - Архангельск",
          "Тамбовская область - Тамбов",
          "Курганская область - Курган",
          "Брянская область - Брянск",
          "Республика Татарстан - Набережные Челны",
          "Липецкая область - Липецк",
          "Мурманская область - Мурманск",
          "Кемеровская область - Новокузнецк",
          "Иркутская область - Братск",
          "Ивановская область - Иваново",
          "Иркутская область - Ангарск",
          "Республика Мордовия - Саранск",
          "Республика Коми - Сыктывкар",
          "Республика Хакасия - Абакан",
          "Амурская область - Благовещенск",
          "Московская область - Балашиха",
          "Республика Карелия - Петрозаводск",
          "Вологодская область - Череповец",
          "Костромская область - Кострома",
          "Орловская область - Орел",
          "Сахалинская область - Южно-Сахалинск",
          "Республика Башкортостан - Стерлитамак",
          "Псковская область - Псков",
          "Севастополь - Севастополь",
          "Московская область - Подольск",
          "Ханты-Мансийский автон... - Нижневартовск",
          "Республика Марий Эл - Йошкар-Ола",
          "Архангельская область - Северодвинск",
          "Новгородская область - Великий Новгород",
          "Ростовская область - Таганрог",
          "Свердловская область - Нижний Тагил",
          "Оренбургская область - Орск",
          "Московская область - Мытищи",
          "Краснодарский край - Новороссийск",
          "Московская область - Красногорск",
          "Нижегородская область - Дзержинск",
          "Саратовская область - Энгельс",
          "Московская область - Королев",
          "Республика Крым - Симферополь",
          "Краснодарский край - Анапа",
          "Ставропольский край - Пятигорск",
          "Красноярский край - Железногорск",
          "Курская область - Железногорск"
         ],
         "type": "scattermapbox"
        },
        {
         "lat": [
          55.755814,
          59.939094999999995,
          55.030198999999996,
          56.5,
          55.159896999999994,
          54.735147,
          53.195538,
          54.98934200000001,
          56.010563,
          45.02,
          56.326797,
          51.660781,
          58.01045,
          55.796289,
          52.287054,
          47.222078,
          48.707066999999995,
          56.8745655,
          48.480222999999995,
          57.15303299999999,
          56.4362295,
          43.115536,
          53.346785,
          51.533103000000004,
          54.710156999999995,
          51.768198999999996,
          55.354727000000004,
          55.888740000000006,
          43.585525,
          58.603591,
          57.62655899999999,
          53.5088,
          54.314192000000006,
          54.62921600000001,
          52.033635,
          50.595414,
          54.193121999999995,
          61.254034999999995,
          56.143529,
          56.859846999999995,
          56.08,
          45.04333,
          62.027216,
          53.195042,
          51.73083,
          54.782635,
          51.834464000000004,
          46.347614,
          53.407157999999995,
          59.220496,
          54.32,
          64.539911,
          52.721219,
          55.44100400000001,
          53.287848,
          55.7057135,
          52.608819999999994,
          68.58,
          53.757546999999995,
          56.151362,
          57.000347999999995,
          52.544357999999995,
          54.187433,
          61.66879300000001,
          53.721152000000004,
          50.257451,
          55.796339,
          61.785017,
          59.122612,
          57.767961,
          52.58,
          46.959148,
          53.630403,
          57.819274,
          44.616603999999995,
          55.431177000000005,
          60.938545,
          56.631595,
          64.562501,
          58.52281,
          47.22064,
          57.907605000000004,
          51.229362,
          55.910483,
          44.723912,
          55.831099,
          56.238377,
          51.485489,
          55.55,
          44.948237,
          44.894965,
          44.039795,
          56.252922,
          52.337971
         ],
         "lon": [
          37.617635,
          30.315868,
          82.92043000000001,
          60.35,
          61.402554,
          55.958727,
          50.101783000000005,
          73.368212,
          92.852572,
          38.59,
          44.006516,
          39.200269,
          56.229434,
          49.108795,
          104.281047,
          39.720349,
          44.516948,
          53.17911949999999,
          135.07191699999998,
          65.534328,
          85.009911,
          131.88548500000002,
          83.77685600000001,
          46.034158000000005,
          20.510137,
          55.096955,
          86.088374,
          37.43039,
          39.723062,
          49.668014,
          39.893803999999996,
          49.41918,
          48.403123,
          39.736375,
          113.501049,
          36.587268,
          37.617348,
          73.396221,
          47.251123,
          35.911995000000005,
          40.25,
          41.969101,
          129.732178,
          45.018316,
          36.193186,
          32.045251,
          107.584574,
          48.030169,
          58.980281999999995,
          39.891523,
          36.16,
          40.515753000000004,
          41.452273999999996,
          65.34111800000001,
          34.3171395,
          52.344962,
          39.59922,
          33.05,
          87.136044,
          101.63408000000001,
          40.973921000000004,
          103.88824,
          45.183938,
          50.836399,
          91.442387,
          127.53461100000001,
          37.938199,
          34.346878000000004,
          37.903461,
          40.926858,
          36.05,
          142.737987,
          55.930825,
          28.332451000000002,
          33.525369,
          37.544737,
          76.558902,
          47.886178,
          39.818175,
          31.269915,
          38.914713,
          59.972211,
          58.475196,
          37.736402000000005,
          37.768974,
          37.330192,
          43.461625,
          46.126783,
          37.49,
          34.100318,
          37.31617,
          43.070634000000005,
          93.532264,
          35.351743
         ],
         "marker": {
          "color": "blue",
          "opacity": 0.7,
          "size": 10
         },
         "mode": "markers",
         "name": "Города",
         "showlegend": true,
         "text": [
          "Москва - Москва",
          "Санкт-Петербург - Санкт-Петербург",
          "Новосибирская область - Новосибирск",
          "Свердловская область - Екатеринбург",
          "Челябинская область - Челябинск",
          "Республика Башкортостан - Уфа",
          "Самарская область - Самара",
          "Омская область - Омск",
          "Красноярский край - Красноярск",
          "Краснодарский край - Краснодар",
          "Нижегородская область - Нижний Новгород",
          "Воронежская область - Воронеж",
          "Пермский край - Пермь",
          "Республика Татарстан - Казань",
          "Иркутская область - Иркутск",
          "Ростовская область - Ростов-на-Дону",
          "Волгоградская область - Волгоград",
          "Удмуртская Республика - Ижевск",
          "Хабаровский край - Хабаровск",
          "Тюменская область - Тюмень",
          "Томская область - Томск",
          "Приморский край - Владивосток",
          "Алтайский край - Барнаул",
          "Саратовская область - Саратов",
          "Калининградская область - Калининград",
          "Оренбургская область - Оренбург",
          "Кемеровская область - Кемерово",
          "Московская область - Химки",
          "Краснодарский край - Сочи",
          "Кировская область - Киров",
          "Ярославская область - Ярославль",
          "Самарская область - Тольятти",
          "Ульяновская область - Ульяновск",
          "Рязанская область - Рязань",
          "Забайкальский край - Чита",
          "Белгородская область - Белгород",
          "Тульская область - Тула",
          "Ханты-Мансийский автон... - Сургут",
          "Чувашская Республика - Чебоксары",
          "Тверская область - Тверь",
          "Владимирская область - Владимир",
          "Ставропольский край - Ставрополь",
          "Республика Саха (Якутия) - Якутск",
          "Пензенская область - Пенза",
          "Курская область - Курск",
          "Смоленская область - Смоленск",
          "Республика Бурятия - Улан-Удэ",
          "Астраханская область - Астрахань",
          "Челябинская область - Магнитогорск",
          "Вологодская область - Вологда",
          "Калужская область - Калуга",
          "Архангельская область - Архангельск",
          "Тамбовская область - Тамбов",
          "Курганская область - Курган",
          "Брянская область - Брянск",
          "Республика Татарстан - Набережные Челны",
          "Липецкая область - Липецк",
          "Мурманская область - Мурманск",
          "Кемеровская область - Новокузнецк",
          "Иркутская область - Братск",
          "Ивановская область - Иваново",
          "Иркутская область - Ангарск",
          "Республика Мордовия - Саранск",
          "Республика Коми - Сыктывкар",
          "Республика Хакасия - Абакан",
          "Амурская область - Благовещенск",
          "Московская область - Балашиха",
          "Республика Карелия - Петрозаводск",
          "Вологодская область - Череповец",
          "Костромская область - Кострома",
          "Орловская область - Орел",
          "Сахалинская область - Южно-Сахалинск",
          "Республика Башкортостан - Стерлитамак",
          "Псковская область - Псков",
          "Севастополь - Севастополь",
          "Московская область - Подольск",
          "Ханты-Мансийский автон... - Нижневартовск",
          "Республика Марий Эл - Йошкар-Ола",
          "Архангельская область - Северодвинск",
          "Новгородская область - Великий Новгород",
          "Ростовская область - Таганрог",
          "Свердловская область - Нижний Тагил",
          "Оренбургская область - Орск",
          "Московская область - Мытищи",
          "Краснодарский край - Новороссийск",
          "Московская область - Красногорск",
          "Нижегородская область - Дзержинск",
          "Саратовская область - Энгельс",
          "Московская область - Королев",
          "Республика Крым - Симферополь",
          "Краснодарский край - Анапа",
          "Ставропольский край - Пятигорск",
          "Красноярский край - Железногорск",
          "Курская область - Железногорск"
         ],
         "type": "scattermapbox"
        }
       ],
       "layout": {
        "height": 340,
        "legend": {
         "orientation": "h",
         "traceorder": "reversed",
         "x": 0.5,
         "xanchor": "center",
         "yanchor": "auto"
        },
        "mapbox": {
         "center": {
          "lat": 55.847768,
          "lon": 81.62406200000001
         },
         "style": "open-street-map",
         "zoom": 2.5
        },
        "margin": {
         "b": 5,
         "l": 5,
         "r": 5,
         "t": 5
        },
        "template": {
         "data": {
          "bar": [
           {
            "error_x": {
             "color": "#2a3f5f"
            },
            "error_y": {
             "color": "#2a3f5f"
            },
            "marker": {
             "line": {
              "color": "#E5ECF6",
              "width": 0.5
             }
            },
            "type": "bar"
           }
          ],
          "barpolar": [
           {
            "marker": {
             "line": {
              "color": "#E5ECF6",
              "width": 0.5
             }
            },
            "type": "barpolar"
           }
          ],
          "carpet": [
           {
            "aaxis": {
             "endlinecolor": "#2a3f5f",
             "gridcolor": "white",
             "linecolor": "white",
             "minorgridcolor": "white",
             "startlinecolor": "#2a3f5f"
            },
            "baxis": {
             "endlinecolor": "#2a3f5f",
             "gridcolor": "white",
             "linecolor": "white",
             "minorgridcolor": "white",
             "startlinecolor": "#2a3f5f"
            },
            "type": "carpet"
           }
          ],
          "choropleth": [
           {
            "colorbar": {
             "outlinewidth": 0,
             "ticks": ""
            },
            "type": "choropleth"
           }
          ],
          "contour": [
           {
            "colorbar": {
             "outlinewidth": 0,
             "ticks": ""
            },
            "colorscale": [
             [
              0,
              "#0d0887"
             ],
             [
              0.1111111111111111,
              "#46039f"
             ],
             [
              0.2222222222222222,
              "#7201a8"
             ],
             [
              0.3333333333333333,
              "#9c179e"
             ],
             [
              0.4444444444444444,
              "#bd3786"
             ],
             [
              0.5555555555555556,
              "#d8576b"
             ],
             [
              0.6666666666666666,
              "#ed7953"
             ],
             [
              0.7777777777777778,
              "#fb9f3a"
             ],
             [
              0.8888888888888888,
              "#fdca26"
             ],
             [
              1,
              "#f0f921"
             ]
            ],
            "type": "contour"
           }
          ],
          "contourcarpet": [
           {
            "colorbar": {
             "outlinewidth": 0,
             "ticks": ""
            },
            "type": "contourcarpet"
           }
          ],
          "heatmap": [
           {
            "colorbar": {
             "outlinewidth": 0,
             "ticks": ""
            },
            "colorscale": [
             [
              0,
              "#0d0887"
             ],
             [
              0.1111111111111111,
              "#46039f"
             ],
             [
              0.2222222222222222,
              "#7201a8"
             ],
             [
              0.3333333333333333,
              "#9c179e"
             ],
             [
              0.4444444444444444,
              "#bd3786"
             ],
             [
              0.5555555555555556,
              "#d8576b"
             ],
             [
              0.6666666666666666,
              "#ed7953"
             ],
             [
              0.7777777777777778,
              "#fb9f3a"
             ],
             [
              0.8888888888888888,
              "#fdca26"
             ],
             [
              1,
              "#f0f921"
             ]
            ],
            "type": "heatmap"
           }
          ],
          "heatmapgl": [
           {
            "colorbar": {
             "outlinewidth": 0,
             "ticks": ""
            },
            "colorscale": [
             [
              0,
              "#0d0887"
             ],
             [
              0.1111111111111111,
              "#46039f"
             ],
             [
              0.2222222222222222,
              "#7201a8"
             ],
             [
              0.3333333333333333,
              "#9c179e"
             ],
             [
              0.4444444444444444,
              "#bd3786"
             ],
             [
              0.5555555555555556,
              "#d8576b"
             ],
             [
              0.6666666666666666,
              "#ed7953"
             ],
             [
              0.7777777777777778,
              "#fb9f3a"
             ],
             [
              0.8888888888888888,
              "#fdca26"
             ],
             [
              1,
              "#f0f921"
             ]
            ],
            "type": "heatmapgl"
           }
          ],
          "histogram": [
           {
            "marker": {
             "colorbar": {
              "outlinewidth": 0,
              "ticks": ""
             }
            },
            "type": "histogram"
           }
          ],
          "histogram2d": [
           {
            "colorbar": {
             "outlinewidth": 0,
             "ticks": ""
            },
            "colorscale": [
             [
              0,
              "#0d0887"
             ],
             [
              0.1111111111111111,
              "#46039f"
             ],
             [
              0.2222222222222222,
              "#7201a8"
             ],
             [
              0.3333333333333333,
              "#9c179e"
             ],
             [
              0.4444444444444444,
              "#bd3786"
             ],
             [
              0.5555555555555556,
              "#d8576b"
             ],
             [
              0.6666666666666666,
              "#ed7953"
             ],
             [
              0.7777777777777778,
              "#fb9f3a"
             ],
             [
              0.8888888888888888,
              "#fdca26"
             ],
             [
              1,
              "#f0f921"
             ]
            ],
            "type": "histogram2d"
           }
          ],
          "histogram2dcontour": [
           {
            "colorbar": {
             "outlinewidth": 0,
             "ticks": ""
            },
            "colorscale": [
             [
              0,
              "#0d0887"
             ],
             [
              0.1111111111111111,
              "#46039f"
             ],
             [
              0.2222222222222222,
              "#7201a8"
             ],
             [
              0.3333333333333333,
              "#9c179e"
             ],
             [
              0.4444444444444444,
              "#bd3786"
             ],
             [
              0.5555555555555556,
              "#d8576b"
             ],
             [
              0.6666666666666666,
              "#ed7953"
             ],
             [
              0.7777777777777778,
              "#fb9f3a"
             ],
             [
              0.8888888888888888,
              "#fdca26"
             ],
             [
              1,
              "#f0f921"
             ]
            ],
            "type": "histogram2dcontour"
           }
          ],
          "mesh3d": [
           {
            "colorbar": {
             "outlinewidth": 0,
             "ticks": ""
            },
            "type": "mesh3d"
           }
          ],
          "parcoords": [
           {
            "line": {
             "colorbar": {
              "outlinewidth": 0,
              "ticks": ""
             }
            },
            "type": "parcoords"
           }
          ],
          "pie": [
           {
            "automargin": true,
            "type": "pie"
           }
          ],
          "scatter": [
           {
            "marker": {
             "colorbar": {
              "outlinewidth": 0,
              "ticks": ""
             }
            },
            "type": "scatter"
           }
          ],
          "scatter3d": [
           {
            "line": {
             "colorbar": {
              "outlinewidth": 0,
              "ticks": ""
             }
            },
            "marker": {
             "colorbar": {
              "outlinewidth": 0,
              "ticks": ""
             }
            },
            "type": "scatter3d"
           }
          ],
          "scattercarpet": [
           {
            "marker": {
             "colorbar": {
              "outlinewidth": 0,
              "ticks": ""
             }
            },
            "type": "scattercarpet"
           }
          ],
          "scattergeo": [
           {
            "marker": {
             "colorbar": {
              "outlinewidth": 0,
              "ticks": ""
             }
            },
            "type": "scattergeo"
           }
          ],
          "scattergl": [
           {
            "marker": {
             "colorbar": {
              "outlinewidth": 0,
              "ticks": ""
             }
            },
            "type": "scattergl"
           }
          ],
          "scattermapbox": [
           {
            "marker": {
             "colorbar": {
              "outlinewidth": 0,
              "ticks": ""
             }
            },
            "type": "scattermapbox"
           }
          ],
          "scatterpolar": [
           {
            "marker": {
             "colorbar": {
              "outlinewidth": 0,
              "ticks": ""
             }
            },
            "type": "scatterpolar"
           }
          ],
          "scatterpolargl": [
           {
            "marker": {
             "colorbar": {
              "outlinewidth": 0,
              "ticks": ""
             }
            },
            "type": "scatterpolargl"
           }
          ],
          "scatterternary": [
           {
            "marker": {
             "colorbar": {
              "outlinewidth": 0,
              "ticks": ""
             }
            },
            "type": "scatterternary"
           }
          ],
          "surface": [
           {
            "colorbar": {
             "outlinewidth": 0,
             "ticks": ""
            },
            "colorscale": [
             [
              0,
              "#0d0887"
             ],
             [
              0.1111111111111111,
              "#46039f"
             ],
             [
              0.2222222222222222,
              "#7201a8"
             ],
             [
              0.3333333333333333,
              "#9c179e"
             ],
             [
              0.4444444444444444,
              "#bd3786"
             ],
             [
              0.5555555555555556,
              "#d8576b"
             ],
             [
              0.6666666666666666,
              "#ed7953"
             ],
             [
              0.7777777777777778,
              "#fb9f3a"
             ],
             [
              0.8888888888888888,
              "#fdca26"
             ],
             [
              1,
              "#f0f921"
             ]
            ],
            "type": "surface"
           }
          ],
          "table": [
           {
            "cells": {
             "fill": {
              "color": "#EBF0F8"
             },
             "line": {
              "color": "white"
             }
            },
            "header": {
             "fill": {
              "color": "#C8D4E3"
             },
             "line": {
              "color": "white"
             }
            },
            "type": "table"
           }
          ]
         },
         "layout": {
          "annotationdefaults": {
           "arrowcolor": "#2a3f5f",
           "arrowhead": 0,
           "arrowwidth": 1
          },
          "autotypenumbers": "strict",
          "coloraxis": {
           "colorbar": {
            "outlinewidth": 0,
            "ticks": ""
           }
          },
          "colorscale": {
           "diverging": [
            [
             0,
             "#8e0152"
            ],
            [
             0.1,
             "#c51b7d"
            ],
            [
             0.2,
             "#de77ae"
            ],
            [
             0.3,
             "#f1b6da"
            ],
            [
             0.4,
             "#fde0ef"
            ],
            [
             0.5,
             "#f7f7f7"
            ],
            [
             0.6,
             "#e6f5d0"
            ],
            [
             0.7,
             "#b8e186"
            ],
            [
             0.8,
             "#7fbc41"
            ],
            [
             0.9,
             "#4d9221"
            ],
            [
             1,
             "#276419"
            ]
           ],
           "sequential": [
            [
             0,
             "#0d0887"
            ],
            [
             0.1111111111111111,
             "#46039f"
            ],
            [
             0.2222222222222222,
             "#7201a8"
            ],
            [
             0.3333333333333333,
             "#9c179e"
            ],
            [
             0.4444444444444444,
             "#bd3786"
            ],
            [
             0.5555555555555556,
             "#d8576b"
            ],
            [
             0.6666666666666666,
             "#ed7953"
            ],
            [
             0.7777777777777778,
             "#fb9f3a"
            ],
            [
             0.8888888888888888,
             "#fdca26"
            ],
            [
             1,
             "#f0f921"
            ]
           ],
           "sequentialminus": [
            [
             0,
             "#0d0887"
            ],
            [
             0.1111111111111111,
             "#46039f"
            ],
            [
             0.2222222222222222,
             "#7201a8"
            ],
            [
             0.3333333333333333,
             "#9c179e"
            ],
            [
             0.4444444444444444,
             "#bd3786"
            ],
            [
             0.5555555555555556,
             "#d8576b"
            ],
            [
             0.6666666666666666,
             "#ed7953"
            ],
            [
             0.7777777777777778,
             "#fb9f3a"
            ],
            [
             0.8888888888888888,
             "#fdca26"
            ],
            [
             1,
             "#f0f921"
            ]
           ]
          },
          "colorway": [
           "#636efa",
           "#EF553B",
           "#00cc96",
           "#ab63fa",
           "#FFA15A",
           "#19d3f3",
           "#FF6692",
           "#B6E880",
           "#FF97FF",
           "#FECB52"
          ],
          "font": {
           "color": "#2a3f5f"
          },
          "geo": {
           "bgcolor": "white",
           "lakecolor": "white",
           "landcolor": "#E5ECF6",
           "showlakes": true,
           "showland": true,
           "subunitcolor": "white"
          },
          "hoverlabel": {
           "align": "left"
          },
          "hovermode": "closest",
          "mapbox": {
           "style": "light"
          },
          "paper_bgcolor": "white",
          "plot_bgcolor": "#E5ECF6",
          "polar": {
           "angularaxis": {
            "gridcolor": "white",
            "linecolor": "white",
            "ticks": ""
           },
           "bgcolor": "#E5ECF6",
           "radialaxis": {
            "gridcolor": "white",
            "linecolor": "white",
            "ticks": ""
           }
          },
          "scene": {
           "xaxis": {
            "backgroundcolor": "#E5ECF6",
            "gridcolor": "white",
            "gridwidth": 2,
            "linecolor": "white",
            "showbackground": true,
            "ticks": "",
            "zerolinecolor": "white"
           },
           "yaxis": {
            "backgroundcolor": "#E5ECF6",
            "gridcolor": "white",
            "gridwidth": 2,
            "linecolor": "white",
            "showbackground": true,
            "ticks": "",
            "zerolinecolor": "white"
           },
           "zaxis": {
            "backgroundcolor": "#E5ECF6",
            "gridcolor": "white",
            "gridwidth": 2,
            "linecolor": "white",
            "showbackground": true,
            "ticks": "",
            "zerolinecolor": "white"
           }
          },
          "shapedefaults": {
           "line": {
            "color": "#2a3f5f"
           }
          },
          "ternary": {
           "aaxis": {
            "gridcolor": "white",
            "linecolor": "white",
            "ticks": ""
           },
           "baxis": {
            "gridcolor": "white",
            "linecolor": "white",
            "ticks": ""
           },
           "bgcolor": "#E5ECF6",
           "caxis": {
            "gridcolor": "white",
            "linecolor": "white",
            "ticks": ""
           }
          },
          "title": {
           "x": 0.05
          },
          "xaxis": {
           "automargin": true,
           "gridcolor": "white",
           "linecolor": "white",
           "ticks": "",
           "title": {
            "standoff": 15
           },
           "zerolinecolor": "white",
           "zerolinewidth": 2
          },
          "yaxis": {
           "automargin": true,
           "gridcolor": "white",
           "linecolor": "white",
           "ticks": "",
           "title": {
            "standoff": 15
           },
           "zerolinecolor": "white",
           "zerolinewidth": 2
          }
         }
        },
        "width": 980
       }
      },
      "text/html": [
       "<div>                            <div id=\"4643d084-a06f-4277-b37e-99d7f8b1797f\" class=\"plotly-graph-div\" style=\"height:340px; width:980px;\"></div>            <script type=\"text/javascript\">                require([\"plotly\"], function(Plotly) {                    window.PLOTLYENV=window.PLOTLYENV || {};                                    if (document.getElementById(\"4643d084-a06f-4277-b37e-99d7f8b1797f\")) {                    Plotly.newPlot(                        \"4643d084-a06f-4277-b37e-99d7f8b1797f\",                        [{\"lat\": [55.755814, 55.7472562844902], \"legendgroup\": \"\\u041b\\u0438\\u043d\\u0438\\u0438\", \"lon\": [37.617635, 37.60908591739412], \"marker\": {\"color\": \"black\", \"opacity\": 0.5, \"size\": 5}, \"mode\": \"lines\", \"name\": \"\\u041b\\u0438\\u043d\\u0438\\u044f \\u041c\\u043e\\u0441\\u043a\\u0432\\u0430 - \\u041c\\u043e\\u0441\\u043a\\u0432\\u0430\", \"showlegend\": false, \"text\": \"\\u041c\\u043e\\u0441\\u043a\\u0432\\u0430 - \\u041c\\u043e\\u0441\\u043a\\u0432\\u0430\", \"type\": \"scattermapbox\"}, {\"lat\": [59.939094999999995, 59.90234502605], \"legendgroup\": \"\\u041b\\u0438\\u043d\\u0438\\u0438\", \"lon\": [30.315868, 30.331197179075], \"marker\": {\"color\": \"black\", \"opacity\": 0.5, \"size\": 5}, \"mode\": \"lines\", \"name\": \"\\u041b\\u0438\\u043d\\u0438\\u044f \\u0421\\u0430\\u043d\\u043a\\u0442-\\u041f\\u0435\\u0442\\u0435\\u0440\\u0431\\u0443\\u0440\\u0433 - \\u0421\\u0430\\u043d\\u043a\\u0442-\\u041f\\u0435\\u0442\\u0435\\u0440\\u0431\\u0443\\u0440\\u0433\", \"showlegend\": false, \"text\": \"\\u0421\\u0430\\u043d\\u043a\\u0442-\\u041f\\u0435\\u0442\\u0435\\u0440\\u0431\\u0443\\u0440\\u0433 - \\u0421\\u0430\\u043d\\u043a\\u0442-\\u041f\\u0435\\u0442\\u0435\\u0440\\u0431\\u0443\\u0440\\u0433\", \"type\": \"scattermapbox\"}, {\"lat\": [55.030198999999996, 55.59329324407001], \"legendgroup\": \"\\u041b\\u0438\\u043d\\u0438\\u0438\", \"lon\": [82.92043000000001, 82.37655319132], \"marker\": {\"color\": \"black\", \"opacity\": 0.5, \"size\": 5}, \"mode\": \"lines\", \"name\": \"\\u041b\\u0438\\u043d\\u0438\\u044f \\u041d\\u043e\\u0432\\u043e\\u0441\\u0438\\u0431\\u0438\\u0440\\u0441\\u043a\\u0430\\u044f \\u043e\\u0431\\u043b\\u0430\\u0441\\u0442\\u044c - \\u041d\\u043e\\u0432\\u043e\\u0441\\u0438\\u0431\\u0438\\u0440\\u0441\\u043a\", \"showlegend\": false, \"text\": \"\\u041d\\u043e\\u0432\\u043e\\u0441\\u0438\\u0431\\u0438\\u0440\\u0441\\u043a\\u0430\\u044f \\u043e\\u0431\\u043b\\u0430\\u0441\\u0442\\u044c - \\u041d\\u043e\\u0432\\u043e\\u0441\\u0438\\u0431\\u0438\\u0440\\u0441\\u043a\", \"type\": \"scattermapbox\"}, {\"lat\": [56.5, 56.82300418398667], \"legendgroup\": \"\\u041b\\u0438\\u043d\\u0438\\u0438\", \"lon\": [60.35, 60.62346513068001], \"marker\": {\"color\": \"black\", \"opacity\": 0.5, \"size\": 5}, \"mode\": \"lines\", \"name\": \"\\u041b\\u0438\\u043d\\u0438\\u044f \\u0421\\u0432\\u0435\\u0440\\u0434\\u043b\\u043e\\u0432\\u0441\\u043a\\u0430\\u044f \\u043e\\u0431\\u043b\\u0430\\u0441\\u0442\\u044c - \\u0415\\u043a\\u0430\\u0442\\u0435\\u0440\\u0438\\u043d\\u0431\\u0443\\u0440\\u0433\", \"showlegend\": false, \"text\": \"\\u0421\\u0432\\u0435\\u0440\\u0434\\u043b\\u043e\\u0432\\u0441\\u043a\\u0430\\u044f \\u043e\\u0431\\u043b\\u0430\\u0441\\u0442\\u044c - \\u0415\\u043a\\u0430\\u0442\\u0435\\u0440\\u0438\\u043d\\u0431\\u0443\\u0440\\u0433\", \"type\": \"scattermapbox\"}, {\"lat\": [55.159896999999994, 55.164073222540004], \"legendgroup\": \"\\u041b\\u0438\\u043d\\u0438\\u0438\", \"lon\": [61.402554, 61.389478065479985], \"marker\": {\"color\": \"black\", \"opacity\": 0.5, \"size\": 5}, \"mode\": \"lines\", \"name\": \"\\u041b\\u0438\\u043d\\u0438\\u044f \\u0427\\u0435\\u043b\\u044f\\u0431\\u0438\\u043d\\u0441\\u043a\\u0430\\u044f \\u043e\\u0431\\u043b\\u0430\\u0441\\u0442\\u044c - \\u0427\\u0435\\u043b\\u044f\\u0431\\u0438\\u043d\\u0441\\u043a\", \"showlegend\": false, \"text\": \"\\u0427\\u0435\\u043b\\u044f\\u0431\\u0438\\u043d\\u0441\\u043a\\u0430\\u044f \\u043e\\u0431\\u043b\\u0430\\u0441\\u0442\\u044c - \\u0427\\u0435\\u043b\\u044f\\u0431\\u0438\\u043d\\u0441\\u043a\", \"type\": \"scattermapbox\"}, {\"lat\": [54.735147, 54.73736992471765], \"legendgroup\": \"\\u041b\\u0438\\u043d\\u0438\\u0438\", \"lon\": [55.958727, 56.00787108621765], \"marker\": {\"color\": \"black\", \"opacity\": 0.5, \"size\": 5}, \"mode\": \"lines\", \"name\": \"\\u041b\\u0438\\u043d\\u0438\\u044f \\u0420\\u0435\\u0441\\u043f\\u0443\\u0431\\u043b\\u0438\\u043a\\u0430 \\u0411\\u0430\\u0448\\u043a\\u043e\\u0440\\u0442\\u043e\\u0441\\u0442\\u0430\\u043d - \\u0423\\u0444\\u0430\", \"showlegend\": false, \"text\": \"\\u0420\\u0435\\u0441\\u043f\\u0443\\u0431\\u043b\\u0438\\u043a\\u0430 \\u0411\\u0430\\u0448\\u043a\\u043e\\u0440\\u0442\\u043e\\u0441\\u0442\\u0430\\u043d - \\u0423\\u0444\\u0430\", \"type\": \"scattermapbox\"}, {\"lat\": [53.195538, 53.226141302950005], \"legendgroup\": \"\\u041b\\u0438\\u043d\\u0438\\u0438\", \"lon\": [50.101783000000005, 50.19025610856667], \"marker\": {\"color\": \"black\", \"opacity\": 0.5, \"size\": 5}, \"mode\": \"lines\", \"name\": \"\\u041b\\u0438\\u043d\\u0438\\u044f \\u0421\\u0430\\u043c\\u0430\\u0440\\u0441\\u043a\\u0430\\u044f \\u043e\\u0431\\u043b\\u0430\\u0441\\u0442\\u044c - \\u0421\\u0430\\u043c\\u0430\\u0440\\u0430\", \"showlegend\": false, \"text\": \"\\u0421\\u0430\\u043c\\u0430\\u0440\\u0441\\u043a\\u0430\\u044f \\u043e\\u0431\\u043b\\u0430\\u0441\\u0442\\u044c - \\u0421\\u0430\\u043c\\u0430\\u0440\\u0430\", \"type\": \"scattermapbox\"}, {\"lat\": [54.98934200000001, 55.12778985317142], \"legendgroup\": \"\\u041b\\u0438\\u043d\\u0438\\u0438\", \"lon\": [73.368212, 73.21248352894285], \"marker\": {\"color\": \"black\", \"opacity\": 0.5, \"size\": 5}, \"mode\": \"lines\", \"name\": \"\\u041b\\u0438\\u043d\\u0438\\u044f \\u041e\\u043c\\u0441\\u043a\\u0430\\u044f \\u043e\\u0431\\u043b\\u0430\\u0441\\u0442\\u044c - \\u041e\\u043c\\u0441\\u043a\", \"showlegend\": false, \"text\": \"\\u041e\\u043c\\u0441\\u043a\\u0430\\u044f \\u043e\\u0431\\u043b\\u0430\\u0441\\u0442\\u044c - \\u041e\\u043c\\u0441\\u043a\", \"type\": \"scattermapbox\"}, {\"lat\": [56.010563, 56.04594584034444], \"legendgroup\": \"\\u041b\\u0438\\u043d\\u0438\\u0438\", \"lon\": [92.852572, 92.84427225434445], \"marker\": {\"color\": \"black\", \"opacity\": 0.5, \"size\": 5}, \"mode\": \"lines\", \"name\": \"\\u041b\\u0438\\u043d\\u0438\\u044f \\u041a\\u0440\\u0430\\u0441\\u043d\\u043e\\u044f\\u0440\\u0441\\u043a\\u0438\\u0439 \\u043a\\u0440\\u0430\\u0439 - \\u041a\\u0440\\u0430\\u0441\\u043d\\u043e\\u044f\\u0440\\u0441\\u043a\", \"showlegend\": false, \"text\": \"\\u041a\\u0440\\u0430\\u0441\\u043d\\u043e\\u044f\\u0440\\u0441\\u043a\\u0438\\u0439 \\u043a\\u0440\\u0430\\u0439 - \\u041a\\u0440\\u0430\\u0441\\u043d\\u043e\\u044f\\u0440\\u0441\\u043a\", \"type\": \"scattermapbox\"}, {\"lat\": [45.02, 45.05511406813332], \"legendgroup\": \"\\u041b\\u0438\\u043d\\u0438\\u0438\", \"lon\": [38.59, 38.99892627756001], \"marker\": {\"color\": \"black\", \"opacity\": 0.5, \"size\": 5}, \"mode\": \"lines\", \"name\": \"\\u041b\\u0438\\u043d\\u0438\\u044f \\u041a\\u0440\\u0430\\u0441\\u043d\\u043e\\u0434\\u0430\\u0440\\u0441\\u043a\\u0438\\u0439 \\u043a\\u0440\\u0430\\u0439 - \\u041a\\u0440\\u0430\\u0441\\u043d\\u043e\\u0434\\u0430\\u0440\", \"showlegend\": false, \"text\": \"\\u041a\\u0440\\u0430\\u0441\\u043d\\u043e\\u0434\\u0430\\u0440\\u0441\\u043a\\u0438\\u0439 \\u043a\\u0440\\u0430\\u0439 - \\u041a\\u0440\\u0430\\u0441\\u043d\\u043e\\u0434\\u0430\\u0440\", \"type\": \"scattermapbox\"}, {\"lat\": [56.326797, 56.17461826633751], \"legendgroup\": \"\\u041b\\u0438\\u043d\\u0438\\u0438\", \"lon\": [44.006516, 44.05248272491249], \"marker\": {\"color\": \"black\", \"opacity\": 0.5, \"size\": 5}, \"mode\": \"lines\", \"name\": \"\\u041b\\u0438\\u043d\\u0438\\u044f \\u041d\\u0438\\u0436\\u0435\\u0433\\u043e\\u0440\\u043e\\u0434\\u0441\\u043a\\u0430\\u044f \\u043e\\u0431\\u043b\\u0430\\u0441\\u0442\\u044c - \\u041d\\u0438\\u0436\\u043d\\u0438\\u0439 \\u041d\\u043e\\u0432\\u0433\\u043e\\u0440\\u043e\\u0434\", \"showlegend\": false, \"text\": \"\\u041d\\u0438\\u0436\\u0435\\u0433\\u043e\\u0440\\u043e\\u0434\\u0441\\u043a\\u0430\\u044f \\u043e\\u0431\\u043b\\u0430\\u0441\\u0442\\u044c - \\u041d\\u0438\\u0436\\u043d\\u0438\\u0439 \\u041d\\u043e\\u0432\\u0433\\u043e\\u0440\\u043e\\u0434\", \"type\": \"scattermapbox\"}, {\"lat\": [51.660781, 51.6800396205], \"legendgroup\": \"\\u041b\\u0438\\u043d\\u0438\\u0438\", \"lon\": [39.200269, 39.207042508966666], \"marker\": {\"color\": \"black\", \"opacity\": 0.5, \"size\": 5}, \"mode\": \"lines\", \"name\": \"\\u041b\\u0438\\u043d\\u0438\\u044f \\u0412\\u043e\\u0440\\u043e\\u043d\\u0435\\u0436\\u0441\\u043a\\u0430\\u044f \\u043e\\u0431\\u043b\\u0430\\u0441\\u0442\\u044c - \\u0412\\u043e\\u0440\\u043e\\u043d\\u0435\\u0436\", \"showlegend\": false, \"text\": \"\\u0412\\u043e\\u0440\\u043e\\u043d\\u0435\\u0436\\u0441\\u043a\\u0430\\u044f \\u043e\\u0431\\u043b\\u0430\\u0441\\u0442\\u044c - \\u0412\\u043e\\u0440\\u043e\\u043d\\u0435\\u0436\", \"type\": \"scattermapbox\"}, {\"lat\": [58.01045, 57.994648795649994], \"legendgroup\": \"\\u041b\\u0438\\u043d\\u0438\\u0438\", \"lon\": [56.229434, 56.234655537150005], \"marker\": {\"color\": \"black\", \"opacity\": 0.5, \"size\": 5}, \"mode\": \"lines\", \"name\": \"\\u041b\\u0438\\u043d\\u0438\\u044f \\u041f\\u0435\\u0440\\u043c\\u0441\\u043a\\u0438\\u0439 \\u043a\\u0440\\u0430\\u0439 - \\u041f\\u0435\\u0440\\u043c\\u044c\", \"showlegend\": false, \"text\": \"\\u041f\\u0435\\u0440\\u043c\\u0441\\u043a\\u0438\\u0439 \\u043a\\u0440\\u0430\\u0439 - \\u041f\\u0435\\u0440\\u043c\\u044c\", \"type\": \"scattermapbox\"}, {\"lat\": [55.796289, 55.79580015614286], \"legendgroup\": \"\\u041b\\u0438\\u043d\\u0438\\u0438\", \"lon\": [49.108795, 49.15510143304286], \"marker\": {\"color\": \"black\", \"opacity\": 0.5, \"size\": 5}, \"mode\": \"lines\", \"name\": \"\\u041b\\u0438\\u043d\\u0438\\u044f \\u0420\\u0435\\u0441\\u043f\\u0443\\u0431\\u043b\\u0438\\u043a\\u0430 \\u0422\\u0430\\u0442\\u0430\\u0440\\u0441\\u0442\\u0430\\u043d - \\u041a\\u0430\\u0437\\u0430\\u043d\\u044c\", \"showlegend\": false, \"text\": \"\\u0420\\u0435\\u0441\\u043f\\u0443\\u0431\\u043b\\u0438\\u043a\\u0430 \\u0422\\u0430\\u0442\\u0430\\u0440\\u0441\\u0442\\u0430\\u043d - \\u041a\\u0430\\u0437\\u0430\\u043d\\u044c\", \"type\": \"scattermapbox\"}, {\"lat\": [52.287054, 52.279485120427275], \"legendgroup\": \"\\u041b\\u0438\\u043d\\u0438\\u0438\", \"lon\": [104.281047, 104.28339945697272], \"marker\": {\"color\": \"black\", \"opacity\": 0.5, \"size\": 5}, \"mode\": \"lines\", \"name\": \"\\u041b\\u0438\\u043d\\u0438\\u044f \\u0418\\u0440\\u043a\\u0443\\u0442\\u0441\\u043a\\u0430\\u044f \\u043e\\u0431\\u043b\\u0430\\u0441\\u0442\\u044c - \\u0418\\u0440\\u043a\\u0443\\u0442\\u0441\\u043a\", \"showlegend\": false, \"text\": \"\\u0418\\u0440\\u043a\\u0443\\u0442\\u0441\\u043a\\u0430\\u044f \\u043e\\u0431\\u043b\\u0430\\u0441\\u0442\\u044c - \\u0418\\u0440\\u043a\\u0443\\u0442\\u0441\\u043a\", \"type\": \"scattermapbox\"}, {\"lat\": [47.222078, 47.242371454063644], \"legendgroup\": \"\\u041b\\u0438\\u043d\\u0438\\u0438\", \"lon\": [39.720349, 39.7154392538], \"marker\": {\"color\": \"black\", \"opacity\": 0.5, \"size\": 5}, \"mode\": \"lines\", \"name\": \"\\u041b\\u0438\\u043d\\u0438\\u044f \\u0420\\u043e\\u0441\\u0442\\u043e\\u0432\\u0441\\u043a\\u0430\\u044f \\u043e\\u0431\\u043b\\u0430\\u0441\\u0442\\u044c - \\u0420\\u043e\\u0441\\u0442\\u043e\\u0432-\\u043d\\u0430-\\u0414\\u043e\\u043d\\u0443\", \"showlegend\": false, \"text\": \"\\u0420\\u043e\\u0441\\u0442\\u043e\\u0432\\u0441\\u043a\\u0430\\u044f \\u043e\\u0431\\u043b\\u0430\\u0441\\u0442\\u044c - \\u0420\\u043e\\u0441\\u0442\\u043e\\u0432-\\u043d\\u0430-\\u0414\\u043e\\u043d\\u0443\", \"type\": \"scattermapbox\"}, {\"lat\": [48.707066999999995, 48.70042876570909], \"legendgroup\": \"\\u041b\\u0438\\u043d\\u0438\\u0438\", \"lon\": [44.516948, 44.49951766678183], \"marker\": {\"color\": \"black\", \"opacity\": 0.5, \"size\": 5}, \"mode\": \"lines\", \"name\": \"\\u041b\\u0438\\u043d\\u0438\\u044f \\u0412\\u043e\\u043b\\u0433\\u043e\\u0433\\u0440\\u0430\\u0434\\u0441\\u043a\\u0430\\u044f \\u043e\\u0431\\u043b\\u0430\\u0441\\u0442\\u044c - \\u0412\\u043e\\u043b\\u0433\\u043e\\u0433\\u0440\\u0430\\u0434\", \"showlegend\": false, \"text\": \"\\u0412\\u043e\\u043b\\u0433\\u043e\\u0433\\u0440\\u0430\\u0434\\u0441\\u043a\\u0430\\u044f \\u043e\\u0431\\u043b\\u0430\\u0441\\u0442\\u044c - \\u0412\\u043e\\u043b\\u0433\\u043e\\u0433\\u0440\\u0430\\u0434\", \"type\": \"scattermapbox\"}, {\"lat\": [56.8745655, 56.85782113898001], \"legendgroup\": \"\\u041b\\u0438\\u043d\\u0438\\u0438\", \"lon\": [53.17911949999999, 53.252546989920006], \"marker\": {\"color\": \"black\", \"opacity\": 0.5, \"size\": 5}, \"mode\": \"lines\", \"name\": \"\\u041b\\u0438\\u043d\\u0438\\u044f \\u0423\\u0434\\u043c\\u0443\\u0440\\u0442\\u0441\\u043a\\u0430\\u044f \\u0420\\u0435\\u0441\\u043f\\u0443\\u0431\\u043b\\u0438\\u043a\\u0430 - \\u0418\\u0436\\u0435\\u0432\\u0441\\u043a\", \"showlegend\": false, \"text\": \"\\u0423\\u0434\\u043c\\u0443\\u0440\\u0442\\u0441\\u043a\\u0430\\u044f \\u0420\\u0435\\u0441\\u043f\\u0443\\u0431\\u043b\\u0438\\u043a\\u0430 - \\u0418\\u0436\\u0435\\u0432\\u0441\\u043a\", \"type\": \"scattermapbox\"}, {\"lat\": [48.480222999999995, 48.475258868666664], \"legendgroup\": \"\\u041b\\u0438\\u043d\\u0438\\u0438\", \"lon\": [135.07191699999998, 135.08203310438333], \"marker\": {\"color\": \"black\", \"opacity\": 0.5, \"size\": 5}, \"mode\": \"lines\", \"name\": \"\\u041b\\u0438\\u043d\\u0438\\u044f \\u0425\\u0430\\u0431\\u0430\\u0440\\u043e\\u0432\\u0441\\u043a\\u0438\\u0439 \\u043a\\u0440\\u0430\\u0439 - \\u0425\\u0430\\u0431\\u0430\\u0440\\u043e\\u0432\\u0441\\u043a\", \"showlegend\": false, \"text\": \"\\u0425\\u0430\\u0431\\u0430\\u0440\\u043e\\u0432\\u0441\\u043a\\u0438\\u0439 \\u043a\\u0440\\u0430\\u0439 - \\u0425\\u0430\\u0431\\u0430\\u0440\\u043e\\u0432\\u0441\\u043a\", \"type\": \"scattermapbox\"}, {\"lat\": [57.15303299999999, 57.78855385621537], \"legendgroup\": \"\\u041b\\u0438\\u043d\\u0438\\u0438\", \"lon\": [65.534328, 64.90469010821539], \"marker\": {\"color\": \"black\", \"opacity\": 0.5, \"size\": 5}, \"mode\": \"lines\", \"name\": \"\\u041b\\u0438\\u043d\\u0438\\u044f \\u0422\\u044e\\u043c\\u0435\\u043d\\u0441\\u043a\\u0430\\u044f \\u043e\\u0431\\u043b\\u0430\\u0441\\u0442\\u044c - \\u0422\\u044e\\u043c\\u0435\\u043d\\u044c\", \"showlegend\": false, \"text\": \"\\u0422\\u044e\\u043c\\u0435\\u043d\\u0441\\u043a\\u0430\\u044f \\u043e\\u0431\\u043b\\u0430\\u0441\\u0442\\u044c - \\u0422\\u044e\\u043c\\u0435\\u043d\\u044c\", \"type\": \"scattermapbox\"}, {\"lat\": [56.4362295, 57.20809724792], \"legendgroup\": \"\\u041b\\u0438\\u043d\\u0438\\u0438\", \"lon\": [85.009911, 84.25058314834999], \"marker\": {\"color\": \"black\", \"opacity\": 0.5, \"size\": 5}, \"mode\": \"lines\", \"name\": \"\\u041b\\u0438\\u043d\\u0438\\u044f \\u0422\\u043e\\u043c\\u0441\\u043a\\u0430\\u044f \\u043e\\u0431\\u043b\\u0430\\u0441\\u0442\\u044c - \\u0422\\u043e\\u043c\\u0441\\u043a\", \"showlegend\": false, \"text\": \"\\u0422\\u043e\\u043c\\u0441\\u043a\\u0430\\u044f \\u043e\\u0431\\u043b\\u0430\\u0441\\u0442\\u044c - \\u0422\\u043e\\u043c\\u0441\\u043a\", \"type\": \"scattermapbox\"}, {\"lat\": [43.115536, 43.122097349600004], \"legendgroup\": \"\\u041b\\u0438\\u043d\\u0438\\u0438\", \"lon\": [131.88548500000002, 131.9175785290125], \"marker\": {\"color\": \"black\", \"opacity\": 0.5, \"size\": 5}, \"mode\": \"lines\", \"name\": \"\\u041b\\u0438\\u043d\\u0438\\u044f \\u041f\\u0440\\u0438\\u043c\\u043e\\u0440\\u0441\\u043a\\u0438\\u0439 \\u043a\\u0440\\u0430\\u0439 - \\u0412\\u043b\\u0430\\u0434\\u0438\\u0432\\u043e\\u0441\\u0442\\u043e\\u043a\", \"showlegend\": false, \"text\": \"\\u041f\\u0440\\u0438\\u043c\\u043e\\u0440\\u0441\\u043a\\u0438\\u0439 \\u043a\\u0440\\u0430\\u0439 - \\u0412\\u043b\\u0430\\u0434\\u0438\\u0432\\u043e\\u0441\\u0442\\u043e\\u043a\", \"type\": \"scattermapbox\"}, {\"lat\": [53.346785, 55.07166650243334], \"legendgroup\": \"\\u041b\\u0438\\u043d\\u0438\\u0438\", \"lon\": [83.77685600000001, 82.03029287501109], \"marker\": {\"color\": \"black\", \"opacity\": 0.5, \"size\": 5}, \"mode\": \"lines\", \"name\": \"\\u041b\\u0438\\u043d\\u0438\\u044f \\u0410\\u043b\\u0442\\u0430\\u0439\\u0441\\u043a\\u0438\\u0439 \\u043a\\u0440\\u0430\\u0439 - \\u0411\\u0430\\u0440\\u043d\\u0430\\u0443\\u043b\", \"showlegend\": false, \"text\": \"\\u0410\\u043b\\u0442\\u0430\\u0439\\u0441\\u043a\\u0438\\u0439 \\u043a\\u0440\\u0430\\u0439 - \\u0411\\u0430\\u0440\\u043d\\u0430\\u0443\\u043b\", \"type\": \"scattermapbox\"}, {\"lat\": [51.533103000000004, 51.56012181606], \"legendgroup\": \"\\u041b\\u0438\\u043d\\u0438\\u0438\", \"lon\": [46.034158000000005, 45.99470886716998], \"marker\": {\"color\": \"black\", \"opacity\": 0.5, \"size\": 5}, \"mode\": \"lines\", \"name\": \"\\u041b\\u0438\\u043d\\u0438\\u044f \\u0421\\u0430\\u0440\\u0430\\u0442\\u043e\\u0432\\u0441\\u043a\\u0430\\u044f \\u043e\\u0431\\u043b\\u0430\\u0441\\u0442\\u044c - \\u0421\\u0430\\u0440\\u0430\\u0442\\u043e\\u0432\", \"showlegend\": false, \"text\": \"\\u0421\\u0430\\u0440\\u0430\\u0442\\u043e\\u0432\\u0441\\u043a\\u0430\\u044f \\u043e\\u0431\\u043b\\u0430\\u0441\\u0442\\u044c - \\u0421\\u0430\\u0440\\u0430\\u0442\\u043e\\u0432\", \"type\": \"scattermapbox\"}, {\"lat\": [54.710156999999995, 54.72444493272857], \"legendgroup\": \"\\u041b\\u0438\\u043d\\u0438\\u0438\", \"lon\": [20.510137, 20.48728280155714], \"marker\": {\"color\": \"black\", \"opacity\": 0.5, \"size\": 5}, \"mode\": \"lines\", \"name\": \"\\u041b\\u0438\\u043d\\u0438\\u044f \\u041a\\u0430\\u043b\\u0438\\u043d\\u0438\\u043d\\u0433\\u0440\\u0430\\u0434\\u0441\\u043a\\u0430\\u044f \\u043e\\u0431\\u043b\\u0430\\u0441\\u0442\\u044c - \\u041a\\u0430\\u043b\\u0438\\u043d\\u0438\\u043d\\u0433\\u0440\\u0430\\u0434\", \"showlegend\": false, \"text\": \"\\u041a\\u0430\\u043b\\u0438\\u043d\\u0438\\u043d\\u0433\\u0440\\u0430\\u0434\\u0441\\u043a\\u0430\\u044f \\u043e\\u0431\\u043b\\u0430\\u0441\\u0442\\u044c - \\u041a\\u0430\\u043b\\u0438\\u043d\\u0438\\u043d\\u0433\\u0440\\u0430\\u0434\", \"type\": \"scattermapbox\"}, {\"lat\": [51.768198999999996, 51.79485794871667], \"legendgroup\": \"\\u041b\\u0438\\u043d\\u0438\\u0438\", \"lon\": [55.096955, 55.12350195189999], \"marker\": {\"color\": \"black\", \"opacity\": 0.5, \"size\": 5}, \"mode\": \"lines\", \"name\": \"\\u041b\\u0438\\u043d\\u0438\\u044f \\u041e\\u0440\\u0435\\u043d\\u0431\\u0443\\u0440\\u0433\\u0441\\u043a\\u0430\\u044f \\u043e\\u0431\\u043b\\u0430\\u0441\\u0442\\u044c - \\u041e\\u0440\\u0435\\u043d\\u0431\\u0443\\u0440\\u0433\", \"showlegend\": false, \"text\": \"\\u041e\\u0440\\u0435\\u043d\\u0431\\u0443\\u0440\\u0433\\u0441\\u043a\\u0430\\u044f \\u043e\\u0431\\u043b\\u0430\\u0441\\u0442\\u044c - \\u041e\\u0440\\u0435\\u043d\\u0431\\u0443\\u0440\\u0433\", \"type\": \"scattermapbox\"}, {\"lat\": [55.354727000000004, 59.78492774255713], \"legendgroup\": \"\\u041b\\u0438\\u043d\\u0438\\u0438\", \"lon\": [86.088374, 81.66894848605713], \"marker\": {\"color\": \"black\", \"opacity\": 0.5, \"size\": 5}, \"mode\": \"lines\", \"name\": \"\\u041b\\u0438\\u043d\\u0438\\u044f \\u041a\\u0435\\u043c\\u0435\\u0440\\u043e\\u0432\\u0441\\u043a\\u0430\\u044f \\u043e\\u0431\\u043b\\u0430\\u0441\\u0442\\u044c - \\u041a\\u0435\\u043c\\u0435\\u0440\\u043e\\u0432\\u043e\", \"showlegend\": false, \"text\": \"\\u041a\\u0435\\u043c\\u0435\\u0440\\u043e\\u0432\\u0441\\u043a\\u0430\\u044f \\u043e\\u0431\\u043b\\u0430\\u0441\\u0442\\u044c - \\u041a\\u0435\\u043c\\u0435\\u0440\\u043e\\u0432\\u043e\", \"type\": \"scattermapbox\"}, {\"lat\": [55.888740000000006, 55.90648654620714], \"legendgroup\": \"\\u041b\\u0438\\u043d\\u0438\\u0438\", \"lon\": [37.43039, 37.43450732162857], \"marker\": {\"color\": \"black\", \"opacity\": 0.5, \"size\": 5}, \"mode\": \"lines\", \"name\": \"\\u041b\\u0438\\u043d\\u0438\\u044f \\u041c\\u043e\\u0441\\u043a\\u043e\\u0432\\u0441\\u043a\\u0430\\u044f \\u043e\\u0431\\u043b\\u0430\\u0441\\u0442\\u044c - \\u0425\\u0438\\u043c\\u043a\\u0438\", \"showlegend\": false, \"text\": \"\\u041c\\u043e\\u0441\\u043a\\u043e\\u0432\\u0441\\u043a\\u0430\\u044f \\u043e\\u0431\\u043b\\u0430\\u0441\\u0442\\u044c - \\u0425\\u0438\\u043c\\u043a\\u0438\", \"type\": \"scattermapbox\"}, {\"lat\": [43.585525, 43.510840541718174], \"legendgroup\": \"\\u041b\\u0438\\u043d\\u0438\\u0438\", \"lon\": [39.723062, 39.83286022404545], \"marker\": {\"color\": \"black\", \"opacity\": 0.5, \"size\": 5}, \"mode\": \"lines\", \"name\": \"\\u041b\\u0438\\u043d\\u0438\\u044f \\u041a\\u0440\\u0430\\u0441\\u043d\\u043e\\u0434\\u0430\\u0440\\u0441\\u043a\\u0438\\u0439 \\u043a\\u0440\\u0430\\u0439 - \\u0421\\u043e\\u0447\\u0438\", \"showlegend\": false, \"text\": \"\\u041a\\u0440\\u0430\\u0441\\u043d\\u043e\\u0434\\u0430\\u0440\\u0441\\u043a\\u0438\\u0439 \\u043a\\u0440\\u0430\\u0439 - \\u0421\\u043e\\u0447\\u0438\", \"type\": \"scattermapbox\"}, {\"lat\": [58.603591, 58.58490912915999], \"legendgroup\": \"\\u041b\\u0438\\u043d\\u0438\\u0438\", \"lon\": [49.668014, 49.657054978919994], \"marker\": {\"color\": \"black\", \"opacity\": 0.5, \"size\": 5}, \"mode\": \"lines\", \"name\": \"\\u041b\\u0438\\u043d\\u0438\\u044f \\u041a\\u0438\\u0440\\u043e\\u0432\\u0441\\u043a\\u0430\\u044f \\u043e\\u0431\\u043b\\u0430\\u0441\\u0442\\u044c - \\u041a\\u0438\\u0440\\u043e\\u0432\", \"showlegend\": false, \"text\": \"\\u041a\\u0438\\u0440\\u043e\\u0432\\u0441\\u043a\\u0430\\u044f \\u043e\\u0431\\u043b\\u0430\\u0441\\u0442\\u044c - \\u041a\\u0438\\u0440\\u043e\\u0432\", \"type\": \"scattermapbox\"}, {\"lat\": [57.62655899999999, 55.380978038550005], \"legendgroup\": \"\\u041b\\u0438\\u043d\\u0438\\u0438\", \"lon\": [39.893803999999996, 42.095849542012495], \"marker\": {\"color\": \"black\", \"opacity\": 0.5, \"size\": 5}, \"mode\": \"lines\", \"name\": \"\\u041b\\u0438\\u043d\\u0438\\u044f \\u042f\\u0440\\u043e\\u0441\\u043b\\u0430\\u0432\\u0441\\u043a\\u0430\\u044f \\u043e\\u0431\\u043b\\u0430\\u0441\\u0442\\u044c - \\u042f\\u0440\\u043e\\u0441\\u043b\\u0430\\u0432\\u043b\\u044c\", \"showlegend\": false, \"text\": \"\\u042f\\u0440\\u043e\\u0441\\u043b\\u0430\\u0432\\u0441\\u043a\\u0430\\u044f \\u043e\\u0431\\u043b\\u0430\\u0441\\u0442\\u044c - \\u042f\\u0440\\u043e\\u0441\\u043b\\u0430\\u0432\\u043b\\u044c\", \"type\": \"scattermapbox\"}, {\"lat\": [53.5088, 53.52836569703751], \"legendgroup\": \"\\u041b\\u0438\\u043d\\u0438\\u0438\", \"lon\": [49.41918, 49.34659042426251], \"marker\": {\"color\": \"black\", \"opacity\": 0.5, \"size\": 5}, \"mode\": \"lines\", \"name\": \"\\u041b\\u0438\\u043d\\u0438\\u044f \\u0421\\u0430\\u043c\\u0430\\u0440\\u0441\\u043a\\u0430\\u044f \\u043e\\u0431\\u043b\\u0430\\u0441\\u0442\\u044c - \\u0422\\u043e\\u043b\\u044c\\u044f\\u0442\\u0442\\u0438\", \"showlegend\": false, \"text\": \"\\u0421\\u0430\\u043c\\u0430\\u0440\\u0441\\u043a\\u0430\\u044f \\u043e\\u0431\\u043b\\u0430\\u0441\\u0442\\u044c - \\u0422\\u043e\\u043b\\u044c\\u044f\\u0442\\u0442\\u0438\", \"type\": \"scattermapbox\"}, {\"lat\": [54.314192000000006, 54.30707657187776], \"legendgroup\": \"\\u041b\\u0438\\u043d\\u0438\\u0438\", \"lon\": [48.403123, 48.347150338811105], \"marker\": {\"color\": \"black\", \"opacity\": 0.5, \"size\": 5}, \"mode\": \"lines\", \"name\": \"\\u041b\\u0438\\u043d\\u0438\\u044f \\u0423\\u043b\\u044c\\u044f\\u043d\\u043e\\u0432\\u0441\\u043a\\u0430\\u044f \\u043e\\u0431\\u043b\\u0430\\u0441\\u0442\\u044c - \\u0423\\u043b\\u044c\\u044f\\u043d\\u043e\\u0432\\u0441\\u043a\", \"showlegend\": false, \"text\": \"\\u0423\\u043b\\u044c\\u044f\\u043d\\u043e\\u0432\\u0441\\u043a\\u0430\\u044f \\u043e\\u0431\\u043b\\u0430\\u0441\\u0442\\u044c - \\u0423\\u043b\\u044c\\u044f\\u043d\\u043e\\u0432\\u0441\\u043a\", \"type\": \"scattermapbox\"}, {\"lat\": [54.62921600000001, 54.63161432332], \"legendgroup\": \"\\u041b\\u0438\\u043d\\u0438\\u0438\", \"lon\": [39.736375, 39.716121476279994], \"marker\": {\"color\": \"black\", \"opacity\": 0.5, \"size\": 5}, \"mode\": \"lines\", \"name\": \"\\u041b\\u0438\\u043d\\u0438\\u044f \\u0420\\u044f\\u0437\\u0430\\u043d\\u0441\\u043a\\u0430\\u044f \\u043e\\u0431\\u043b\\u0430\\u0441\\u0442\\u044c - \\u0420\\u044f\\u0437\\u0430\\u043d\\u044c\", \"showlegend\": false, \"text\": \"\\u0420\\u044f\\u0437\\u0430\\u043d\\u0441\\u043a\\u0430\\u044f \\u043e\\u0431\\u043b\\u0430\\u0441\\u0442\\u044c - \\u0420\\u044f\\u0437\\u0430\\u043d\\u044c\", \"type\": \"scattermapbox\"}, {\"lat\": [52.033635, 52.04109209383999], \"legendgroup\": \"\\u041b\\u0438\\u043d\\u0438\\u0438\", \"lon\": [113.501049, 113.49374957820001], \"marker\": {\"color\": \"black\", \"opacity\": 0.5, \"size\": 5}, \"mode\": \"lines\", \"name\": \"\\u041b\\u0438\\u043d\\u0438\\u044f \\u0417\\u0430\\u0431\\u0430\\u0439\\u043a\\u0430\\u043b\\u044c\\u0441\\u043a\\u0438\\u0439 \\u043a\\u0440\\u0430\\u0439 - \\u0427\\u0438\\u0442\\u0430\", \"showlegend\": false, \"text\": \"\\u0417\\u0430\\u0431\\u0430\\u0439\\u043a\\u0430\\u043b\\u044c\\u0441\\u043a\\u0438\\u0439 \\u043a\\u0440\\u0430\\u0439 - \\u0427\\u0438\\u0442\\u0430\", \"type\": \"scattermapbox\"}, {\"lat\": [50.595414, 50.60000374924444], \"legendgroup\": \"\\u041b\\u0438\\u043d\\u0438\\u0438\", \"lon\": [36.587268, 36.58384602355556], \"marker\": {\"color\": \"black\", \"opacity\": 0.5, \"size\": 5}, \"mode\": \"lines\", \"name\": \"\\u041b\\u0438\\u043d\\u0438\\u044f \\u0411\\u0435\\u043b\\u0433\\u043e\\u0440\\u043e\\u0434\\u0441\\u043a\\u0430\\u044f \\u043e\\u0431\\u043b\\u0430\\u0441\\u0442\\u044c - \\u0411\\u0435\\u043b\\u0433\\u043e\\u0440\\u043e\\u0434\", \"showlegend\": false, \"text\": \"\\u0411\\u0435\\u043b\\u0433\\u043e\\u0440\\u043e\\u0434\\u0441\\u043a\\u0430\\u044f \\u043e\\u0431\\u043b\\u0430\\u0441\\u0442\\u044c - \\u0411\\u0435\\u043b\\u0433\\u043e\\u0440\\u043e\\u0434\", \"type\": \"scattermapbox\"}, {\"lat\": [54.193121999999995, 54.168283496880015], \"legendgroup\": \"\\u041b\\u0438\\u043d\\u0438\\u0438\", \"lon\": [37.617348, 37.60937762324], \"marker\": {\"color\": \"black\", \"opacity\": 0.5, \"size\": 5}, \"mode\": \"lines\", \"name\": \"\\u041b\\u0438\\u043d\\u0438\\u044f \\u0422\\u0443\\u043b\\u044c\\u0441\\u043a\\u0430\\u044f \\u043e\\u0431\\u043b\\u0430\\u0441\\u0442\\u044c - \\u0422\\u0443\\u043b\\u0430\", \"showlegend\": false, \"text\": \"\\u0422\\u0443\\u043b\\u044c\\u0441\\u043a\\u0430\\u044f \\u043e\\u0431\\u043b\\u0430\\u0441\\u0442\\u044c - \\u0422\\u0443\\u043b\\u0430\", \"type\": \"scattermapbox\"}, {\"lat\": [61.254034999999995, 61.2631859224875], \"legendgroup\": \"\\u041b\\u0438\\u043d\\u0438\\u0438\", \"lon\": [73.396221, 73.3795305893125], \"marker\": {\"color\": \"black\", \"opacity\": 0.5, \"size\": 5}, \"mode\": \"lines\", \"name\": \"\\u041b\\u0438\\u043d\\u0438\\u044f \\u0425\\u0430\\u043d\\u0442\\u044b-\\u041c\\u0430\\u043d\\u0441\\u0438\\u0439\\u0441\\u043a\\u0438\\u0439 \\u0430\\u0432\\u0442\\u043e\\u043d... - \\u0421\\u0443\\u0440\\u0433\\u0443\\u0442\", \"showlegend\": false, \"text\": \"\\u0425\\u0430\\u043d\\u0442\\u044b-\\u041c\\u0430\\u043d\\u0441\\u0438\\u0439\\u0441\\u043a\\u0438\\u0439 \\u0430\\u0432\\u0442\\u043e\\u043d... - \\u0421\\u0443\\u0440\\u0433\\u0443\\u0442\", \"type\": \"scattermapbox\"}, {\"lat\": [56.143529, 56.1148182755], \"legendgroup\": \"\\u041b\\u0438\\u043d\\u0438\\u0438\", \"lon\": [47.251123, 47.27338309707145], \"marker\": {\"color\": \"black\", \"opacity\": 0.5, \"size\": 5}, \"mode\": \"lines\", \"name\": \"\\u041b\\u0438\\u043d\\u0438\\u044f \\u0427\\u0443\\u0432\\u0430\\u0448\\u0441\\u043a\\u0430\\u044f \\u0420\\u0435\\u0441\\u043f\\u0443\\u0431\\u043b\\u0438\\u043a\\u0430 - \\u0427\\u0435\\u0431\\u043e\\u043a\\u0441\\u0430\\u0440\\u044b\", \"showlegend\": false, \"text\": \"\\u0427\\u0443\\u0432\\u0430\\u0448\\u0441\\u043a\\u0430\\u044f \\u0420\\u0435\\u0441\\u043f\\u0443\\u0431\\u043b\\u0438\\u043a\\u0430 - \\u0427\\u0435\\u0431\\u043e\\u043a\\u0441\\u0430\\u0440\\u044b\", \"type\": \"scattermapbox\"}, {\"lat\": [56.859846999999995, 56.84797654997002], \"legendgroup\": \"\\u041b\\u0438\\u043d\\u0438\\u0438\", \"lon\": [35.911995000000005, 35.889208563980006], \"marker\": {\"color\": \"black\", \"opacity\": 0.5, \"size\": 5}, \"mode\": \"lines\", \"name\": \"\\u041b\\u0438\\u043d\\u0438\\u044f \\u0422\\u0432\\u0435\\u0440\\u0441\\u043a\\u0430\\u044f \\u043e\\u0431\\u043b\\u0430\\u0441\\u0442\\u044c - \\u0422\\u0432\\u0435\\u0440\\u044c\", \"showlegend\": false, \"text\": \"\\u0422\\u0432\\u0435\\u0440\\u0441\\u043a\\u0430\\u044f \\u043e\\u0431\\u043b\\u0430\\u0441\\u0442\\u044c - \\u0422\\u0432\\u0435\\u0440\\u044c\", \"type\": \"scattermapbox\"}, {\"lat\": [56.08, 56.1214999829], \"legendgroup\": \"\\u041b\\u0438\\u043d\\u0438\\u0438\", \"lon\": [40.25, 40.387047988877775], \"marker\": {\"color\": \"black\", \"opacity\": 0.5, \"size\": 5}, \"mode\": \"lines\", \"name\": \"\\u041b\\u0438\\u043d\\u0438\\u044f \\u0412\\u043b\\u0430\\u0434\\u0438\\u043c\\u0438\\u0440\\u0441\\u043a\\u0430\\u044f \\u043e\\u0431\\u043b\\u0430\\u0441\\u0442\\u044c - \\u0412\\u043b\\u0430\\u0434\\u0438\\u043c\\u0438\\u0440\", \"showlegend\": false, \"text\": \"\\u0412\\u043b\\u0430\\u0434\\u0438\\u043c\\u0438\\u0440\\u0441\\u043a\\u0430\\u044f \\u043e\\u0431\\u043b\\u0430\\u0441\\u0442\\u044c - \\u0412\\u043b\\u0430\\u0434\\u0438\\u043c\\u0438\\u0440\", \"type\": \"scattermapbox\"}, {\"lat\": [45.04333, 45.04253720122], \"legendgroup\": \"\\u041b\\u0438\\u043d\\u0438\\u0438\", \"lon\": [41.969101, 41.95607730462], \"marker\": {\"color\": \"black\", \"opacity\": 0.5, \"size\": 5}, \"mode\": \"lines\", \"name\": \"\\u041b\\u0438\\u043d\\u0438\\u044f \\u0421\\u0442\\u0430\\u0432\\u0440\\u043e\\u043f\\u043e\\u043b\\u044c\\u0441\\u043a\\u0438\\u0439 \\u043a\\u0440\\u0430\\u0439 - \\u0421\\u0442\\u0430\\u0432\\u0440\\u043e\\u043f\\u043e\\u043b\\u044c\", \"showlegend\": false, \"text\": \"\\u0421\\u0442\\u0430\\u0432\\u0440\\u043e\\u043f\\u043e\\u043b\\u044c\\u0441\\u043a\\u0438\\u0439 \\u043a\\u0440\\u0430\\u0439 - \\u0421\\u0442\\u0430\\u0432\\u0440\\u043e\\u043f\\u043e\\u043b\\u044c\", \"type\": \"scattermapbox\"}, {\"lat\": [62.027216, 62.032894316325006], \"legendgroup\": \"\\u041b\\u0438\\u043d\\u0438\\u0438\", \"lon\": [129.732178, 129.73331840662502], \"marker\": {\"color\": \"black\", \"opacity\": 0.5, \"size\": 5}, \"mode\": \"lines\", \"name\": \"\\u041b\\u0438\\u043d\\u0438\\u044f \\u0420\\u0435\\u0441\\u043f\\u0443\\u0431\\u043b\\u0438\\u043a\\u0430 \\u0421\\u0430\\u0445\\u0430 (\\u042f\\u043a\\u0443\\u0442\\u0438\\u044f) - \\u042f\\u043a\\u0443\\u0442\\u0441\\u043a\", \"showlegend\": false, \"text\": \"\\u0420\\u0435\\u0441\\u043f\\u0443\\u0431\\u043b\\u0438\\u043a\\u0430 \\u0421\\u0430\\u0445\\u0430 (\\u042f\\u043a\\u0443\\u0442\\u0438\\u044f) - \\u042f\\u043a\\u0443\\u0442\\u0441\\u043a\", \"type\": \"scattermapbox\"}, {\"lat\": [53.195042, 53.22019819302], \"legendgroup\": \"\\u041b\\u0438\\u043d\\u0438\\u0438\", \"lon\": [45.018316, 45.00634880127999], \"marker\": {\"color\": \"black\", \"opacity\": 0.5, \"size\": 5}, \"mode\": \"lines\", \"name\": \"\\u041b\\u0438\\u043d\\u0438\\u044f \\u041f\\u0435\\u043d\\u0437\\u0435\\u043d\\u0441\\u043a\\u0430\\u044f \\u043e\\u0431\\u043b\\u0430\\u0441\\u0442\\u044c - \\u041f\\u0435\\u043d\\u0437\\u0430\", \"showlegend\": false, \"text\": \"\\u041f\\u0435\\u043d\\u0437\\u0435\\u043d\\u0441\\u043a\\u0430\\u044f \\u043e\\u0431\\u043b\\u0430\\u0441\\u0442\\u044c - \\u041f\\u0435\\u043d\\u0437\\u0430\", \"type\": \"scattermapbox\"}, {\"lat\": [51.73083, 51.73607364898571], \"legendgroup\": \"\\u041b\\u0438\\u043d\\u0438\\u0438\", \"lon\": [36.193186, 36.15788406989999], \"marker\": {\"color\": \"black\", \"opacity\": 0.5, \"size\": 5}, \"mode\": \"lines\", \"name\": \"\\u041b\\u0438\\u043d\\u0438\\u044f \\u041a\\u0443\\u0440\\u0441\\u043a\\u0430\\u044f \\u043e\\u0431\\u043b\\u0430\\u0441\\u0442\\u044c - \\u041a\\u0443\\u0440\\u0441\\u043a\", \"showlegend\": false, \"text\": \"\\u041a\\u0443\\u0440\\u0441\\u043a\\u0430\\u044f \\u043e\\u0431\\u043b\\u0430\\u0441\\u0442\\u044c - \\u041a\\u0443\\u0440\\u0441\\u043a\", \"type\": \"scattermapbox\"}, {\"lat\": [54.782635, 54.780857579774995], \"legendgroup\": \"\\u041b\\u0438\\u043d\\u0438\\u0438\", \"lon\": [32.045251, 32.050663459987504], \"marker\": {\"color\": \"black\", \"opacity\": 0.5, \"size\": 5}, \"mode\": \"lines\", \"name\": \"\\u041b\\u0438\\u043d\\u0438\\u044f \\u0421\\u043c\\u043e\\u043b\\u0435\\u043d\\u0441\\u043a\\u0430\\u044f \\u043e\\u0431\\u043b\\u0430\\u0441\\u0442\\u044c - \\u0421\\u043c\\u043e\\u043b\\u0435\\u043d\\u0441\\u043a\", \"showlegend\": false, \"text\": \"\\u0421\\u043c\\u043e\\u043b\\u0435\\u043d\\u0441\\u043a\\u0430\\u044f \\u043e\\u0431\\u043b\\u0430\\u0441\\u0442\\u044c - \\u0421\\u043c\\u043e\\u043b\\u0435\\u043d\\u0441\\u043a\", \"type\": \"scattermapbox\"}, {\"lat\": [51.834464000000004, 51.82904227699999], \"legendgroup\": \"\\u041b\\u0438\\u043d\\u0438\\u0438\", \"lon\": [107.584574, 107.59980583402498], \"marker\": {\"color\": \"black\", \"opacity\": 0.5, \"size\": 5}, \"mode\": \"lines\", \"name\": \"\\u041b\\u0438\\u043d\\u0438\\u044f \\u0420\\u0435\\u0441\\u043f\\u0443\\u0431\\u043b\\u0438\\u043a\\u0430 \\u0411\\u0443\\u0440\\u044f\\u0442\\u0438\\u044f - \\u0423\\u043b\\u0430\\u043d-\\u0423\\u0434\\u044d\", \"showlegend\": false, \"text\": \"\\u0420\\u0435\\u0441\\u043f\\u0443\\u0431\\u043b\\u0438\\u043a\\u0430 \\u0411\\u0443\\u0440\\u044f\\u0442\\u0438\\u044f - \\u0423\\u043b\\u0430\\u043d-\\u0423\\u0434\\u044d\", \"type\": \"scattermapbox\"}, {\"lat\": [46.347614, 46.35120487773332], \"legendgroup\": \"\\u041b\\u0438\\u043d\\u0438\\u0438\", \"lon\": [48.030169, 48.03628564153333], \"marker\": {\"color\": \"black\", \"opacity\": 0.5, \"size\": 5}, \"mode\": \"lines\", \"name\": \"\\u041b\\u0438\\u043d\\u0438\\u044f \\u0410\\u0441\\u0442\\u0440\\u0430\\u0445\\u0430\\u043d\\u0441\\u043a\\u0430\\u044f \\u043e\\u0431\\u043b\\u0430\\u0441\\u0442\\u044c - \\u0410\\u0441\\u0442\\u0440\\u0430\\u0445\\u0430\\u043d\\u044c\", \"showlegend\": false, \"text\": \"\\u0410\\u0441\\u0442\\u0440\\u0430\\u0445\\u0430\\u043d\\u0441\\u043a\\u0430\\u044f \\u043e\\u0431\\u043b\\u0430\\u0441\\u0442\\u044c - \\u0410\\u0441\\u0442\\u0440\\u0430\\u0445\\u0430\\u043d\\u044c\", \"type\": \"scattermapbox\"}, {\"lat\": [53.407157999999995, 53.39140237401428], \"legendgroup\": \"\\u041b\\u0438\\u043d\\u0438\\u0438\", \"lon\": [58.980281999999995, 58.97004669901428], \"marker\": {\"color\": \"black\", \"opacity\": 0.5, \"size\": 5}, \"mode\": \"lines\", \"name\": \"\\u041b\\u0438\\u043d\\u0438\\u044f \\u0427\\u0435\\u043b\\u044f\\u0431\\u0438\\u043d\\u0441\\u043a\\u0430\\u044f \\u043e\\u0431\\u043b\\u0430\\u0441\\u0442\\u044c - \\u041c\\u0430\\u0433\\u043d\\u0438\\u0442\\u043e\\u0433\\u043e\\u0440\\u0441\\u043a\", \"showlegend\": false, \"text\": \"\\u0427\\u0435\\u043b\\u044f\\u0431\\u0438\\u043d\\u0441\\u043a\\u0430\\u044f \\u043e\\u0431\\u043b\\u0430\\u0441\\u0442\\u044c - \\u041c\\u0430\\u0433\\u043d\\u0438\\u0442\\u043e\\u0433\\u043e\\u0440\\u0441\\u043a\", \"type\": \"scattermapbox\"}, {\"lat\": [59.220496, 59.220038403516675], \"legendgroup\": \"\\u041b\\u0438\\u043d\\u0438\\u0438\", \"lon\": [39.891523, 39.90305711698333], \"marker\": {\"color\": \"black\", \"opacity\": 0.5, \"size\": 5}, \"mode\": \"lines\", \"name\": \"\\u041b\\u0438\\u043d\\u0438\\u044f \\u0412\\u043e\\u043b\\u043e\\u0433\\u043e\\u0434\\u0441\\u043a\\u0430\\u044f \\u043e\\u0431\\u043b\\u0430\\u0441\\u0442\\u044c - \\u0412\\u043e\\u043b\\u043e\\u0433\\u0434\\u0430\", \"showlegend\": false, \"text\": \"\\u0412\\u043e\\u043b\\u043e\\u0433\\u043e\\u0434\\u0441\\u043a\\u0430\\u044f \\u043e\\u0431\\u043b\\u0430\\u0441\\u0442\\u044c - \\u0412\\u043e\\u043b\\u043e\\u0433\\u0434\\u0430\", \"type\": \"scattermapbox\"}, {\"lat\": [54.32, 54.515911538481824], \"legendgroup\": \"\\u041b\\u0438\\u043d\\u0438\\u0438\", \"lon\": [36.16, 36.257397577409094], \"marker\": {\"color\": \"black\", \"opacity\": 0.5, \"size\": 5}, \"mode\": \"lines\", \"name\": \"\\u041b\\u0438\\u043d\\u0438\\u044f \\u041a\\u0430\\u043b\\u0443\\u0436\\u0441\\u043a\\u0430\\u044f \\u043e\\u0431\\u043b\\u0430\\u0441\\u0442\\u044c - \\u041a\\u0430\\u043b\\u0443\\u0433\\u0430\", \"showlegend\": false, \"text\": \"\\u041a\\u0430\\u043b\\u0443\\u0436\\u0441\\u043a\\u0430\\u044f \\u043e\\u0431\\u043b\\u0430\\u0441\\u0442\\u044c - \\u041a\\u0430\\u043b\\u0443\\u0433\\u0430\", \"type\": \"scattermapbox\"}, {\"lat\": [64.539911, 64.5333525116], \"legendgroup\": \"\\u041b\\u0438\\u043d\\u0438\\u0438\", \"lon\": [40.515753000000004, 40.5566509931], \"marker\": {\"color\": \"black\", \"opacity\": 0.5, \"size\": 5}, \"mode\": \"lines\", \"name\": \"\\u041b\\u0438\\u043d\\u0438\\u044f \\u0410\\u0440\\u0445\\u0430\\u043d\\u0433\\u0435\\u043b\\u044c\\u0441\\u043a\\u0430\\u044f \\u043e\\u0431\\u043b\\u0430\\u0441\\u0442\\u044c - \\u0410\\u0440\\u0445\\u0430\\u043d\\u0433\\u0435\\u043b\\u044c\\u0441\\u043a\", \"showlegend\": false, \"text\": \"\\u0410\\u0440\\u0445\\u0430\\u043d\\u0433\\u0435\\u043b\\u044c\\u0441\\u043a\\u0430\\u044f \\u043e\\u0431\\u043b\\u0430\\u0441\\u0442\\u044c - \\u0410\\u0440\\u0445\\u0430\\u043d\\u0433\\u0435\\u043b\\u044c\\u0441\\u043a\", \"type\": \"scattermapbox\"}, {\"lat\": [52.721219, 52.7350024456], \"legendgroup\": \"\\u041b\\u0438\\u043d\\u0438\\u0438\", \"lon\": [41.452273999999996, 41.44715610286668], \"marker\": {\"color\": \"black\", \"opacity\": 0.5, \"size\": 5}, \"mode\": \"lines\", \"name\": \"\\u041b\\u0438\\u043d\\u0438\\u044f \\u0422\\u0430\\u043c\\u0431\\u043e\\u0432\\u0441\\u043a\\u0430\\u044f \\u043e\\u0431\\u043b\\u0430\\u0441\\u0442\\u044c - \\u0422\\u0430\\u043c\\u0431\\u043e\\u0432\", \"showlegend\": false, \"text\": \"\\u0422\\u0430\\u043c\\u0431\\u043e\\u0432\\u0441\\u043a\\u0430\\u044f \\u043e\\u0431\\u043b\\u0430\\u0441\\u0442\\u044c - \\u0422\\u0430\\u043c\\u0431\\u043e\\u0432\", \"type\": \"scattermapbox\"}, {\"lat\": [55.44100400000001, 55.45045969455712], \"legendgroup\": \"\\u041b\\u0438\\u043d\\u0438\\u0438\", \"lon\": [65.34111800000001, 65.3269001127], \"marker\": {\"color\": \"black\", \"opacity\": 0.5, \"size\": 5}, \"mode\": \"lines\", \"name\": \"\\u041b\\u0438\\u043d\\u0438\\u044f \\u041a\\u0443\\u0440\\u0433\\u0430\\u043d\\u0441\\u043a\\u0430\\u044f \\u043e\\u0431\\u043b\\u0430\\u0441\\u0442\\u044c - \\u041a\\u0443\\u0440\\u0433\\u0430\\u043d\", \"showlegend\": false, \"text\": \"\\u041a\\u0443\\u0440\\u0433\\u0430\\u043d\\u0441\\u043a\\u0430\\u044f \\u043e\\u0431\\u043b\\u0430\\u0441\\u0442\\u044c - \\u041a\\u0443\\u0440\\u0433\\u0430\\u043d\", \"type\": \"scattermapbox\"}, {\"lat\": [53.287848, 53.257034823875], \"legendgroup\": \"\\u041b\\u0438\\u043d\\u0438\\u0438\", \"lon\": [34.3171395, 34.35348955110001], \"marker\": {\"color\": \"black\", \"opacity\": 0.5, \"size\": 5}, \"mode\": \"lines\", \"name\": \"\\u041b\\u0438\\u043d\\u0438\\u044f \\u0411\\u0440\\u044f\\u043d\\u0441\\u043a\\u0430\\u044f \\u043e\\u0431\\u043b\\u0430\\u0441\\u0442\\u044c - \\u0411\\u0440\\u044f\\u043d\\u0441\\u043a\", \"showlegend\": false, \"text\": \"\\u0411\\u0440\\u044f\\u043d\\u0441\\u043a\\u0430\\u044f \\u043e\\u0431\\u043b\\u0430\\u0441\\u0442\\u044c - \\u0411\\u0440\\u044f\\u043d\\u0441\\u043a\", \"type\": \"scattermapbox\"}, {\"lat\": [55.7057135, 55.727404298466666], \"legendgroup\": \"\\u041b\\u0438\\u043d\\u0438\\u0438\", \"lon\": [52.344962, 52.38959672188333], \"marker\": {\"color\": \"black\", \"opacity\": 0.5, \"size\": 5}, \"mode\": \"lines\", \"name\": \"\\u041b\\u0438\\u043d\\u0438\\u044f \\u0420\\u0435\\u0441\\u043f\\u0443\\u0431\\u043b\\u0438\\u043a\\u0430 \\u0422\\u0430\\u0442\\u0430\\u0440\\u0441\\u0442\\u0430\\u043d - \\u041d\\u0430\\u0431\\u0435\\u0440\\u0435\\u0436\\u043d\\u044b\\u0435 \\u0427\\u0435\\u043b\\u043d\\u044b\", \"showlegend\": false, \"text\": \"\\u0420\\u0435\\u0441\\u043f\\u0443\\u0431\\u043b\\u0438\\u043a\\u0430 \\u0422\\u0430\\u0442\\u0430\\u0440\\u0441\\u0442\\u0430\\u043d - \\u041d\\u0430\\u0431\\u0435\\u0440\\u0435\\u0436\\u043d\\u044b\\u0435 \\u0427\\u0435\\u043b\\u043d\\u044b\", \"type\": \"scattermapbox\"}, {\"lat\": [52.608819999999994, 52.59164071749999], \"legendgroup\": \"\\u041b\\u0438\\u043d\\u0438\\u0438\", \"lon\": [39.59922, 39.56140618916666], \"marker\": {\"color\": \"black\", \"opacity\": 0.5, \"size\": 5}, \"mode\": \"lines\", \"name\": \"\\u041b\\u0438\\u043d\\u0438\\u044f \\u041b\\u0438\\u043f\\u0435\\u0446\\u043a\\u0430\\u044f \\u043e\\u0431\\u043b\\u0430\\u0441\\u0442\\u044c - \\u041b\\u0438\\u043f\\u0435\\u0446\\u043a\", \"showlegend\": false, \"text\": \"\\u041b\\u0438\\u043f\\u0435\\u0446\\u043a\\u0430\\u044f \\u043e\\u0431\\u043b\\u0430\\u0441\\u0442\\u044c - \\u041b\\u0438\\u043f\\u0435\\u0446\\u043a\", \"type\": \"scattermapbox\"}, {\"lat\": [68.58, 68.96473231584], \"legendgroup\": \"\\u041b\\u0438\\u043d\\u0438\\u0438\", \"lon\": [33.05, 33.08395597338], \"marker\": {\"color\": \"black\", \"opacity\": 0.5, \"size\": 5}, \"mode\": \"lines\", \"name\": \"\\u041b\\u0438\\u043d\\u0438\\u044f \\u041c\\u0443\\u0440\\u043c\\u0430\\u043d\\u0441\\u043a\\u0430\\u044f \\u043e\\u0431\\u043b\\u0430\\u0441\\u0442\\u044c - \\u041c\\u0443\\u0440\\u043c\\u0430\\u043d\\u0441\\u043a\", \"showlegend\": false, \"text\": \"\\u041c\\u0443\\u0440\\u043c\\u0430\\u043d\\u0441\\u043a\\u0430\\u044f \\u043e\\u0431\\u043b\\u0430\\u0441\\u0442\\u044c - \\u041c\\u0443\\u0440\\u043c\\u0430\\u043d\\u0441\\u043a\", \"type\": \"scattermapbox\"}, {\"lat\": [53.757546999999995, 53.7697020085125], \"legendgroup\": \"\\u041b\\u0438\\u043d\\u0438\\u0438\", \"lon\": [87.136044, 87.1554696148], \"marker\": {\"color\": \"black\", \"opacity\": 0.5, \"size\": 5}, \"mode\": \"lines\", \"name\": \"\\u041b\\u0438\\u043d\\u0438\\u044f \\u041a\\u0435\\u043c\\u0435\\u0440\\u043e\\u0432\\u0441\\u043a\\u0430\\u044f \\u043e\\u0431\\u043b\\u0430\\u0441\\u0442\\u044c - \\u041d\\u043e\\u0432\\u043e\\u043a\\u0443\\u0437\\u043d\\u0435\\u0446\\u043a\", \"showlegend\": false, \"text\": \"\\u041a\\u0435\\u043c\\u0435\\u0440\\u043e\\u0432\\u0441\\u043a\\u0430\\u044f \\u043e\\u0431\\u043b\\u0430\\u0441\\u0442\\u044c - \\u041d\\u043e\\u0432\\u043e\\u043a\\u0443\\u0437\\u043d\\u0435\\u0446\\u043a\", \"type\": \"scattermapbox\"}, {\"lat\": [56.151362, 56.20052246849998], \"legendgroup\": \"\\u041b\\u0438\\u043d\\u0438\\u0438\", \"lon\": [101.63408000000001, 101.66829605027499], \"marker\": {\"color\": \"black\", \"opacity\": 0.5, \"size\": 5}, \"mode\": \"lines\", \"name\": \"\\u041b\\u0438\\u043d\\u0438\\u044f \\u0418\\u0440\\u043a\\u0443\\u0442\\u0441\\u043a\\u0430\\u044f \\u043e\\u0431\\u043b\\u0430\\u0441\\u0442\\u044c - \\u0411\\u0440\\u0430\\u0442\\u0441\\u043a\", \"showlegend\": false, \"text\": \"\\u0418\\u0440\\u043a\\u0443\\u0442\\u0441\\u043a\\u0430\\u044f \\u043e\\u0431\\u043b\\u0430\\u0441\\u0442\\u044c - \\u0411\\u0440\\u0430\\u0442\\u0441\\u043a\", \"type\": \"scattermapbox\"}, {\"lat\": [57.000347999999995, 56.973876906125], \"legendgroup\": \"\\u041b\\u0438\\u043d\\u0438\\u0438\", \"lon\": [40.973921000000004, 41.012521010724996], \"marker\": {\"color\": \"black\", \"opacity\": 0.5, \"size\": 5}, \"mode\": \"lines\", \"name\": \"\\u041b\\u0438\\u043d\\u0438\\u044f \\u0418\\u0432\\u0430\\u043d\\u043e\\u0432\\u0441\\u043a\\u0430\\u044f \\u043e\\u0431\\u043b\\u0430\\u0441\\u0442\\u044c - \\u0418\\u0432\\u0430\\u043d\\u043e\\u0432\\u043e\", \"showlegend\": false, \"text\": \"\\u0418\\u0432\\u0430\\u043d\\u043e\\u0432\\u0441\\u043a\\u0430\\u044f \\u043e\\u0431\\u043b\\u0430\\u0441\\u0442\\u044c - \\u0418\\u0432\\u0430\\u043d\\u043e\\u0432\\u043e\", \"type\": \"scattermapbox\"}, {\"lat\": [52.544357999999995, 52.521028630340005], \"legendgroup\": \"\\u041b\\u0438\\u043d\\u0438\\u0438\", \"lon\": [103.88824, 103.86909250622], \"marker\": {\"color\": \"black\", \"opacity\": 0.5, \"size\": 5}, \"mode\": \"lines\", \"name\": \"\\u041b\\u0438\\u043d\\u0438\\u044f \\u0418\\u0440\\u043a\\u0443\\u0442\\u0441\\u043a\\u0430\\u044f \\u043e\\u0431\\u043b\\u0430\\u0441\\u0442\\u044c - \\u0410\\u043d\\u0433\\u0430\\u0440\\u0441\\u043a\", \"showlegend\": false, \"text\": \"\\u0418\\u0440\\u043a\\u0443\\u0442\\u0441\\u043a\\u0430\\u044f \\u043e\\u0431\\u043b\\u0430\\u0441\\u0442\\u044c - \\u0410\\u043d\\u0433\\u0430\\u0440\\u0441\\u043a\", \"type\": \"scattermapbox\"}, {\"lat\": [54.187433, 54.1929995607], \"legendgroup\": \"\\u041b\\u0438\\u043d\\u0438\\u0438\", \"lon\": [45.183938, 45.16804768386667], \"marker\": {\"color\": \"black\", \"opacity\": 0.5, \"size\": 5}, \"mode\": \"lines\", \"name\": \"\\u041b\\u0438\\u043d\\u0438\\u044f \\u0420\\u0435\\u0441\\u043f\\u0443\\u0431\\u043b\\u0438\\u043a\\u0430 \\u041c\\u043e\\u0440\\u0434\\u043e\\u0432\\u0438\\u044f - \\u0421\\u0430\\u0440\\u0430\\u043d\\u0441\\u043a\", \"showlegend\": false, \"text\": \"\\u0420\\u0435\\u0441\\u043f\\u0443\\u0431\\u043b\\u0438\\u043a\\u0430 \\u041c\\u043e\\u0440\\u0434\\u043e\\u0432\\u0438\\u044f - \\u0421\\u0430\\u0440\\u0430\\u043d\\u0441\\u043a\", \"type\": \"scattermapbox\"}, {\"lat\": [61.66879300000001, 61.66835031835715], \"legendgroup\": \"\\u041b\\u0438\\u043d\\u0438\\u0438\", \"lon\": [50.836399, 50.82010973344287], \"marker\": {\"color\": \"black\", \"opacity\": 0.5, \"size\": 5}, \"mode\": \"lines\", \"name\": \"\\u041b\\u0438\\u043d\\u0438\\u044f \\u0420\\u0435\\u0441\\u043f\\u0443\\u0431\\u043b\\u0438\\u043a\\u0430 \\u041a\\u043e\\u043c\\u0438 - \\u0421\\u044b\\u043a\\u0442\\u044b\\u0432\\u043a\\u0430\\u0440\", \"showlegend\": false, \"text\": \"\\u0420\\u0435\\u0441\\u043f\\u0443\\u0431\\u043b\\u0438\\u043a\\u0430 \\u041a\\u043e\\u043c\\u0438 - \\u0421\\u044b\\u043a\\u0442\\u044b\\u0432\\u043a\\u0430\\u0440\", \"type\": \"scattermapbox\"}, {\"lat\": [53.721152000000004, 53.741467119499994], \"legendgroup\": \"\\u041b\\u0438\\u043d\\u0438\\u0438\", \"lon\": [91.442387, 91.4208739295], \"marker\": {\"color\": \"black\", \"opacity\": 0.5, \"size\": 5}, \"mode\": \"lines\", \"name\": \"\\u041b\\u0438\\u043d\\u0438\\u044f \\u0420\\u0435\\u0441\\u043f\\u0443\\u0431\\u043b\\u0438\\u043a\\u0430 \\u0425\\u0430\\u043a\\u0430\\u0441\\u0438\\u044f - \\u0410\\u0431\\u0430\\u043a\\u0430\\u043d\", \"showlegend\": false, \"text\": \"\\u0420\\u0435\\u0441\\u043f\\u0443\\u0431\\u043b\\u0438\\u043a\\u0430 \\u0425\\u0430\\u043a\\u0430\\u0441\\u0438\\u044f - \\u0410\\u0431\\u0430\\u043a\\u0430\\u043d\", \"type\": \"scattermapbox\"}, {\"lat\": [50.257451, 50.27154886368001], \"legendgroup\": \"\\u041b\\u0438\\u043d\\u0438\\u0438\", \"lon\": [127.53461100000001, 127.52419991526001], \"marker\": {\"color\": \"black\", \"opacity\": 0.5, \"size\": 5}, \"mode\": \"lines\", \"name\": \"\\u041b\\u0438\\u043d\\u0438\\u044f \\u0410\\u043c\\u0443\\u0440\\u0441\\u043a\\u0430\\u044f \\u043e\\u0431\\u043b\\u0430\\u0441\\u0442\\u044c - \\u0411\\u043b\\u0430\\u0433\\u043e\\u0432\\u0435\\u0449\\u0435\\u043d\\u0441\\u043a\", \"showlegend\": false, \"text\": \"\\u0410\\u043c\\u0443\\u0440\\u0441\\u043a\\u0430\\u044f \\u043e\\u0431\\u043b\\u0430\\u0441\\u0442\\u044c - \\u0411\\u043b\\u0430\\u0433\\u043e\\u0432\\u0435\\u0449\\u0435\\u043d\\u0441\\u043a\", \"type\": \"scattermapbox\"}, {\"lat\": [55.796339, 55.78740646165385], \"legendgroup\": \"\\u041b\\u0438\\u043d\\u0438\\u0438\", \"lon\": [37.938199, 37.940015256876926], \"marker\": {\"color\": \"black\", \"opacity\": 0.5, \"size\": 5}, \"mode\": \"lines\", \"name\": \"\\u041b\\u0438\\u043d\\u0438\\u044f \\u041c\\u043e\\u0441\\u043a\\u043e\\u0432\\u0441\\u043a\\u0430\\u044f \\u043e\\u0431\\u043b\\u0430\\u0441\\u0442\\u044c - \\u0411\\u0430\\u043b\\u0430\\u0448\\u0438\\u0445\\u0430\", \"showlegend\": false, \"text\": \"\\u041c\\u043e\\u0441\\u043a\\u043e\\u0432\\u0441\\u043a\\u0430\\u044f \\u043e\\u0431\\u043b\\u0430\\u0441\\u0442\\u044c - \\u0411\\u0430\\u043b\\u0430\\u0448\\u0438\\u0445\\u0430\", \"type\": \"scattermapbox\"}, {\"lat\": [61.785017, 61.78244697773332], \"legendgroup\": \"\\u041b\\u0438\\u043d\\u0438\\u0438\", \"lon\": [34.346878000000004, 34.3537685498], \"marker\": {\"color\": \"black\", \"opacity\": 0.5, \"size\": 5}, \"mode\": \"lines\", \"name\": \"\\u041b\\u0438\\u043d\\u0438\\u044f \\u0420\\u0435\\u0441\\u043f\\u0443\\u0431\\u043b\\u0438\\u043a\\u0430 \\u041a\\u0430\\u0440\\u0435\\u043b\\u0438\\u044f - \\u041f\\u0435\\u0442\\u0440\\u043e\\u0437\\u0430\\u0432\\u043e\\u0434\\u0441\\u043a\", \"showlegend\": false, \"text\": \"\\u0420\\u0435\\u0441\\u043f\\u0443\\u0431\\u043b\\u0438\\u043a\\u0430 \\u041a\\u0430\\u0440\\u0435\\u043b\\u0438\\u044f - \\u041f\\u0435\\u0442\\u0440\\u043e\\u0437\\u0430\\u0432\\u043e\\u0434\\u0441\\u043a\", \"type\": \"scattermapbox\"}, {\"lat\": [59.122612, 59.12951908738573], \"legendgroup\": \"\\u041b\\u0438\\u043d\\u0438\\u0438\", \"lon\": [37.903461, 37.94586305844286], \"marker\": {\"color\": \"black\", \"opacity\": 0.5, \"size\": 5}, \"mode\": \"lines\", \"name\": \"\\u041b\\u0438\\u043d\\u0438\\u044f \\u0412\\u043e\\u043b\\u043e\\u0433\\u043e\\u0434\\u0441\\u043a\\u0430\\u044f \\u043e\\u0431\\u043b\\u0430\\u0441\\u0442\\u044c - \\u0427\\u0435\\u0440\\u0435\\u043f\\u043e\\u0432\\u0435\\u0446\", \"showlegend\": false, \"text\": \"\\u0412\\u043e\\u043b\\u043e\\u0433\\u043e\\u0434\\u0441\\u043a\\u0430\\u044f \\u043e\\u0431\\u043b\\u0430\\u0441\\u0442\\u044c - \\u0427\\u0435\\u0440\\u0435\\u043f\\u043e\\u0432\\u0435\\u0446\", \"type\": \"scattermapbox\"}, {\"lat\": [57.767961, 57.75348841725001], \"legendgroup\": \"\\u041b\\u0438\\u043d\\u0438\\u0438\", \"lon\": [40.926858, 40.93371193998332], \"marker\": {\"color\": \"black\", \"opacity\": 0.5, \"size\": 5}, \"mode\": \"lines\", \"name\": \"\\u041b\\u0438\\u043d\\u0438\\u044f \\u041a\\u043e\\u0441\\u0442\\u0440\\u043e\\u043c\\u0441\\u043a\\u0430\\u044f \\u043e\\u0431\\u043b\\u0430\\u0441\\u0442\\u044c - \\u041a\\u043e\\u0441\\u0442\\u0440\\u043e\\u043c\\u0430\", \"showlegend\": false, \"text\": \"\\u041a\\u043e\\u0441\\u0442\\u0440\\u043e\\u043c\\u0441\\u043a\\u0430\\u044f \\u043e\\u0431\\u043b\\u0430\\u0441\\u0442\\u044c - \\u041a\\u043e\\u0441\\u0442\\u0440\\u043e\\u043c\\u0430\", \"type\": \"scattermapbox\"}, {\"lat\": [52.58, 52.95556914442001], \"legendgroup\": \"\\u041b\\u0438\\u043d\\u0438\\u0438\", \"lon\": [36.05, 36.061225387860006], \"marker\": {\"color\": \"black\", \"opacity\": 0.5, \"size\": 5}, \"mode\": \"lines\", \"name\": \"\\u041b\\u0438\\u043d\\u0438\\u044f \\u041e\\u0440\\u043b\\u043e\\u0432\\u0441\\u043a\\u0430\\u044f \\u043e\\u0431\\u043b\\u0430\\u0441\\u0442\\u044c - \\u041e\\u0440\\u0435\\u043b\", \"showlegend\": false, \"text\": \"\\u041e\\u0440\\u043b\\u043e\\u0432\\u0441\\u043a\\u0430\\u044f \\u043e\\u0431\\u043b\\u0430\\u0441\\u0442\\u044c - \\u041e\\u0440\\u0435\\u043b\", \"type\": \"scattermapbox\"}, {\"lat\": [46.959148, 46.954191580239986], \"legendgroup\": \"\\u041b\\u0438\\u043d\\u0438\\u0438\", \"lon\": [142.737987, 142.73703779919998], \"marker\": {\"color\": \"black\", \"opacity\": 0.5, \"size\": 5}, \"mode\": \"lines\", \"name\": \"\\u041b\\u0438\\u043d\\u0438\\u044f \\u0421\\u0430\\u0445\\u0430\\u043b\\u0438\\u043d\\u0441\\u043a\\u0430\\u044f \\u043e\\u0431\\u043b\\u0430\\u0441\\u0442\\u044c - \\u042e\\u0436\\u043d\\u043e-\\u0421\\u0430\\u0445\\u0430\\u043b\\u0438\\u043d\\u0441\\u043a\", \"showlegend\": false, \"text\": \"\\u0421\\u0430\\u0445\\u0430\\u043b\\u0438\\u043d\\u0441\\u043a\\u0430\\u044f \\u043e\\u0431\\u043b\\u0430\\u0441\\u0442\\u044c - \\u042e\\u0436\\u043d\\u043e-\\u0421\\u0430\\u0445\\u0430\\u043b\\u0438\\u043d\\u0441\\u043a\", \"type\": \"scattermapbox\"}, {\"lat\": [53.630403, 53.62713993436666], \"legendgroup\": \"\\u041b\\u0438\\u043d\\u0438\\u0438\", \"lon\": [55.930825, 55.9527493481], \"marker\": {\"color\": \"black\", \"opacity\": 0.5, \"size\": 5}, \"mode\": \"lines\", \"name\": \"\\u041b\\u0438\\u043d\\u0438\\u044f \\u0420\\u0435\\u0441\\u043f\\u0443\\u0431\\u043b\\u0438\\u043a\\u0430 \\u0411\\u0430\\u0448\\u043a\\u043e\\u0440\\u0442\\u043e\\u0441\\u0442\\u0430\\u043d - \\u0421\\u0442\\u0435\\u0440\\u043b\\u0438\\u0442\\u0430\\u043c\\u0430\\u043a\", \"showlegend\": false, \"text\": \"\\u0420\\u0435\\u0441\\u043f\\u0443\\u0431\\u043b\\u0438\\u043a\\u0430 \\u0411\\u0430\\u0448\\u043a\\u043e\\u0440\\u0442\\u043e\\u0441\\u0442\\u0430\\u043d - \\u0421\\u0442\\u0435\\u0440\\u043b\\u0438\\u0442\\u0430\\u043c\\u0430\\u043a\", \"type\": \"scattermapbox\"}, {\"lat\": [57.819274, 57.80277915651999], \"legendgroup\": \"\\u041b\\u0438\\u043d\\u0438\\u0438\", \"lon\": [28.332451000000002, 28.322839394680003], \"marker\": {\"color\": \"black\", \"opacity\": 0.5, \"size\": 5}, \"mode\": \"lines\", \"name\": \"\\u041b\\u0438\\u043d\\u0438\\u044f \\u041f\\u0441\\u043a\\u043e\\u0432\\u0441\\u043a\\u0430\\u044f \\u043e\\u0431\\u043b\\u0430\\u0441\\u0442\\u044c - \\u041f\\u0441\\u043a\\u043e\\u0432\", \"showlegend\": false, \"text\": \"\\u041f\\u0441\\u043a\\u043e\\u0432\\u0441\\u043a\\u0430\\u044f \\u043e\\u0431\\u043b\\u0430\\u0441\\u0442\\u044c - \\u041f\\u0441\\u043a\\u043e\\u0432\", \"type\": \"scattermapbox\"}, {\"lat\": [44.616603999999995, 44.588666162733325], \"legendgroup\": \"\\u041b\\u0438\\u043d\\u0438\\u0438\", \"lon\": [33.525369, 33.4839863626], \"marker\": {\"color\": \"black\", \"opacity\": 0.5, \"size\": 5}, \"mode\": \"lines\", \"name\": \"\\u041b\\u0438\\u043d\\u0438\\u044f \\u0421\\u0435\\u0432\\u0430\\u0441\\u0442\\u043e\\u043f\\u043e\\u043b\\u044c - \\u0421\\u0435\\u0432\\u0430\\u0441\\u0442\\u043e\\u043f\\u043e\\u043b\\u044c\", \"showlegend\": false, \"text\": \"\\u0421\\u0435\\u0432\\u0430\\u0441\\u0442\\u043e\\u043f\\u043e\\u043b\\u044c - \\u0421\\u0435\\u0432\\u0430\\u0441\\u0442\\u043e\\u043f\\u043e\\u043b\\u044c\", \"type\": \"scattermapbox\"}, {\"lat\": [55.431177000000005, 55.038109997350006], \"legendgroup\": \"\\u041b\\u0438\\u043d\\u0438\\u0438\", \"lon\": [37.544737, 37.899600935470005], \"marker\": {\"color\": \"black\", \"opacity\": 0.5, \"size\": 5}, \"mode\": \"lines\", \"name\": \"\\u041b\\u0438\\u043d\\u0438\\u044f \\u041c\\u043e\\u0441\\u043a\\u043e\\u0432\\u0441\\u043a\\u0430\\u044f \\u043e\\u0431\\u043b\\u0430\\u0441\\u0442\\u044c - \\u041f\\u043e\\u0434\\u043e\\u043b\\u044c\\u0441\\u043a\", \"showlegend\": false, \"text\": \"\\u041c\\u043e\\u0441\\u043a\\u043e\\u0432\\u0441\\u043a\\u0430\\u044f \\u043e\\u0431\\u043b\\u0430\\u0441\\u0442\\u044c - \\u041f\\u043e\\u0434\\u043e\\u043b\\u044c\\u0441\\u043a\", \"type\": \"scattermapbox\"}, {\"lat\": [60.938545, 60.93586462912859], \"legendgroup\": \"\\u041b\\u0438\\u043d\\u0438\\u0438\", \"lon\": [76.558902, 76.57912396018573], \"marker\": {\"color\": \"black\", \"opacity\": 0.5, \"size\": 5}, \"mode\": \"lines\", \"name\": \"\\u041b\\u0438\\u043d\\u0438\\u044f \\u0425\\u0430\\u043d\\u0442\\u044b-\\u041c\\u0430\\u043d\\u0441\\u0438\\u0439\\u0441\\u043a\\u0438\\u0439 \\u0430\\u0432\\u0442\\u043e\\u043d... - \\u041d\\u0438\\u0436\\u043d\\u0435\\u0432\\u0430\\u0440\\u0442\\u043e\\u0432\\u0441\\u043a\", \"showlegend\": false, \"text\": \"\\u0425\\u0430\\u043d\\u0442\\u044b-\\u041c\\u0430\\u043d\\u0441\\u0438\\u0439\\u0441\\u043a\\u0438\\u0439 \\u0430\\u0432\\u0442\\u043e\\u043d... - \\u041d\\u0438\\u0436\\u043d\\u0435\\u0432\\u0430\\u0440\\u0442\\u043e\\u0432\\u0441\\u043a\", \"type\": \"scattermapbox\"}, {\"lat\": [56.631595, 56.6345191468125], \"legendgroup\": \"\\u041b\\u0438\\u043d\\u0438\\u0438\", \"lon\": [47.886178, 47.890512030825], \"marker\": {\"color\": \"black\", \"opacity\": 0.5, \"size\": 5}, \"mode\": \"lines\", \"name\": \"\\u041b\\u0438\\u043d\\u0438\\u044f \\u0420\\u0435\\u0441\\u043f\\u0443\\u0431\\u043b\\u0438\\u043a\\u0430 \\u041c\\u0430\\u0440\\u0438\\u0439 \\u042d\\u043b - \\u0419\\u043e\\u0448\\u043a\\u0430\\u0440-\\u041e\\u043b\\u0430\", \"showlegend\": false, \"text\": \"\\u0420\\u0435\\u0441\\u043f\\u0443\\u0431\\u043b\\u0438\\u043a\\u0430 \\u041c\\u0430\\u0440\\u0438\\u0439 \\u042d\\u043b - \\u0419\\u043e\\u0448\\u043a\\u0430\\u0440-\\u041e\\u043b\\u0430\", \"type\": \"scattermapbox\"}, {\"lat\": [64.562501, 64.56535653990001], \"legendgroup\": \"\\u041b\\u0438\\u043d\\u0438\\u0438\", \"lon\": [39.818175, 39.811096207800006], \"marker\": {\"color\": \"black\", \"opacity\": 0.5, \"size\": 5}, \"mode\": \"lines\", \"name\": \"\\u041b\\u0438\\u043d\\u0438\\u044f \\u0410\\u0440\\u0445\\u0430\\u043d\\u0433\\u0435\\u043b\\u044c\\u0441\\u043a\\u0430\\u044f \\u043e\\u0431\\u043b\\u0430\\u0441\\u0442\\u044c - \\u0421\\u0435\\u0432\\u0435\\u0440\\u043e\\u0434\\u0432\\u0438\\u043d\\u0441\\u043a\", \"showlegend\": false, \"text\": \"\\u0410\\u0440\\u0445\\u0430\\u043d\\u0433\\u0435\\u043b\\u044c\\u0441\\u043a\\u0430\\u044f \\u043e\\u0431\\u043b\\u0430\\u0441\\u0442\\u044c - \\u0421\\u0435\\u0432\\u0435\\u0440\\u043e\\u0434\\u0432\\u0438\\u043d\\u0441\\u043a\", \"type\": \"scattermapbox\"}, {\"lat\": [58.52281, 58.53366965036667], \"legendgroup\": \"\\u041b\\u0438\\u043d\\u0438\\u0438\", \"lon\": [31.269915, 31.258403319466677], \"marker\": {\"color\": \"black\", \"opacity\": 0.5, \"size\": 5}, \"mode\": \"lines\", \"name\": \"\\u041b\\u0438\\u043d\\u0438\\u044f \\u041d\\u043e\\u0432\\u0433\\u043e\\u0440\\u043e\\u0434\\u0441\\u043a\\u0430\\u044f \\u043e\\u0431\\u043b\\u0430\\u0441\\u0442\\u044c - \\u0412\\u0435\\u043b\\u0438\\u043a\\u0438\\u0439 \\u041d\\u043e\\u0432\\u0433\\u043e\\u0440\\u043e\\u0434\", \"showlegend\": false, \"text\": \"\\u041d\\u043e\\u0432\\u0433\\u043e\\u0440\\u043e\\u0434\\u0441\\u043a\\u0430\\u044f \\u043e\\u0431\\u043b\\u0430\\u0441\\u0442\\u044c - \\u0412\\u0435\\u043b\\u0438\\u043a\\u0438\\u0439 \\u041d\\u043e\\u0432\\u0433\\u043e\\u0440\\u043e\\u0434\", \"type\": \"scattermapbox\"}, {\"lat\": [47.22064, 47.236783623079994], \"legendgroup\": \"\\u041b\\u0438\\u043d\\u0438\\u0438\", \"lon\": [38.914713, 38.92018530386], \"marker\": {\"color\": \"black\", \"opacity\": 0.5, \"size\": 5}, \"mode\": \"lines\", \"name\": \"\\u041b\\u0438\\u043d\\u0438\\u044f \\u0420\\u043e\\u0441\\u0442\\u043e\\u0432\\u0441\\u043a\\u0430\\u044f \\u043e\\u0431\\u043b\\u0430\\u0441\\u0442\\u044c - \\u0422\\u0430\\u0433\\u0430\\u043d\\u0440\\u043e\\u0433\", \"showlegend\": false, \"text\": \"\\u0420\\u043e\\u0441\\u0442\\u043e\\u0432\\u0441\\u043a\\u0430\\u044f \\u043e\\u0431\\u043b\\u0430\\u0441\\u0442\\u044c - \\u0422\\u0430\\u0433\\u0430\\u043d\\u0440\\u043e\\u0433\", \"type\": \"scattermapbox\"}, {\"lat\": [57.907605000000004, 57.91112891524998], \"legendgroup\": \"\\u041b\\u0438\\u043d\\u0438\\u0438\", \"lon\": [59.972211, 60.02420692417499], \"marker\": {\"color\": \"black\", \"opacity\": 0.5, \"size\": 5}, \"mode\": \"lines\", \"name\": \"\\u041b\\u0438\\u043d\\u0438\\u044f \\u0421\\u0432\\u0435\\u0440\\u0434\\u043b\\u043e\\u0432\\u0441\\u043a\\u0430\\u044f \\u043e\\u0431\\u043b\\u0430\\u0441\\u0442\\u044c - \\u041d\\u0438\\u0436\\u043d\\u0438\\u0439 \\u0422\\u0430\\u0433\\u0438\\u043b\", \"showlegend\": false, \"text\": \"\\u0421\\u0432\\u0435\\u0440\\u0434\\u043b\\u043e\\u0432\\u0441\\u043a\\u0430\\u044f \\u043e\\u0431\\u043b\\u0430\\u0441\\u0442\\u044c - \\u041d\\u0438\\u0436\\u043d\\u0438\\u0439 \\u0422\\u0430\\u0433\\u0438\\u043b\", \"type\": \"scattermapbox\"}, {\"lat\": [51.229362, 51.22947126919999], \"legendgroup\": \"\\u041b\\u0438\\u043d\\u0438\\u0438\", \"lon\": [58.475196, 58.50534584596668], \"marker\": {\"color\": \"black\", \"opacity\": 0.5, \"size\": 5}, \"mode\": \"lines\", \"name\": \"\\u041b\\u0438\\u043d\\u0438\\u044f \\u041e\\u0440\\u0435\\u043d\\u0431\\u0443\\u0440\\u0433\\u0441\\u043a\\u0430\\u044f \\u043e\\u0431\\u043b\\u0430\\u0441\\u0442\\u044c - \\u041e\\u0440\\u0441\\u043a\", \"showlegend\": false, \"text\": \"\\u041e\\u0440\\u0435\\u043d\\u0431\\u0443\\u0440\\u0433\\u0441\\u043a\\u0430\\u044f \\u043e\\u0431\\u043b\\u0430\\u0441\\u0442\\u044c - \\u041e\\u0440\\u0441\\u043a\", \"type\": \"scattermapbox\"}, {\"lat\": [55.910483, 55.91128564962857], \"legendgroup\": \"\\u041b\\u0438\\u043d\\u0438\\u0438\", \"lon\": [37.736402000000005, 37.748097798957126], \"marker\": {\"color\": \"black\", \"opacity\": 0.5, \"size\": 5}, \"mode\": \"lines\", \"name\": \"\\u041b\\u0438\\u043d\\u0438\\u044f \\u041c\\u043e\\u0441\\u043a\\u043e\\u0432\\u0441\\u043a\\u0430\\u044f \\u043e\\u0431\\u043b\\u0430\\u0441\\u0442\\u044c - \\u041c\\u044b\\u0442\\u0438\\u0449\\u0438\", \"showlegend\": false, \"text\": \"\\u041c\\u043e\\u0441\\u043a\\u043e\\u0432\\u0441\\u043a\\u0430\\u044f \\u043e\\u0431\\u043b\\u0430\\u0441\\u0442\\u044c - \\u041c\\u044b\\u0442\\u0438\\u0449\\u0438\", \"type\": \"scattermapbox\"}, {\"lat\": [44.723912, 44.714475794014284], \"legendgroup\": \"\\u041b\\u0438\\u043d\\u0438\\u0438\", \"lon\": [37.768974, 37.77453085557143], \"marker\": {\"color\": \"black\", \"opacity\": 0.5, \"size\": 5}, \"mode\": \"lines\", \"name\": \"\\u041b\\u0438\\u043d\\u0438\\u044f \\u041a\\u0440\\u0430\\u0441\\u043d\\u043e\\u0434\\u0430\\u0440\\u0441\\u043a\\u0438\\u0439 \\u043a\\u0440\\u0430\\u0439 - \\u041d\\u043e\\u0432\\u043e\\u0440\\u043e\\u0441\\u0441\\u0438\\u0439\\u0441\\u043a\", \"showlegend\": false, \"text\": \"\\u041a\\u0440\\u0430\\u0441\\u043d\\u043e\\u0434\\u0430\\u0440\\u0441\\u043a\\u0438\\u0439 \\u043a\\u0440\\u0430\\u0439 - \\u041d\\u043e\\u0432\\u043e\\u0440\\u043e\\u0441\\u0441\\u0438\\u0439\\u0441\\u043a\", \"type\": \"scattermapbox\"}, {\"lat\": [55.831099, 55.8242796473], \"legendgroup\": \"\\u041b\\u0438\\u043d\\u0438\\u0438\", \"lon\": [37.330192, 37.33111786736001], \"marker\": {\"color\": \"black\", \"opacity\": 0.5, \"size\": 5}, \"mode\": \"lines\", \"name\": \"\\u041b\\u0438\\u043d\\u0438\\u044f \\u041c\\u043e\\u0441\\u043a\\u043e\\u0432\\u0441\\u043a\\u0430\\u044f \\u043e\\u0431\\u043b\\u0430\\u0441\\u0442\\u044c - \\u041a\\u0440\\u0430\\u0441\\u043d\\u043e\\u0433\\u043e\\u0440\\u0441\\u043a\", \"showlegend\": false, \"text\": \"\\u041c\\u043e\\u0441\\u043a\\u043e\\u0432\\u0441\\u043a\\u0430\\u044f \\u043e\\u0431\\u043b\\u0430\\u0441\\u0442\\u044c - \\u041a\\u0440\\u0430\\u0441\\u043d\\u043e\\u0433\\u043e\\u0440\\u0441\\u043a\", \"type\": \"scattermapbox\"}, {\"lat\": [56.238377, 56.212628976975004], \"legendgroup\": \"\\u041b\\u0438\\u043d\\u0438\\u0438\", \"lon\": [43.461625, 43.46431591597501], \"marker\": {\"color\": \"black\", \"opacity\": 0.5, \"size\": 5}, \"mode\": \"lines\", \"name\": \"\\u041b\\u0438\\u043d\\u0438\\u044f \\u041d\\u0438\\u0436\\u0435\\u0433\\u043e\\u0440\\u043e\\u0434\\u0441\\u043a\\u0430\\u044f \\u043e\\u0431\\u043b\\u0430\\u0441\\u0442\\u044c - \\u0414\\u0437\\u0435\\u0440\\u0436\\u0438\\u043d\\u0441\\u043a\", \"showlegend\": false, \"text\": \"\\u041d\\u0438\\u0436\\u0435\\u0433\\u043e\\u0440\\u043e\\u0434\\u0441\\u043a\\u0430\\u044f \\u043e\\u0431\\u043b\\u0430\\u0441\\u0442\\u044c - \\u0414\\u0437\\u0435\\u0440\\u0436\\u0438\\u043d\\u0441\\u043a\", \"type\": \"scattermapbox\"}, {\"lat\": [51.485489, 51.487656484649996], \"legendgroup\": \"\\u041b\\u0438\\u043d\\u0438\\u0438\", \"lon\": [46.126783, 46.1244667022], \"marker\": {\"color\": \"black\", \"opacity\": 0.5, \"size\": 5}, \"mode\": \"lines\", \"name\": \"\\u041b\\u0438\\u043d\\u0438\\u044f \\u0421\\u0430\\u0440\\u0430\\u0442\\u043e\\u0432\\u0441\\u043a\\u0430\\u044f \\u043e\\u0431\\u043b\\u0430\\u0441\\u0442\\u044c - \\u042d\\u043d\\u0433\\u0435\\u043b\\u044c\\u0441\", \"showlegend\": false, \"text\": \"\\u0421\\u0430\\u0440\\u0430\\u0442\\u043e\\u0432\\u0441\\u043a\\u0430\\u044f \\u043e\\u0431\\u043b\\u0430\\u0441\\u0442\\u044c - \\u042d\\u043d\\u0433\\u0435\\u043b\\u044c\\u0441\", \"type\": \"scattermapbox\"}, {\"lat\": [55.55, 55.91954983179091], \"legendgroup\": \"\\u041b\\u0438\\u043d\\u0438\\u0438\", \"lon\": [37.49, 37.8452676858], \"marker\": {\"color\": \"black\", \"opacity\": 0.5, \"size\": 5}, \"mode\": \"lines\", \"name\": \"\\u041b\\u0438\\u043d\\u0438\\u044f \\u041c\\u043e\\u0441\\u043a\\u043e\\u0432\\u0441\\u043a\\u0430\\u044f \\u043e\\u0431\\u043b\\u0430\\u0441\\u0442\\u044c - \\u041a\\u043e\\u0440\\u043e\\u043b\\u0435\\u0432\", \"showlegend\": false, \"text\": \"\\u041c\\u043e\\u0441\\u043a\\u043e\\u0432\\u0441\\u043a\\u0430\\u044f \\u043e\\u0431\\u043b\\u0430\\u0441\\u0442\\u044c - \\u041a\\u043e\\u0440\\u043e\\u043b\\u0435\\u0432\", \"type\": \"scattermapbox\"}, {\"lat\": [44.948237, 44.955254024350005], \"legendgroup\": \"\\u041b\\u0438\\u043d\\u0438\\u0438\", \"lon\": [34.100318, 34.09766189855], \"marker\": {\"color\": \"black\", \"opacity\": 0.5, \"size\": 5}, \"mode\": \"lines\", \"name\": \"\\u041b\\u0438\\u043d\\u0438\\u044f \\u0420\\u0435\\u0441\\u043f\\u0443\\u0431\\u043b\\u0438\\u043a\\u0430 \\u041a\\u0440\\u044b\\u043c - \\u0421\\u0438\\u043c\\u0444\\u0435\\u0440\\u043e\\u043f\\u043e\\u043b\\u044c\", \"showlegend\": false, \"text\": \"\\u0420\\u0435\\u0441\\u043f\\u0443\\u0431\\u043b\\u0438\\u043a\\u0430 \\u041a\\u0440\\u044b\\u043c - \\u0421\\u0438\\u043c\\u0444\\u0435\\u0440\\u043e\\u043f\\u043e\\u043b\\u044c\", \"type\": \"scattermapbox\"}, {\"lat\": [44.894965, 44.89454854486667], \"legendgroup\": \"\\u041b\\u0438\\u043d\\u0438\\u0438\", \"lon\": [37.31617, 37.325957077300004], \"marker\": {\"color\": \"black\", \"opacity\": 0.5, \"size\": 5}, \"mode\": \"lines\", \"name\": \"\\u041b\\u0438\\u043d\\u0438\\u044f \\u041a\\u0440\\u0430\\u0441\\u043d\\u043e\\u0434\\u0430\\u0440\\u0441\\u043a\\u0438\\u0439 \\u043a\\u0440\\u0430\\u0439 - \\u0410\\u043d\\u0430\\u043f\\u0430\", \"showlegend\": false, \"text\": \"\\u041a\\u0440\\u0430\\u0441\\u043d\\u043e\\u0434\\u0430\\u0440\\u0441\\u043a\\u0438\\u0439 \\u043a\\u0440\\u0430\\u0439 - \\u0410\\u043d\\u0430\\u043f\\u0430\", \"type\": \"scattermapbox\"}, {\"lat\": [44.039795, 44.050839897974996], \"legendgroup\": \"\\u041b\\u0438\\u043d\\u0438\\u0438\", \"lon\": [43.070634000000005, 43.051231565449996], \"marker\": {\"color\": \"black\", \"opacity\": 0.5, \"size\": 5}, \"mode\": \"lines\", \"name\": \"\\u041b\\u0438\\u043d\\u0438\\u044f \\u0421\\u0442\\u0430\\u0432\\u0440\\u043e\\u043f\\u043e\\u043b\\u044c\\u0441\\u043a\\u0438\\u0439 \\u043a\\u0440\\u0430\\u0439 - \\u041f\\u044f\\u0442\\u0438\\u0433\\u043e\\u0440\\u0441\\u043a\", \"showlegend\": false, \"text\": \"\\u0421\\u0442\\u0430\\u0432\\u0440\\u043e\\u043f\\u043e\\u043b\\u044c\\u0441\\u043a\\u0438\\u0439 \\u043a\\u0440\\u0430\\u0439 - \\u041f\\u044f\\u0442\\u0438\\u0433\\u043e\\u0440\\u0441\\u043a\", \"type\": \"scattermapbox\"}, {\"lat\": [56.252922, 56.239230379149994], \"legendgroup\": \"\\u041b\\u0438\\u043d\\u0438\\u0438\", \"lon\": [93.532264, 93.5250003596], \"marker\": {\"color\": \"black\", \"opacity\": 0.5, \"size\": 5}, \"mode\": \"lines\", \"name\": \"\\u041b\\u0438\\u043d\\u0438\\u044f \\u041a\\u0440\\u0430\\u0441\\u043d\\u043e\\u044f\\u0440\\u0441\\u043a\\u0438\\u0439 \\u043a\\u0440\\u0430\\u0439 - \\u0416\\u0435\\u043b\\u0435\\u0437\\u043d\\u043e\\u0433\\u043e\\u0440\\u0441\\u043a\", \"showlegend\": false, \"text\": \"\\u041a\\u0440\\u0430\\u0441\\u043d\\u043e\\u044f\\u0440\\u0441\\u043a\\u0438\\u0439 \\u043a\\u0440\\u0430\\u0439 - \\u0416\\u0435\\u043b\\u0435\\u0437\\u043d\\u043e\\u0433\\u043e\\u0440\\u0441\\u043a\", \"type\": \"scattermapbox\"}, {\"lat\": [52.337971, 52.3426769841], \"legendgroup\": \"\\u041b\\u0438\\u043d\\u0438\\u0438\", \"lon\": [35.351743, 35.35990619329999], \"marker\": {\"color\": \"black\", \"opacity\": 0.5, \"size\": 5}, \"mode\": \"lines\", \"name\": \"\\u041b\\u0438\\u043d\\u0438\\u044f \\u041a\\u0443\\u0440\\u0441\\u043a\\u0430\\u044f \\u043e\\u0431\\u043b\\u0430\\u0441\\u0442\\u044c - \\u0416\\u0435\\u043b\\u0435\\u0437\\u043d\\u043e\\u0433\\u043e\\u0440\\u0441\\u043a\", \"showlegend\": false, \"text\": \"\\u041a\\u0443\\u0440\\u0441\\u043a\\u0430\\u044f \\u043e\\u0431\\u043b\\u0430\\u0441\\u0442\\u044c - \\u0416\\u0435\\u043b\\u0435\\u0437\\u043d\\u043e\\u0433\\u043e\\u0440\\u0441\\u043a\", \"type\": \"scattermapbox\"}, {\"lat\": [55.7472562844902, 59.90234502605, 55.59329324407001, 56.82300418398667, 55.164073222540004, 54.73736992471765, 53.226141302950005, 55.12778985317142, 56.04594584034444, 45.05511406813332, 56.17461826633751, 51.6800396205, 57.994648795649994, 55.79580015614286, 52.279485120427275, 47.242371454063644, 48.70042876570909, 56.85782113898001, 48.475258868666664, 57.78855385621537, 57.20809724792, 43.122097349600004, 55.07166650243334, 51.56012181606, 54.72444493272857, 51.79485794871667, 59.78492774255713, 55.90648654620714, 43.510840541718174, 58.58490912915999, 55.380978038550005, 53.52836569703751, 54.30707657187776, 54.63161432332, 52.04109209383999, 50.60000374924444, 54.168283496880015, 61.2631859224875, 56.1148182755, 56.84797654997002, 56.1214999829, 45.04253720122, 62.032894316325006, 53.22019819302, 51.73607364898571, 54.780857579774995, 51.82904227699999, 46.35120487773332, 53.39140237401428, 59.220038403516675, 54.515911538481824, 64.5333525116, 52.7350024456, 55.45045969455712, 53.257034823875, 55.727404298466666, 52.59164071749999, 68.96473231584, 53.7697020085125, 56.20052246849998, 56.973876906125, 52.521028630340005, 54.1929995607, 61.66835031835715, 53.741467119499994, 50.27154886368001, 55.78740646165385, 61.78244697773332, 59.12951908738573, 57.75348841725001, 52.95556914442001, 46.954191580239986, 53.62713993436666, 57.80277915651999, 44.588666162733325, 55.038109997350006, 60.93586462912859, 56.6345191468125, 64.56535653990001, 58.53366965036667, 47.236783623079994, 57.91112891524998, 51.22947126919999, 55.91128564962857, 44.714475794014284, 55.8242796473, 56.212628976975004, 51.487656484649996, 55.91954983179091, 44.955254024350005, 44.89454854486667, 44.050839897974996, 56.239230379149994, 52.3426769841], \"lon\": [37.60908591739412, 30.331197179075, 82.37655319132, 60.62346513068001, 61.389478065479985, 56.00787108621765, 50.19025610856667, 73.21248352894285, 92.84427225434445, 38.99892627756001, 44.05248272491249, 39.207042508966666, 56.234655537150005, 49.15510143304286, 104.28339945697272, 39.7154392538, 44.49951766678183, 53.252546989920006, 135.08203310438333, 64.90469010821539, 84.25058314834999, 131.9175785290125, 82.03029287501109, 45.99470886716998, 20.48728280155714, 55.12350195189999, 81.66894848605713, 37.43450732162857, 39.83286022404545, 49.657054978919994, 42.095849542012495, 49.34659042426251, 48.347150338811105, 39.716121476279994, 113.49374957820001, 36.58384602355556, 37.60937762324, 73.3795305893125, 47.27338309707145, 35.889208563980006, 40.387047988877775, 41.95607730462, 129.73331840662502, 45.00634880127999, 36.15788406989999, 32.050663459987504, 107.59980583402498, 48.03628564153333, 58.97004669901428, 39.90305711698333, 36.257397577409094, 40.5566509931, 41.44715610286668, 65.3269001127, 34.35348955110001, 52.38959672188333, 39.56140618916666, 33.08395597338, 87.1554696148, 101.66829605027499, 41.012521010724996, 103.86909250622, 45.16804768386667, 50.82010973344287, 91.4208739295, 127.52419991526001, 37.940015256876926, 34.3537685498, 37.94586305844286, 40.93371193998332, 36.061225387860006, 142.73703779919998, 55.9527493481, 28.322839394680003, 33.4839863626, 37.899600935470005, 76.57912396018573, 47.890512030825, 39.811096207800006, 31.258403319466677, 38.92018530386, 60.02420692417499, 58.50534584596668, 37.748097798957126, 37.77453085557143, 37.33111786736001, 43.46431591597501, 46.1244667022, 37.8452676858, 34.09766189855, 37.325957077300004, 43.051231565449996, 93.5250003596, 35.35990619329999], \"marker\": {\"color\": \"red\", \"opacity\": 0.7, \"size\": 10}, \"mode\": \"markers\", \"name\": \"\\u0422\\u0435\\u0440\\u043c\\u0438\\u043d\\u0430\\u043b\\u044b\", \"showlegend\": true, \"text\": [\"\\u041c\\u043e\\u0441\\u043a\\u0432\\u0430 - \\u041c\\u043e\\u0441\\u043a\\u0432\\u0430\", \"\\u0421\\u0430\\u043d\\u043a\\u0442-\\u041f\\u0435\\u0442\\u0435\\u0440\\u0431\\u0443\\u0440\\u0433 - \\u0421\\u0430\\u043d\\u043a\\u0442-\\u041f\\u0435\\u0442\\u0435\\u0440\\u0431\\u0443\\u0440\\u0433\", \"\\u041d\\u043e\\u0432\\u043e\\u0441\\u0438\\u0431\\u0438\\u0440\\u0441\\u043a\\u0430\\u044f \\u043e\\u0431\\u043b\\u0430\\u0441\\u0442\\u044c - \\u041d\\u043e\\u0432\\u043e\\u0441\\u0438\\u0431\\u0438\\u0440\\u0441\\u043a\", \"\\u0421\\u0432\\u0435\\u0440\\u0434\\u043b\\u043e\\u0432\\u0441\\u043a\\u0430\\u044f \\u043e\\u0431\\u043b\\u0430\\u0441\\u0442\\u044c - \\u0415\\u043a\\u0430\\u0442\\u0435\\u0440\\u0438\\u043d\\u0431\\u0443\\u0440\\u0433\", \"\\u0427\\u0435\\u043b\\u044f\\u0431\\u0438\\u043d\\u0441\\u043a\\u0430\\u044f \\u043e\\u0431\\u043b\\u0430\\u0441\\u0442\\u044c - \\u0427\\u0435\\u043b\\u044f\\u0431\\u0438\\u043d\\u0441\\u043a\", \"\\u0420\\u0435\\u0441\\u043f\\u0443\\u0431\\u043b\\u0438\\u043a\\u0430 \\u0411\\u0430\\u0448\\u043a\\u043e\\u0440\\u0442\\u043e\\u0441\\u0442\\u0430\\u043d - \\u0423\\u0444\\u0430\", \"\\u0421\\u0430\\u043c\\u0430\\u0440\\u0441\\u043a\\u0430\\u044f \\u043e\\u0431\\u043b\\u0430\\u0441\\u0442\\u044c - \\u0421\\u0430\\u043c\\u0430\\u0440\\u0430\", \"\\u041e\\u043c\\u0441\\u043a\\u0430\\u044f \\u043e\\u0431\\u043b\\u0430\\u0441\\u0442\\u044c - \\u041e\\u043c\\u0441\\u043a\", \"\\u041a\\u0440\\u0430\\u0441\\u043d\\u043e\\u044f\\u0440\\u0441\\u043a\\u0438\\u0439 \\u043a\\u0440\\u0430\\u0439 - \\u041a\\u0440\\u0430\\u0441\\u043d\\u043e\\u044f\\u0440\\u0441\\u043a\", \"\\u041a\\u0440\\u0430\\u0441\\u043d\\u043e\\u0434\\u0430\\u0440\\u0441\\u043a\\u0438\\u0439 \\u043a\\u0440\\u0430\\u0439 - \\u041a\\u0440\\u0430\\u0441\\u043d\\u043e\\u0434\\u0430\\u0440\", \"\\u041d\\u0438\\u0436\\u0435\\u0433\\u043e\\u0440\\u043e\\u0434\\u0441\\u043a\\u0430\\u044f \\u043e\\u0431\\u043b\\u0430\\u0441\\u0442\\u044c - \\u041d\\u0438\\u0436\\u043d\\u0438\\u0439 \\u041d\\u043e\\u0432\\u0433\\u043e\\u0440\\u043e\\u0434\", \"\\u0412\\u043e\\u0440\\u043e\\u043d\\u0435\\u0436\\u0441\\u043a\\u0430\\u044f \\u043e\\u0431\\u043b\\u0430\\u0441\\u0442\\u044c - \\u0412\\u043e\\u0440\\u043e\\u043d\\u0435\\u0436\", \"\\u041f\\u0435\\u0440\\u043c\\u0441\\u043a\\u0438\\u0439 \\u043a\\u0440\\u0430\\u0439 - \\u041f\\u0435\\u0440\\u043c\\u044c\", \"\\u0420\\u0435\\u0441\\u043f\\u0443\\u0431\\u043b\\u0438\\u043a\\u0430 \\u0422\\u0430\\u0442\\u0430\\u0440\\u0441\\u0442\\u0430\\u043d - \\u041a\\u0430\\u0437\\u0430\\u043d\\u044c\", \"\\u0418\\u0440\\u043a\\u0443\\u0442\\u0441\\u043a\\u0430\\u044f \\u043e\\u0431\\u043b\\u0430\\u0441\\u0442\\u044c - \\u0418\\u0440\\u043a\\u0443\\u0442\\u0441\\u043a\", \"\\u0420\\u043e\\u0441\\u0442\\u043e\\u0432\\u0441\\u043a\\u0430\\u044f \\u043e\\u0431\\u043b\\u0430\\u0441\\u0442\\u044c - \\u0420\\u043e\\u0441\\u0442\\u043e\\u0432-\\u043d\\u0430-\\u0414\\u043e\\u043d\\u0443\", \"\\u0412\\u043e\\u043b\\u0433\\u043e\\u0433\\u0440\\u0430\\u0434\\u0441\\u043a\\u0430\\u044f \\u043e\\u0431\\u043b\\u0430\\u0441\\u0442\\u044c - \\u0412\\u043e\\u043b\\u0433\\u043e\\u0433\\u0440\\u0430\\u0434\", \"\\u0423\\u0434\\u043c\\u0443\\u0440\\u0442\\u0441\\u043a\\u0430\\u044f \\u0420\\u0435\\u0441\\u043f\\u0443\\u0431\\u043b\\u0438\\u043a\\u0430 - \\u0418\\u0436\\u0435\\u0432\\u0441\\u043a\", \"\\u0425\\u0430\\u0431\\u0430\\u0440\\u043e\\u0432\\u0441\\u043a\\u0438\\u0439 \\u043a\\u0440\\u0430\\u0439 - \\u0425\\u0430\\u0431\\u0430\\u0440\\u043e\\u0432\\u0441\\u043a\", \"\\u0422\\u044e\\u043c\\u0435\\u043d\\u0441\\u043a\\u0430\\u044f \\u043e\\u0431\\u043b\\u0430\\u0441\\u0442\\u044c - \\u0422\\u044e\\u043c\\u0435\\u043d\\u044c\", \"\\u0422\\u043e\\u043c\\u0441\\u043a\\u0430\\u044f \\u043e\\u0431\\u043b\\u0430\\u0441\\u0442\\u044c - \\u0422\\u043e\\u043c\\u0441\\u043a\", \"\\u041f\\u0440\\u0438\\u043c\\u043e\\u0440\\u0441\\u043a\\u0438\\u0439 \\u043a\\u0440\\u0430\\u0439 - \\u0412\\u043b\\u0430\\u0434\\u0438\\u0432\\u043e\\u0441\\u0442\\u043e\\u043a\", \"\\u0410\\u043b\\u0442\\u0430\\u0439\\u0441\\u043a\\u0438\\u0439 \\u043a\\u0440\\u0430\\u0439 - \\u0411\\u0430\\u0440\\u043d\\u0430\\u0443\\u043b\", \"\\u0421\\u0430\\u0440\\u0430\\u0442\\u043e\\u0432\\u0441\\u043a\\u0430\\u044f \\u043e\\u0431\\u043b\\u0430\\u0441\\u0442\\u044c - \\u0421\\u0430\\u0440\\u0430\\u0442\\u043e\\u0432\", \"\\u041a\\u0430\\u043b\\u0438\\u043d\\u0438\\u043d\\u0433\\u0440\\u0430\\u0434\\u0441\\u043a\\u0430\\u044f \\u043e\\u0431\\u043b\\u0430\\u0441\\u0442\\u044c - \\u041a\\u0430\\u043b\\u0438\\u043d\\u0438\\u043d\\u0433\\u0440\\u0430\\u0434\", \"\\u041e\\u0440\\u0435\\u043d\\u0431\\u0443\\u0440\\u0433\\u0441\\u043a\\u0430\\u044f \\u043e\\u0431\\u043b\\u0430\\u0441\\u0442\\u044c - \\u041e\\u0440\\u0435\\u043d\\u0431\\u0443\\u0440\\u0433\", \"\\u041a\\u0435\\u043c\\u0435\\u0440\\u043e\\u0432\\u0441\\u043a\\u0430\\u044f \\u043e\\u0431\\u043b\\u0430\\u0441\\u0442\\u044c - \\u041a\\u0435\\u043c\\u0435\\u0440\\u043e\\u0432\\u043e\", \"\\u041c\\u043e\\u0441\\u043a\\u043e\\u0432\\u0441\\u043a\\u0430\\u044f \\u043e\\u0431\\u043b\\u0430\\u0441\\u0442\\u044c - \\u0425\\u0438\\u043c\\u043a\\u0438\", \"\\u041a\\u0440\\u0430\\u0441\\u043d\\u043e\\u0434\\u0430\\u0440\\u0441\\u043a\\u0438\\u0439 \\u043a\\u0440\\u0430\\u0439 - \\u0421\\u043e\\u0447\\u0438\", \"\\u041a\\u0438\\u0440\\u043e\\u0432\\u0441\\u043a\\u0430\\u044f \\u043e\\u0431\\u043b\\u0430\\u0441\\u0442\\u044c - \\u041a\\u0438\\u0440\\u043e\\u0432\", \"\\u042f\\u0440\\u043e\\u0441\\u043b\\u0430\\u0432\\u0441\\u043a\\u0430\\u044f \\u043e\\u0431\\u043b\\u0430\\u0441\\u0442\\u044c - \\u042f\\u0440\\u043e\\u0441\\u043b\\u0430\\u0432\\u043b\\u044c\", \"\\u0421\\u0430\\u043c\\u0430\\u0440\\u0441\\u043a\\u0430\\u044f \\u043e\\u0431\\u043b\\u0430\\u0441\\u0442\\u044c - \\u0422\\u043e\\u043b\\u044c\\u044f\\u0442\\u0442\\u0438\", \"\\u0423\\u043b\\u044c\\u044f\\u043d\\u043e\\u0432\\u0441\\u043a\\u0430\\u044f \\u043e\\u0431\\u043b\\u0430\\u0441\\u0442\\u044c - \\u0423\\u043b\\u044c\\u044f\\u043d\\u043e\\u0432\\u0441\\u043a\", \"\\u0420\\u044f\\u0437\\u0430\\u043d\\u0441\\u043a\\u0430\\u044f \\u043e\\u0431\\u043b\\u0430\\u0441\\u0442\\u044c - \\u0420\\u044f\\u0437\\u0430\\u043d\\u044c\", \"\\u0417\\u0430\\u0431\\u0430\\u0439\\u043a\\u0430\\u043b\\u044c\\u0441\\u043a\\u0438\\u0439 \\u043a\\u0440\\u0430\\u0439 - \\u0427\\u0438\\u0442\\u0430\", \"\\u0411\\u0435\\u043b\\u0433\\u043e\\u0440\\u043e\\u0434\\u0441\\u043a\\u0430\\u044f \\u043e\\u0431\\u043b\\u0430\\u0441\\u0442\\u044c - \\u0411\\u0435\\u043b\\u0433\\u043e\\u0440\\u043e\\u0434\", \"\\u0422\\u0443\\u043b\\u044c\\u0441\\u043a\\u0430\\u044f \\u043e\\u0431\\u043b\\u0430\\u0441\\u0442\\u044c - \\u0422\\u0443\\u043b\\u0430\", \"\\u0425\\u0430\\u043d\\u0442\\u044b-\\u041c\\u0430\\u043d\\u0441\\u0438\\u0439\\u0441\\u043a\\u0438\\u0439 \\u0430\\u0432\\u0442\\u043e\\u043d... - \\u0421\\u0443\\u0440\\u0433\\u0443\\u0442\", \"\\u0427\\u0443\\u0432\\u0430\\u0448\\u0441\\u043a\\u0430\\u044f \\u0420\\u0435\\u0441\\u043f\\u0443\\u0431\\u043b\\u0438\\u043a\\u0430 - \\u0427\\u0435\\u0431\\u043e\\u043a\\u0441\\u0430\\u0440\\u044b\", \"\\u0422\\u0432\\u0435\\u0440\\u0441\\u043a\\u0430\\u044f \\u043e\\u0431\\u043b\\u0430\\u0441\\u0442\\u044c - \\u0422\\u0432\\u0435\\u0440\\u044c\", \"\\u0412\\u043b\\u0430\\u0434\\u0438\\u043c\\u0438\\u0440\\u0441\\u043a\\u0430\\u044f \\u043e\\u0431\\u043b\\u0430\\u0441\\u0442\\u044c - \\u0412\\u043b\\u0430\\u0434\\u0438\\u043c\\u0438\\u0440\", \"\\u0421\\u0442\\u0430\\u0432\\u0440\\u043e\\u043f\\u043e\\u043b\\u044c\\u0441\\u043a\\u0438\\u0439 \\u043a\\u0440\\u0430\\u0439 - \\u0421\\u0442\\u0430\\u0432\\u0440\\u043e\\u043f\\u043e\\u043b\\u044c\", \"\\u0420\\u0435\\u0441\\u043f\\u0443\\u0431\\u043b\\u0438\\u043a\\u0430 \\u0421\\u0430\\u0445\\u0430 (\\u042f\\u043a\\u0443\\u0442\\u0438\\u044f) - \\u042f\\u043a\\u0443\\u0442\\u0441\\u043a\", \"\\u041f\\u0435\\u043d\\u0437\\u0435\\u043d\\u0441\\u043a\\u0430\\u044f \\u043e\\u0431\\u043b\\u0430\\u0441\\u0442\\u044c - \\u041f\\u0435\\u043d\\u0437\\u0430\", \"\\u041a\\u0443\\u0440\\u0441\\u043a\\u0430\\u044f \\u043e\\u0431\\u043b\\u0430\\u0441\\u0442\\u044c - \\u041a\\u0443\\u0440\\u0441\\u043a\", \"\\u0421\\u043c\\u043e\\u043b\\u0435\\u043d\\u0441\\u043a\\u0430\\u044f \\u043e\\u0431\\u043b\\u0430\\u0441\\u0442\\u044c - \\u0421\\u043c\\u043e\\u043b\\u0435\\u043d\\u0441\\u043a\", \"\\u0420\\u0435\\u0441\\u043f\\u0443\\u0431\\u043b\\u0438\\u043a\\u0430 \\u0411\\u0443\\u0440\\u044f\\u0442\\u0438\\u044f - \\u0423\\u043b\\u0430\\u043d-\\u0423\\u0434\\u044d\", \"\\u0410\\u0441\\u0442\\u0440\\u0430\\u0445\\u0430\\u043d\\u0441\\u043a\\u0430\\u044f \\u043e\\u0431\\u043b\\u0430\\u0441\\u0442\\u044c - \\u0410\\u0441\\u0442\\u0440\\u0430\\u0445\\u0430\\u043d\\u044c\", \"\\u0427\\u0435\\u043b\\u044f\\u0431\\u0438\\u043d\\u0441\\u043a\\u0430\\u044f \\u043e\\u0431\\u043b\\u0430\\u0441\\u0442\\u044c - \\u041c\\u0430\\u0433\\u043d\\u0438\\u0442\\u043e\\u0433\\u043e\\u0440\\u0441\\u043a\", \"\\u0412\\u043e\\u043b\\u043e\\u0433\\u043e\\u0434\\u0441\\u043a\\u0430\\u044f \\u043e\\u0431\\u043b\\u0430\\u0441\\u0442\\u044c - \\u0412\\u043e\\u043b\\u043e\\u0433\\u0434\\u0430\", \"\\u041a\\u0430\\u043b\\u0443\\u0436\\u0441\\u043a\\u0430\\u044f \\u043e\\u0431\\u043b\\u0430\\u0441\\u0442\\u044c - \\u041a\\u0430\\u043b\\u0443\\u0433\\u0430\", \"\\u0410\\u0440\\u0445\\u0430\\u043d\\u0433\\u0435\\u043b\\u044c\\u0441\\u043a\\u0430\\u044f \\u043e\\u0431\\u043b\\u0430\\u0441\\u0442\\u044c - \\u0410\\u0440\\u0445\\u0430\\u043d\\u0433\\u0435\\u043b\\u044c\\u0441\\u043a\", \"\\u0422\\u0430\\u043c\\u0431\\u043e\\u0432\\u0441\\u043a\\u0430\\u044f \\u043e\\u0431\\u043b\\u0430\\u0441\\u0442\\u044c - \\u0422\\u0430\\u043c\\u0431\\u043e\\u0432\", \"\\u041a\\u0443\\u0440\\u0433\\u0430\\u043d\\u0441\\u043a\\u0430\\u044f \\u043e\\u0431\\u043b\\u0430\\u0441\\u0442\\u044c - \\u041a\\u0443\\u0440\\u0433\\u0430\\u043d\", \"\\u0411\\u0440\\u044f\\u043d\\u0441\\u043a\\u0430\\u044f \\u043e\\u0431\\u043b\\u0430\\u0441\\u0442\\u044c - \\u0411\\u0440\\u044f\\u043d\\u0441\\u043a\", \"\\u0420\\u0435\\u0441\\u043f\\u0443\\u0431\\u043b\\u0438\\u043a\\u0430 \\u0422\\u0430\\u0442\\u0430\\u0440\\u0441\\u0442\\u0430\\u043d - \\u041d\\u0430\\u0431\\u0435\\u0440\\u0435\\u0436\\u043d\\u044b\\u0435 \\u0427\\u0435\\u043b\\u043d\\u044b\", \"\\u041b\\u0438\\u043f\\u0435\\u0446\\u043a\\u0430\\u044f \\u043e\\u0431\\u043b\\u0430\\u0441\\u0442\\u044c - \\u041b\\u0438\\u043f\\u0435\\u0446\\u043a\", \"\\u041c\\u0443\\u0440\\u043c\\u0430\\u043d\\u0441\\u043a\\u0430\\u044f \\u043e\\u0431\\u043b\\u0430\\u0441\\u0442\\u044c - \\u041c\\u0443\\u0440\\u043c\\u0430\\u043d\\u0441\\u043a\", \"\\u041a\\u0435\\u043c\\u0435\\u0440\\u043e\\u0432\\u0441\\u043a\\u0430\\u044f \\u043e\\u0431\\u043b\\u0430\\u0441\\u0442\\u044c - \\u041d\\u043e\\u0432\\u043e\\u043a\\u0443\\u0437\\u043d\\u0435\\u0446\\u043a\", \"\\u0418\\u0440\\u043a\\u0443\\u0442\\u0441\\u043a\\u0430\\u044f \\u043e\\u0431\\u043b\\u0430\\u0441\\u0442\\u044c - \\u0411\\u0440\\u0430\\u0442\\u0441\\u043a\", \"\\u0418\\u0432\\u0430\\u043d\\u043e\\u0432\\u0441\\u043a\\u0430\\u044f \\u043e\\u0431\\u043b\\u0430\\u0441\\u0442\\u044c - \\u0418\\u0432\\u0430\\u043d\\u043e\\u0432\\u043e\", \"\\u0418\\u0440\\u043a\\u0443\\u0442\\u0441\\u043a\\u0430\\u044f \\u043e\\u0431\\u043b\\u0430\\u0441\\u0442\\u044c - \\u0410\\u043d\\u0433\\u0430\\u0440\\u0441\\u043a\", \"\\u0420\\u0435\\u0441\\u043f\\u0443\\u0431\\u043b\\u0438\\u043a\\u0430 \\u041c\\u043e\\u0440\\u0434\\u043e\\u0432\\u0438\\u044f - \\u0421\\u0430\\u0440\\u0430\\u043d\\u0441\\u043a\", \"\\u0420\\u0435\\u0441\\u043f\\u0443\\u0431\\u043b\\u0438\\u043a\\u0430 \\u041a\\u043e\\u043c\\u0438 - \\u0421\\u044b\\u043a\\u0442\\u044b\\u0432\\u043a\\u0430\\u0440\", \"\\u0420\\u0435\\u0441\\u043f\\u0443\\u0431\\u043b\\u0438\\u043a\\u0430 \\u0425\\u0430\\u043a\\u0430\\u0441\\u0438\\u044f - \\u0410\\u0431\\u0430\\u043a\\u0430\\u043d\", \"\\u0410\\u043c\\u0443\\u0440\\u0441\\u043a\\u0430\\u044f \\u043e\\u0431\\u043b\\u0430\\u0441\\u0442\\u044c - \\u0411\\u043b\\u0430\\u0433\\u043e\\u0432\\u0435\\u0449\\u0435\\u043d\\u0441\\u043a\", \"\\u041c\\u043e\\u0441\\u043a\\u043e\\u0432\\u0441\\u043a\\u0430\\u044f \\u043e\\u0431\\u043b\\u0430\\u0441\\u0442\\u044c - \\u0411\\u0430\\u043b\\u0430\\u0448\\u0438\\u0445\\u0430\", \"\\u0420\\u0435\\u0441\\u043f\\u0443\\u0431\\u043b\\u0438\\u043a\\u0430 \\u041a\\u0430\\u0440\\u0435\\u043b\\u0438\\u044f - \\u041f\\u0435\\u0442\\u0440\\u043e\\u0437\\u0430\\u0432\\u043e\\u0434\\u0441\\u043a\", \"\\u0412\\u043e\\u043b\\u043e\\u0433\\u043e\\u0434\\u0441\\u043a\\u0430\\u044f \\u043e\\u0431\\u043b\\u0430\\u0441\\u0442\\u044c - \\u0427\\u0435\\u0440\\u0435\\u043f\\u043e\\u0432\\u0435\\u0446\", \"\\u041a\\u043e\\u0441\\u0442\\u0440\\u043e\\u043c\\u0441\\u043a\\u0430\\u044f \\u043e\\u0431\\u043b\\u0430\\u0441\\u0442\\u044c - \\u041a\\u043e\\u0441\\u0442\\u0440\\u043e\\u043c\\u0430\", \"\\u041e\\u0440\\u043b\\u043e\\u0432\\u0441\\u043a\\u0430\\u044f \\u043e\\u0431\\u043b\\u0430\\u0441\\u0442\\u044c - \\u041e\\u0440\\u0435\\u043b\", \"\\u0421\\u0430\\u0445\\u0430\\u043b\\u0438\\u043d\\u0441\\u043a\\u0430\\u044f \\u043e\\u0431\\u043b\\u0430\\u0441\\u0442\\u044c - \\u042e\\u0436\\u043d\\u043e-\\u0421\\u0430\\u0445\\u0430\\u043b\\u0438\\u043d\\u0441\\u043a\", \"\\u0420\\u0435\\u0441\\u043f\\u0443\\u0431\\u043b\\u0438\\u043a\\u0430 \\u0411\\u0430\\u0448\\u043a\\u043e\\u0440\\u0442\\u043e\\u0441\\u0442\\u0430\\u043d - \\u0421\\u0442\\u0435\\u0440\\u043b\\u0438\\u0442\\u0430\\u043c\\u0430\\u043a\", \"\\u041f\\u0441\\u043a\\u043e\\u0432\\u0441\\u043a\\u0430\\u044f \\u043e\\u0431\\u043b\\u0430\\u0441\\u0442\\u044c - \\u041f\\u0441\\u043a\\u043e\\u0432\", \"\\u0421\\u0435\\u0432\\u0430\\u0441\\u0442\\u043e\\u043f\\u043e\\u043b\\u044c - \\u0421\\u0435\\u0432\\u0430\\u0441\\u0442\\u043e\\u043f\\u043e\\u043b\\u044c\", \"\\u041c\\u043e\\u0441\\u043a\\u043e\\u0432\\u0441\\u043a\\u0430\\u044f \\u043e\\u0431\\u043b\\u0430\\u0441\\u0442\\u044c - \\u041f\\u043e\\u0434\\u043e\\u043b\\u044c\\u0441\\u043a\", \"\\u0425\\u0430\\u043d\\u0442\\u044b-\\u041c\\u0430\\u043d\\u0441\\u0438\\u0439\\u0441\\u043a\\u0438\\u0439 \\u0430\\u0432\\u0442\\u043e\\u043d... - \\u041d\\u0438\\u0436\\u043d\\u0435\\u0432\\u0430\\u0440\\u0442\\u043e\\u0432\\u0441\\u043a\", \"\\u0420\\u0435\\u0441\\u043f\\u0443\\u0431\\u043b\\u0438\\u043a\\u0430 \\u041c\\u0430\\u0440\\u0438\\u0439 \\u042d\\u043b - \\u0419\\u043e\\u0448\\u043a\\u0430\\u0440-\\u041e\\u043b\\u0430\", \"\\u0410\\u0440\\u0445\\u0430\\u043d\\u0433\\u0435\\u043b\\u044c\\u0441\\u043a\\u0430\\u044f \\u043e\\u0431\\u043b\\u0430\\u0441\\u0442\\u044c - \\u0421\\u0435\\u0432\\u0435\\u0440\\u043e\\u0434\\u0432\\u0438\\u043d\\u0441\\u043a\", \"\\u041d\\u043e\\u0432\\u0433\\u043e\\u0440\\u043e\\u0434\\u0441\\u043a\\u0430\\u044f \\u043e\\u0431\\u043b\\u0430\\u0441\\u0442\\u044c - \\u0412\\u0435\\u043b\\u0438\\u043a\\u0438\\u0439 \\u041d\\u043e\\u0432\\u0433\\u043e\\u0440\\u043e\\u0434\", \"\\u0420\\u043e\\u0441\\u0442\\u043e\\u0432\\u0441\\u043a\\u0430\\u044f \\u043e\\u0431\\u043b\\u0430\\u0441\\u0442\\u044c - \\u0422\\u0430\\u0433\\u0430\\u043d\\u0440\\u043e\\u0433\", \"\\u0421\\u0432\\u0435\\u0440\\u0434\\u043b\\u043e\\u0432\\u0441\\u043a\\u0430\\u044f \\u043e\\u0431\\u043b\\u0430\\u0441\\u0442\\u044c - \\u041d\\u0438\\u0436\\u043d\\u0438\\u0439 \\u0422\\u0430\\u0433\\u0438\\u043b\", \"\\u041e\\u0440\\u0435\\u043d\\u0431\\u0443\\u0440\\u0433\\u0441\\u043a\\u0430\\u044f \\u043e\\u0431\\u043b\\u0430\\u0441\\u0442\\u044c - \\u041e\\u0440\\u0441\\u043a\", \"\\u041c\\u043e\\u0441\\u043a\\u043e\\u0432\\u0441\\u043a\\u0430\\u044f \\u043e\\u0431\\u043b\\u0430\\u0441\\u0442\\u044c - \\u041c\\u044b\\u0442\\u0438\\u0449\\u0438\", \"\\u041a\\u0440\\u0430\\u0441\\u043d\\u043e\\u0434\\u0430\\u0440\\u0441\\u043a\\u0438\\u0439 \\u043a\\u0440\\u0430\\u0439 - \\u041d\\u043e\\u0432\\u043e\\u0440\\u043e\\u0441\\u0441\\u0438\\u0439\\u0441\\u043a\", \"\\u041c\\u043e\\u0441\\u043a\\u043e\\u0432\\u0441\\u043a\\u0430\\u044f \\u043e\\u0431\\u043b\\u0430\\u0441\\u0442\\u044c - \\u041a\\u0440\\u0430\\u0441\\u043d\\u043e\\u0433\\u043e\\u0440\\u0441\\u043a\", \"\\u041d\\u0438\\u0436\\u0435\\u0433\\u043e\\u0440\\u043e\\u0434\\u0441\\u043a\\u0430\\u044f \\u043e\\u0431\\u043b\\u0430\\u0441\\u0442\\u044c - \\u0414\\u0437\\u0435\\u0440\\u0436\\u0438\\u043d\\u0441\\u043a\", \"\\u0421\\u0430\\u0440\\u0430\\u0442\\u043e\\u0432\\u0441\\u043a\\u0430\\u044f \\u043e\\u0431\\u043b\\u0430\\u0441\\u0442\\u044c - \\u042d\\u043d\\u0433\\u0435\\u043b\\u044c\\u0441\", \"\\u041c\\u043e\\u0441\\u043a\\u043e\\u0432\\u0441\\u043a\\u0430\\u044f \\u043e\\u0431\\u043b\\u0430\\u0441\\u0442\\u044c - \\u041a\\u043e\\u0440\\u043e\\u043b\\u0435\\u0432\", \"\\u0420\\u0435\\u0441\\u043f\\u0443\\u0431\\u043b\\u0438\\u043a\\u0430 \\u041a\\u0440\\u044b\\u043c - \\u0421\\u0438\\u043c\\u0444\\u0435\\u0440\\u043e\\u043f\\u043e\\u043b\\u044c\", \"\\u041a\\u0440\\u0430\\u0441\\u043d\\u043e\\u0434\\u0430\\u0440\\u0441\\u043a\\u0438\\u0439 \\u043a\\u0440\\u0430\\u0439 - \\u0410\\u043d\\u0430\\u043f\\u0430\", \"\\u0421\\u0442\\u0430\\u0432\\u0440\\u043e\\u043f\\u043e\\u043b\\u044c\\u0441\\u043a\\u0438\\u0439 \\u043a\\u0440\\u0430\\u0439 - \\u041f\\u044f\\u0442\\u0438\\u0433\\u043e\\u0440\\u0441\\u043a\", \"\\u041a\\u0440\\u0430\\u0441\\u043d\\u043e\\u044f\\u0440\\u0441\\u043a\\u0438\\u0439 \\u043a\\u0440\\u0430\\u0439 - \\u0416\\u0435\\u043b\\u0435\\u0437\\u043d\\u043e\\u0433\\u043e\\u0440\\u0441\\u043a\", \"\\u041a\\u0443\\u0440\\u0441\\u043a\\u0430\\u044f \\u043e\\u0431\\u043b\\u0430\\u0441\\u0442\\u044c - \\u0416\\u0435\\u043b\\u0435\\u0437\\u043d\\u043e\\u0433\\u043e\\u0440\\u0441\\u043a\"], \"type\": \"scattermapbox\"}, {\"lat\": [55.755814, 59.939094999999995, 55.030198999999996, 56.5, 55.159896999999994, 54.735147, 53.195538, 54.98934200000001, 56.010563, 45.02, 56.326797, 51.660781, 58.01045, 55.796289, 52.287054, 47.222078, 48.707066999999995, 56.8745655, 48.480222999999995, 57.15303299999999, 56.4362295, 43.115536, 53.346785, 51.533103000000004, 54.710156999999995, 51.768198999999996, 55.354727000000004, 55.888740000000006, 43.585525, 58.603591, 57.62655899999999, 53.5088, 54.314192000000006, 54.62921600000001, 52.033635, 50.595414, 54.193121999999995, 61.254034999999995, 56.143529, 56.859846999999995, 56.08, 45.04333, 62.027216, 53.195042, 51.73083, 54.782635, 51.834464000000004, 46.347614, 53.407157999999995, 59.220496, 54.32, 64.539911, 52.721219, 55.44100400000001, 53.287848, 55.7057135, 52.608819999999994, 68.58, 53.757546999999995, 56.151362, 57.000347999999995, 52.544357999999995, 54.187433, 61.66879300000001, 53.721152000000004, 50.257451, 55.796339, 61.785017, 59.122612, 57.767961, 52.58, 46.959148, 53.630403, 57.819274, 44.616603999999995, 55.431177000000005, 60.938545, 56.631595, 64.562501, 58.52281, 47.22064, 57.907605000000004, 51.229362, 55.910483, 44.723912, 55.831099, 56.238377, 51.485489, 55.55, 44.948237, 44.894965, 44.039795, 56.252922, 52.337971], \"lon\": [37.617635, 30.315868, 82.92043000000001, 60.35, 61.402554, 55.958727, 50.101783000000005, 73.368212, 92.852572, 38.59, 44.006516, 39.200269, 56.229434, 49.108795, 104.281047, 39.720349, 44.516948, 53.17911949999999, 135.07191699999998, 65.534328, 85.009911, 131.88548500000002, 83.77685600000001, 46.034158000000005, 20.510137, 55.096955, 86.088374, 37.43039, 39.723062, 49.668014, 39.893803999999996, 49.41918, 48.403123, 39.736375, 113.501049, 36.587268, 37.617348, 73.396221, 47.251123, 35.911995000000005, 40.25, 41.969101, 129.732178, 45.018316, 36.193186, 32.045251, 107.584574, 48.030169, 58.980281999999995, 39.891523, 36.16, 40.515753000000004, 41.452273999999996, 65.34111800000001, 34.3171395, 52.344962, 39.59922, 33.05, 87.136044, 101.63408000000001, 40.973921000000004, 103.88824, 45.183938, 50.836399, 91.442387, 127.53461100000001, 37.938199, 34.346878000000004, 37.903461, 40.926858, 36.05, 142.737987, 55.930825, 28.332451000000002, 33.525369, 37.544737, 76.558902, 47.886178, 39.818175, 31.269915, 38.914713, 59.972211, 58.475196, 37.736402000000005, 37.768974, 37.330192, 43.461625, 46.126783, 37.49, 34.100318, 37.31617, 43.070634000000005, 93.532264, 35.351743], \"marker\": {\"color\": \"blue\", \"opacity\": 0.7, \"size\": 10}, \"mode\": \"markers\", \"name\": \"\\u0413\\u043e\\u0440\\u043e\\u0434\\u0430\", \"showlegend\": true, \"text\": [\"\\u041c\\u043e\\u0441\\u043a\\u0432\\u0430 - \\u041c\\u043e\\u0441\\u043a\\u0432\\u0430\", \"\\u0421\\u0430\\u043d\\u043a\\u0442-\\u041f\\u0435\\u0442\\u0435\\u0440\\u0431\\u0443\\u0440\\u0433 - \\u0421\\u0430\\u043d\\u043a\\u0442-\\u041f\\u0435\\u0442\\u0435\\u0440\\u0431\\u0443\\u0440\\u0433\", \"\\u041d\\u043e\\u0432\\u043e\\u0441\\u0438\\u0431\\u0438\\u0440\\u0441\\u043a\\u0430\\u044f \\u043e\\u0431\\u043b\\u0430\\u0441\\u0442\\u044c - \\u041d\\u043e\\u0432\\u043e\\u0441\\u0438\\u0431\\u0438\\u0440\\u0441\\u043a\", \"\\u0421\\u0432\\u0435\\u0440\\u0434\\u043b\\u043e\\u0432\\u0441\\u043a\\u0430\\u044f \\u043e\\u0431\\u043b\\u0430\\u0441\\u0442\\u044c - \\u0415\\u043a\\u0430\\u0442\\u0435\\u0440\\u0438\\u043d\\u0431\\u0443\\u0440\\u0433\", \"\\u0427\\u0435\\u043b\\u044f\\u0431\\u0438\\u043d\\u0441\\u043a\\u0430\\u044f \\u043e\\u0431\\u043b\\u0430\\u0441\\u0442\\u044c - \\u0427\\u0435\\u043b\\u044f\\u0431\\u0438\\u043d\\u0441\\u043a\", \"\\u0420\\u0435\\u0441\\u043f\\u0443\\u0431\\u043b\\u0438\\u043a\\u0430 \\u0411\\u0430\\u0448\\u043a\\u043e\\u0440\\u0442\\u043e\\u0441\\u0442\\u0430\\u043d - \\u0423\\u0444\\u0430\", \"\\u0421\\u0430\\u043c\\u0430\\u0440\\u0441\\u043a\\u0430\\u044f \\u043e\\u0431\\u043b\\u0430\\u0441\\u0442\\u044c - \\u0421\\u0430\\u043c\\u0430\\u0440\\u0430\", \"\\u041e\\u043c\\u0441\\u043a\\u0430\\u044f \\u043e\\u0431\\u043b\\u0430\\u0441\\u0442\\u044c - \\u041e\\u043c\\u0441\\u043a\", \"\\u041a\\u0440\\u0430\\u0441\\u043d\\u043e\\u044f\\u0440\\u0441\\u043a\\u0438\\u0439 \\u043a\\u0440\\u0430\\u0439 - \\u041a\\u0440\\u0430\\u0441\\u043d\\u043e\\u044f\\u0440\\u0441\\u043a\", \"\\u041a\\u0440\\u0430\\u0441\\u043d\\u043e\\u0434\\u0430\\u0440\\u0441\\u043a\\u0438\\u0439 \\u043a\\u0440\\u0430\\u0439 - \\u041a\\u0440\\u0430\\u0441\\u043d\\u043e\\u0434\\u0430\\u0440\", \"\\u041d\\u0438\\u0436\\u0435\\u0433\\u043e\\u0440\\u043e\\u0434\\u0441\\u043a\\u0430\\u044f \\u043e\\u0431\\u043b\\u0430\\u0441\\u0442\\u044c - \\u041d\\u0438\\u0436\\u043d\\u0438\\u0439 \\u041d\\u043e\\u0432\\u0433\\u043e\\u0440\\u043e\\u0434\", \"\\u0412\\u043e\\u0440\\u043e\\u043d\\u0435\\u0436\\u0441\\u043a\\u0430\\u044f \\u043e\\u0431\\u043b\\u0430\\u0441\\u0442\\u044c - \\u0412\\u043e\\u0440\\u043e\\u043d\\u0435\\u0436\", \"\\u041f\\u0435\\u0440\\u043c\\u0441\\u043a\\u0438\\u0439 \\u043a\\u0440\\u0430\\u0439 - \\u041f\\u0435\\u0440\\u043c\\u044c\", \"\\u0420\\u0435\\u0441\\u043f\\u0443\\u0431\\u043b\\u0438\\u043a\\u0430 \\u0422\\u0430\\u0442\\u0430\\u0440\\u0441\\u0442\\u0430\\u043d - \\u041a\\u0430\\u0437\\u0430\\u043d\\u044c\", \"\\u0418\\u0440\\u043a\\u0443\\u0442\\u0441\\u043a\\u0430\\u044f \\u043e\\u0431\\u043b\\u0430\\u0441\\u0442\\u044c - \\u0418\\u0440\\u043a\\u0443\\u0442\\u0441\\u043a\", \"\\u0420\\u043e\\u0441\\u0442\\u043e\\u0432\\u0441\\u043a\\u0430\\u044f \\u043e\\u0431\\u043b\\u0430\\u0441\\u0442\\u044c - \\u0420\\u043e\\u0441\\u0442\\u043e\\u0432-\\u043d\\u0430-\\u0414\\u043e\\u043d\\u0443\", \"\\u0412\\u043e\\u043b\\u0433\\u043e\\u0433\\u0440\\u0430\\u0434\\u0441\\u043a\\u0430\\u044f \\u043e\\u0431\\u043b\\u0430\\u0441\\u0442\\u044c - \\u0412\\u043e\\u043b\\u0433\\u043e\\u0433\\u0440\\u0430\\u0434\", \"\\u0423\\u0434\\u043c\\u0443\\u0440\\u0442\\u0441\\u043a\\u0430\\u044f \\u0420\\u0435\\u0441\\u043f\\u0443\\u0431\\u043b\\u0438\\u043a\\u0430 - \\u0418\\u0436\\u0435\\u0432\\u0441\\u043a\", \"\\u0425\\u0430\\u0431\\u0430\\u0440\\u043e\\u0432\\u0441\\u043a\\u0438\\u0439 \\u043a\\u0440\\u0430\\u0439 - \\u0425\\u0430\\u0431\\u0430\\u0440\\u043e\\u0432\\u0441\\u043a\", \"\\u0422\\u044e\\u043c\\u0435\\u043d\\u0441\\u043a\\u0430\\u044f \\u043e\\u0431\\u043b\\u0430\\u0441\\u0442\\u044c - \\u0422\\u044e\\u043c\\u0435\\u043d\\u044c\", \"\\u0422\\u043e\\u043c\\u0441\\u043a\\u0430\\u044f \\u043e\\u0431\\u043b\\u0430\\u0441\\u0442\\u044c - \\u0422\\u043e\\u043c\\u0441\\u043a\", \"\\u041f\\u0440\\u0438\\u043c\\u043e\\u0440\\u0441\\u043a\\u0438\\u0439 \\u043a\\u0440\\u0430\\u0439 - \\u0412\\u043b\\u0430\\u0434\\u0438\\u0432\\u043e\\u0441\\u0442\\u043e\\u043a\", \"\\u0410\\u043b\\u0442\\u0430\\u0439\\u0441\\u043a\\u0438\\u0439 \\u043a\\u0440\\u0430\\u0439 - \\u0411\\u0430\\u0440\\u043d\\u0430\\u0443\\u043b\", \"\\u0421\\u0430\\u0440\\u0430\\u0442\\u043e\\u0432\\u0441\\u043a\\u0430\\u044f \\u043e\\u0431\\u043b\\u0430\\u0441\\u0442\\u044c - \\u0421\\u0430\\u0440\\u0430\\u0442\\u043e\\u0432\", \"\\u041a\\u0430\\u043b\\u0438\\u043d\\u0438\\u043d\\u0433\\u0440\\u0430\\u0434\\u0441\\u043a\\u0430\\u044f \\u043e\\u0431\\u043b\\u0430\\u0441\\u0442\\u044c - \\u041a\\u0430\\u043b\\u0438\\u043d\\u0438\\u043d\\u0433\\u0440\\u0430\\u0434\", \"\\u041e\\u0440\\u0435\\u043d\\u0431\\u0443\\u0440\\u0433\\u0441\\u043a\\u0430\\u044f \\u043e\\u0431\\u043b\\u0430\\u0441\\u0442\\u044c - \\u041e\\u0440\\u0435\\u043d\\u0431\\u0443\\u0440\\u0433\", \"\\u041a\\u0435\\u043c\\u0435\\u0440\\u043e\\u0432\\u0441\\u043a\\u0430\\u044f \\u043e\\u0431\\u043b\\u0430\\u0441\\u0442\\u044c - \\u041a\\u0435\\u043c\\u0435\\u0440\\u043e\\u0432\\u043e\", \"\\u041c\\u043e\\u0441\\u043a\\u043e\\u0432\\u0441\\u043a\\u0430\\u044f \\u043e\\u0431\\u043b\\u0430\\u0441\\u0442\\u044c - \\u0425\\u0438\\u043c\\u043a\\u0438\", \"\\u041a\\u0440\\u0430\\u0441\\u043d\\u043e\\u0434\\u0430\\u0440\\u0441\\u043a\\u0438\\u0439 \\u043a\\u0440\\u0430\\u0439 - \\u0421\\u043e\\u0447\\u0438\", \"\\u041a\\u0438\\u0440\\u043e\\u0432\\u0441\\u043a\\u0430\\u044f \\u043e\\u0431\\u043b\\u0430\\u0441\\u0442\\u044c - \\u041a\\u0438\\u0440\\u043e\\u0432\", \"\\u042f\\u0440\\u043e\\u0441\\u043b\\u0430\\u0432\\u0441\\u043a\\u0430\\u044f \\u043e\\u0431\\u043b\\u0430\\u0441\\u0442\\u044c - \\u042f\\u0440\\u043e\\u0441\\u043b\\u0430\\u0432\\u043b\\u044c\", \"\\u0421\\u0430\\u043c\\u0430\\u0440\\u0441\\u043a\\u0430\\u044f \\u043e\\u0431\\u043b\\u0430\\u0441\\u0442\\u044c - \\u0422\\u043e\\u043b\\u044c\\u044f\\u0442\\u0442\\u0438\", \"\\u0423\\u043b\\u044c\\u044f\\u043d\\u043e\\u0432\\u0441\\u043a\\u0430\\u044f \\u043e\\u0431\\u043b\\u0430\\u0441\\u0442\\u044c - \\u0423\\u043b\\u044c\\u044f\\u043d\\u043e\\u0432\\u0441\\u043a\", \"\\u0420\\u044f\\u0437\\u0430\\u043d\\u0441\\u043a\\u0430\\u044f \\u043e\\u0431\\u043b\\u0430\\u0441\\u0442\\u044c - \\u0420\\u044f\\u0437\\u0430\\u043d\\u044c\", \"\\u0417\\u0430\\u0431\\u0430\\u0439\\u043a\\u0430\\u043b\\u044c\\u0441\\u043a\\u0438\\u0439 \\u043a\\u0440\\u0430\\u0439 - \\u0427\\u0438\\u0442\\u0430\", \"\\u0411\\u0435\\u043b\\u0433\\u043e\\u0440\\u043e\\u0434\\u0441\\u043a\\u0430\\u044f \\u043e\\u0431\\u043b\\u0430\\u0441\\u0442\\u044c - \\u0411\\u0435\\u043b\\u0433\\u043e\\u0440\\u043e\\u0434\", \"\\u0422\\u0443\\u043b\\u044c\\u0441\\u043a\\u0430\\u044f \\u043e\\u0431\\u043b\\u0430\\u0441\\u0442\\u044c - \\u0422\\u0443\\u043b\\u0430\", \"\\u0425\\u0430\\u043d\\u0442\\u044b-\\u041c\\u0430\\u043d\\u0441\\u0438\\u0439\\u0441\\u043a\\u0438\\u0439 \\u0430\\u0432\\u0442\\u043e\\u043d... - \\u0421\\u0443\\u0440\\u0433\\u0443\\u0442\", \"\\u0427\\u0443\\u0432\\u0430\\u0448\\u0441\\u043a\\u0430\\u044f \\u0420\\u0435\\u0441\\u043f\\u0443\\u0431\\u043b\\u0438\\u043a\\u0430 - \\u0427\\u0435\\u0431\\u043e\\u043a\\u0441\\u0430\\u0440\\u044b\", \"\\u0422\\u0432\\u0435\\u0440\\u0441\\u043a\\u0430\\u044f \\u043e\\u0431\\u043b\\u0430\\u0441\\u0442\\u044c - \\u0422\\u0432\\u0435\\u0440\\u044c\", \"\\u0412\\u043b\\u0430\\u0434\\u0438\\u043c\\u0438\\u0440\\u0441\\u043a\\u0430\\u044f \\u043e\\u0431\\u043b\\u0430\\u0441\\u0442\\u044c - \\u0412\\u043b\\u0430\\u0434\\u0438\\u043c\\u0438\\u0440\", \"\\u0421\\u0442\\u0430\\u0432\\u0440\\u043e\\u043f\\u043e\\u043b\\u044c\\u0441\\u043a\\u0438\\u0439 \\u043a\\u0440\\u0430\\u0439 - \\u0421\\u0442\\u0430\\u0432\\u0440\\u043e\\u043f\\u043e\\u043b\\u044c\", \"\\u0420\\u0435\\u0441\\u043f\\u0443\\u0431\\u043b\\u0438\\u043a\\u0430 \\u0421\\u0430\\u0445\\u0430 (\\u042f\\u043a\\u0443\\u0442\\u0438\\u044f) - \\u042f\\u043a\\u0443\\u0442\\u0441\\u043a\", \"\\u041f\\u0435\\u043d\\u0437\\u0435\\u043d\\u0441\\u043a\\u0430\\u044f \\u043e\\u0431\\u043b\\u0430\\u0441\\u0442\\u044c - \\u041f\\u0435\\u043d\\u0437\\u0430\", \"\\u041a\\u0443\\u0440\\u0441\\u043a\\u0430\\u044f \\u043e\\u0431\\u043b\\u0430\\u0441\\u0442\\u044c - \\u041a\\u0443\\u0440\\u0441\\u043a\", \"\\u0421\\u043c\\u043e\\u043b\\u0435\\u043d\\u0441\\u043a\\u0430\\u044f \\u043e\\u0431\\u043b\\u0430\\u0441\\u0442\\u044c - \\u0421\\u043c\\u043e\\u043b\\u0435\\u043d\\u0441\\u043a\", \"\\u0420\\u0435\\u0441\\u043f\\u0443\\u0431\\u043b\\u0438\\u043a\\u0430 \\u0411\\u0443\\u0440\\u044f\\u0442\\u0438\\u044f - \\u0423\\u043b\\u0430\\u043d-\\u0423\\u0434\\u044d\", \"\\u0410\\u0441\\u0442\\u0440\\u0430\\u0445\\u0430\\u043d\\u0441\\u043a\\u0430\\u044f \\u043e\\u0431\\u043b\\u0430\\u0441\\u0442\\u044c - \\u0410\\u0441\\u0442\\u0440\\u0430\\u0445\\u0430\\u043d\\u044c\", \"\\u0427\\u0435\\u043b\\u044f\\u0431\\u0438\\u043d\\u0441\\u043a\\u0430\\u044f \\u043e\\u0431\\u043b\\u0430\\u0441\\u0442\\u044c - \\u041c\\u0430\\u0433\\u043d\\u0438\\u0442\\u043e\\u0433\\u043e\\u0440\\u0441\\u043a\", \"\\u0412\\u043e\\u043b\\u043e\\u0433\\u043e\\u0434\\u0441\\u043a\\u0430\\u044f \\u043e\\u0431\\u043b\\u0430\\u0441\\u0442\\u044c - \\u0412\\u043e\\u043b\\u043e\\u0433\\u0434\\u0430\", \"\\u041a\\u0430\\u043b\\u0443\\u0436\\u0441\\u043a\\u0430\\u044f \\u043e\\u0431\\u043b\\u0430\\u0441\\u0442\\u044c - \\u041a\\u0430\\u043b\\u0443\\u0433\\u0430\", \"\\u0410\\u0440\\u0445\\u0430\\u043d\\u0433\\u0435\\u043b\\u044c\\u0441\\u043a\\u0430\\u044f \\u043e\\u0431\\u043b\\u0430\\u0441\\u0442\\u044c - \\u0410\\u0440\\u0445\\u0430\\u043d\\u0433\\u0435\\u043b\\u044c\\u0441\\u043a\", \"\\u0422\\u0430\\u043c\\u0431\\u043e\\u0432\\u0441\\u043a\\u0430\\u044f \\u043e\\u0431\\u043b\\u0430\\u0441\\u0442\\u044c - \\u0422\\u0430\\u043c\\u0431\\u043e\\u0432\", \"\\u041a\\u0443\\u0440\\u0433\\u0430\\u043d\\u0441\\u043a\\u0430\\u044f \\u043e\\u0431\\u043b\\u0430\\u0441\\u0442\\u044c - \\u041a\\u0443\\u0440\\u0433\\u0430\\u043d\", \"\\u0411\\u0440\\u044f\\u043d\\u0441\\u043a\\u0430\\u044f \\u043e\\u0431\\u043b\\u0430\\u0441\\u0442\\u044c - \\u0411\\u0440\\u044f\\u043d\\u0441\\u043a\", \"\\u0420\\u0435\\u0441\\u043f\\u0443\\u0431\\u043b\\u0438\\u043a\\u0430 \\u0422\\u0430\\u0442\\u0430\\u0440\\u0441\\u0442\\u0430\\u043d - \\u041d\\u0430\\u0431\\u0435\\u0440\\u0435\\u0436\\u043d\\u044b\\u0435 \\u0427\\u0435\\u043b\\u043d\\u044b\", \"\\u041b\\u0438\\u043f\\u0435\\u0446\\u043a\\u0430\\u044f \\u043e\\u0431\\u043b\\u0430\\u0441\\u0442\\u044c - \\u041b\\u0438\\u043f\\u0435\\u0446\\u043a\", \"\\u041c\\u0443\\u0440\\u043c\\u0430\\u043d\\u0441\\u043a\\u0430\\u044f \\u043e\\u0431\\u043b\\u0430\\u0441\\u0442\\u044c - \\u041c\\u0443\\u0440\\u043c\\u0430\\u043d\\u0441\\u043a\", \"\\u041a\\u0435\\u043c\\u0435\\u0440\\u043e\\u0432\\u0441\\u043a\\u0430\\u044f \\u043e\\u0431\\u043b\\u0430\\u0441\\u0442\\u044c - \\u041d\\u043e\\u0432\\u043e\\u043a\\u0443\\u0437\\u043d\\u0435\\u0446\\u043a\", \"\\u0418\\u0440\\u043a\\u0443\\u0442\\u0441\\u043a\\u0430\\u044f \\u043e\\u0431\\u043b\\u0430\\u0441\\u0442\\u044c - \\u0411\\u0440\\u0430\\u0442\\u0441\\u043a\", \"\\u0418\\u0432\\u0430\\u043d\\u043e\\u0432\\u0441\\u043a\\u0430\\u044f \\u043e\\u0431\\u043b\\u0430\\u0441\\u0442\\u044c - \\u0418\\u0432\\u0430\\u043d\\u043e\\u0432\\u043e\", \"\\u0418\\u0440\\u043a\\u0443\\u0442\\u0441\\u043a\\u0430\\u044f \\u043e\\u0431\\u043b\\u0430\\u0441\\u0442\\u044c - \\u0410\\u043d\\u0433\\u0430\\u0440\\u0441\\u043a\", \"\\u0420\\u0435\\u0441\\u043f\\u0443\\u0431\\u043b\\u0438\\u043a\\u0430 \\u041c\\u043e\\u0440\\u0434\\u043e\\u0432\\u0438\\u044f - \\u0421\\u0430\\u0440\\u0430\\u043d\\u0441\\u043a\", \"\\u0420\\u0435\\u0441\\u043f\\u0443\\u0431\\u043b\\u0438\\u043a\\u0430 \\u041a\\u043e\\u043c\\u0438 - \\u0421\\u044b\\u043a\\u0442\\u044b\\u0432\\u043a\\u0430\\u0440\", \"\\u0420\\u0435\\u0441\\u043f\\u0443\\u0431\\u043b\\u0438\\u043a\\u0430 \\u0425\\u0430\\u043a\\u0430\\u0441\\u0438\\u044f - \\u0410\\u0431\\u0430\\u043a\\u0430\\u043d\", \"\\u0410\\u043c\\u0443\\u0440\\u0441\\u043a\\u0430\\u044f \\u043e\\u0431\\u043b\\u0430\\u0441\\u0442\\u044c - \\u0411\\u043b\\u0430\\u0433\\u043e\\u0432\\u0435\\u0449\\u0435\\u043d\\u0441\\u043a\", \"\\u041c\\u043e\\u0441\\u043a\\u043e\\u0432\\u0441\\u043a\\u0430\\u044f \\u043e\\u0431\\u043b\\u0430\\u0441\\u0442\\u044c - \\u0411\\u0430\\u043b\\u0430\\u0448\\u0438\\u0445\\u0430\", \"\\u0420\\u0435\\u0441\\u043f\\u0443\\u0431\\u043b\\u0438\\u043a\\u0430 \\u041a\\u0430\\u0440\\u0435\\u043b\\u0438\\u044f - \\u041f\\u0435\\u0442\\u0440\\u043e\\u0437\\u0430\\u0432\\u043e\\u0434\\u0441\\u043a\", \"\\u0412\\u043e\\u043b\\u043e\\u0433\\u043e\\u0434\\u0441\\u043a\\u0430\\u044f \\u043e\\u0431\\u043b\\u0430\\u0441\\u0442\\u044c - \\u0427\\u0435\\u0440\\u0435\\u043f\\u043e\\u0432\\u0435\\u0446\", \"\\u041a\\u043e\\u0441\\u0442\\u0440\\u043e\\u043c\\u0441\\u043a\\u0430\\u044f \\u043e\\u0431\\u043b\\u0430\\u0441\\u0442\\u044c - \\u041a\\u043e\\u0441\\u0442\\u0440\\u043e\\u043c\\u0430\", \"\\u041e\\u0440\\u043b\\u043e\\u0432\\u0441\\u043a\\u0430\\u044f \\u043e\\u0431\\u043b\\u0430\\u0441\\u0442\\u044c - \\u041e\\u0440\\u0435\\u043b\", \"\\u0421\\u0430\\u0445\\u0430\\u043b\\u0438\\u043d\\u0441\\u043a\\u0430\\u044f \\u043e\\u0431\\u043b\\u0430\\u0441\\u0442\\u044c - \\u042e\\u0436\\u043d\\u043e-\\u0421\\u0430\\u0445\\u0430\\u043b\\u0438\\u043d\\u0441\\u043a\", \"\\u0420\\u0435\\u0441\\u043f\\u0443\\u0431\\u043b\\u0438\\u043a\\u0430 \\u0411\\u0430\\u0448\\u043a\\u043e\\u0440\\u0442\\u043e\\u0441\\u0442\\u0430\\u043d - \\u0421\\u0442\\u0435\\u0440\\u043b\\u0438\\u0442\\u0430\\u043c\\u0430\\u043a\", \"\\u041f\\u0441\\u043a\\u043e\\u0432\\u0441\\u043a\\u0430\\u044f \\u043e\\u0431\\u043b\\u0430\\u0441\\u0442\\u044c - \\u041f\\u0441\\u043a\\u043e\\u0432\", \"\\u0421\\u0435\\u0432\\u0430\\u0441\\u0442\\u043e\\u043f\\u043e\\u043b\\u044c - \\u0421\\u0435\\u0432\\u0430\\u0441\\u0442\\u043e\\u043f\\u043e\\u043b\\u044c\", \"\\u041c\\u043e\\u0441\\u043a\\u043e\\u0432\\u0441\\u043a\\u0430\\u044f \\u043e\\u0431\\u043b\\u0430\\u0441\\u0442\\u044c - \\u041f\\u043e\\u0434\\u043e\\u043b\\u044c\\u0441\\u043a\", \"\\u0425\\u0430\\u043d\\u0442\\u044b-\\u041c\\u0430\\u043d\\u0441\\u0438\\u0439\\u0441\\u043a\\u0438\\u0439 \\u0430\\u0432\\u0442\\u043e\\u043d... - \\u041d\\u0438\\u0436\\u043d\\u0435\\u0432\\u0430\\u0440\\u0442\\u043e\\u0432\\u0441\\u043a\", \"\\u0420\\u0435\\u0441\\u043f\\u0443\\u0431\\u043b\\u0438\\u043a\\u0430 \\u041c\\u0430\\u0440\\u0438\\u0439 \\u042d\\u043b - \\u0419\\u043e\\u0448\\u043a\\u0430\\u0440-\\u041e\\u043b\\u0430\", \"\\u0410\\u0440\\u0445\\u0430\\u043d\\u0433\\u0435\\u043b\\u044c\\u0441\\u043a\\u0430\\u044f \\u043e\\u0431\\u043b\\u0430\\u0441\\u0442\\u044c - \\u0421\\u0435\\u0432\\u0435\\u0440\\u043e\\u0434\\u0432\\u0438\\u043d\\u0441\\u043a\", \"\\u041d\\u043e\\u0432\\u0433\\u043e\\u0440\\u043e\\u0434\\u0441\\u043a\\u0430\\u044f \\u043e\\u0431\\u043b\\u0430\\u0441\\u0442\\u044c - \\u0412\\u0435\\u043b\\u0438\\u043a\\u0438\\u0439 \\u041d\\u043e\\u0432\\u0433\\u043e\\u0440\\u043e\\u0434\", \"\\u0420\\u043e\\u0441\\u0442\\u043e\\u0432\\u0441\\u043a\\u0430\\u044f \\u043e\\u0431\\u043b\\u0430\\u0441\\u0442\\u044c - \\u0422\\u0430\\u0433\\u0430\\u043d\\u0440\\u043e\\u0433\", \"\\u0421\\u0432\\u0435\\u0440\\u0434\\u043b\\u043e\\u0432\\u0441\\u043a\\u0430\\u044f \\u043e\\u0431\\u043b\\u0430\\u0441\\u0442\\u044c - \\u041d\\u0438\\u0436\\u043d\\u0438\\u0439 \\u0422\\u0430\\u0433\\u0438\\u043b\", \"\\u041e\\u0440\\u0435\\u043d\\u0431\\u0443\\u0440\\u0433\\u0441\\u043a\\u0430\\u044f \\u043e\\u0431\\u043b\\u0430\\u0441\\u0442\\u044c - \\u041e\\u0440\\u0441\\u043a\", \"\\u041c\\u043e\\u0441\\u043a\\u043e\\u0432\\u0441\\u043a\\u0430\\u044f \\u043e\\u0431\\u043b\\u0430\\u0441\\u0442\\u044c - \\u041c\\u044b\\u0442\\u0438\\u0449\\u0438\", \"\\u041a\\u0440\\u0430\\u0441\\u043d\\u043e\\u0434\\u0430\\u0440\\u0441\\u043a\\u0438\\u0439 \\u043a\\u0440\\u0430\\u0439 - \\u041d\\u043e\\u0432\\u043e\\u0440\\u043e\\u0441\\u0441\\u0438\\u0439\\u0441\\u043a\", \"\\u041c\\u043e\\u0441\\u043a\\u043e\\u0432\\u0441\\u043a\\u0430\\u044f \\u043e\\u0431\\u043b\\u0430\\u0441\\u0442\\u044c - \\u041a\\u0440\\u0430\\u0441\\u043d\\u043e\\u0433\\u043e\\u0440\\u0441\\u043a\", \"\\u041d\\u0438\\u0436\\u0435\\u0433\\u043e\\u0440\\u043e\\u0434\\u0441\\u043a\\u0430\\u044f \\u043e\\u0431\\u043b\\u0430\\u0441\\u0442\\u044c - \\u0414\\u0437\\u0435\\u0440\\u0436\\u0438\\u043d\\u0441\\u043a\", \"\\u0421\\u0430\\u0440\\u0430\\u0442\\u043e\\u0432\\u0441\\u043a\\u0430\\u044f \\u043e\\u0431\\u043b\\u0430\\u0441\\u0442\\u044c - \\u042d\\u043d\\u0433\\u0435\\u043b\\u044c\\u0441\", \"\\u041c\\u043e\\u0441\\u043a\\u043e\\u0432\\u0441\\u043a\\u0430\\u044f \\u043e\\u0431\\u043b\\u0430\\u0441\\u0442\\u044c - \\u041a\\u043e\\u0440\\u043e\\u043b\\u0435\\u0432\", \"\\u0420\\u0435\\u0441\\u043f\\u0443\\u0431\\u043b\\u0438\\u043a\\u0430 \\u041a\\u0440\\u044b\\u043c - \\u0421\\u0438\\u043c\\u0444\\u0435\\u0440\\u043e\\u043f\\u043e\\u043b\\u044c\", \"\\u041a\\u0440\\u0430\\u0441\\u043d\\u043e\\u0434\\u0430\\u0440\\u0441\\u043a\\u0438\\u0439 \\u043a\\u0440\\u0430\\u0439 - \\u0410\\u043d\\u0430\\u043f\\u0430\", \"\\u0421\\u0442\\u0430\\u0432\\u0440\\u043e\\u043f\\u043e\\u043b\\u044c\\u0441\\u043a\\u0438\\u0439 \\u043a\\u0440\\u0430\\u0439 - \\u041f\\u044f\\u0442\\u0438\\u0433\\u043e\\u0440\\u0441\\u043a\", \"\\u041a\\u0440\\u0430\\u0441\\u043d\\u043e\\u044f\\u0440\\u0441\\u043a\\u0438\\u0439 \\u043a\\u0440\\u0430\\u0439 - \\u0416\\u0435\\u043b\\u0435\\u0437\\u043d\\u043e\\u0433\\u043e\\u0440\\u0441\\u043a\", \"\\u041a\\u0443\\u0440\\u0441\\u043a\\u0430\\u044f \\u043e\\u0431\\u043b\\u0430\\u0441\\u0442\\u044c - \\u0416\\u0435\\u043b\\u0435\\u0437\\u043d\\u043e\\u0433\\u043e\\u0440\\u0441\\u043a\"], \"type\": \"scattermapbox\"}],                        {\"height\": 340, \"legend\": {\"orientation\": \"h\", \"traceorder\": \"reversed\", \"x\": 0.5, \"xanchor\": \"center\", \"yanchor\": \"auto\"}, \"mapbox\": {\"center\": {\"lat\": 55.847768, \"lon\": 81.62406200000001}, \"style\": \"open-street-map\", \"zoom\": 2.5}, \"margin\": {\"b\": 5, \"l\": 5, \"r\": 5, \"t\": 5}, \"template\": {\"data\": {\"bar\": [{\"error_x\": {\"color\": \"#2a3f5f\"}, \"error_y\": {\"color\": \"#2a3f5f\"}, \"marker\": {\"line\": {\"color\": \"#E5ECF6\", \"width\": 0.5}}, \"type\": \"bar\"}], \"barpolar\": [{\"marker\": {\"line\": {\"color\": \"#E5ECF6\", \"width\": 0.5}}, \"type\": \"barpolar\"}], \"carpet\": [{\"aaxis\": {\"endlinecolor\": \"#2a3f5f\", \"gridcolor\": \"white\", \"linecolor\": \"white\", \"minorgridcolor\": \"white\", \"startlinecolor\": \"#2a3f5f\"}, \"baxis\": {\"endlinecolor\": \"#2a3f5f\", \"gridcolor\": \"white\", \"linecolor\": \"white\", \"minorgridcolor\": \"white\", \"startlinecolor\": \"#2a3f5f\"}, \"type\": \"carpet\"}], \"choropleth\": [{\"colorbar\": {\"outlinewidth\": 0, \"ticks\": \"\"}, \"type\": \"choropleth\"}], \"contour\": [{\"colorbar\": {\"outlinewidth\": 0, \"ticks\": \"\"}, \"colorscale\": [[0.0, \"#0d0887\"], [0.1111111111111111, \"#46039f\"], [0.2222222222222222, \"#7201a8\"], [0.3333333333333333, \"#9c179e\"], [0.4444444444444444, \"#bd3786\"], [0.5555555555555556, \"#d8576b\"], [0.6666666666666666, \"#ed7953\"], [0.7777777777777778, \"#fb9f3a\"], [0.8888888888888888, \"#fdca26\"], [1.0, \"#f0f921\"]], \"type\": \"contour\"}], \"contourcarpet\": [{\"colorbar\": {\"outlinewidth\": 0, \"ticks\": \"\"}, \"type\": \"contourcarpet\"}], \"heatmap\": [{\"colorbar\": {\"outlinewidth\": 0, \"ticks\": \"\"}, \"colorscale\": [[0.0, \"#0d0887\"], [0.1111111111111111, \"#46039f\"], [0.2222222222222222, \"#7201a8\"], [0.3333333333333333, \"#9c179e\"], [0.4444444444444444, \"#bd3786\"], [0.5555555555555556, \"#d8576b\"], [0.6666666666666666, \"#ed7953\"], [0.7777777777777778, \"#fb9f3a\"], [0.8888888888888888, \"#fdca26\"], [1.0, \"#f0f921\"]], \"type\": \"heatmap\"}], \"heatmapgl\": [{\"colorbar\": {\"outlinewidth\": 0, \"ticks\": \"\"}, \"colorscale\": [[0.0, \"#0d0887\"], [0.1111111111111111, \"#46039f\"], [0.2222222222222222, \"#7201a8\"], [0.3333333333333333, \"#9c179e\"], [0.4444444444444444, \"#bd3786\"], [0.5555555555555556, \"#d8576b\"], [0.6666666666666666, \"#ed7953\"], [0.7777777777777778, \"#fb9f3a\"], [0.8888888888888888, \"#fdca26\"], [1.0, \"#f0f921\"]], \"type\": \"heatmapgl\"}], \"histogram\": [{\"marker\": {\"colorbar\": {\"outlinewidth\": 0, \"ticks\": \"\"}}, \"type\": \"histogram\"}], \"histogram2d\": [{\"colorbar\": {\"outlinewidth\": 0, \"ticks\": \"\"}, \"colorscale\": [[0.0, \"#0d0887\"], [0.1111111111111111, \"#46039f\"], [0.2222222222222222, \"#7201a8\"], [0.3333333333333333, \"#9c179e\"], [0.4444444444444444, \"#bd3786\"], [0.5555555555555556, \"#d8576b\"], [0.6666666666666666, \"#ed7953\"], [0.7777777777777778, \"#fb9f3a\"], [0.8888888888888888, \"#fdca26\"], [1.0, \"#f0f921\"]], \"type\": \"histogram2d\"}], \"histogram2dcontour\": [{\"colorbar\": {\"outlinewidth\": 0, \"ticks\": \"\"}, \"colorscale\": [[0.0, \"#0d0887\"], [0.1111111111111111, \"#46039f\"], [0.2222222222222222, \"#7201a8\"], [0.3333333333333333, \"#9c179e\"], [0.4444444444444444, \"#bd3786\"], [0.5555555555555556, \"#d8576b\"], [0.6666666666666666, \"#ed7953\"], [0.7777777777777778, \"#fb9f3a\"], [0.8888888888888888, \"#fdca26\"], [1.0, \"#f0f921\"]], \"type\": \"histogram2dcontour\"}], \"mesh3d\": [{\"colorbar\": {\"outlinewidth\": 0, \"ticks\": \"\"}, \"type\": \"mesh3d\"}], \"parcoords\": [{\"line\": {\"colorbar\": {\"outlinewidth\": 0, \"ticks\": \"\"}}, \"type\": \"parcoords\"}], \"pie\": [{\"automargin\": true, \"type\": \"pie\"}], \"scatter\": [{\"marker\": {\"colorbar\": {\"outlinewidth\": 0, \"ticks\": \"\"}}, \"type\": \"scatter\"}], \"scatter3d\": [{\"line\": {\"colorbar\": {\"outlinewidth\": 0, \"ticks\": \"\"}}, \"marker\": {\"colorbar\": {\"outlinewidth\": 0, \"ticks\": \"\"}}, \"type\": \"scatter3d\"}], \"scattercarpet\": [{\"marker\": {\"colorbar\": {\"outlinewidth\": 0, \"ticks\": \"\"}}, \"type\": \"scattercarpet\"}], \"scattergeo\": [{\"marker\": {\"colorbar\": {\"outlinewidth\": 0, \"ticks\": \"\"}}, \"type\": \"scattergeo\"}], \"scattergl\": [{\"marker\": {\"colorbar\": {\"outlinewidth\": 0, \"ticks\": \"\"}}, \"type\": \"scattergl\"}], \"scattermapbox\": [{\"marker\": {\"colorbar\": {\"outlinewidth\": 0, \"ticks\": \"\"}}, \"type\": \"scattermapbox\"}], \"scatterpolar\": [{\"marker\": {\"colorbar\": {\"outlinewidth\": 0, \"ticks\": \"\"}}, \"type\": \"scatterpolar\"}], \"scatterpolargl\": [{\"marker\": {\"colorbar\": {\"outlinewidth\": 0, \"ticks\": \"\"}}, \"type\": \"scatterpolargl\"}], \"scatterternary\": [{\"marker\": {\"colorbar\": {\"outlinewidth\": 0, \"ticks\": \"\"}}, \"type\": \"scatterternary\"}], \"surface\": [{\"colorbar\": {\"outlinewidth\": 0, \"ticks\": \"\"}, \"colorscale\": [[0.0, \"#0d0887\"], [0.1111111111111111, \"#46039f\"], [0.2222222222222222, \"#7201a8\"], [0.3333333333333333, \"#9c179e\"], [0.4444444444444444, \"#bd3786\"], [0.5555555555555556, \"#d8576b\"], [0.6666666666666666, \"#ed7953\"], [0.7777777777777778, \"#fb9f3a\"], [0.8888888888888888, \"#fdca26\"], [1.0, \"#f0f921\"]], \"type\": \"surface\"}], \"table\": [{\"cells\": {\"fill\": {\"color\": \"#EBF0F8\"}, \"line\": {\"color\": \"white\"}}, \"header\": {\"fill\": {\"color\": \"#C8D4E3\"}, \"line\": {\"color\": \"white\"}}, \"type\": \"table\"}]}, \"layout\": {\"annotationdefaults\": {\"arrowcolor\": \"#2a3f5f\", \"arrowhead\": 0, \"arrowwidth\": 1}, \"autotypenumbers\": \"strict\", \"coloraxis\": {\"colorbar\": {\"outlinewidth\": 0, \"ticks\": \"\"}}, \"colorscale\": {\"diverging\": [[0, \"#8e0152\"], [0.1, \"#c51b7d\"], [0.2, \"#de77ae\"], [0.3, \"#f1b6da\"], [0.4, \"#fde0ef\"], [0.5, \"#f7f7f7\"], [0.6, \"#e6f5d0\"], [0.7, \"#b8e186\"], [0.8, \"#7fbc41\"], [0.9, \"#4d9221\"], [1, \"#276419\"]], \"sequential\": [[0.0, \"#0d0887\"], [0.1111111111111111, \"#46039f\"], [0.2222222222222222, \"#7201a8\"], [0.3333333333333333, \"#9c179e\"], [0.4444444444444444, \"#bd3786\"], [0.5555555555555556, \"#d8576b\"], [0.6666666666666666, \"#ed7953\"], [0.7777777777777778, \"#fb9f3a\"], [0.8888888888888888, \"#fdca26\"], [1.0, \"#f0f921\"]], \"sequentialminus\": [[0.0, \"#0d0887\"], [0.1111111111111111, \"#46039f\"], [0.2222222222222222, \"#7201a8\"], [0.3333333333333333, \"#9c179e\"], [0.4444444444444444, \"#bd3786\"], [0.5555555555555556, \"#d8576b\"], [0.6666666666666666, \"#ed7953\"], [0.7777777777777778, \"#fb9f3a\"], [0.8888888888888888, \"#fdca26\"], [1.0, \"#f0f921\"]]}, \"colorway\": [\"#636efa\", \"#EF553B\", \"#00cc96\", \"#ab63fa\", \"#FFA15A\", \"#19d3f3\", \"#FF6692\", \"#B6E880\", \"#FF97FF\", \"#FECB52\"], \"font\": {\"color\": \"#2a3f5f\"}, \"geo\": {\"bgcolor\": \"white\", \"lakecolor\": \"white\", \"landcolor\": \"#E5ECF6\", \"showlakes\": true, \"showland\": true, \"subunitcolor\": \"white\"}, \"hoverlabel\": {\"align\": \"left\"}, \"hovermode\": \"closest\", \"mapbox\": {\"style\": \"light\"}, \"paper_bgcolor\": \"white\", \"plot_bgcolor\": \"#E5ECF6\", \"polar\": {\"angularaxis\": {\"gridcolor\": \"white\", \"linecolor\": \"white\", \"ticks\": \"\"}, \"bgcolor\": \"#E5ECF6\", \"radialaxis\": {\"gridcolor\": \"white\", \"linecolor\": \"white\", \"ticks\": \"\"}}, \"scene\": {\"xaxis\": {\"backgroundcolor\": \"#E5ECF6\", \"gridcolor\": \"white\", \"gridwidth\": 2, \"linecolor\": \"white\", \"showbackground\": true, \"ticks\": \"\", \"zerolinecolor\": \"white\"}, \"yaxis\": {\"backgroundcolor\": \"#E5ECF6\", \"gridcolor\": \"white\", \"gridwidth\": 2, \"linecolor\": \"white\", \"showbackground\": true, \"ticks\": \"\", \"zerolinecolor\": \"white\"}, \"zaxis\": {\"backgroundcolor\": \"#E5ECF6\", \"gridcolor\": \"white\", \"gridwidth\": 2, \"linecolor\": \"white\", \"showbackground\": true, \"ticks\": \"\", \"zerolinecolor\": \"white\"}}, \"shapedefaults\": {\"line\": {\"color\": \"#2a3f5f\"}}, \"ternary\": {\"aaxis\": {\"gridcolor\": \"white\", \"linecolor\": \"white\", \"ticks\": \"\"}, \"baxis\": {\"gridcolor\": \"white\", \"linecolor\": \"white\", \"ticks\": \"\"}, \"bgcolor\": \"#E5ECF6\", \"caxis\": {\"gridcolor\": \"white\", \"linecolor\": \"white\", \"ticks\": \"\"}}, \"title\": {\"x\": 0.05}, \"xaxis\": {\"automargin\": true, \"gridcolor\": \"white\", \"linecolor\": \"white\", \"ticks\": \"\", \"title\": {\"standoff\": 15}, \"zerolinecolor\": \"white\", \"zerolinewidth\": 2}, \"yaxis\": {\"automargin\": true, \"gridcolor\": \"white\", \"linecolor\": \"white\", \"ticks\": \"\", \"title\": {\"standoff\": 15}, \"zerolinecolor\": \"white\", \"zerolinewidth\": 2}}}, \"width\": 980},                        {\"responsive\": true}                    ).then(function(){\n",
       "                            \n",
       "var gd = document.getElementById('4643d084-a06f-4277-b37e-99d7f8b1797f');\n",
       "var x = new MutationObserver(function (mutations, observer) {{\n",
       "        var display = window.getComputedStyle(gd).display;\n",
       "        if (!display || display === 'none') {{\n",
       "            console.log([gd, 'removed!']);\n",
       "            Plotly.purge(gd);\n",
       "            observer.disconnect();\n",
       "        }}\n",
       "}});\n",
       "\n",
       "// Listen for the removal of the full notebook cells\n",
       "var notebookContainer = gd.closest('#notebook-container');\n",
       "if (notebookContainer) {{\n",
       "    x.observe(notebookContainer, {childList: true});\n",
       "}}\n",
       "\n",
       "// Listen for the clearing of the current output cell\n",
       "var outputEl = gd.closest('.output');\n",
       "if (outputEl) {{\n",
       "    x.observe(outputEl, {childList: true});\n",
       "}}\n",
       "\n",
       "                        })                };                });            </script>        </div>"
      ]
     },
     "metadata": {},
     "output_type": "display_data"
    }
   ],
   "source": [
    "# Plot Geo Visualization\n",
    "plotGeoPointsAndLines(census_one_month, city_color = 'blue', terminals_color = 'red')"
   ]
  },
  {
   "cell_type": "markdown",
   "metadata": {},
   "source": [
    "# Гео-визуализация на карте границ терминалов городов Census"
   ]
  },
  {
   "cell_type": "code",
   "execution_count": 78,
   "metadata": {},
   "outputs": [
    {
     "data": {
      "text/html": [
       "<div>\n",
       "<style scoped>\n",
       "    .dataframe tbody tr th:only-of-type {\n",
       "        vertical-align: middle;\n",
       "    }\n",
       "\n",
       "    .dataframe tbody tr th {\n",
       "        vertical-align: top;\n",
       "    }\n",
       "\n",
       "    .dataframe thead th {\n",
       "        text-align: right;\n",
       "    }\n",
       "</style>\n",
       "<table border=\"1\" class=\"dataframe\">\n",
       "  <thead>\n",
       "    <tr style=\"text-align: right;\">\n",
       "      <th></th>\n",
       "      <th>partition_dt</th>\n",
       "      <th>okrug_mt</th>\n",
       "      <th>province_mt</th>\n",
       "      <th>locality_mt</th>\n",
       "      <th>merchant_city_nm</th>\n",
       "      <th>merchant_id</th>\n",
       "      <th>merchant_nm</th>\n",
       "      <th>terminal_id</th>\n",
       "      <th>geocode_quality_mt</th>\n",
       "      <th>region_denormalized_mt</th>\n",
       "      <th>...</th>\n",
       "      <th>avg_cheque</th>\n",
       "      <th>locality</th>\n",
       "      <th>latitude</th>\n",
       "      <th>longitude</th>\n",
       "      <th>distance</th>\n",
       "      <th>point_type</th>\n",
       "      <th>city_nm</th>\n",
       "      <th>distance_text</th>\n",
       "      <th>dist_all_rn</th>\n",
       "      <th>dist_rn</th>\n",
       "    </tr>\n",
       "  </thead>\n",
       "  <tbody>\n",
       "    <tr>\n",
       "      <th>0</th>\n",
       "      <td>2020-04-01</td>\n",
       "      <td>Сибирский федеральный округ</td>\n",
       "      <td>Кемеровская область</td>\n",
       "      <td>Кемерово</td>\n",
       "      <td>KEMEROVO</td>\n",
       "      <td>GPN11000</td>\n",
       "      <td>GAZPROMNEFT AZS 127</td>\n",
       "      <td>RZ331271</td>\n",
       "      <td>1</td>\n",
       "      <td>NULLVALUE</td>\n",
       "      <td>...</td>\n",
       "      <td>814.133970</td>\n",
       "      <td>Кемерово</td>\n",
       "      <td>55.354727</td>\n",
       "      <td>86.088374</td>\n",
       "      <td>3504.202546</td>\n",
       "      <td>large</td>\n",
       "      <td>Кемеровская область - Кемерово</td>\n",
       "      <td>3504.20</td>\n",
       "      <td>1</td>\n",
       "      <td>1</td>\n",
       "    </tr>\n",
       "    <tr>\n",
       "      <th>1</th>\n",
       "      <td>2020-04-01</td>\n",
       "      <td>Сибирский федеральный округ</td>\n",
       "      <td>Кемеровская область</td>\n",
       "      <td>Кемерово</td>\n",
       "      <td>KEMEROVO</td>\n",
       "      <td>551125998504</td>\n",
       "      <td>RESURSAVTO</td>\n",
       "      <td>25998504</td>\n",
       "      <td>1</td>\n",
       "      <td>NULLVALUE</td>\n",
       "      <td>...</td>\n",
       "      <td>397.057778</td>\n",
       "      <td>Кемерово</td>\n",
       "      <td>55.354727</td>\n",
       "      <td>86.088374</td>\n",
       "      <td>3503.036387</td>\n",
       "      <td>large</td>\n",
       "      <td>Кемеровская область - Кемерово</td>\n",
       "      <td>3503.04</td>\n",
       "      <td>2</td>\n",
       "      <td>2</td>\n",
       "    </tr>\n",
       "    <tr>\n",
       "      <th>2</th>\n",
       "      <td>2020-04-01</td>\n",
       "      <td>Сибирский федеральный округ</td>\n",
       "      <td>Кемеровская область</td>\n",
       "      <td>Кемерово</td>\n",
       "      <td>KEMEROVO</td>\n",
       "      <td>261000025237</td>\n",
       "      <td>SHKOLNOE PITANIE</td>\n",
       "      <td>22069911</td>\n",
       "      <td>1</td>\n",
       "      <td>NULLVALUE</td>\n",
       "      <td>...</td>\n",
       "      <td>1185.796296</td>\n",
       "      <td>Кемерово</td>\n",
       "      <td>55.354727</td>\n",
       "      <td>86.088374</td>\n",
       "      <td>3500.289713</td>\n",
       "      <td>large</td>\n",
       "      <td>Кемеровская область - Кемерово</td>\n",
       "      <td>3500.29</td>\n",
       "      <td>3</td>\n",
       "      <td>3</td>\n",
       "    </tr>\n",
       "    <tr>\n",
       "      <th>3</th>\n",
       "      <td>2020-04-01</td>\n",
       "      <td>Сибирский федеральный округ</td>\n",
       "      <td>Кемеровская область</td>\n",
       "      <td>Кемерово</td>\n",
       "      <td>KEMEROVO</td>\n",
       "      <td>GPN11000</td>\n",
       "      <td>GAZPROMNEFT AZS 090</td>\n",
       "      <td>RZ330901</td>\n",
       "      <td>1</td>\n",
       "      <td>NULLVALUE</td>\n",
       "      <td>...</td>\n",
       "      <td>802.590990</td>\n",
       "      <td>Кемерово</td>\n",
       "      <td>55.354727</td>\n",
       "      <td>86.088374</td>\n",
       "      <td>3500.273017</td>\n",
       "      <td>large</td>\n",
       "      <td>Кемеровская область - Кемерово</td>\n",
       "      <td>3500.27</td>\n",
       "      <td>4</td>\n",
       "      <td>4</td>\n",
       "    </tr>\n",
       "    <tr>\n",
       "      <th>4</th>\n",
       "      <td>2020-04-01</td>\n",
       "      <td>Сибирский федеральный округ</td>\n",
       "      <td>Кемеровская область</td>\n",
       "      <td>Кемерово</td>\n",
       "      <td>KEMEROVO</td>\n",
       "      <td>GPN11000</td>\n",
       "      <td>GAZPROMNEFT AZS 098</td>\n",
       "      <td>RZ330981</td>\n",
       "      <td>1</td>\n",
       "      <td>NULLVALUE</td>\n",
       "      <td>...</td>\n",
       "      <td>1024.545541</td>\n",
       "      <td>Кемерово</td>\n",
       "      <td>55.354727</td>\n",
       "      <td>86.088374</td>\n",
       "      <td>3500.212316</td>\n",
       "      <td>large</td>\n",
       "      <td>Кемеровская область - Кемерово</td>\n",
       "      <td>3500.21</td>\n",
       "      <td>5</td>\n",
       "      <td>5</td>\n",
       "    </tr>\n",
       "  </tbody>\n",
       "</table>\n",
       "<p>5 rows × 54 columns</p>\n",
       "</div>"
      ],
      "text/plain": [
       "  partition_dt                     okrug_mt          province_mt locality_mt  \\\n",
       "0   2020-04-01  Сибирский федеральный округ  Кемеровская область    Кемерово   \n",
       "1   2020-04-01  Сибирский федеральный округ  Кемеровская область    Кемерово   \n",
       "2   2020-04-01  Сибирский федеральный округ  Кемеровская область    Кемерово   \n",
       "3   2020-04-01  Сибирский федеральный округ  Кемеровская область    Кемерово   \n",
       "4   2020-04-01  Сибирский федеральный округ  Кемеровская область    Кемерово   \n",
       "\n",
       "  merchant_city_nm   merchant_id          merchant_nm terminal_id  \\\n",
       "0         KEMEROVO      GPN11000  GAZPROMNEFT AZS 127    RZ331271   \n",
       "1         KEMEROVO  551125998504           RESURSAVTO    25998504   \n",
       "2         KEMEROVO  261000025237     SHKOLNOE PITANIE    22069911   \n",
       "3         KEMEROVO      GPN11000  GAZPROMNEFT AZS 090    RZ330901   \n",
       "4         KEMEROVO      GPN11000  GAZPROMNEFT AZS 098    RZ330981   \n",
       "\n",
       "   geocode_quality_mt region_denormalized_mt  ...   avg_cheque  locality  \\\n",
       "0                   1              NULLVALUE  ...   814.133970  Кемерово   \n",
       "1                   1              NULLVALUE  ...   397.057778  Кемерово   \n",
       "2                   1              NULLVALUE  ...  1185.796296  Кемерово   \n",
       "3                   1              NULLVALUE  ...   802.590990  Кемерово   \n",
       "4                   1              NULLVALUE  ...  1024.545541  Кемерово   \n",
       "\n",
       "    latitude  longitude     distance point_type  \\\n",
       "0  55.354727  86.088374  3504.202546      large   \n",
       "1  55.354727  86.088374  3503.036387      large   \n",
       "2  55.354727  86.088374  3500.289713      large   \n",
       "3  55.354727  86.088374  3500.273017      large   \n",
       "4  55.354727  86.088374  3500.212316      large   \n",
       "\n",
       "                          city_nm distance_text dist_all_rn dist_rn  \n",
       "0  Кемеровская область - Кемерово       3504.20           1       1  \n",
       "1  Кемеровская область - Кемерово       3503.04           2       2  \n",
       "2  Кемеровская область - Кемерово       3500.29           3       3  \n",
       "3  Кемеровская область - Кемерово       3500.27           4       4  \n",
       "4  Кемеровская область - Кемерово       3500.21           5       5  \n",
       "\n",
       "[5 rows x 54 columns]"
      ]
     },
     "execution_count": 78,
     "metadata": {},
     "output_type": "execute_result"
    }
   ],
   "source": [
    "census_terminals = pd.read_csv('Census_Geo_Locality_Mt_Terminals.csv', sep = ';')\n",
    "\n",
    "census_terminals['okrug_mt'] = census_terminals['okrug_mt'].apply(lambda x: x.strip())\n",
    "census_terminals['province_mt'] = census_terminals['province_mt'].apply(lambda x: x.strip())\n",
    "census_terminals['locality_mt'] = census_terminals['locality_mt'].apply(lambda x: x.strip())\n",
    "census_terminals['locality'] = census_terminals['locality'].apply(lambda x: x.strip())\n",
    "census_terminals['merchant_nm'] = census_terminals['merchant_nm'].apply(lambda x: x.strip())\n",
    "census_terminals['terminal_id'] = census_terminals['terminal_id'].apply(lambda x: x.strip())\n",
    "census_terminals['point_type'] = census_terminals['point_type'].apply(lambda x: x.strip())\n",
    "census_terminals['city_nm'] = census_terminals['province_mt'].apply(lambda x: slide(x, 25)) + ' - ' + census_terminals['locality_mt'].apply(lambda x: slide(x, 25))\n",
    "census_terminals['distance'] = census_terminals[['latitude', 'longitude', 'latitude_mt', 'longitude_mt']].apply(\n",
    "    lambda row: distance(row['latitude'], row['longitude'], row['latitude_mt'], row['longitude_mt']),\n",
    "    axis = 1\n",
    ")\n",
    "census_terminals['distance_text'] = census_terminals['distance'].map(lambda x: round(x, 2))\n",
    "census_terminals['dist_all_rn'] = census_terminals.sort_values(by='distance', ascending=False)['distance'].rank(method='first', ascending=False).astype(np.int64)\n",
    "census_terminals['dist_rn'] = census_terminals.sort_values(by='distance', ascending=False).groupby('partition_dt').cumcount() + 1\n",
    "\n",
    "census_terminals[:5]"
   ]
  },
  {
   "cell_type": "code",
   "execution_count": 79,
   "metadata": {},
   "outputs": [
    {
     "data": {
      "text/html": [
       "<div>\n",
       "<style scoped>\n",
       "    .dataframe tbody tr th:only-of-type {\n",
       "        vertical-align: middle;\n",
       "    }\n",
       "\n",
       "    .dataframe tbody tr th {\n",
       "        vertical-align: top;\n",
       "    }\n",
       "\n",
       "    .dataframe thead th {\n",
       "        text-align: right;\n",
       "    }\n",
       "</style>\n",
       "<table border=\"1\" class=\"dataframe\">\n",
       "  <thead>\n",
       "    <tr style=\"text-align: right;\">\n",
       "      <th></th>\n",
       "      <th>index</th>\n",
       "      <th>partition_dt</th>\n",
       "      <th>okrug_mt</th>\n",
       "      <th>province_mt</th>\n",
       "      <th>locality_mt</th>\n",
       "      <th>merchant_city_nm</th>\n",
       "      <th>merchant_id</th>\n",
       "      <th>merchant_nm</th>\n",
       "      <th>terminal_id</th>\n",
       "      <th>geocode_quality_mt</th>\n",
       "      <th>...</th>\n",
       "      <th>avg_cheque</th>\n",
       "      <th>locality</th>\n",
       "      <th>latitude</th>\n",
       "      <th>longitude</th>\n",
       "      <th>distance</th>\n",
       "      <th>point_type</th>\n",
       "      <th>city_nm</th>\n",
       "      <th>distance_text</th>\n",
       "      <th>dist_all_rn</th>\n",
       "      <th>dist_rn</th>\n",
       "    </tr>\n",
       "  </thead>\n",
       "  <tbody>\n",
       "    <tr>\n",
       "      <th>0</th>\n",
       "      <td>0</td>\n",
       "      <td>2020-04-01</td>\n",
       "      <td>Сибирский федеральный округ</td>\n",
       "      <td>Кемеровская область</td>\n",
       "      <td>Кемерово</td>\n",
       "      <td>KEMEROVO</td>\n",
       "      <td>GPN11000</td>\n",
       "      <td>GAZPROMNEFT AZS 127</td>\n",
       "      <td>RZ331271</td>\n",
       "      <td>1</td>\n",
       "      <td>...</td>\n",
       "      <td>814.133970</td>\n",
       "      <td>Кемерово</td>\n",
       "      <td>55.354727</td>\n",
       "      <td>86.088374</td>\n",
       "      <td>3504.202546</td>\n",
       "      <td>large</td>\n",
       "      <td>Кемеровская область - Кемерово</td>\n",
       "      <td>3504.20</td>\n",
       "      <td>1</td>\n",
       "      <td>1</td>\n",
       "    </tr>\n",
       "    <tr>\n",
       "      <th>1</th>\n",
       "      <td>1</td>\n",
       "      <td>2020-04-01</td>\n",
       "      <td>Сибирский федеральный округ</td>\n",
       "      <td>Кемеровская область</td>\n",
       "      <td>Кемерово</td>\n",
       "      <td>KEMEROVO</td>\n",
       "      <td>551125998504</td>\n",
       "      <td>RESURSAVTO</td>\n",
       "      <td>25998504</td>\n",
       "      <td>1</td>\n",
       "      <td>...</td>\n",
       "      <td>397.057778</td>\n",
       "      <td>Кемерово</td>\n",
       "      <td>55.354727</td>\n",
       "      <td>86.088374</td>\n",
       "      <td>3503.036387</td>\n",
       "      <td>large</td>\n",
       "      <td>Кемеровская область - Кемерово</td>\n",
       "      <td>3503.04</td>\n",
       "      <td>2</td>\n",
       "      <td>2</td>\n",
       "    </tr>\n",
       "    <tr>\n",
       "      <th>2</th>\n",
       "      <td>2</td>\n",
       "      <td>2020-04-01</td>\n",
       "      <td>Сибирский федеральный округ</td>\n",
       "      <td>Кемеровская область</td>\n",
       "      <td>Кемерово</td>\n",
       "      <td>KEMEROVO</td>\n",
       "      <td>261000025237</td>\n",
       "      <td>SHKOLNOE PITANIE</td>\n",
       "      <td>22069911</td>\n",
       "      <td>1</td>\n",
       "      <td>...</td>\n",
       "      <td>1185.796296</td>\n",
       "      <td>Кемерово</td>\n",
       "      <td>55.354727</td>\n",
       "      <td>86.088374</td>\n",
       "      <td>3500.289713</td>\n",
       "      <td>large</td>\n",
       "      <td>Кемеровская область - Кемерово</td>\n",
       "      <td>3500.29</td>\n",
       "      <td>3</td>\n",
       "      <td>3</td>\n",
       "    </tr>\n",
       "    <tr>\n",
       "      <th>3</th>\n",
       "      <td>3</td>\n",
       "      <td>2020-04-01</td>\n",
       "      <td>Сибирский федеральный округ</td>\n",
       "      <td>Кемеровская область</td>\n",
       "      <td>Кемерово</td>\n",
       "      <td>KEMEROVO</td>\n",
       "      <td>GPN11000</td>\n",
       "      <td>GAZPROMNEFT AZS 090</td>\n",
       "      <td>RZ330901</td>\n",
       "      <td>1</td>\n",
       "      <td>...</td>\n",
       "      <td>802.590990</td>\n",
       "      <td>Кемерово</td>\n",
       "      <td>55.354727</td>\n",
       "      <td>86.088374</td>\n",
       "      <td>3500.273017</td>\n",
       "      <td>large</td>\n",
       "      <td>Кемеровская область - Кемерово</td>\n",
       "      <td>3500.27</td>\n",
       "      <td>4</td>\n",
       "      <td>4</td>\n",
       "    </tr>\n",
       "    <tr>\n",
       "      <th>4</th>\n",
       "      <td>4</td>\n",
       "      <td>2020-04-01</td>\n",
       "      <td>Сибирский федеральный округ</td>\n",
       "      <td>Кемеровская область</td>\n",
       "      <td>Кемерово</td>\n",
       "      <td>KEMEROVO</td>\n",
       "      <td>GPN11000</td>\n",
       "      <td>GAZPROMNEFT AZS 098</td>\n",
       "      <td>RZ330981</td>\n",
       "      <td>1</td>\n",
       "      <td>...</td>\n",
       "      <td>1024.545541</td>\n",
       "      <td>Кемерово</td>\n",
       "      <td>55.354727</td>\n",
       "      <td>86.088374</td>\n",
       "      <td>3500.212316</td>\n",
       "      <td>large</td>\n",
       "      <td>Кемеровская область - Кемерово</td>\n",
       "      <td>3500.21</td>\n",
       "      <td>5</td>\n",
       "      <td>5</td>\n",
       "    </tr>\n",
       "  </tbody>\n",
       "</table>\n",
       "<p>5 rows × 55 columns</p>\n",
       "</div>"
      ],
      "text/plain": [
       "   index partition_dt                     okrug_mt          province_mt  \\\n",
       "0      0   2020-04-01  Сибирский федеральный округ  Кемеровская область   \n",
       "1      1   2020-04-01  Сибирский федеральный округ  Кемеровская область   \n",
       "2      2   2020-04-01  Сибирский федеральный округ  Кемеровская область   \n",
       "3      3   2020-04-01  Сибирский федеральный округ  Кемеровская область   \n",
       "4      4   2020-04-01  Сибирский федеральный округ  Кемеровская область   \n",
       "\n",
       "  locality_mt merchant_city_nm   merchant_id          merchant_nm terminal_id  \\\n",
       "0    Кемерово         KEMEROVO      GPN11000  GAZPROMNEFT AZS 127    RZ331271   \n",
       "1    Кемерово         KEMEROVO  551125998504           RESURSAVTO    25998504   \n",
       "2    Кемерово         KEMEROVO  261000025237     SHKOLNOE PITANIE    22069911   \n",
       "3    Кемерово         KEMEROVO      GPN11000  GAZPROMNEFT AZS 090    RZ330901   \n",
       "4    Кемерово         KEMEROVO      GPN11000  GAZPROMNEFT AZS 098    RZ330981   \n",
       "\n",
       "   geocode_quality_mt  ...   avg_cheque  locality   latitude  longitude  \\\n",
       "0                   1  ...   814.133970  Кемерово  55.354727  86.088374   \n",
       "1                   1  ...   397.057778  Кемерово  55.354727  86.088374   \n",
       "2                   1  ...  1185.796296  Кемерово  55.354727  86.088374   \n",
       "3                   1  ...   802.590990  Кемерово  55.354727  86.088374   \n",
       "4                   1  ...  1024.545541  Кемерово  55.354727  86.088374   \n",
       "\n",
       "      distance point_type                         city_nm distance_text  \\\n",
       "0  3504.202546      large  Кемеровская область - Кемерово       3504.20   \n",
       "1  3503.036387      large  Кемеровская область - Кемерово       3503.04   \n",
       "2  3500.289713      large  Кемеровская область - Кемерово       3500.29   \n",
       "3  3500.273017      large  Кемеровская область - Кемерово       3500.27   \n",
       "4  3500.212316      large  Кемеровская область - Кемерово       3500.21   \n",
       "\n",
       "  dist_all_rn dist_rn  \n",
       "0           1       1  \n",
       "1           2       2  \n",
       "2           3       3  \n",
       "3           4       4  \n",
       "4           5       5  \n",
       "\n",
       "[5 rows x 55 columns]"
      ]
     },
     "execution_count": 79,
     "metadata": {},
     "output_type": "execute_result"
    }
   ],
   "source": [
    "# Setup month to analyze\n",
    "terminals_month = '2020-04-01'\n",
    "\n",
    "# Setup locality to analyze\n",
    "terminals_city_province = 'Кемеровская область'\n",
    "terminals_city_locality = 'Кемерово'\n",
    "\n",
    "# Find locality data\n",
    "census_city_city = census[(census['partition_dt'] == terminals_month) \n",
    "                                         & (census['province_mt'] == terminals_city_province)\n",
    "                                         & (census['locality_mt'] == terminals_city_locality)].reset_index()\n",
    "\n",
    "census_city_terminals = census_terminals[(census_terminals['partition_dt'] == terminals_month) \n",
    "                                         & (census_terminals['province_mt'] == terminals_city_province)\n",
    "                                         & (census_terminals['locality_mt'] == terminals_city_locality)].reset_index()\n",
    "census_city_terminals[:5]"
   ]
  },
  {
   "cell_type": "code",
   "execution_count": 80,
   "metadata": {},
   "outputs": [
    {
     "data": {
      "application/vnd.plotly.v1+json": {
       "config": {
        "plotlyServerURL": "https://plot.ly"
       },
       "data": [
        {
         "lat": [
          86.1763,
          86.1634,
          86.13515,
          86.13379,
          86.13428,
          86.13786,
          86.1309,
          86.1158,
          86.11028,
          86.1033,
          86.08045,
          86.07745,
          86.0722,
          86.06,
          86.054,
          86.0413,
          86.04333000000001,
          86.03399999999999,
          86.03076999999999
         ],
         "lon": [
          55.33274,
          55.32566,
          55.356359999999995,
          55.33035,
          55.35559,
          55.437180000000005,
          55.321569999999994,
          55.41206999999999,
          55.38786999999999,
          55.34891,
          55.33554,
          55.32475,
          55.384209999999996,
          55.34815,
          55.36061,
          55.35751,
          55.41979,
          55.31191999999999,
          55.300180000000005
         ],
         "marker": {
          "color": "red",
          "opacity": 0.7,
          "size": 10
         },
         "mode": "markers",
         "name": "Large Points",
         "showlegend": false,
         "text": [
          "GAZPROMNEFT AZS 127 - RZ331271",
          "RESURSAVTO - 25998504",
          "SHKOLNOE PITANIE - 22069911",
          "GAZPROMNEFT AZS 090 - RZ330901",
          "GAZPROMNEFT AZS 098 - RZ330981",
          "GAZPROMNEFT AZS 003 - RZ330031",
          "MANGAL - 65240501",
          "AZS N 33 VAHRUSHEVA - 26182067",
          "GAZPROMNEFT AZS 074 - RZ33074A",
          "OOO KUZBASSDORSTROY - Y0043449",
          "GAZPROMNEFT AZS 085 - RZ33085A",
          "GAZPROMNEFT AZS 087 - RZ33087A",
          "AVTOMASLA 2 - 20453932",
          "GAZPROMNEFT AZS 126 - RZ33126A",
          "GAZPROMNEFT AZS 001 - RZ330011",
          "KARAVAI - Y0054392",
          "KMPV - 22052021",
          "IP DEGTYAREV S V - Y0042120",
          "GAZPROMNEFT AZS 008 - RZ330081"
         ],
         "type": "scattermapbox"
        },
        {
         "fill": "toself",
         "lat": [
          86.03076999999999,
          86.1634,
          86.1763,
          86.13786,
          86.04333000000001,
          86.03076999999999
         ],
         "lon": [
          55.300180000000005,
          55.32566,
          55.33274,
          55.437180000000005,
          55.41979,
          55.300180000000005
         ],
         "marker": {
          "color": "red",
          "opacity": 0.7,
          "size": 10
         },
         "name": "Large Edges",
         "showlegend": false,
         "text": [
          "GAZPROMNEFT AZS 008 - RZ330081",
          "RESURSAVTO - 25998504",
          "GAZPROMNEFT AZS 127 - RZ331271",
          "GAZPROMNEFT AZS 003 - RZ330031",
          "KMPV - 22052021",
          "GAZPROMNEFT AZS 008 - RZ330081"
         ],
         "type": "scattermapbox"
        },
        {
         "lat": [
          55.533313,
          55.527595999999996,
          55.522959,
          55.522780000000004,
          55.522612,
          55.522133,
          55.52239300000001,
          55.52230600000001,
          55.522204,
          55.522052,
          55.52206700000001,
          55.521904000000006,
          55.521668999999996,
          55.521639,
          55.521715,
          55.521455,
          55.52136899999999,
          55.521384,
          55.52099200000001,
          55.521021999999995,
          55.520996999999994,
          55.520272999999996,
          55.520557999999994,
          55.520584,
          55.52060899999999,
          55.52036999999999,
          55.519971999999996,
          55.520334,
          55.52006899999999,
          55.519794,
          55.519615,
          55.519514,
          55.519091,
          55.519004,
          55.51901899999999,
          55.518688,
          55.51854,
          55.517897999999995,
          55.517867,
          55.517922999999996,
          55.517342000000006,
          55.51724,
          55.499051,
          55.507468,
          55.508065,
          55.502283,
          55.50703000000001,
          55.493598999999996,
          55.498515000000005,
          55.498403,
          55.49874499999999,
          55.498051000000004,
          55.49724499999999,
          55.497291000000004,
          55.4993,
          55.497882999999995,
          55.498173,
          55.490269,
          55.491758,
          55.486259999999994,
          55.473735,
          55.429139,
          55.423483999999995,
          55.429813,
          55.424618,
          55.419662,
          55.419968000000004,
          55.419054,
          55.428373,
          55.419038,
          55.41933,
          55.42007099999999,
          55.28411800000001,
          55.32648100000001,
          55.440754000000005,
          55.296728,
          55.298548,
          55.335657999999995,
          55.335795999999995,
          55.412155000000006,
          55.308961,
          55.411281,
          55.397259999999996,
          55.310924,
          55.40932900000001,
          55.339002,
          55.389003,
          55.406753,
          55.38932,
          55.407008999999995,
          55.311184999999995,
          55.311702000000004,
          55.40526,
          55.403553,
          55.398692000000004,
          55.309274,
          55.327311,
          55.389033,
          55.347925,
          55.34940400000001,
          55.33534100000001,
          55.346491,
          55.360668999999994,
          55.344792000000005,
          55.31848000000001,
          55.31744499999999,
          55.396601000000004,
          55.345288000000004,
          55.328125,
          55.325906999999994,
          55.320586,
          55.313639,
          55.392858,
          55.347356999999995,
          55.325897,
          55.384717,
          55.345980000000004,
          55.316959,
          55.392086,
          55.389417,
          55.342923,
          55.390946,
          55.390547,
          55.38844,
          55.340476,
          55.345355000000005,
          55.324653000000005,
          55.351293000000005,
          55.322578,
          55.322737,
          55.329825,
          55.384978000000004,
          55.33979,
          55.348227,
          55.341014,
          55.329452,
          55.32818100000001,
          55.34835,
          55.34409599999999,
          55.334070999999994,
          55.340512,
          55.341581999999995,
          55.36746899999999,
          55.34191,
          55.337343000000004,
          55.338857999999995,
          55.344838,
          55.335392000000006,
          55.335561,
          55.338147,
          55.344162,
          55.34454100000001,
          55.343993000000005,
          55.348672,
          55.349920999999995,
          55.35355500000001,
          55.341643000000005,
          55.341572,
          55.344632999999995,
          55.353601,
          55.351921999999995,
          55.342698,
          55.348928,
          55.344730000000006,
          55.35355500000001,
          55.344766,
          55.35414399999999,
          55.358253000000005,
          55.352491,
          55.35769499999999,
          55.348314,
          55.351503
         ],
         "lon": [
          86.161803,
          86.10703199999999,
          86.109188,
          86.11296999999999,
          86.112638,
          86.11626700000001,
          86.106287,
          86.097313,
          86.098445,
          86.101714,
          86.100672,
          86.101912,
          86.104122,
          86.102181,
          86.096935,
          86.10131899999999,
          86.096082,
          86.093944,
          86.100888,
          86.099334,
          86.097411,
          86.111847,
          86.101768,
          86.09672900000001,
          86.09496800000001,
          86.101148,
          86.111416,
          86.099055,
          86.10009699999999,
          86.107113,
          86.10603499999999,
          86.099046,
          86.104203,
          86.106125,
          86.101139,
          86.099019,
          86.096432,
          86.103071,
          86.101589,
          86.09863299999999,
          86.102631,
          86.104302,
          86.197376,
          86.151014,
          86.11377900000001,
          86.160276,
          86.11034699999999,
          86.197565,
          86.169313,
          86.169744,
          86.165863,
          86.169726,
          86.173328,
          86.169555,
          86.155847,
          86.16210799999999,
          86.160285,
          86.196792,
          86.176921,
          86.196621,
          86.15045699999999,
          86.24186999999999,
          86.245121,
          86.232904,
          86.231431,
          86.238088,
          86.237351,
          86.238258,
          86.223948,
          86.236165,
          86.232752,
          86.231072,
          85.97016500000001,
          85.932732,
          86.07693,
          86.003636,
          86.01521600000001,
          86.197475,
          86.193926,
          86.12644499999999,
          86.018279,
          86.053861,
          86.01558399999999,
          86.156898,
          86.055029,
          86.185114,
          86.0089,
          86.125969,
          86.011038,
          86.056322,
          86.030505,
          86.031295,
          86.11774,
          86.122825,
          86.03981999999999,
          86.04654000000001,
          86.163321,
          86.024989,
          86.173948,
          86.172591,
          86.164659,
          86.007176,
          86.007149,
          86.167507,
          86.13670400000001,
          86.044123,
          86.114264,
          86.163815,
          86.148382,
          86.143908,
          86.131925,
          86.098867,
          86.11403,
          86.15800300000001,
          86.136955,
          86.043611,
          86.155011,
          86.10045699999999,
          86.07718100000001,
          86.11191,
          86.149433,
          86.093513,
          86.091447,
          86.106996,
          86.144375,
          86.146702,
          86.059934,
          86.146989,
          86.07579799999999,
          86.09730400000001,
          86.123211,
          86.074729,
          86.040836,
          86.140665,
          86.13488000000001,
          86.11430899999999,
          86.070022,
          86.040952,
          86.131862,
          86.06081400000001,
          86.123085,
          86.053996,
          86.122034,
          86.05626,
          86.065881,
          86.063985,
          86.12024699999999,
          86.080451,
          86.090252,
          86.10333100000001,
          86.113563,
          86.063841,
          86.06597,
          86.06232299999999,
          86.114327,
          86.114956,
          86.099046,
          86.096378,
          86.072654,
          86.065386,
          86.066707,
          86.090009,
          86.106107,
          86.08000200000001,
          86.069707,
          86.08645200000001,
          86.07169300000001,
          86.074639,
          86.075115,
          86.076912,
          86.086802,
          86.079472
         ],
         "marker": {
          "color": "orange",
          "opacity": 0.7,
          "size": 10
         },
         "mode": "markers",
         "name": "Medium Points",
         "showlegend": false,
         "text": [
          "IP LIPANINA - 20703200",
          "IP KLIMCHUK - 20539638",
          "SKORPION - 20468640",
          "KHMELNICA - 20047379",
          "OOO HMELNITSA - J312331",
          "ZAO PLEMZAVOD RUCHI - 29405760",
          "KRYUGER - 20847325",
          "HYUNDAI BEAUTY - 532915",
          "MTS S153 - 20204577",
          "IP GASANOV I.M.O. - 10921201",
          "AVTOZAPCHASTI - 10900778",
          "AKSEUM - 21000557",
          "FELIKS - 21323077",
          "ARTEKS - 20180270",
          "LENINA - 20181089",
          "EDELVEYS-6 - 267582",
          "AZGS 32 - 21920756",
          "SP IP MUSINSKAYA O.V. - 21961333",
          "TABAK - 11131493",
          "WILDBERRIES - 21264007",
          "MAGAZIN DACHNIK - 20063236",
          "KRYUGER - 20504049",
          "SKALKA - 25030425",
          "MASTEROK - 2 - 22630202",
          "OOO MONTANA - J278876",
          "IP DEGTEVA T.I. - 20094014",
          "SKEKKED - 410472",
          "DAUTOVA G.L. - 20395157",
          "SALON OPTIKA - 508554",
          "APTEKA-12 - 10012560",
          "STROYMASTER - 21726531",
          "MIR PIVA - 22078582",
          "NOVOGODNYAYA 3 - 21433788",
          "GAUZ KO OKSP - 21498437",
          "IP SEROV - Y0027773",
          "OOO TDM STAKH 2323A - 10883319",
          "IP TOKMENINOV A.YU. - J199747",
          "IP NEPSHA P.P. - J206877",
          "NADINE - 21915531",
          "TABAK - 20082975",
          "UK MEGAPOLIS - J216350",
          "IP SHLYNKOVA - 11134268",
          "IP STROKAN - 10754180",
          "SP AZAMOV SH.A. - 22056071",
          "APOLLONIYA - 21867044",
          "MEDLAYN - 11174386",
          "1000 I ODNA KRUZHKA - 20620563",
          "PRODUKTY - 00740082",
          "KHMELNICA - 20198363",
          "IP KIRYUKHINA N.A. - 10161960",
          "APTEKA ZDRAVSTVUYTE - 571254",
          "IP IGNATOVA - 11059903",
          "IP ISMAGILOV S.I. - J205785",
          "KRYUGER - 20504050",
          "UK MEGAPOLIS - J216353",
          "IP AKIMOV - 20630159",
          "BOCHKARI - 996664",
          "IP KONOVA L.I. - 11448178",
          "ELF - 00740005",
          "IP KONOVA L.I. - 11436454",
          "IP KOZHEMYAKO E.M. - 20064545",
          "IP SHUMILIN - 20690371",
          "ROSCVETTORG - W0041066",
          "\\SCHASTE EST\\\"\" - 77269446",
          "UK SOLNECHNAYA - 21363497",
          "KOTOPES - 22052944",
          "LISTVA - 40047370",
          "WILDBERRIES - 21068938",
          "MOJ STANDART - 21839131",
          "SHKOLA FRIENDS - 11314911",
          "FLORA-SAD - Y0038500",
          "MYASOED - 21090061",
          "PION - 20914942",
          "SEMEJNYJ RYAD - 21871647",
          "IP KRIVOGUZOV A V - 485139",
          "IP ILIN I.A. - 20432500",
          "POST RUS.SERVICE.65005 - L001592P",
          "IP PROSHCHALYGIN N.V. - 10309629",
          "LESNOY TORGOVYY DOM - 11006509",
          "WILDBERRIES - 21453150",
          "KRYUGER - 20355573",
          "MAGAZIN MILANA - 10306699",
          "APTEKA - 10747114",
          "AGNKS-1 - 537448",
          "IP LITASOVA - 20745247",
          "MIR PIVA - 22107236",
          "LENINGRADSKIJ PR-T. D.68 - 60361599",
          "SI - 21855002",
          "IP POPOVA OKSANA ANATOLY - 32210007",
          "AUTOSERVICE42 - 21083760",
          "AVTONAKHODKA - 21495304",
          "EVROPEISKIE DVERI - 596891",
          "POST RUS.SERVICE.65000 - L001588P",
          "SIRIUS - 459578",
          "I LOVE YOU - 20633734",
          "IP BABASHOV S.A. - 10442188",
          "IP KRESTYANNIKOVA - 20743320",
          "RIAL AVTOMOJKA - 20122055",
          "APTEKA 36.6 PERENOSNOJ - 20330317",
          "FRUKTOVYJ SAD - 21969594",
          "IP MARKOVA T.P. - 21694997",
          "POST RUS.SERVICE.650021 - L003769P",
          "KOMTRANSZAPCHAST - 10393222",
          "MILK AND CHEESE - 22031348",
          "\\IP SHEVCHENKO D S\\\" SH\" - 77336650",
          "IP OGNEVA N.P. - 21572658",
          "IP POTAPOV - 20733345",
          "TABAK - 11169217",
          "\\IP VSHIVKOVA I.V.\\\"\" - 77295826",
          "TESCOMA - 10048295",
          "VASH INTERER   DEKOR - 10960333",
          "MAOU SOSH 78 - 20022911",
          "UK KUZNECKIJ - 21917602",
          "ALSO. - 20906379",
          "SANTIM - 709657",
          "UDACHA 2 - 10766590",
          "AJSAN SUSHI - 20825582",
          "IP BABUTSKIIY I.V. - 29329622",
          "IP BEK L.A. - 11468511",
          "EST POEST - 21796634",
          "IP LISKIN A.N. - 20263502",
          "IP SOTNIKOV V.G. - 11066088",
          "ETKMARKET.RU - 20726867",
          "IP AFANAS'EVA - 70030888",
          "LOZA - 4 - 11412720",
          "KHLEBNICA - 20669723",
          "IP ARYSHEV M.V. - 11409237",
          "MARIYA-RA - 575222",
          "AVTOZAPCHASTI - 00740221",
          "KOMTRANSZAPCHAST - 10147686",
          "IP NIFONTOV A.V. - 21045188",
          "AVTOSHINA - 20259666",
          "APOLLON - 32972901",
          "CLUB2GIS - 20302681",
          "GAUZ KO ODKB - 21944471",
          "IP BELYH A.R. - 27915701",
          "MAGAZIN DUET - 10416464",
          "SHARIKI BOOM - 22067460",
          "OBOYNYY RYAD - 10653332",
          "OOO FARMA - 11473039",
          "AVTOSTYLE - 22089131",
          "IP KRINICYN S. N. - 21839234",
          "ZOLOTAYA RYBKA - 21750146",
          "IP ATAMANOV A.G. - 10907182",
          "APTEKA 36.6 - 10449969",
          "KATRIN QR - 21909256",
          "FRUKTY - 22122280",
          "GORA - 29374573",
          "AVTOLAKKI - 21069479",
          "IPBURGARD - J304111",
          "ZABEY - 11280470",
          "KAFE ZAVTRAKAT - 22078239",
          "IP NIFONTOV A.V. - 21019003",
          "OOO M-AVTO - 388835",
          "IP YAGODKINA YU.N. - 21030729",
          "BEER SITY - 20354590",
          "OOO DOBRYJ DEN - 20343383",
          "UK MEGAPOLIS - J216356",
          "IP CHINKOVA I.A. - 20638452",
          "LAVASH-MAVASH - 20504041",
          "KEM, APTEKA N53 - 11043356",
          "KAP.REMONT - 21044346",
          "OOO ASTRAKHOVANIE - 11111158",
          "OOO STILNYY DOM - 10396975",
          "VKUSNOV - 11280407",
          "POST RUS.SERVICE.650043 - L061240P",
          "BYUTI INSDASTRI - 21319237",
          "70213 SOVETSKIJ - 21342895",
          "WILDBERRIES - 20999905",
          "KAFE STAMBUL - 21541979",
          "MYASOED - 21961186",
          "BULOCHNAYA 1 - 20813676"
         ],
         "type": "scattermapbox"
        },
        {
         "fill": "toself",
         "lat": [
          55.28411800000001,
          55.32648100000001,
          55.521384,
          55.527595999999996,
          55.533313,
          55.499051,
          55.429139,
          55.423483999999995,
          55.335657999999995,
          55.310924,
          55.28411800000001
         ],
         "lon": [
          85.97016500000001,
          85.932732,
          86.093944,
          86.10703199999999,
          86.161803,
          86.197376,
          86.24186999999999,
          86.245121,
          86.197475,
          86.156898,
          85.97016500000001
         ],
         "marker": {
          "color": "orange",
          "opacity": 0.7,
          "size": 10
         },
         "name": "Medium Edges",
         "showlegend": false,
         "text": [
          "PION - 20914942",
          "SEMEJNYJ RYAD - 21871647",
          "SP IP MUSINSKAYA O.V. - 21961333",
          "IP KLIMCHUK - 20539638",
          "IP LIPANINA - 20703200",
          "IP STROKAN - 10754180",
          "IP SHUMILIN - 20690371",
          "ROSCVETTORG - W0041066",
          "IP PROSHCHALYGIN N.V. - 10309629",
          "AGNKS-1 - 537448",
          "PION - 20914942"
         ],
         "type": "scattermapbox"
        },
        {
         "lat": [
          55.352639,
          55.350269,
          55.355602000000005,
          55.356979,
          55.350069999999995,
          55.357424,
          55.355029,
          55.355408,
          55.356329,
          55.350627,
          55.353627,
          55.352352,
          55.358309999999996,
          55.351728,
          55.355039,
          55.359277,
          55.356764,
          55.35756800000001,
          55.358893,
          55.359272,
          55.355546,
          55.354517,
          55.351237,
          55.350674,
          55.358253000000005,
          55.350556000000005,
          55.355403,
          55.350474,
          55.358422,
          55.350995999999995,
          55.356384999999996,
          55.358612,
          55.35411800000001,
          55.357147999999995,
          55.357905,
          55.356421,
          55.355454,
          55.355142,
          55.358264,
          55.358202,
          55.351303,
          55.356359999999995,
          55.35663100000001,
          55.352382999999996,
          55.351907,
          55.354174,
          55.351994,
          55.354901,
          55.35205,
          55.353232999999996,
          55.356196,
          55.356196,
          55.356053,
          55.355454,
          55.357076,
          55.352578,
          55.352987,
          55.352168000000006,
          55.357133,
          55.353013,
          55.352537,
          55.35631899999999,
          55.355254,
          55.353105000000006,
          55.352731000000006,
          55.356728000000004,
          55.356104,
          55.353995,
          55.353421999999995,
          55.355602000000005,
          55.353524,
          55.354988,
          55.354881000000006,
          55.354487,
          55.355198,
          55.3544,
          55.355495,
          55.354133,
          55.354727000000004
         ],
         "lon": [
          86.078879,
          86.094321,
          86.078673,
          86.080056,
          86.084161,
          86.080559,
          86.079274,
          86.079472,
          86.079966,
          86.083326,
          86.079849,
          86.080703,
          86.082616,
          86.081664,
          86.096783,
          86.08596700000001,
          86.080999,
          86.081916,
          86.084862,
          86.087036,
          86.09621700000001,
          86.080487,
          86.08353199999999,
          86.091258,
          86.083865,
          86.08638,
          86.0809,
          86.089174,
          86.084637,
          86.08487099999999,
          86.095157,
          86.085832,
          86.08133199999999,
          86.082895,
          86.084395,
          86.08249,
          86.094725,
          86.082041,
          86.087611,
          86.089416,
          86.087512,
          86.0832,
          86.083676,
          86.09225500000001,
          86.09105100000001,
          86.08302900000001,
          86.086147,
          86.093549,
          86.090144,
          86.084089,
          86.092561,
          86.092516,
          86.084197,
          86.083784,
          86.086407,
          86.090953,
          86.084988,
          86.088572,
          86.088752,
          86.09135699999999,
          86.086946,
          86.08544599999999,
          86.084664,
          86.08595799999999,
          86.08762,
          86.08829399999999,
          86.08624499999999,
          86.085545,
          86.09044899999999,
          86.08612,
          86.086668,
          86.085796,
          86.090926,
          86.086066,
          86.089587,
          86.089632,
          86.088204,
          86.08767399999999,
          86.088374
         ],
         "marker": {
          "color": "green",
          "opacity": 0.7,
          "size": 10
         },
         "mode": "markers",
         "name": "Center Points",
         "showlegend": false,
         "text": [
          "MOU LICEJ 62 - 20024910",
          "IP VANDYSHEVA S.V. - J206844",
          "CHERNOBORODOVA N.I. - 21142841",
          "IP KRUTOV E.V. - 70028975",
          "EVO CUPLAND - 21627662",
          "GAUZ KO KGKB N1 - 10460401",
          "IM GOOD LINE - 10581868",
          "MIR VKUSA. - 21313726",
          "PAVIL ON KUZNECKIE LOT - 32210013",
          "\\IP LEVANOVA A. A\\\"\" - 77265734",
          "BULOCHNAYA KONDITER 1 - 64701736",
          "GOSTINITSA KUZBASS - 268021",
          "AVIAKASSA - 269166",
          "SUPERBULKA - 11319730",
          "SP BARBERSHOP PLOSHHADKA - 21580990",
          "OOO FENARETA - 632612",
          "BULOCHNAYA KONDITER 1 - 64701735",
          "BULOCHNAYA 1 - 11382798",
          "KOFEJNYA 25 - 20113933",
          "OFFICE - 27941426",
          "MINIMARKET - 21558030",
          "PIVKOFF I VODOCHKIN - 10449961",
          "OOO KHARU - 129755",
          "VOODO VAPE - 20345708",
          "CAFE VENSKIY LES - 21851731",
          "RESTORAN - 21960857",
          "DRAMTEATR - 460538",
          "POST RUS.SERVICE.65004 - L013391P",
          "IP EFREMOVA R.G. - 21033089",
          "APTEKA - 268476",
          "IMIDZH AGENSTVO FICHTE - 21140757",
          "IP LENNOJ  A. - 20051881",
          "FIRMENNYJ AUTLET LUKSE - 21948794",
          "TONSOR - 20423534",
          "GBUZ KO KCLFKISM LCH 2 - W0006171",
          "FOTOMIR 3 - 20490734",
          "KLUB-OTEL TAYM - 11388434",
          "LUKSE - 21948859",
          "KUZBASSGIPROSHAKHT - 20342881",
          "OOO EL - 10846591",
          "IP STORCHAKOVA  I.V. - 11459983",
          "KEM. OBLASTNOJ MUZEJ IZO - 20289960",
          "DIAGNOST. - 20887745",
          "REMAN - 21488355",
          "POST RUS.SERVICE.650043 - L013391P",
          "SP ESTED-MED - 21585735",
          "STOLOVAYA - 21652120",
          "SHOP.APLUS42.RU - 10917787",
          "APTECHNYY MIR - 10378821",
          "INGOSSTRAKH - J264906",
          "BENEDICT - 00740893",
          "PROMALP - 20899640",
          "KAMELIYA - 20180822",
          "MAGAZIN VALENTI - 11332759",
          "IP ABRAMUSHKINA - 70025067",
          "\\IP  ROMANCHUK I.A.\\\"\" - 77294691",
          "IP KUZNECOV - 20843465",
          "MAGAZIN ZERNA LISTYA - 21551371",
          "UFSSP - 11440018",
          "YUVETON - 00740869",
          "ZEBRA - 02001516",
          "MUZYKALNYY TEATR - 10140221",
          "ASSORTI - 61700328",
          "POLIKLINIKA MED-EXS - W0049836",
          "MEDICINSKIJ CENTR - 21163952",
          "CAFFETTERIA TORTA - 11419071",
          "IP MARCHENKO A.V. - 29363940",
          "NOGRADSKAYA 34 - 21176206",
          "AKADEM OPTIKA - 10322202",
          "YARMARKA - 21785891",
          "OOO AEN - 21047698",
          "GOLD PRINT - Y0047627",
          "BUFET - 21384855",
          "OOO INFORMPECHAT - 21027813",
          "BUFET STOLOVAYA - 20861441",
          "KES - 70031894",
          "LINGVA-TERRA - 20020865",
          "BUFET - 21384747",
          "SVETOFOR - 32210096"
         ],
         "type": "scattermapbox"
        },
        {
         "fill": "toself",
         "lat": [
          55.350069999999995,
          55.352639,
          55.355602000000005,
          55.356979,
          55.357424,
          55.358309999999996,
          55.359277,
          55.359272,
          55.356384999999996,
          55.355546,
          55.355039,
          55.350269,
          55.350069999999995
         ],
         "lon": [
          86.084161,
          86.078879,
          86.078673,
          86.080056,
          86.080559,
          86.082616,
          86.08596700000001,
          86.087036,
          86.095157,
          86.09621700000001,
          86.096783,
          86.094321,
          86.084161
         ],
         "marker": {
          "color": "green",
          "opacity": 0.7,
          "size": 10
         },
         "name": "Center Edges",
         "showlegend": false,
         "text": [
          "EVO CUPLAND - 21627662",
          "MOU LICEJ 62 - 20024910",
          "CHERNOBORODOVA N.I. - 21142841",
          "IP KRUTOV E.V. - 70028975",
          "GAUZ KO KGKB N1 - 10460401",
          "AVIAKASSA - 269166",
          "OOO FENARETA - 632612",
          "OFFICE - 27941426",
          "IMIDZH AGENSTVO FICHTE - 21140757",
          "MINIMARKET - 21558030",
          "SP BARBERSHOP PLOSHHADKA - 21580990",
          "IP VANDYSHEVA S.V. - J206844",
          "EVO CUPLAND - 21627662"
         ],
         "type": "scattermapbox"
        },
        {
         "lat": [
          55.354727000000004,
          59.78492774255713
         ],
         "legendgroup": "Линии",
         "lon": [
          86.088374,
          81.66894848605713
         ],
         "marker": {
          "color": "black",
          "opacity": 0.5,
          "size": 5
         },
         "mode": "lines",
         "name": "Линия Кемеровская область - Кемерово",
         "showlegend": false,
         "text": "Кемеровская область - Кемерово",
         "type": "scattermapbox"
        },
        {
         "lat": [
          59.78492774255713
         ],
         "lon": [
          81.66894848605713
         ],
         "marker": {
          "color": "red",
          "opacity": 0.7,
          "size": 10
         },
         "mode": "markers",
         "name": "Терминалы",
         "showlegend": true,
         "text": [
          "Кемеровская область - Кемерово"
         ],
         "type": "scattermapbox"
        },
        {
         "lat": [
          55.354727000000004
         ],
         "lon": [
          86.088374
         ],
         "marker": {
          "color": "blue",
          "opacity": 0.7,
          "size": 10
         },
         "mode": "markers",
         "name": "Города",
         "showlegend": true,
         "text": [
          "Кемеровская область - Кемерово"
         ],
         "type": "scattermapbox"
        }
       ],
       "layout": {
        "height": 340,
        "legend": {
         "orientation": "h",
         "traceorder": "reversed",
         "x": 0.5,
         "xanchor": "center",
         "yanchor": "auto"
        },
        "mapbox": {
         "center": {
          "lat": 55.354727000000004,
          "lon": 86.088374
         },
         "style": "open-street-map",
         "zoom": 2.5
        },
        "margin": {
         "b": 5,
         "l": 5,
         "r": 5,
         "t": 5
        },
        "template": {
         "data": {
          "bar": [
           {
            "error_x": {
             "color": "#2a3f5f"
            },
            "error_y": {
             "color": "#2a3f5f"
            },
            "marker": {
             "line": {
              "color": "#E5ECF6",
              "width": 0.5
             }
            },
            "type": "bar"
           }
          ],
          "barpolar": [
           {
            "marker": {
             "line": {
              "color": "#E5ECF6",
              "width": 0.5
             }
            },
            "type": "barpolar"
           }
          ],
          "carpet": [
           {
            "aaxis": {
             "endlinecolor": "#2a3f5f",
             "gridcolor": "white",
             "linecolor": "white",
             "minorgridcolor": "white",
             "startlinecolor": "#2a3f5f"
            },
            "baxis": {
             "endlinecolor": "#2a3f5f",
             "gridcolor": "white",
             "linecolor": "white",
             "minorgridcolor": "white",
             "startlinecolor": "#2a3f5f"
            },
            "type": "carpet"
           }
          ],
          "choropleth": [
           {
            "colorbar": {
             "outlinewidth": 0,
             "ticks": ""
            },
            "type": "choropleth"
           }
          ],
          "contour": [
           {
            "colorbar": {
             "outlinewidth": 0,
             "ticks": ""
            },
            "colorscale": [
             [
              0,
              "#0d0887"
             ],
             [
              0.1111111111111111,
              "#46039f"
             ],
             [
              0.2222222222222222,
              "#7201a8"
             ],
             [
              0.3333333333333333,
              "#9c179e"
             ],
             [
              0.4444444444444444,
              "#bd3786"
             ],
             [
              0.5555555555555556,
              "#d8576b"
             ],
             [
              0.6666666666666666,
              "#ed7953"
             ],
             [
              0.7777777777777778,
              "#fb9f3a"
             ],
             [
              0.8888888888888888,
              "#fdca26"
             ],
             [
              1,
              "#f0f921"
             ]
            ],
            "type": "contour"
           }
          ],
          "contourcarpet": [
           {
            "colorbar": {
             "outlinewidth": 0,
             "ticks": ""
            },
            "type": "contourcarpet"
           }
          ],
          "heatmap": [
           {
            "colorbar": {
             "outlinewidth": 0,
             "ticks": ""
            },
            "colorscale": [
             [
              0,
              "#0d0887"
             ],
             [
              0.1111111111111111,
              "#46039f"
             ],
             [
              0.2222222222222222,
              "#7201a8"
             ],
             [
              0.3333333333333333,
              "#9c179e"
             ],
             [
              0.4444444444444444,
              "#bd3786"
             ],
             [
              0.5555555555555556,
              "#d8576b"
             ],
             [
              0.6666666666666666,
              "#ed7953"
             ],
             [
              0.7777777777777778,
              "#fb9f3a"
             ],
             [
              0.8888888888888888,
              "#fdca26"
             ],
             [
              1,
              "#f0f921"
             ]
            ],
            "type": "heatmap"
           }
          ],
          "heatmapgl": [
           {
            "colorbar": {
             "outlinewidth": 0,
             "ticks": ""
            },
            "colorscale": [
             [
              0,
              "#0d0887"
             ],
             [
              0.1111111111111111,
              "#46039f"
             ],
             [
              0.2222222222222222,
              "#7201a8"
             ],
             [
              0.3333333333333333,
              "#9c179e"
             ],
             [
              0.4444444444444444,
              "#bd3786"
             ],
             [
              0.5555555555555556,
              "#d8576b"
             ],
             [
              0.6666666666666666,
              "#ed7953"
             ],
             [
              0.7777777777777778,
              "#fb9f3a"
             ],
             [
              0.8888888888888888,
              "#fdca26"
             ],
             [
              1,
              "#f0f921"
             ]
            ],
            "type": "heatmapgl"
           }
          ],
          "histogram": [
           {
            "marker": {
             "colorbar": {
              "outlinewidth": 0,
              "ticks": ""
             }
            },
            "type": "histogram"
           }
          ],
          "histogram2d": [
           {
            "colorbar": {
             "outlinewidth": 0,
             "ticks": ""
            },
            "colorscale": [
             [
              0,
              "#0d0887"
             ],
             [
              0.1111111111111111,
              "#46039f"
             ],
             [
              0.2222222222222222,
              "#7201a8"
             ],
             [
              0.3333333333333333,
              "#9c179e"
             ],
             [
              0.4444444444444444,
              "#bd3786"
             ],
             [
              0.5555555555555556,
              "#d8576b"
             ],
             [
              0.6666666666666666,
              "#ed7953"
             ],
             [
              0.7777777777777778,
              "#fb9f3a"
             ],
             [
              0.8888888888888888,
              "#fdca26"
             ],
             [
              1,
              "#f0f921"
             ]
            ],
            "type": "histogram2d"
           }
          ],
          "histogram2dcontour": [
           {
            "colorbar": {
             "outlinewidth": 0,
             "ticks": ""
            },
            "colorscale": [
             [
              0,
              "#0d0887"
             ],
             [
              0.1111111111111111,
              "#46039f"
             ],
             [
              0.2222222222222222,
              "#7201a8"
             ],
             [
              0.3333333333333333,
              "#9c179e"
             ],
             [
              0.4444444444444444,
              "#bd3786"
             ],
             [
              0.5555555555555556,
              "#d8576b"
             ],
             [
              0.6666666666666666,
              "#ed7953"
             ],
             [
              0.7777777777777778,
              "#fb9f3a"
             ],
             [
              0.8888888888888888,
              "#fdca26"
             ],
             [
              1,
              "#f0f921"
             ]
            ],
            "type": "histogram2dcontour"
           }
          ],
          "mesh3d": [
           {
            "colorbar": {
             "outlinewidth": 0,
             "ticks": ""
            },
            "type": "mesh3d"
           }
          ],
          "parcoords": [
           {
            "line": {
             "colorbar": {
              "outlinewidth": 0,
              "ticks": ""
             }
            },
            "type": "parcoords"
           }
          ],
          "pie": [
           {
            "automargin": true,
            "type": "pie"
           }
          ],
          "scatter": [
           {
            "marker": {
             "colorbar": {
              "outlinewidth": 0,
              "ticks": ""
             }
            },
            "type": "scatter"
           }
          ],
          "scatter3d": [
           {
            "line": {
             "colorbar": {
              "outlinewidth": 0,
              "ticks": ""
             }
            },
            "marker": {
             "colorbar": {
              "outlinewidth": 0,
              "ticks": ""
             }
            },
            "type": "scatter3d"
           }
          ],
          "scattercarpet": [
           {
            "marker": {
             "colorbar": {
              "outlinewidth": 0,
              "ticks": ""
             }
            },
            "type": "scattercarpet"
           }
          ],
          "scattergeo": [
           {
            "marker": {
             "colorbar": {
              "outlinewidth": 0,
              "ticks": ""
             }
            },
            "type": "scattergeo"
           }
          ],
          "scattergl": [
           {
            "marker": {
             "colorbar": {
              "outlinewidth": 0,
              "ticks": ""
             }
            },
            "type": "scattergl"
           }
          ],
          "scattermapbox": [
           {
            "marker": {
             "colorbar": {
              "outlinewidth": 0,
              "ticks": ""
             }
            },
            "type": "scattermapbox"
           }
          ],
          "scatterpolar": [
           {
            "marker": {
             "colorbar": {
              "outlinewidth": 0,
              "ticks": ""
             }
            },
            "type": "scatterpolar"
           }
          ],
          "scatterpolargl": [
           {
            "marker": {
             "colorbar": {
              "outlinewidth": 0,
              "ticks": ""
             }
            },
            "type": "scatterpolargl"
           }
          ],
          "scatterternary": [
           {
            "marker": {
             "colorbar": {
              "outlinewidth": 0,
              "ticks": ""
             }
            },
            "type": "scatterternary"
           }
          ],
          "surface": [
           {
            "colorbar": {
             "outlinewidth": 0,
             "ticks": ""
            },
            "colorscale": [
             [
              0,
              "#0d0887"
             ],
             [
              0.1111111111111111,
              "#46039f"
             ],
             [
              0.2222222222222222,
              "#7201a8"
             ],
             [
              0.3333333333333333,
              "#9c179e"
             ],
             [
              0.4444444444444444,
              "#bd3786"
             ],
             [
              0.5555555555555556,
              "#d8576b"
             ],
             [
              0.6666666666666666,
              "#ed7953"
             ],
             [
              0.7777777777777778,
              "#fb9f3a"
             ],
             [
              0.8888888888888888,
              "#fdca26"
             ],
             [
              1,
              "#f0f921"
             ]
            ],
            "type": "surface"
           }
          ],
          "table": [
           {
            "cells": {
             "fill": {
              "color": "#EBF0F8"
             },
             "line": {
              "color": "white"
             }
            },
            "header": {
             "fill": {
              "color": "#C8D4E3"
             },
             "line": {
              "color": "white"
             }
            },
            "type": "table"
           }
          ]
         },
         "layout": {
          "annotationdefaults": {
           "arrowcolor": "#2a3f5f",
           "arrowhead": 0,
           "arrowwidth": 1
          },
          "autotypenumbers": "strict",
          "coloraxis": {
           "colorbar": {
            "outlinewidth": 0,
            "ticks": ""
           }
          },
          "colorscale": {
           "diverging": [
            [
             0,
             "#8e0152"
            ],
            [
             0.1,
             "#c51b7d"
            ],
            [
             0.2,
             "#de77ae"
            ],
            [
             0.3,
             "#f1b6da"
            ],
            [
             0.4,
             "#fde0ef"
            ],
            [
             0.5,
             "#f7f7f7"
            ],
            [
             0.6,
             "#e6f5d0"
            ],
            [
             0.7,
             "#b8e186"
            ],
            [
             0.8,
             "#7fbc41"
            ],
            [
             0.9,
             "#4d9221"
            ],
            [
             1,
             "#276419"
            ]
           ],
           "sequential": [
            [
             0,
             "#0d0887"
            ],
            [
             0.1111111111111111,
             "#46039f"
            ],
            [
             0.2222222222222222,
             "#7201a8"
            ],
            [
             0.3333333333333333,
             "#9c179e"
            ],
            [
             0.4444444444444444,
             "#bd3786"
            ],
            [
             0.5555555555555556,
             "#d8576b"
            ],
            [
             0.6666666666666666,
             "#ed7953"
            ],
            [
             0.7777777777777778,
             "#fb9f3a"
            ],
            [
             0.8888888888888888,
             "#fdca26"
            ],
            [
             1,
             "#f0f921"
            ]
           ],
           "sequentialminus": [
            [
             0,
             "#0d0887"
            ],
            [
             0.1111111111111111,
             "#46039f"
            ],
            [
             0.2222222222222222,
             "#7201a8"
            ],
            [
             0.3333333333333333,
             "#9c179e"
            ],
            [
             0.4444444444444444,
             "#bd3786"
            ],
            [
             0.5555555555555556,
             "#d8576b"
            ],
            [
             0.6666666666666666,
             "#ed7953"
            ],
            [
             0.7777777777777778,
             "#fb9f3a"
            ],
            [
             0.8888888888888888,
             "#fdca26"
            ],
            [
             1,
             "#f0f921"
            ]
           ]
          },
          "colorway": [
           "#636efa",
           "#EF553B",
           "#00cc96",
           "#ab63fa",
           "#FFA15A",
           "#19d3f3",
           "#FF6692",
           "#B6E880",
           "#FF97FF",
           "#FECB52"
          ],
          "font": {
           "color": "#2a3f5f"
          },
          "geo": {
           "bgcolor": "white",
           "lakecolor": "white",
           "landcolor": "#E5ECF6",
           "showlakes": true,
           "showland": true,
           "subunitcolor": "white"
          },
          "hoverlabel": {
           "align": "left"
          },
          "hovermode": "closest",
          "mapbox": {
           "style": "light"
          },
          "paper_bgcolor": "white",
          "plot_bgcolor": "#E5ECF6",
          "polar": {
           "angularaxis": {
            "gridcolor": "white",
            "linecolor": "white",
            "ticks": ""
           },
           "bgcolor": "#E5ECF6",
           "radialaxis": {
            "gridcolor": "white",
            "linecolor": "white",
            "ticks": ""
           }
          },
          "scene": {
           "xaxis": {
            "backgroundcolor": "#E5ECF6",
            "gridcolor": "white",
            "gridwidth": 2,
            "linecolor": "white",
            "showbackground": true,
            "ticks": "",
            "zerolinecolor": "white"
           },
           "yaxis": {
            "backgroundcolor": "#E5ECF6",
            "gridcolor": "white",
            "gridwidth": 2,
            "linecolor": "white",
            "showbackground": true,
            "ticks": "",
            "zerolinecolor": "white"
           },
           "zaxis": {
            "backgroundcolor": "#E5ECF6",
            "gridcolor": "white",
            "gridwidth": 2,
            "linecolor": "white",
            "showbackground": true,
            "ticks": "",
            "zerolinecolor": "white"
           }
          },
          "shapedefaults": {
           "line": {
            "color": "#2a3f5f"
           }
          },
          "ternary": {
           "aaxis": {
            "gridcolor": "white",
            "linecolor": "white",
            "ticks": ""
           },
           "baxis": {
            "gridcolor": "white",
            "linecolor": "white",
            "ticks": ""
           },
           "bgcolor": "#E5ECF6",
           "caxis": {
            "gridcolor": "white",
            "linecolor": "white",
            "ticks": ""
           }
          },
          "title": {
           "x": 0.05
          },
          "xaxis": {
           "automargin": true,
           "gridcolor": "white",
           "linecolor": "white",
           "ticks": "",
           "title": {
            "standoff": 15
           },
           "zerolinecolor": "white",
           "zerolinewidth": 2
          },
          "yaxis": {
           "automargin": true,
           "gridcolor": "white",
           "linecolor": "white",
           "ticks": "",
           "title": {
            "standoff": 15
           },
           "zerolinecolor": "white",
           "zerolinewidth": 2
          }
         }
        },
        "width": 980
       }
      },
      "text/html": [
       "<div>                            <div id=\"5ea61e29-da8b-4cdb-8a5b-451a7fc29d48\" class=\"plotly-graph-div\" style=\"height:340px; width:980px;\"></div>            <script type=\"text/javascript\">                require([\"plotly\"], function(Plotly) {                    window.PLOTLYENV=window.PLOTLYENV || {};                                    if (document.getElementById(\"5ea61e29-da8b-4cdb-8a5b-451a7fc29d48\")) {                    Plotly.newPlot(                        \"5ea61e29-da8b-4cdb-8a5b-451a7fc29d48\",                        [{\"lat\": [86.1763, 86.1634, 86.13515, 86.13379, 86.13428, 86.13786, 86.1309, 86.1158, 86.11028, 86.1033, 86.08045, 86.07745, 86.0722, 86.06, 86.054, 86.0413, 86.04333000000001, 86.03399999999999, 86.03076999999999], \"lon\": [55.33274, 55.32566, 55.356359999999995, 55.33035, 55.35559, 55.437180000000005, 55.321569999999994, 55.41206999999999, 55.38786999999999, 55.34891, 55.33554, 55.32475, 55.384209999999996, 55.34815, 55.36061, 55.35751, 55.41979, 55.31191999999999, 55.300180000000005], \"marker\": {\"color\": \"red\", \"opacity\": 0.7, \"size\": 10}, \"mode\": \"markers\", \"name\": \"Large Points\", \"showlegend\": false, \"text\": [\"GAZPROMNEFT AZS 127 - RZ331271\", \"RESURSAVTO - 25998504\", \"SHKOLNOE PITANIE - 22069911\", \"GAZPROMNEFT AZS 090 - RZ330901\", \"GAZPROMNEFT AZS 098 - RZ330981\", \"GAZPROMNEFT AZS 003 - RZ330031\", \"MANGAL - 65240501\", \"AZS N 33 VAHRUSHEVA - 26182067\", \"GAZPROMNEFT AZS 074 - RZ33074A\", \"OOO KUZBASSDORSTROY - Y0043449\", \"GAZPROMNEFT AZS 085 - RZ33085A\", \"GAZPROMNEFT AZS 087 - RZ33087A\", \"AVTOMASLA 2 - 20453932\", \"GAZPROMNEFT AZS 126 - RZ33126A\", \"GAZPROMNEFT AZS 001 - RZ330011\", \"KARAVAI - Y0054392\", \"KMPV - 22052021\", \"IP DEGTYAREV S V - Y0042120\", \"GAZPROMNEFT AZS 008 - RZ330081\"], \"type\": \"scattermapbox\"}, {\"fill\": \"toself\", \"lat\": [86.03076999999999, 86.1634, 86.1763, 86.13786, 86.04333000000001, 86.03076999999999], \"lon\": [55.300180000000005, 55.32566, 55.33274, 55.437180000000005, 55.41979, 55.300180000000005], \"marker\": {\"color\": \"red\", \"opacity\": 0.7, \"size\": 10}, \"name\": \"Large Edges\", \"showlegend\": false, \"text\": [\"GAZPROMNEFT AZS 008 - RZ330081\", \"RESURSAVTO - 25998504\", \"GAZPROMNEFT AZS 127 - RZ331271\", \"GAZPROMNEFT AZS 003 - RZ330031\", \"KMPV - 22052021\", \"GAZPROMNEFT AZS 008 - RZ330081\"], \"type\": \"scattermapbox\"}, {\"lat\": [55.533313, 55.527595999999996, 55.522959, 55.522780000000004, 55.522612, 55.522133, 55.52239300000001, 55.52230600000001, 55.522204, 55.522052, 55.52206700000001, 55.521904000000006, 55.521668999999996, 55.521639, 55.521715, 55.521455, 55.52136899999999, 55.521384, 55.52099200000001, 55.521021999999995, 55.520996999999994, 55.520272999999996, 55.520557999999994, 55.520584, 55.52060899999999, 55.52036999999999, 55.519971999999996, 55.520334, 55.52006899999999, 55.519794, 55.519615, 55.519514, 55.519091, 55.519004, 55.51901899999999, 55.518688, 55.51854, 55.517897999999995, 55.517867, 55.517922999999996, 55.517342000000006, 55.51724, 55.499051, 55.507468, 55.508065, 55.502283, 55.50703000000001, 55.493598999999996, 55.498515000000005, 55.498403, 55.49874499999999, 55.498051000000004, 55.49724499999999, 55.497291000000004, 55.4993, 55.497882999999995, 55.498173, 55.490269, 55.491758, 55.486259999999994, 55.473735, 55.429139, 55.423483999999995, 55.429813, 55.424618, 55.419662, 55.419968000000004, 55.419054, 55.428373, 55.419038, 55.41933, 55.42007099999999, 55.28411800000001, 55.32648100000001, 55.440754000000005, 55.296728, 55.298548, 55.335657999999995, 55.335795999999995, 55.412155000000006, 55.308961, 55.411281, 55.397259999999996, 55.310924, 55.40932900000001, 55.339002, 55.389003, 55.406753, 55.38932, 55.407008999999995, 55.311184999999995, 55.311702000000004, 55.40526, 55.403553, 55.398692000000004, 55.309274, 55.327311, 55.389033, 55.347925, 55.34940400000001, 55.33534100000001, 55.346491, 55.360668999999994, 55.344792000000005, 55.31848000000001, 55.31744499999999, 55.396601000000004, 55.345288000000004, 55.328125, 55.325906999999994, 55.320586, 55.313639, 55.392858, 55.347356999999995, 55.325897, 55.384717, 55.345980000000004, 55.316959, 55.392086, 55.389417, 55.342923, 55.390946, 55.390547, 55.38844, 55.340476, 55.345355000000005, 55.324653000000005, 55.351293000000005, 55.322578, 55.322737, 55.329825, 55.384978000000004, 55.33979, 55.348227, 55.341014, 55.329452, 55.32818100000001, 55.34835, 55.34409599999999, 55.334070999999994, 55.340512, 55.341581999999995, 55.36746899999999, 55.34191, 55.337343000000004, 55.338857999999995, 55.344838, 55.335392000000006, 55.335561, 55.338147, 55.344162, 55.34454100000001, 55.343993000000005, 55.348672, 55.349920999999995, 55.35355500000001, 55.341643000000005, 55.341572, 55.344632999999995, 55.353601, 55.351921999999995, 55.342698, 55.348928, 55.344730000000006, 55.35355500000001, 55.344766, 55.35414399999999, 55.358253000000005, 55.352491, 55.35769499999999, 55.348314, 55.351503], \"lon\": [86.161803, 86.10703199999999, 86.109188, 86.11296999999999, 86.112638, 86.11626700000001, 86.106287, 86.097313, 86.098445, 86.101714, 86.100672, 86.101912, 86.104122, 86.102181, 86.096935, 86.10131899999999, 86.096082, 86.093944, 86.100888, 86.099334, 86.097411, 86.111847, 86.101768, 86.09672900000001, 86.09496800000001, 86.101148, 86.111416, 86.099055, 86.10009699999999, 86.107113, 86.10603499999999, 86.099046, 86.104203, 86.106125, 86.101139, 86.099019, 86.096432, 86.103071, 86.101589, 86.09863299999999, 86.102631, 86.104302, 86.197376, 86.151014, 86.11377900000001, 86.160276, 86.11034699999999, 86.197565, 86.169313, 86.169744, 86.165863, 86.169726, 86.173328, 86.169555, 86.155847, 86.16210799999999, 86.160285, 86.196792, 86.176921, 86.196621, 86.15045699999999, 86.24186999999999, 86.245121, 86.232904, 86.231431, 86.238088, 86.237351, 86.238258, 86.223948, 86.236165, 86.232752, 86.231072, 85.97016500000001, 85.932732, 86.07693, 86.003636, 86.01521600000001, 86.197475, 86.193926, 86.12644499999999, 86.018279, 86.053861, 86.01558399999999, 86.156898, 86.055029, 86.185114, 86.0089, 86.125969, 86.011038, 86.056322, 86.030505, 86.031295, 86.11774, 86.122825, 86.03981999999999, 86.04654000000001, 86.163321, 86.024989, 86.173948, 86.172591, 86.164659, 86.007176, 86.007149, 86.167507, 86.13670400000001, 86.044123, 86.114264, 86.163815, 86.148382, 86.143908, 86.131925, 86.098867, 86.11403, 86.15800300000001, 86.136955, 86.043611, 86.155011, 86.10045699999999, 86.07718100000001, 86.11191, 86.149433, 86.093513, 86.091447, 86.106996, 86.144375, 86.146702, 86.059934, 86.146989, 86.07579799999999, 86.09730400000001, 86.123211, 86.074729, 86.040836, 86.140665, 86.13488000000001, 86.11430899999999, 86.070022, 86.040952, 86.131862, 86.06081400000001, 86.123085, 86.053996, 86.122034, 86.05626, 86.065881, 86.063985, 86.12024699999999, 86.080451, 86.090252, 86.10333100000001, 86.113563, 86.063841, 86.06597, 86.06232299999999, 86.114327, 86.114956, 86.099046, 86.096378, 86.072654, 86.065386, 86.066707, 86.090009, 86.106107, 86.08000200000001, 86.069707, 86.08645200000001, 86.07169300000001, 86.074639, 86.075115, 86.076912, 86.086802, 86.079472], \"marker\": {\"color\": \"orange\", \"opacity\": 0.7, \"size\": 10}, \"mode\": \"markers\", \"name\": \"Medium Points\", \"showlegend\": false, \"text\": [\"IP LIPANINA - 20703200\", \"IP KLIMCHUK - 20539638\", \"SKORPION - 20468640\", \"KHMELNICA - 20047379\", \"OOO HMELNITSA - J312331\", \"ZAO PLEMZAVOD RUCHI - 29405760\", \"KRYUGER - 20847325\", \"HYUNDAI BEAUTY - 532915\", \"MTS S153 - 20204577\", \"IP GASANOV I.M.O. - 10921201\", \"AVTOZAPCHASTI - 10900778\", \"AKSEUM - 21000557\", \"FELIKS - 21323077\", \"ARTEKS - 20180270\", \"LENINA - 20181089\", \"EDELVEYS-6 - 267582\", \"AZGS 32 - 21920756\", \"SP IP MUSINSKAYA O.V. - 21961333\", \"TABAK - 11131493\", \"WILDBERRIES - 21264007\", \"MAGAZIN DACHNIK - 20063236\", \"KRYUGER - 20504049\", \"SKALKA - 25030425\", \"MASTEROK - 2 - 22630202\", \"OOO MONTANA - J278876\", \"IP DEGTEVA T.I. - 20094014\", \"SKEKKED - 410472\", \"DAUTOVA G.L. - 20395157\", \"SALON OPTIKA - 508554\", \"APTEKA-12 - 10012560\", \"STROYMASTER - 21726531\", \"MIR PIVA - 22078582\", \"NOVOGODNYAYA 3 - 21433788\", \"GAUZ KO OKSP - 21498437\", \"IP SEROV - Y0027773\", \"OOO TDM STAKH 2323A - 10883319\", \"IP TOKMENINOV A.YU. - J199747\", \"IP NEPSHA P.P. - J206877\", \"NADINE - 21915531\", \"TABAK - 20082975\", \"UK MEGAPOLIS - J216350\", \"IP SHLYNKOVA - 11134268\", \"IP STROKAN - 10754180\", \"SP AZAMOV SH.A. - 22056071\", \"APOLLONIYA - 21867044\", \"MEDLAYN - 11174386\", \"1000 I ODNA KRUZHKA - 20620563\", \"PRODUKTY - 00740082\", \"KHMELNICA - 20198363\", \"IP KIRYUKHINA N.A. - 10161960\", \"APTEKA ZDRAVSTVUYTE - 571254\", \"IP IGNATOVA - 11059903\", \"IP ISMAGILOV S.I. - J205785\", \"KRYUGER - 20504050\", \"UK MEGAPOLIS - J216353\", \"IP AKIMOV - 20630159\", \"BOCHKARI - 996664\", \"IP KONOVA L.I. - 11448178\", \"ELF - 00740005\", \"IP KONOVA L.I. - 11436454\", \"IP KOZHEMYAKO E.M. - 20064545\", \"IP SHUMILIN - 20690371\", \"ROSCVETTORG - W0041066\", \"\\\\SCHASTE EST\\\\\\\"\\\" - 77269446\", \"UK SOLNECHNAYA - 21363497\", \"KOTOPES - 22052944\", \"LISTVA - 40047370\", \"WILDBERRIES - 21068938\", \"MOJ STANDART - 21839131\", \"SHKOLA FRIENDS - 11314911\", \"FLORA-SAD - Y0038500\", \"MYASOED - 21090061\", \"PION - 20914942\", \"SEMEJNYJ RYAD - 21871647\", \"IP KRIVOGUZOV A V - 485139\", \"IP ILIN I.A. - 20432500\", \"POST RUS.SERVICE.65005 - L001592P\", \"IP PROSHCHALYGIN N.V. - 10309629\", \"LESNOY TORGOVYY DOM - 11006509\", \"WILDBERRIES - 21453150\", \"KRYUGER - 20355573\", \"MAGAZIN MILANA - 10306699\", \"APTEKA - 10747114\", \"AGNKS-1 - 537448\", \"IP LITASOVA - 20745247\", \"MIR PIVA - 22107236\", \"LENINGRADSKIJ PR-T. D.68 - 60361599\", \"SI - 21855002\", \"IP POPOVA OKSANA ANATOLY - 32210007\", \"AUTOSERVICE42 - 21083760\", \"AVTONAKHODKA - 21495304\", \"EVROPEISKIE DVERI - 596891\", \"POST RUS.SERVICE.65000 - L001588P\", \"SIRIUS - 459578\", \"I LOVE YOU - 20633734\", \"IP BABASHOV S.A. - 10442188\", \"IP KRESTYANNIKOVA - 20743320\", \"RIAL AVTOMOJKA - 20122055\", \"APTEKA 36.6 PERENOSNOJ - 20330317\", \"FRUKTOVYJ SAD - 21969594\", \"IP MARKOVA T.P. - 21694997\", \"POST RUS.SERVICE.650021 - L003769P\", \"KOMTRANSZAPCHAST - 10393222\", \"MILK AND CHEESE - 22031348\", \"\\\\IP SHEVCHENKO D S\\\\\\\" SH\\\" - 77336650\", \"IP OGNEVA N.P. - 21572658\", \"IP POTAPOV - 20733345\", \"TABAK - 11169217\", \"\\\\IP VSHIVKOVA I.V.\\\\\\\"\\\" - 77295826\", \"TESCOMA - 10048295\", \"VASH INTERER   DEKOR - 10960333\", \"MAOU SOSH 78 - 20022911\", \"UK KUZNECKIJ - 21917602\", \"ALSO. - 20906379\", \"SANTIM - 709657\", \"UDACHA 2 - 10766590\", \"AJSAN SUSHI - 20825582\", \"IP BABUTSKIIY I.V. - 29329622\", \"IP BEK L.A. - 11468511\", \"EST POEST - 21796634\", \"IP LISKIN A.N. - 20263502\", \"IP SOTNIKOV V.G. - 11066088\", \"ETKMARKET.RU - 20726867\", \"IP AFANAS'EVA - 70030888\", \"LOZA - 4 - 11412720\", \"KHLEBNICA - 20669723\", \"IP ARYSHEV M.V. - 11409237\", \"MARIYA-RA - 575222\", \"AVTOZAPCHASTI - 00740221\", \"KOMTRANSZAPCHAST - 10147686\", \"IP NIFONTOV A.V. - 21045188\", \"AVTOSHINA - 20259666\", \"APOLLON - 32972901\", \"CLUB2GIS - 20302681\", \"GAUZ KO ODKB - 21944471\", \"IP BELYH A.R. - 27915701\", \"MAGAZIN DUET - 10416464\", \"SHARIKI BOOM - 22067460\", \"OBOYNYY RYAD - 10653332\", \"OOO FARMA - 11473039\", \"AVTOSTYLE - 22089131\", \"IP KRINICYN S. N. - 21839234\", \"ZOLOTAYA RYBKA - 21750146\", \"IP ATAMANOV A.G. - 10907182\", \"APTEKA 36.6 - 10449969\", \"KATRIN QR - 21909256\", \"FRUKTY - 22122280\", \"GORA - 29374573\", \"AVTOLAKKI - 21069479\", \"IPBURGARD - J304111\", \"ZABEY - 11280470\", \"KAFE ZAVTRAKAT - 22078239\", \"IP NIFONTOV A.V. - 21019003\", \"OOO M-AVTO - 388835\", \"IP YAGODKINA YU.N. - 21030729\", \"BEER SITY - 20354590\", \"OOO DOBRYJ DEN - 20343383\", \"UK MEGAPOLIS - J216356\", \"IP CHINKOVA I.A. - 20638452\", \"LAVASH-MAVASH - 20504041\", \"KEM, APTEKA N53 - 11043356\", \"KAP.REMONT - 21044346\", \"OOO ASTRAKHOVANIE - 11111158\", \"OOO STILNYY DOM - 10396975\", \"VKUSNOV - 11280407\", \"POST RUS.SERVICE.650043 - L061240P\", \"BYUTI INSDASTRI - 21319237\", \"70213 SOVETSKIJ - 21342895\", \"WILDBERRIES - 20999905\", \"KAFE STAMBUL - 21541979\", \"MYASOED - 21961186\", \"BULOCHNAYA 1 - 20813676\"], \"type\": \"scattermapbox\"}, {\"fill\": \"toself\", \"lat\": [55.28411800000001, 55.32648100000001, 55.521384, 55.527595999999996, 55.533313, 55.499051, 55.429139, 55.423483999999995, 55.335657999999995, 55.310924, 55.28411800000001], \"lon\": [85.97016500000001, 85.932732, 86.093944, 86.10703199999999, 86.161803, 86.197376, 86.24186999999999, 86.245121, 86.197475, 86.156898, 85.97016500000001], \"marker\": {\"color\": \"orange\", \"opacity\": 0.7, \"size\": 10}, \"name\": \"Medium Edges\", \"showlegend\": false, \"text\": [\"PION - 20914942\", \"SEMEJNYJ RYAD - 21871647\", \"SP IP MUSINSKAYA O.V. - 21961333\", \"IP KLIMCHUK - 20539638\", \"IP LIPANINA - 20703200\", \"IP STROKAN - 10754180\", \"IP SHUMILIN - 20690371\", \"ROSCVETTORG - W0041066\", \"IP PROSHCHALYGIN N.V. - 10309629\", \"AGNKS-1 - 537448\", \"PION - 20914942\"], \"type\": \"scattermapbox\"}, {\"lat\": [55.352639, 55.350269, 55.355602000000005, 55.356979, 55.350069999999995, 55.357424, 55.355029, 55.355408, 55.356329, 55.350627, 55.353627, 55.352352, 55.358309999999996, 55.351728, 55.355039, 55.359277, 55.356764, 55.35756800000001, 55.358893, 55.359272, 55.355546, 55.354517, 55.351237, 55.350674, 55.358253000000005, 55.350556000000005, 55.355403, 55.350474, 55.358422, 55.350995999999995, 55.356384999999996, 55.358612, 55.35411800000001, 55.357147999999995, 55.357905, 55.356421, 55.355454, 55.355142, 55.358264, 55.358202, 55.351303, 55.356359999999995, 55.35663100000001, 55.352382999999996, 55.351907, 55.354174, 55.351994, 55.354901, 55.35205, 55.353232999999996, 55.356196, 55.356196, 55.356053, 55.355454, 55.357076, 55.352578, 55.352987, 55.352168000000006, 55.357133, 55.353013, 55.352537, 55.35631899999999, 55.355254, 55.353105000000006, 55.352731000000006, 55.356728000000004, 55.356104, 55.353995, 55.353421999999995, 55.355602000000005, 55.353524, 55.354988, 55.354881000000006, 55.354487, 55.355198, 55.3544, 55.355495, 55.354133, 55.354727000000004], \"lon\": [86.078879, 86.094321, 86.078673, 86.080056, 86.084161, 86.080559, 86.079274, 86.079472, 86.079966, 86.083326, 86.079849, 86.080703, 86.082616, 86.081664, 86.096783, 86.08596700000001, 86.080999, 86.081916, 86.084862, 86.087036, 86.09621700000001, 86.080487, 86.08353199999999, 86.091258, 86.083865, 86.08638, 86.0809, 86.089174, 86.084637, 86.08487099999999, 86.095157, 86.085832, 86.08133199999999, 86.082895, 86.084395, 86.08249, 86.094725, 86.082041, 86.087611, 86.089416, 86.087512, 86.0832, 86.083676, 86.09225500000001, 86.09105100000001, 86.08302900000001, 86.086147, 86.093549, 86.090144, 86.084089, 86.092561, 86.092516, 86.084197, 86.083784, 86.086407, 86.090953, 86.084988, 86.088572, 86.088752, 86.09135699999999, 86.086946, 86.08544599999999, 86.084664, 86.08595799999999, 86.08762, 86.08829399999999, 86.08624499999999, 86.085545, 86.09044899999999, 86.08612, 86.086668, 86.085796, 86.090926, 86.086066, 86.089587, 86.089632, 86.088204, 86.08767399999999, 86.088374], \"marker\": {\"color\": \"green\", \"opacity\": 0.7, \"size\": 10}, \"mode\": \"markers\", \"name\": \"Center Points\", \"showlegend\": false, \"text\": [\"MOU LICEJ 62 - 20024910\", \"IP VANDYSHEVA S.V. - J206844\", \"CHERNOBORODOVA N.I. - 21142841\", \"IP KRUTOV E.V. - 70028975\", \"EVO CUPLAND - 21627662\", \"GAUZ KO KGKB N1 - 10460401\", \"IM GOOD LINE - 10581868\", \"MIR VKUSA. - 21313726\", \"PAVIL ON KUZNECKIE LOT - 32210013\", \"\\\\IP LEVANOVA A. A\\\\\\\"\\\" - 77265734\", \"BULOCHNAYA KONDITER 1 - 64701736\", \"GOSTINITSA KUZBASS - 268021\", \"AVIAKASSA - 269166\", \"SUPERBULKA - 11319730\", \"SP BARBERSHOP PLOSHHADKA - 21580990\", \"OOO FENARETA - 632612\", \"BULOCHNAYA KONDITER 1 - 64701735\", \"BULOCHNAYA 1 - 11382798\", \"KOFEJNYA 25 - 20113933\", \"OFFICE - 27941426\", \"MINIMARKET - 21558030\", \"PIVKOFF I VODOCHKIN - 10449961\", \"OOO KHARU - 129755\", \"VOODO VAPE - 20345708\", \"CAFE VENSKIY LES - 21851731\", \"RESTORAN - 21960857\", \"DRAMTEATR - 460538\", \"POST RUS.SERVICE.65004 - L013391P\", \"IP EFREMOVA R.G. - 21033089\", \"APTEKA - 268476\", \"IMIDZH AGENSTVO FICHTE - 21140757\", \"IP LENNOJ  A. - 20051881\", \"FIRMENNYJ AUTLET LUKSE - 21948794\", \"TONSOR - 20423534\", \"GBUZ KO KCLFKISM LCH 2 - W0006171\", \"FOTOMIR 3 - 20490734\", \"KLUB-OTEL TAYM - 11388434\", \"LUKSE - 21948859\", \"KUZBASSGIPROSHAKHT - 20342881\", \"OOO EL - 10846591\", \"IP STORCHAKOVA  I.V. - 11459983\", \"KEM. OBLASTNOJ MUZEJ IZO - 20289960\", \"DIAGNOST. - 20887745\", \"REMAN - 21488355\", \"POST RUS.SERVICE.650043 - L013391P\", \"SP ESTED-MED - 21585735\", \"STOLOVAYA - 21652120\", \"SHOP.APLUS42.RU - 10917787\", \"APTECHNYY MIR - 10378821\", \"INGOSSTRAKH - J264906\", \"BENEDICT - 00740893\", \"PROMALP - 20899640\", \"KAMELIYA - 20180822\", \"MAGAZIN VALENTI - 11332759\", \"IP ABRAMUSHKINA - 70025067\", \"\\\\IP  ROMANCHUK I.A.\\\\\\\"\\\" - 77294691\", \"IP KUZNECOV - 20843465\", \"MAGAZIN ZERNA LISTYA - 21551371\", \"UFSSP - 11440018\", \"YUVETON - 00740869\", \"ZEBRA - 02001516\", \"MUZYKALNYY TEATR - 10140221\", \"ASSORTI - 61700328\", \"POLIKLINIKA MED-EXS - W0049836\", \"MEDICINSKIJ CENTR - 21163952\", \"CAFFETTERIA TORTA - 11419071\", \"IP MARCHENKO A.V. - 29363940\", \"NOGRADSKAYA 34 - 21176206\", \"AKADEM OPTIKA - 10322202\", \"YARMARKA - 21785891\", \"OOO AEN - 21047698\", \"GOLD PRINT - Y0047627\", \"BUFET - 21384855\", \"OOO INFORMPECHAT - 21027813\", \"BUFET STOLOVAYA - 20861441\", \"KES - 70031894\", \"LINGVA-TERRA - 20020865\", \"BUFET - 21384747\", \"SVETOFOR - 32210096\"], \"type\": \"scattermapbox\"}, {\"fill\": \"toself\", \"lat\": [55.350069999999995, 55.352639, 55.355602000000005, 55.356979, 55.357424, 55.358309999999996, 55.359277, 55.359272, 55.356384999999996, 55.355546, 55.355039, 55.350269, 55.350069999999995], \"lon\": [86.084161, 86.078879, 86.078673, 86.080056, 86.080559, 86.082616, 86.08596700000001, 86.087036, 86.095157, 86.09621700000001, 86.096783, 86.094321, 86.084161], \"marker\": {\"color\": \"green\", \"opacity\": 0.7, \"size\": 10}, \"name\": \"Center Edges\", \"showlegend\": false, \"text\": [\"EVO CUPLAND - 21627662\", \"MOU LICEJ 62 - 20024910\", \"CHERNOBORODOVA N.I. - 21142841\", \"IP KRUTOV E.V. - 70028975\", \"GAUZ KO KGKB N1 - 10460401\", \"AVIAKASSA - 269166\", \"OOO FENARETA - 632612\", \"OFFICE - 27941426\", \"IMIDZH AGENSTVO FICHTE - 21140757\", \"MINIMARKET - 21558030\", \"SP BARBERSHOP PLOSHHADKA - 21580990\", \"IP VANDYSHEVA S.V. - J206844\", \"EVO CUPLAND - 21627662\"], \"type\": \"scattermapbox\"}, {\"lat\": [55.354727000000004, 59.78492774255713], \"legendgroup\": \"\\u041b\\u0438\\u043d\\u0438\\u0438\", \"lon\": [86.088374, 81.66894848605713], \"marker\": {\"color\": \"black\", \"opacity\": 0.5, \"size\": 5}, \"mode\": \"lines\", \"name\": \"\\u041b\\u0438\\u043d\\u0438\\u044f \\u041a\\u0435\\u043c\\u0435\\u0440\\u043e\\u0432\\u0441\\u043a\\u0430\\u044f \\u043e\\u0431\\u043b\\u0430\\u0441\\u0442\\u044c - \\u041a\\u0435\\u043c\\u0435\\u0440\\u043e\\u0432\\u043e\", \"showlegend\": false, \"text\": \"\\u041a\\u0435\\u043c\\u0435\\u0440\\u043e\\u0432\\u0441\\u043a\\u0430\\u044f \\u043e\\u0431\\u043b\\u0430\\u0441\\u0442\\u044c - \\u041a\\u0435\\u043c\\u0435\\u0440\\u043e\\u0432\\u043e\", \"type\": \"scattermapbox\"}, {\"lat\": [59.78492774255713], \"lon\": [81.66894848605713], \"marker\": {\"color\": \"red\", \"opacity\": 0.7, \"size\": 10}, \"mode\": \"markers\", \"name\": \"\\u0422\\u0435\\u0440\\u043c\\u0438\\u043d\\u0430\\u043b\\u044b\", \"showlegend\": true, \"text\": [\"\\u041a\\u0435\\u043c\\u0435\\u0440\\u043e\\u0432\\u0441\\u043a\\u0430\\u044f \\u043e\\u0431\\u043b\\u0430\\u0441\\u0442\\u044c - \\u041a\\u0435\\u043c\\u0435\\u0440\\u043e\\u0432\\u043e\"], \"type\": \"scattermapbox\"}, {\"lat\": [55.354727000000004], \"lon\": [86.088374], \"marker\": {\"color\": \"blue\", \"opacity\": 0.7, \"size\": 10}, \"mode\": \"markers\", \"name\": \"\\u0413\\u043e\\u0440\\u043e\\u0434\\u0430\", \"showlegend\": true, \"text\": [\"\\u041a\\u0435\\u043c\\u0435\\u0440\\u043e\\u0432\\u0441\\u043a\\u0430\\u044f \\u043e\\u0431\\u043b\\u0430\\u0441\\u0442\\u044c - \\u041a\\u0435\\u043c\\u0435\\u0440\\u043e\\u0432\\u043e\"], \"type\": \"scattermapbox\"}],                        {\"height\": 340, \"legend\": {\"orientation\": \"h\", \"traceorder\": \"reversed\", \"x\": 0.5, \"xanchor\": \"center\", \"yanchor\": \"auto\"}, \"mapbox\": {\"center\": {\"lat\": 55.354727000000004, \"lon\": 86.088374}, \"style\": \"open-street-map\", \"zoom\": 2.5}, \"margin\": {\"b\": 5, \"l\": 5, \"r\": 5, \"t\": 5}, \"template\": {\"data\": {\"bar\": [{\"error_x\": {\"color\": \"#2a3f5f\"}, \"error_y\": {\"color\": \"#2a3f5f\"}, \"marker\": {\"line\": {\"color\": \"#E5ECF6\", \"width\": 0.5}}, \"type\": \"bar\"}], \"barpolar\": [{\"marker\": {\"line\": {\"color\": \"#E5ECF6\", \"width\": 0.5}}, \"type\": \"barpolar\"}], \"carpet\": [{\"aaxis\": {\"endlinecolor\": \"#2a3f5f\", \"gridcolor\": \"white\", \"linecolor\": \"white\", \"minorgridcolor\": \"white\", \"startlinecolor\": \"#2a3f5f\"}, \"baxis\": {\"endlinecolor\": \"#2a3f5f\", \"gridcolor\": \"white\", \"linecolor\": \"white\", \"minorgridcolor\": \"white\", \"startlinecolor\": \"#2a3f5f\"}, \"type\": \"carpet\"}], \"choropleth\": [{\"colorbar\": {\"outlinewidth\": 0, \"ticks\": \"\"}, \"type\": \"choropleth\"}], \"contour\": [{\"colorbar\": {\"outlinewidth\": 0, \"ticks\": \"\"}, \"colorscale\": [[0.0, \"#0d0887\"], [0.1111111111111111, \"#46039f\"], [0.2222222222222222, \"#7201a8\"], [0.3333333333333333, \"#9c179e\"], [0.4444444444444444, \"#bd3786\"], [0.5555555555555556, \"#d8576b\"], [0.6666666666666666, \"#ed7953\"], [0.7777777777777778, \"#fb9f3a\"], [0.8888888888888888, \"#fdca26\"], [1.0, \"#f0f921\"]], \"type\": \"contour\"}], \"contourcarpet\": [{\"colorbar\": {\"outlinewidth\": 0, \"ticks\": \"\"}, \"type\": \"contourcarpet\"}], \"heatmap\": [{\"colorbar\": {\"outlinewidth\": 0, \"ticks\": \"\"}, \"colorscale\": [[0.0, \"#0d0887\"], [0.1111111111111111, \"#46039f\"], [0.2222222222222222, \"#7201a8\"], [0.3333333333333333, \"#9c179e\"], [0.4444444444444444, \"#bd3786\"], [0.5555555555555556, \"#d8576b\"], [0.6666666666666666, \"#ed7953\"], [0.7777777777777778, \"#fb9f3a\"], [0.8888888888888888, \"#fdca26\"], [1.0, \"#f0f921\"]], \"type\": \"heatmap\"}], \"heatmapgl\": [{\"colorbar\": {\"outlinewidth\": 0, \"ticks\": \"\"}, \"colorscale\": [[0.0, \"#0d0887\"], [0.1111111111111111, \"#46039f\"], [0.2222222222222222, \"#7201a8\"], [0.3333333333333333, \"#9c179e\"], [0.4444444444444444, \"#bd3786\"], [0.5555555555555556, \"#d8576b\"], [0.6666666666666666, \"#ed7953\"], [0.7777777777777778, \"#fb9f3a\"], [0.8888888888888888, \"#fdca26\"], [1.0, \"#f0f921\"]], \"type\": \"heatmapgl\"}], \"histogram\": [{\"marker\": {\"colorbar\": {\"outlinewidth\": 0, \"ticks\": \"\"}}, \"type\": \"histogram\"}], \"histogram2d\": [{\"colorbar\": {\"outlinewidth\": 0, \"ticks\": \"\"}, \"colorscale\": [[0.0, \"#0d0887\"], [0.1111111111111111, \"#46039f\"], [0.2222222222222222, \"#7201a8\"], [0.3333333333333333, \"#9c179e\"], [0.4444444444444444, \"#bd3786\"], [0.5555555555555556, \"#d8576b\"], [0.6666666666666666, \"#ed7953\"], [0.7777777777777778, \"#fb9f3a\"], [0.8888888888888888, \"#fdca26\"], [1.0, \"#f0f921\"]], \"type\": \"histogram2d\"}], \"histogram2dcontour\": [{\"colorbar\": {\"outlinewidth\": 0, \"ticks\": \"\"}, \"colorscale\": [[0.0, \"#0d0887\"], [0.1111111111111111, \"#46039f\"], [0.2222222222222222, \"#7201a8\"], [0.3333333333333333, \"#9c179e\"], [0.4444444444444444, \"#bd3786\"], [0.5555555555555556, \"#d8576b\"], [0.6666666666666666, \"#ed7953\"], [0.7777777777777778, \"#fb9f3a\"], [0.8888888888888888, \"#fdca26\"], [1.0, \"#f0f921\"]], \"type\": \"histogram2dcontour\"}], \"mesh3d\": [{\"colorbar\": {\"outlinewidth\": 0, \"ticks\": \"\"}, \"type\": \"mesh3d\"}], \"parcoords\": [{\"line\": {\"colorbar\": {\"outlinewidth\": 0, \"ticks\": \"\"}}, \"type\": \"parcoords\"}], \"pie\": [{\"automargin\": true, \"type\": \"pie\"}], \"scatter\": [{\"marker\": {\"colorbar\": {\"outlinewidth\": 0, \"ticks\": \"\"}}, \"type\": \"scatter\"}], \"scatter3d\": [{\"line\": {\"colorbar\": {\"outlinewidth\": 0, \"ticks\": \"\"}}, \"marker\": {\"colorbar\": {\"outlinewidth\": 0, \"ticks\": \"\"}}, \"type\": \"scatter3d\"}], \"scattercarpet\": [{\"marker\": {\"colorbar\": {\"outlinewidth\": 0, \"ticks\": \"\"}}, \"type\": \"scattercarpet\"}], \"scattergeo\": [{\"marker\": {\"colorbar\": {\"outlinewidth\": 0, \"ticks\": \"\"}}, \"type\": \"scattergeo\"}], \"scattergl\": [{\"marker\": {\"colorbar\": {\"outlinewidth\": 0, \"ticks\": \"\"}}, \"type\": \"scattergl\"}], \"scattermapbox\": [{\"marker\": {\"colorbar\": {\"outlinewidth\": 0, \"ticks\": \"\"}}, \"type\": \"scattermapbox\"}], \"scatterpolar\": [{\"marker\": {\"colorbar\": {\"outlinewidth\": 0, \"ticks\": \"\"}}, \"type\": \"scatterpolar\"}], \"scatterpolargl\": [{\"marker\": {\"colorbar\": {\"outlinewidth\": 0, \"ticks\": \"\"}}, \"type\": \"scatterpolargl\"}], \"scatterternary\": [{\"marker\": {\"colorbar\": {\"outlinewidth\": 0, \"ticks\": \"\"}}, \"type\": \"scatterternary\"}], \"surface\": [{\"colorbar\": {\"outlinewidth\": 0, \"ticks\": \"\"}, \"colorscale\": [[0.0, \"#0d0887\"], [0.1111111111111111, \"#46039f\"], [0.2222222222222222, \"#7201a8\"], [0.3333333333333333, \"#9c179e\"], [0.4444444444444444, \"#bd3786\"], [0.5555555555555556, \"#d8576b\"], [0.6666666666666666, \"#ed7953\"], [0.7777777777777778, \"#fb9f3a\"], [0.8888888888888888, \"#fdca26\"], [1.0, \"#f0f921\"]], \"type\": \"surface\"}], \"table\": [{\"cells\": {\"fill\": {\"color\": \"#EBF0F8\"}, \"line\": {\"color\": \"white\"}}, \"header\": {\"fill\": {\"color\": \"#C8D4E3\"}, \"line\": {\"color\": \"white\"}}, \"type\": \"table\"}]}, \"layout\": {\"annotationdefaults\": {\"arrowcolor\": \"#2a3f5f\", \"arrowhead\": 0, \"arrowwidth\": 1}, \"autotypenumbers\": \"strict\", \"coloraxis\": {\"colorbar\": {\"outlinewidth\": 0, \"ticks\": \"\"}}, \"colorscale\": {\"diverging\": [[0, \"#8e0152\"], [0.1, \"#c51b7d\"], [0.2, \"#de77ae\"], [0.3, \"#f1b6da\"], [0.4, \"#fde0ef\"], [0.5, \"#f7f7f7\"], [0.6, \"#e6f5d0\"], [0.7, \"#b8e186\"], [0.8, \"#7fbc41\"], [0.9, \"#4d9221\"], [1, \"#276419\"]], \"sequential\": [[0.0, \"#0d0887\"], [0.1111111111111111, \"#46039f\"], [0.2222222222222222, \"#7201a8\"], [0.3333333333333333, \"#9c179e\"], [0.4444444444444444, \"#bd3786\"], [0.5555555555555556, \"#d8576b\"], [0.6666666666666666, \"#ed7953\"], [0.7777777777777778, \"#fb9f3a\"], [0.8888888888888888, \"#fdca26\"], [1.0, \"#f0f921\"]], \"sequentialminus\": [[0.0, \"#0d0887\"], [0.1111111111111111, \"#46039f\"], [0.2222222222222222, \"#7201a8\"], [0.3333333333333333, \"#9c179e\"], [0.4444444444444444, \"#bd3786\"], [0.5555555555555556, \"#d8576b\"], [0.6666666666666666, \"#ed7953\"], [0.7777777777777778, \"#fb9f3a\"], [0.8888888888888888, \"#fdca26\"], [1.0, \"#f0f921\"]]}, \"colorway\": [\"#636efa\", \"#EF553B\", \"#00cc96\", \"#ab63fa\", \"#FFA15A\", \"#19d3f3\", \"#FF6692\", \"#B6E880\", \"#FF97FF\", \"#FECB52\"], \"font\": {\"color\": \"#2a3f5f\"}, \"geo\": {\"bgcolor\": \"white\", \"lakecolor\": \"white\", \"landcolor\": \"#E5ECF6\", \"showlakes\": true, \"showland\": true, \"subunitcolor\": \"white\"}, \"hoverlabel\": {\"align\": \"left\"}, \"hovermode\": \"closest\", \"mapbox\": {\"style\": \"light\"}, \"paper_bgcolor\": \"white\", \"plot_bgcolor\": \"#E5ECF6\", \"polar\": {\"angularaxis\": {\"gridcolor\": \"white\", \"linecolor\": \"white\", \"ticks\": \"\"}, \"bgcolor\": \"#E5ECF6\", \"radialaxis\": {\"gridcolor\": \"white\", \"linecolor\": \"white\", \"ticks\": \"\"}}, \"scene\": {\"xaxis\": {\"backgroundcolor\": \"#E5ECF6\", \"gridcolor\": \"white\", \"gridwidth\": 2, \"linecolor\": \"white\", \"showbackground\": true, \"ticks\": \"\", \"zerolinecolor\": \"white\"}, \"yaxis\": {\"backgroundcolor\": \"#E5ECF6\", \"gridcolor\": \"white\", \"gridwidth\": 2, \"linecolor\": \"white\", \"showbackground\": true, \"ticks\": \"\", \"zerolinecolor\": \"white\"}, \"zaxis\": {\"backgroundcolor\": \"#E5ECF6\", \"gridcolor\": \"white\", \"gridwidth\": 2, \"linecolor\": \"white\", \"showbackground\": true, \"ticks\": \"\", \"zerolinecolor\": \"white\"}}, \"shapedefaults\": {\"line\": {\"color\": \"#2a3f5f\"}}, \"ternary\": {\"aaxis\": {\"gridcolor\": \"white\", \"linecolor\": \"white\", \"ticks\": \"\"}, \"baxis\": {\"gridcolor\": \"white\", \"linecolor\": \"white\", \"ticks\": \"\"}, \"bgcolor\": \"#E5ECF6\", \"caxis\": {\"gridcolor\": \"white\", \"linecolor\": \"white\", \"ticks\": \"\"}}, \"title\": {\"x\": 0.05}, \"xaxis\": {\"automargin\": true, \"gridcolor\": \"white\", \"linecolor\": \"white\", \"ticks\": \"\", \"title\": {\"standoff\": 15}, \"zerolinecolor\": \"white\", \"zerolinewidth\": 2}, \"yaxis\": {\"automargin\": true, \"gridcolor\": \"white\", \"linecolor\": \"white\", \"ticks\": \"\", \"title\": {\"standoff\": 15}, \"zerolinecolor\": \"white\", \"zerolinewidth\": 2}}}, \"width\": 980},                        {\"responsive\": true}                    ).then(function(){\n",
       "                            \n",
       "var gd = document.getElementById('5ea61e29-da8b-4cdb-8a5b-451a7fc29d48');\n",
       "var x = new MutationObserver(function (mutations, observer) {{\n",
       "        var display = window.getComputedStyle(gd).display;\n",
       "        if (!display || display === 'none') {{\n",
       "            console.log([gd, 'removed!']);\n",
       "            Plotly.purge(gd);\n",
       "            observer.disconnect();\n",
       "        }}\n",
       "}});\n",
       "\n",
       "// Listen for the removal of the full notebook cells\n",
       "var notebookContainer = gd.closest('#notebook-container');\n",
       "if (notebookContainer) {{\n",
       "    x.observe(notebookContainer, {childList: true});\n",
       "}}\n",
       "\n",
       "// Listen for the clearing of the current output cell\n",
       "var outputEl = gd.closest('.output');\n",
       "if (outputEl) {{\n",
       "    x.observe(outputEl, {childList: true});\n",
       "}}\n",
       "\n",
       "                        })                };                });            </script>        </div>"
      ]
     },
     "metadata": {},
     "output_type": "display_data"
    }
   ],
   "source": [
    "# Plot Geo Visualization\n",
    "plotGeoLocalityEdges(census_city_city, census_city_terminals)"
   ]
  },
  {
   "cell_type": "code",
   "execution_count": 81,
   "metadata": {},
   "outputs": [
    {
     "data": {
      "image/png": "[encoded data removed]",
      "text/plain": [
       "<Figure size 432x288 with 1 Axes>"
      ]
     },
     "metadata": {
      "needs_background": "light"
     },
     "output_type": "display_data"
    }
   ],
   "source": [
    "# Plot Plain Visualization\n",
    "plotPlainLocalityEdges(census_city_city, census_city_terminals)"
   ]
  },
  {
   "cell_type": "markdown",
   "metadata": {},
   "source": [
    "# Ошибочные координаты или адреса терминалов городов Census"
   ]
  },
  {
   "cell_type": "code",
   "execution_count": 82,
   "metadata": {},
   "outputs": [
    {
     "data": {
      "text/html": [
       "<div>\n",
       "<style scoped>\n",
       "    .dataframe tbody tr th:only-of-type {\n",
       "        vertical-align: middle;\n",
       "    }\n",
       "\n",
       "    .dataframe tbody tr th {\n",
       "        vertical-align: top;\n",
       "    }\n",
       "\n",
       "    .dataframe thead th {\n",
       "        text-align: right;\n",
       "    }\n",
       "</style>\n",
       "<table border=\"1\" class=\"dataframe\">\n",
       "  <thead>\n",
       "    <tr style=\"text-align: right;\">\n",
       "      <th></th>\n",
       "      <th>partition_dt</th>\n",
       "      <th>okrug_mt</th>\n",
       "      <th>province_mt</th>\n",
       "      <th>locality_mt</th>\n",
       "      <th>merchant_city_nm</th>\n",
       "      <th>merchant_id</th>\n",
       "      <th>merchant_nm</th>\n",
       "      <th>terminal_id</th>\n",
       "      <th>latitude_mt</th>\n",
       "      <th>longitude_mt</th>\n",
       "      <th>locality</th>\n",
       "      <th>latitude</th>\n",
       "      <th>longitude</th>\n",
       "      <th>distance</th>\n",
       "      <th>point_type</th>\n",
       "    </tr>\n",
       "  </thead>\n",
       "  <tbody>\n",
       "    <tr>\n",
       "      <th>0</th>\n",
       "      <td>2020-04-01</td>\n",
       "      <td>Сибирский федеральный округ</td>\n",
       "      <td>Кемеровская область</td>\n",
       "      <td>Кемерово</td>\n",
       "      <td>KEMEROVO</td>\n",
       "      <td>GPN11000</td>\n",
       "      <td>GAZPROMNEFT AZS 127</td>\n",
       "      <td>RZ331271</td>\n",
       "      <td>86.17630</td>\n",
       "      <td>55.33274</td>\n",
       "      <td>Кемерово</td>\n",
       "      <td>55.354727</td>\n",
       "      <td>86.088374</td>\n",
       "      <td>3504.202546</td>\n",
       "      <td>large</td>\n",
       "    </tr>\n",
       "    <tr>\n",
       "      <th>1</th>\n",
       "      <td>2020-04-01</td>\n",
       "      <td>Сибирский федеральный округ</td>\n",
       "      <td>Кемеровская область</td>\n",
       "      <td>Кемерово</td>\n",
       "      <td>KEMEROVO</td>\n",
       "      <td>551125998504</td>\n",
       "      <td>RESURSAVTO</td>\n",
       "      <td>25998504</td>\n",
       "      <td>86.16340</td>\n",
       "      <td>55.32566</td>\n",
       "      <td>Кемерово</td>\n",
       "      <td>55.354727</td>\n",
       "      <td>86.088374</td>\n",
       "      <td>3503.036387</td>\n",
       "      <td>large</td>\n",
       "    </tr>\n",
       "    <tr>\n",
       "      <th>2</th>\n",
       "      <td>2020-04-01</td>\n",
       "      <td>Сибирский федеральный округ</td>\n",
       "      <td>Кемеровская область</td>\n",
       "      <td>Кемерово</td>\n",
       "      <td>KEMEROVO</td>\n",
       "      <td>261000025237</td>\n",
       "      <td>SHKOLNOE PITANIE</td>\n",
       "      <td>22069911</td>\n",
       "      <td>86.13515</td>\n",
       "      <td>55.35636</td>\n",
       "      <td>Кемерово</td>\n",
       "      <td>55.354727</td>\n",
       "      <td>86.088374</td>\n",
       "      <td>3500.289713</td>\n",
       "      <td>large</td>\n",
       "    </tr>\n",
       "    <tr>\n",
       "      <th>3</th>\n",
       "      <td>2020-04-01</td>\n",
       "      <td>Сибирский федеральный округ</td>\n",
       "      <td>Кемеровская область</td>\n",
       "      <td>Кемерово</td>\n",
       "      <td>KEMEROVO</td>\n",
       "      <td>GPN11000</td>\n",
       "      <td>GAZPROMNEFT AZS 090</td>\n",
       "      <td>RZ330901</td>\n",
       "      <td>86.13379</td>\n",
       "      <td>55.33035</td>\n",
       "      <td>Кемерово</td>\n",
       "      <td>55.354727</td>\n",
       "      <td>86.088374</td>\n",
       "      <td>3500.273017</td>\n",
       "      <td>large</td>\n",
       "    </tr>\n",
       "    <tr>\n",
       "      <th>4</th>\n",
       "      <td>2020-04-01</td>\n",
       "      <td>Сибирский федеральный округ</td>\n",
       "      <td>Кемеровская область</td>\n",
       "      <td>Кемерово</td>\n",
       "      <td>KEMEROVO</td>\n",
       "      <td>GPN11000</td>\n",
       "      <td>GAZPROMNEFT AZS 098</td>\n",
       "      <td>RZ330981</td>\n",
       "      <td>86.13428</td>\n",
       "      <td>55.35559</td>\n",
       "      <td>Кемерово</td>\n",
       "      <td>55.354727</td>\n",
       "      <td>86.088374</td>\n",
       "      <td>3500.212316</td>\n",
       "      <td>large</td>\n",
       "    </tr>\n",
       "    <tr>\n",
       "      <th>5</th>\n",
       "      <td>2020-04-01</td>\n",
       "      <td>Сибирский федеральный округ</td>\n",
       "      <td>Кемеровская область</td>\n",
       "      <td>Кемерово</td>\n",
       "      <td>KEMEROVO</td>\n",
       "      <td>GPN11000</td>\n",
       "      <td>GAZPROMNEFT AZS 003</td>\n",
       "      <td>RZ330031</td>\n",
       "      <td>86.13786</td>\n",
       "      <td>55.43718</td>\n",
       "      <td>Кемерово</td>\n",
       "      <td>55.354727</td>\n",
       "      <td>86.088374</td>\n",
       "      <td>3500.202007</td>\n",
       "      <td>large</td>\n",
       "    </tr>\n",
       "    <tr>\n",
       "      <th>6</th>\n",
       "      <td>2020-04-01</td>\n",
       "      <td>Сибирский федеральный округ</td>\n",
       "      <td>Кемеровская область</td>\n",
       "      <td>Кемерово</td>\n",
       "      <td>KEMEROVO</td>\n",
       "      <td>65240501</td>\n",
       "      <td>MANGAL</td>\n",
       "      <td>65240501</td>\n",
       "      <td>86.13090</td>\n",
       "      <td>55.32157</td>\n",
       "      <td>Кемерово</td>\n",
       "      <td>55.354727</td>\n",
       "      <td>86.088374</td>\n",
       "      <td>3500.042223</td>\n",
       "      <td>large</td>\n",
       "    </tr>\n",
       "    <tr>\n",
       "      <th>7</th>\n",
       "      <td>2020-04-01</td>\n",
       "      <td>Сибирский федеральный округ</td>\n",
       "      <td>Кемеровская область</td>\n",
       "      <td>Кемерово</td>\n",
       "      <td>KEMEROVO</td>\n",
       "      <td>26182067</td>\n",
       "      <td>AZS N 33 VAHRUSHEVA</td>\n",
       "      <td>26182067</td>\n",
       "      <td>86.11580</td>\n",
       "      <td>55.41207</td>\n",
       "      <td>Кемерово</td>\n",
       "      <td>55.354727</td>\n",
       "      <td>86.088374</td>\n",
       "      <td>3498.261366</td>\n",
       "      <td>large</td>\n",
       "    </tr>\n",
       "    <tr>\n",
       "      <th>8</th>\n",
       "      <td>2020-04-01</td>\n",
       "      <td>Сибирский федеральный округ</td>\n",
       "      <td>Кемеровская область</td>\n",
       "      <td>Кемерово</td>\n",
       "      <td>KEMEROVO</td>\n",
       "      <td>GPN11000</td>\n",
       "      <td>GAZPROMNEFT AZS 074</td>\n",
       "      <td>RZ33074A</td>\n",
       "      <td>86.11028</td>\n",
       "      <td>55.38787</td>\n",
       "      <td>Кемерово</td>\n",
       "      <td>55.354727</td>\n",
       "      <td>86.088374</td>\n",
       "      <td>3497.851769</td>\n",
       "      <td>large</td>\n",
       "    </tr>\n",
       "    <tr>\n",
       "      <th>9</th>\n",
       "      <td>2020-04-01</td>\n",
       "      <td>Сибирский федеральный округ</td>\n",
       "      <td>Кемеровская область</td>\n",
       "      <td>Кемерово</td>\n",
       "      <td>KEMEROVO</td>\n",
       "      <td>0000000Y0043449</td>\n",
       "      <td>OOO KUZBASSDORSTROY</td>\n",
       "      <td>Y0043449</td>\n",
       "      <td>86.10330</td>\n",
       "      <td>55.34891</td>\n",
       "      <td>Кемерово</td>\n",
       "      <td>55.354727</td>\n",
       "      <td>86.088374</td>\n",
       "      <td>3497.369871</td>\n",
       "      <td>large</td>\n",
       "    </tr>\n",
       "    <tr>\n",
       "      <th>10</th>\n",
       "      <td>2020-04-01</td>\n",
       "      <td>Сибирский федеральный округ</td>\n",
       "      <td>Кемеровская область</td>\n",
       "      <td>Кемерово</td>\n",
       "      <td>KEMEROVO</td>\n",
       "      <td>GPN11000</td>\n",
       "      <td>GAZPROMNEFT AZS 085</td>\n",
       "      <td>RZ33085A</td>\n",
       "      <td>86.08045</td>\n",
       "      <td>55.33554</td>\n",
       "      <td>Кемерово</td>\n",
       "      <td>55.354727</td>\n",
       "      <td>86.088374</td>\n",
       "      <td>3495.310330</td>\n",
       "      <td>large</td>\n",
       "    </tr>\n",
       "    <tr>\n",
       "      <th>11</th>\n",
       "      <td>2020-04-01</td>\n",
       "      <td>Сибирский федеральный округ</td>\n",
       "      <td>Кемеровская область</td>\n",
       "      <td>Кемерово</td>\n",
       "      <td>KEMEROVO</td>\n",
       "      <td>GPN11000</td>\n",
       "      <td>GAZPROMNEFT AZS 087</td>\n",
       "      <td>RZ33087A</td>\n",
       "      <td>86.07745</td>\n",
       "      <td>55.32475</td>\n",
       "      <td>Кемерово</td>\n",
       "      <td>55.354727</td>\n",
       "      <td>86.088374</td>\n",
       "      <td>3495.078628</td>\n",
       "      <td>large</td>\n",
       "    </tr>\n",
       "    <tr>\n",
       "      <th>12</th>\n",
       "      <td>2020-04-01</td>\n",
       "      <td>Сибирский федеральный округ</td>\n",
       "      <td>Кемеровская область</td>\n",
       "      <td>Кемерово</td>\n",
       "      <td>KEMEROVO</td>\n",
       "      <td>4520453932</td>\n",
       "      <td>AVTOMASLA 2</td>\n",
       "      <td>20453932</td>\n",
       "      <td>86.07220</td>\n",
       "      <td>55.38421</td>\n",
       "      <td>Кемерово</td>\n",
       "      <td>55.354727</td>\n",
       "      <td>86.088374</td>\n",
       "      <td>3494.338311</td>\n",
       "      <td>large</td>\n",
       "    </tr>\n",
       "    <tr>\n",
       "      <th>13</th>\n",
       "      <td>2020-04-01</td>\n",
       "      <td>Сибирский федеральный округ</td>\n",
       "      <td>Кемеровская область</td>\n",
       "      <td>Кемерово</td>\n",
       "      <td>KEMEROVO</td>\n",
       "      <td>GPN11000</td>\n",
       "      <td>GAZPROMNEFT AZS 126</td>\n",
       "      <td>RZ33126A</td>\n",
       "      <td>86.06000</td>\n",
       "      <td>55.34815</td>\n",
       "      <td>Кемерово</td>\n",
       "      <td>55.354727</td>\n",
       "      <td>86.088374</td>\n",
       "      <td>3493.362690</td>\n",
       "      <td>large</td>\n",
       "    </tr>\n",
       "    <tr>\n",
       "      <th>14</th>\n",
       "      <td>2020-04-01</td>\n",
       "      <td>Сибирский федеральный округ</td>\n",
       "      <td>Кемеровская область</td>\n",
       "      <td>Кемерово</td>\n",
       "      <td>KEMEROVO</td>\n",
       "      <td>GPN11000</td>\n",
       "      <td>GAZPROMNEFT AZS 001</td>\n",
       "      <td>RZ330011</td>\n",
       "      <td>86.05400</td>\n",
       "      <td>55.36061</td>\n",
       "      <td>Кемерово</td>\n",
       "      <td>55.354727</td>\n",
       "      <td>86.088374</td>\n",
       "      <td>3492.753576</td>\n",
       "      <td>large</td>\n",
       "    </tr>\n",
       "    <tr>\n",
       "      <th>15</th>\n",
       "      <td>2020-04-01</td>\n",
       "      <td>Сибирский федеральный округ</td>\n",
       "      <td>Кемеровская область</td>\n",
       "      <td>Кемерово</td>\n",
       "      <td>KEMEROVO</td>\n",
       "      <td>240086456</td>\n",
       "      <td>KARAVAI</td>\n",
       "      <td>Y0054392</td>\n",
       "      <td>86.04130</td>\n",
       "      <td>55.35751</td>\n",
       "      <td>Кемерово</td>\n",
       "      <td>55.354727</td>\n",
       "      <td>86.088374</td>\n",
       "      <td>3491.590928</td>\n",
       "      <td>large</td>\n",
       "    </tr>\n",
       "    <tr>\n",
       "      <th>16</th>\n",
       "      <td>2020-04-01</td>\n",
       "      <td>Сибирский федеральный округ</td>\n",
       "      <td>Кемеровская область</td>\n",
       "      <td>Кемерово</td>\n",
       "      <td>KEMEROVO</td>\n",
       "      <td>961000068939</td>\n",
       "      <td>KMPV</td>\n",
       "      <td>22052021</td>\n",
       "      <td>86.04333</td>\n",
       "      <td>55.41979</td>\n",
       "      <td>Кемерово</td>\n",
       "      <td>55.354727</td>\n",
       "      <td>86.088374</td>\n",
       "      <td>3491.510700</td>\n",
       "      <td>large</td>\n",
       "    </tr>\n",
       "    <tr>\n",
       "      <th>17</th>\n",
       "      <td>2020-04-01</td>\n",
       "      <td>Сибирский федеральный округ</td>\n",
       "      <td>Кемеровская область</td>\n",
       "      <td>Кемерово</td>\n",
       "      <td>KEMEROVO</td>\n",
       "      <td>240063670</td>\n",
       "      <td>IP DEGTYAREV S V</td>\n",
       "      <td>Y0042120</td>\n",
       "      <td>86.03400</td>\n",
       "      <td>55.31192</td>\n",
       "      <td>Кемерово</td>\n",
       "      <td>55.354727</td>\n",
       "      <td>86.088374</td>\n",
       "      <td>3491.112175</td>\n",
       "      <td>large</td>\n",
       "    </tr>\n",
       "    <tr>\n",
       "      <th>18</th>\n",
       "      <td>2020-04-01</td>\n",
       "      <td>Сибирский федеральный округ</td>\n",
       "      <td>Кемеровская область</td>\n",
       "      <td>Кемерово</td>\n",
       "      <td>KEMEROVO</td>\n",
       "      <td>GPN11000</td>\n",
       "      <td>GAZPROMNEFT AZS 008</td>\n",
       "      <td>RZ330081</td>\n",
       "      <td>86.03077</td>\n",
       "      <td>55.30018</td>\n",
       "      <td>Кемерово</td>\n",
       "      <td>55.354727</td>\n",
       "      <td>86.088374</td>\n",
       "      <td>3490.864163</td>\n",
       "      <td>large</td>\n",
       "    </tr>\n",
       "  </tbody>\n",
       "</table>\n",
       "</div>"
      ],
      "text/plain": [
       "   partition_dt                     okrug_mt          province_mt locality_mt  \\\n",
       "0    2020-04-01  Сибирский федеральный округ  Кемеровская область    Кемерово   \n",
       "1    2020-04-01  Сибирский федеральный округ  Кемеровская область    Кемерово   \n",
       "2    2020-04-01  Сибирский федеральный округ  Кемеровская область    Кемерово   \n",
       "3    2020-04-01  Сибирский федеральный округ  Кемеровская область    Кемерово   \n",
       "4    2020-04-01  Сибирский федеральный округ  Кемеровская область    Кемерово   \n",
       "5    2020-04-01  Сибирский федеральный округ  Кемеровская область    Кемерово   \n",
       "6    2020-04-01  Сибирский федеральный округ  Кемеровская область    Кемерово   \n",
       "7    2020-04-01  Сибирский федеральный округ  Кемеровская область    Кемерово   \n",
       "8    2020-04-01  Сибирский федеральный округ  Кемеровская область    Кемерово   \n",
       "9    2020-04-01  Сибирский федеральный округ  Кемеровская область    Кемерово   \n",
       "10   2020-04-01  Сибирский федеральный округ  Кемеровская область    Кемерово   \n",
       "11   2020-04-01  Сибирский федеральный округ  Кемеровская область    Кемерово   \n",
       "12   2020-04-01  Сибирский федеральный округ  Кемеровская область    Кемерово   \n",
       "13   2020-04-01  Сибирский федеральный округ  Кемеровская область    Кемерово   \n",
       "14   2020-04-01  Сибирский федеральный округ  Кемеровская область    Кемерово   \n",
       "15   2020-04-01  Сибирский федеральный округ  Кемеровская область    Кемерово   \n",
       "16   2020-04-01  Сибирский федеральный округ  Кемеровская область    Кемерово   \n",
       "17   2020-04-01  Сибирский федеральный округ  Кемеровская область    Кемерово   \n",
       "18   2020-04-01  Сибирский федеральный округ  Кемеровская область    Кемерово   \n",
       "\n",
       "   merchant_city_nm      merchant_id          merchant_nm terminal_id  \\\n",
       "0          KEMEROVO         GPN11000  GAZPROMNEFT AZS 127    RZ331271   \n",
       "1          KEMEROVO     551125998504           RESURSAVTO    25998504   \n",
       "2          KEMEROVO     261000025237     SHKOLNOE PITANIE    22069911   \n",
       "3          KEMEROVO         GPN11000  GAZPROMNEFT AZS 090    RZ330901   \n",
       "4          KEMEROVO         GPN11000  GAZPROMNEFT AZS 098    RZ330981   \n",
       "5          KEMEROVO         GPN11000  GAZPROMNEFT AZS 003    RZ330031   \n",
       "6          KEMEROVO         65240501               MANGAL    65240501   \n",
       "7          KEMEROVO         26182067  AZS N 33 VAHRUSHEVA    26182067   \n",
       "8          KEMEROVO         GPN11000  GAZPROMNEFT AZS 074    RZ33074A   \n",
       "9          KEMEROVO  0000000Y0043449  OOO KUZBASSDORSTROY    Y0043449   \n",
       "10         KEMEROVO         GPN11000  GAZPROMNEFT AZS 085    RZ33085A   \n",
       "11         KEMEROVO         GPN11000  GAZPROMNEFT AZS 087    RZ33087A   \n",
       "12         KEMEROVO       4520453932          AVTOMASLA 2    20453932   \n",
       "13         KEMEROVO         GPN11000  GAZPROMNEFT AZS 126    RZ33126A   \n",
       "14         KEMEROVO         GPN11000  GAZPROMNEFT AZS 001    RZ330011   \n",
       "15         KEMEROVO        240086456              KARAVAI    Y0054392   \n",
       "16         KEMEROVO     961000068939                 KMPV    22052021   \n",
       "17         KEMEROVO        240063670     IP DEGTYAREV S V    Y0042120   \n",
       "18         KEMEROVO         GPN11000  GAZPROMNEFT AZS 008    RZ330081   \n",
       "\n",
       "    latitude_mt  longitude_mt  locality   latitude  longitude     distance  \\\n",
       "0      86.17630      55.33274  Кемерово  55.354727  86.088374  3504.202546   \n",
       "1      86.16340      55.32566  Кемерово  55.354727  86.088374  3503.036387   \n",
       "2      86.13515      55.35636  Кемерово  55.354727  86.088374  3500.289713   \n",
       "3      86.13379      55.33035  Кемерово  55.354727  86.088374  3500.273017   \n",
       "4      86.13428      55.35559  Кемерово  55.354727  86.088374  3500.212316   \n",
       "5      86.13786      55.43718  Кемерово  55.354727  86.088374  3500.202007   \n",
       "6      86.13090      55.32157  Кемерово  55.354727  86.088374  3500.042223   \n",
       "7      86.11580      55.41207  Кемерово  55.354727  86.088374  3498.261366   \n",
       "8      86.11028      55.38787  Кемерово  55.354727  86.088374  3497.851769   \n",
       "9      86.10330      55.34891  Кемерово  55.354727  86.088374  3497.369871   \n",
       "10     86.08045      55.33554  Кемерово  55.354727  86.088374  3495.310330   \n",
       "11     86.07745      55.32475  Кемерово  55.354727  86.088374  3495.078628   \n",
       "12     86.07220      55.38421  Кемерово  55.354727  86.088374  3494.338311   \n",
       "13     86.06000      55.34815  Кемерово  55.354727  86.088374  3493.362690   \n",
       "14     86.05400      55.36061  Кемерово  55.354727  86.088374  3492.753576   \n",
       "15     86.04130      55.35751  Кемерово  55.354727  86.088374  3491.590928   \n",
       "16     86.04333      55.41979  Кемерово  55.354727  86.088374  3491.510700   \n",
       "17     86.03400      55.31192  Кемерово  55.354727  86.088374  3491.112175   \n",
       "18     86.03077      55.30018  Кемерово  55.354727  86.088374  3490.864163   \n",
       "\n",
       "   point_type  \n",
       "0       large  \n",
       "1       large  \n",
       "2       large  \n",
       "3       large  \n",
       "4       large  \n",
       "5       large  \n",
       "6       large  \n",
       "7       large  \n",
       "8       large  \n",
       "9       large  \n",
       "10      large  \n",
       "11      large  \n",
       "12      large  \n",
       "13      large  \n",
       "14      large  \n",
       "15      large  \n",
       "16      large  \n",
       "17      large  \n",
       "18      large  "
      ]
     },
     "execution_count": 82,
     "metadata": {},
     "output_type": "execute_result"
    }
   ],
   "source": [
    "census_show_fields = ['partition_dt', 'okrug_mt', 'province_mt', 'locality_mt',\n",
    "                      'merchant_city_nm', 'merchant_id', 'merchant_nm', 'terminal_id',\n",
    "                      'latitude_mt', 'longitude_mt', 'locality', 'latitude', 'longitude', 'distance', 'point_type']\n",
    "\n",
    "census_city_terminals[census_show_fields][census_city_terminals['point_type'] == 'large']\\\n",
    ".sort_values(by='distance', ascending=False)[:20]"
   ]
  },
  {
   "cell_type": "markdown",
   "metadata": {},
   "source": [
    "# Вспомогательные переменные и функции"
   ]
  },
  {
   "cell_type": "markdown",
   "metadata": {},
   "source": [
    "### Цветовые палитры для гистограмм"
   ]
  },
  {
   "cell_type": "code",
   "execution_count": 83,
   "metadata": {},
   "outputs": [],
   "source": [
    "BAR_COLORS = [\n",
    "    'rgba(255,   0,   0, 0.7)', 'rgba(255,  50,   0, 0.7)', # red\n",
    "    'rgba(255, 105,   0, 0.7)', 'rgba(255, 155,   0, 0.7)', # orange\n",
    "    'rgba(255, 225,   0, 0.7)', 'rgba(255, 255,  35, 0.7)', # yellow\n",
    "    'rgba(200, 255,   0, 0.7)', 'rgba(100, 255,   0, 0.7)', # light green\n",
    "    'rgba(  0, 150,  60, 0.7)', 'rgba( 20, 220,  80, 0.7)', # green\n",
    "    'rgba(100, 255, 200, 0.7)', 'rgba(120, 220, 225, 0.7)', # light blue\n",
    "    'rgba(115, 200, 255, 0.7)', 'rgba( 45, 120, 255, 0.7)', # blue\n",
    "    'rgba(105,  25, 255, 0.7)', 'rgba(150,   0, 255, 0.7)', # purple\n",
    "    'rgba(160, 100, 255, 0.7)', 'rgba(210, 120, 255, 0.7)', # light purple\n",
    "    'rgba(210,  50, 120, 0.7)', 'rgba(255,  40,  80, 0.7)', # pink\n",
    "]"
   ]
  },
  {
   "cell_type": "code",
   "execution_count": 84,
   "metadata": {},
   "outputs": [],
   "source": [
    "BAR_LINE_COLORS = [\n",
    "    'rgb(255,   0,   0)', 'rgb(255,  50,   0)', # red\n",
    "    'rgb(255, 105,   0)', 'rgb(255, 155,   0)', # orange\n",
    "    'rgb(255, 225,   0)', 'rgb(255, 255,  35)', # yellow\n",
    "    'rgb(200, 255,   0)', 'rgb(100, 255,   0)', # light green\n",
    "    'rgb(  0, 150,  60)', 'rgb( 20, 220,  80)', # green\n",
    "    'rgb(100, 255, 200)', 'rgb(120, 220, 225)', # light blue\n",
    "    'rgb(115, 200, 255)', 'rgb( 45, 120, 255)', # blue\n",
    "    'rgb(105,  25, 255)', 'rgb(150,   0, 255)', # purple\n",
    "    'rgb(160, 100, 255)', 'rgb(210, 120, 255)', # light purple\n",
    "    'rgb(210,  50, 120)', 'rgb(255,  40,  80)', # pink\n",
    "]"
   ]
  },
  {
   "cell_type": "markdown",
   "metadata": {},
   "source": [
    "### Функции для получения выпуклой оболочки точек"
   ]
  },
  {
   "cell_type": "code",
   "execution_count": 85,
   "metadata": {},
   "outputs": [],
   "source": [
    "# Returns the orientation of point p1 relative to point p2 using origin.\n",
    "# Returns a negative value if p1 follows p2 in 'clockwise' direction.\n",
    "def get_orientation(origin, p1, p2):\n",
    "    return ((p2.x - origin.x) * (p1.y - origin.y)) - ((p1.x - origin.x) * (p2.y - origin.y))"
   ]
  },
  {
   "cell_type": "code",
   "execution_count": 86,
   "metadata": {},
   "outputs": [],
   "source": [
    "from operator import itemgetter\n",
    "from collections import namedtuple\n",
    "\n",
    "Point = namedtuple(\"Point\", \"x y\")\n",
    "\n",
    "# Computes the points that make up the convex hull.\n",
    "def jarvis_march(points):\n",
    "    hull_points = []\n",
    "    far_point = None\n",
    "    # get leftmost point\n",
    "    start = min(points, key=itemgetter(0))\n",
    "    point = start\n",
    "    hull_points.append(start)\n",
    "    while far_point is not start:\n",
    "        p1 = None\n",
    "        for p in points:\n",
    "            if p is point:\n",
    "                continue\n",
    "            else:\n",
    "                p1 = p\n",
    "                break\n",
    "        far_point = p1\n",
    "        for p2 in points:\n",
    "            # do not compare to self or pivot point\n",
    "            if p2 is point or p2 is p1:\n",
    "                continue\n",
    "            else:\n",
    "                direction = get_orientation(point, far_point, p2)\n",
    "                if direction > 0:\n",
    "                    far_point = p2\n",
    "        hull_points.append(far_point)\n",
    "        point = far_point\n",
    "    return hull_points"
   ]
  },
  {
   "cell_type": "code",
   "execution_count": 87,
   "metadata": {},
   "outputs": [],
   "source": [
    "from matplotlib import pyplot as plot\n",
    "\n",
    "# Displays points on the scatter plot for visualization.\n",
    "def display_points(points, hull_points = [], title = 'Jarvis March: Convex Hull', pcolor = 'red', hcolor = 'blue'):\n",
    "    # all points\n",
    "    x = [p.x for p in points]\n",
    "    y = [p.y for p in points]\n",
    "    plot.plot(x, y, marker = '.', linestyle = 'None', color = pcolor)\n",
    "\n",
    "    # hull points\n",
    "    hx = [p.x for p in hull_points]\n",
    "    hy = [p.y for p in hull_points]\n",
    "    plot.plot(hx, hy, color = hcolor)\n",
    "\n",
    "    plot.title(title)\n",
    "    plot.show()"
   ]
  },
  {
   "cell_type": "code",
   "execution_count": 88,
   "metadata": {},
   "outputs": [],
   "source": [
    "def dataFrameToPoints(dataFrame, colX, colY):\n",
    "    return list(map(lambda x: Point(x[0], x[1]), dataFrame[[colX, colY]].values.tolist()))"
   ]
  },
  {
   "cell_type": "code",
   "execution_count": 89,
   "metadata": {},
   "outputs": [],
   "source": [
    "def pointsToDataFrame(points):\n",
    "    return pd.DataFrame({'x': list(map(lambda p: p.x, points)), 'y': list(map(lambda p: p.y, points))})"
   ]
  },
  {
   "cell_type": "markdown",
   "metadata": {},
   "source": [
    "### Пример работы функции получения выпуклой оболочки"
   ]
  },
  {
   "cell_type": "code",
   "execution_count": 90,
   "metadata": {},
   "outputs": [
    {
     "data": {
      "image/png": "[encoded data removed]",
      "text/plain": [
       "<Figure size 432x288 with 1 Axes>"
      ]
     },
     "metadata": {
      "needs_background": "light"
     },
     "output_type": "display_data"
    },
    {
     "data": {
      "image/png": "[encoded data removed]",
      "text/plain": [
       "<Figure size 432x288 with 1 Axes>"
      ]
     },
     "metadata": {
      "needs_background": "light"
     },
     "output_type": "display_data"
    }
   ],
   "source": [
    "from collections import namedtuple\n",
    "from random import randint, random, seed\n",
    "\n",
    "# Setup seed to generate repeatable random numbers\n",
    "seed(42)\n",
    "\n",
    "# Setup number of points\n",
    "n_points = 30\n",
    "# Setup points\n",
    "points = []\n",
    "\n",
    "# Adding points\n",
    "for _ in range(n_points):\n",
    "    point = Point(randint(-n_points, n_points), randint(-n_points, n_points))\n",
    "    points.append(point)\n",
    "\n",
    "# Displaying before and after with convex hull\n",
    "display_points(points, title = 'Jarvis March: Before')\n",
    "display_points(points, jarvis_march(points), title = 'Jarvis March: After with Convex Hull')"
   ]
  },
  {
   "cell_type": "markdown",
   "metadata": {},
   "source": [
    "### Функции для гео-визуализации на карте"
   ]
  },
  {
   "cell_type": "code",
   "execution_count": 91,
   "metadata": {},
   "outputs": [],
   "source": [
    "def makeScatterMapLines(dataFrame, line_color = 'black'):\n",
    "    scatterLines = []\n",
    "\n",
    "    for i in range(dataFrame.shape[0]):\n",
    "        scatterMapBox = go.Scattermapbox(\n",
    "            mode = 'lines',\n",
    "            lat = [dataFrame['latitude' ][i], dataFrame['latitude_mt_avg' ][i]],\n",
    "            lon = [dataFrame['longitude'][i], dataFrame['longitude_mt_avg'][i]],\n",
    "            text = dataFrame['city_nm'][i],\n",
    "            marker = go.scattermapbox.Marker(\n",
    "                size = 5,\n",
    "                color = line_color,\n",
    "                opacity = 0.5\n",
    "            ),\n",
    "            name = 'Линия {}'.format(dataFrame['city_nm'][i]),\n",
    "            legendgroup = 'Линии',\n",
    "            showlegend = False\n",
    "        )\n",
    "        scatterLines.append(scatterMapBox)\n",
    "    return scatterLines"
   ]
  },
  {
   "cell_type": "code",
   "execution_count": 92,
   "metadata": {},
   "outputs": [],
   "source": [
    "def makeScatterMapTerminals(dataFrame, terminals_color = 'red'):\n",
    "    return go.Scattermapbox(\n",
    "        mode = 'markers',\n",
    "        lat = dataFrame['latitude_mt_avg' ],\n",
    "        lon = dataFrame['longitude_mt_avg'],\n",
    "        text = dataFrame['city_nm'],\n",
    "        marker = go.scattermapbox.Marker(\n",
    "            size = 10,\n",
    "            color = terminals_color,\n",
    "            opacity = 0.7\n",
    "        ),\n",
    "        name = 'Терминалы',\n",
    "        showlegend = True\n",
    "    )"
   ]
  },
  {
   "cell_type": "code",
   "execution_count": 93,
   "metadata": {},
   "outputs": [],
   "source": [
    "def makeScatterMapCities(dataFrame, city_color = 'blue'):\n",
    "    return go.Scattermapbox(\n",
    "        mode = 'markers',\n",
    "        lat = dataFrame['latitude'],\n",
    "        lon = dataFrame['longitude'],\n",
    "        text = dataFrame['city_nm'],\n",
    "        marker = go.scattermapbox.Marker(\n",
    "            size = 10,\n",
    "            color = city_color,\n",
    "            opacity = 0.7\n",
    "        ),\n",
    "        name = 'Города',\n",
    "        showlegend = True\n",
    "    )"
   ]
  },
  {
   "cell_type": "code",
   "execution_count": 94,
   "metadata": {},
   "outputs": [],
   "source": [
    "def makeScatterMapPoints(dataFrame, name_prefix = '', points_color = 'black'):\n",
    "    return go.Scattermapbox(\n",
    "        mode = 'markers',\n",
    "        lat = dataFrame['latitude_mt'],\n",
    "        lon = dataFrame['longitude_mt'],\n",
    "        text = dataFrame['merchant_nm'].apply(lambda x: slide(x, 25)) + ' - ' + dataFrame['terminal_id'].apply(lambda x: slide(x, 25)),\n",
    "        marker = go.scattermapbox.Marker(\n",
    "            size = 10,\n",
    "            color = points_color,\n",
    "            opacity = 0.7\n",
    "        ),\n",
    "        name = name_prefix + ' ' + 'Points',\n",
    "        showlegend = False\n",
    "    )"
   ]
  },
  {
   "cell_type": "code",
   "execution_count": 95,
   "metadata": {},
   "outputs": [],
   "source": [
    "def makeScatterMapEdges(dataFrame, name_prefix = '', edges_color = 'black'):\n",
    "    data = dataFrame[['merchant_nm', 'terminal_id']].values.tolist()\n",
    "    all_points = list(map(lambda x: [x[0], x[1][0], x[1][1]],\n",
    "                          zip(dataFrameToPoints(dataFrame, 'latitude_mt', 'longitude_mt'), data)))\n",
    "    hull_points = list(map(lambda p: next(filter(lambda x: x[0] == p, all_points)),\n",
    "                      jarvis_march(list(map(lambda x: x[0], all_points)))))\n",
    "    return go.Scattermapbox(\n",
    "        fill = 'toself',\n",
    "        lat = list(map(lambda x: x[0].x, hull_points)),\n",
    "        lon = list(map(lambda x: x[0].y, hull_points)),\n",
    "        text = list(map(lambda x: slide(x[1], 25) + ' - ' + slide(x[2], 25), hull_points)),\n",
    "        marker = go.scattermapbox.Marker(\n",
    "            size = 10,\n",
    "            color = edges_color,\n",
    "            opacity = 0.7\n",
    "        ),\n",
    "        name = name_prefix + ' ' + 'Edges',\n",
    "        showlegend = False\n",
    "    )"
   ]
  },
  {
   "cell_type": "code",
   "execution_count": 96,
   "metadata": {},
   "outputs": [],
   "source": [
    "def makeMapCenter(dataFrame):\n",
    "    return go.layout.mapbox.Center(\n",
    "        lat = (dataFrame['latitude' ].max() + dataFrame['latitude' ].min()) / 2.0,\n",
    "        lon = (dataFrame['longitude'].max() + dataFrame['longitude'].min()) / 2.0\n",
    "    )"
   ]
  },
  {
   "cell_type": "markdown",
   "metadata": {},
   "source": [
    "### Функции визуализации"
   ]
  },
  {
   "cell_type": "code",
   "execution_count": 97,
   "metadata": {},
   "outputs": [],
   "source": [
    "def plotBarAll(xs, ys, barcolors = BAR_COLORS[::-1], linecolors = BAR_LINE_COLORS[::-1]):\n",
    "    # Create figure\n",
    "    fig = go.Figure()\n",
    "\n",
    "    # Add traces\n",
    "    fig.add_trace(\n",
    "        go.Bar(\n",
    "            x = xs,\n",
    "            y = ys,\n",
    "            orientation = 'h',\n",
    "            marker = dict(\n",
    "                color = barcolors,\n",
    "                line = dict(color = linecolors, width = 1)\n",
    "            ),\n",
    "            textposition = 'outside',\n",
    "            texttemplate = '%{x:.2f}',\n",
    "            outsidetextfont = dict(color = 'red', size = 12)\n",
    "        )\n",
    "    )\n",
    "\n",
    "    # Set options\n",
    "    fig.update_layout(\n",
    "        showlegend = False,\n",
    "        paper_bgcolor = 'rgb(248, 248, 255)',\n",
    "        plot_bgcolor = 'rgb(248, 248, 255)',\n",
    "        xaxis = dict(range=[0, round(max(xs) * 1.1)]),\n",
    "        margin = dict(t = 20, b = 20)\n",
    "    )\n",
    "\n",
    "    # Plot figure\n",
    "    fig.show()"
   ]
  },
  {
   "cell_type": "code",
   "execution_count": 98,
   "metadata": {},
   "outputs": [],
   "source": [
    "def plotBarHistory(months, xyms, barcolors = BAR_COLORS[::-1], linecolors = BAR_LINE_COLORS[::-1]):\n",
    "    # Create figure\n",
    "    fig = go.Figure()\n",
    "\n",
    "    for month in months:\n",
    "        # Add traces\n",
    "        fig.add_trace(\n",
    "            go.Bar(\n",
    "                visible = False,\n",
    "                x = xyms[month][0],\n",
    "                y = xyms[month][1],\n",
    "                orientation = 'h',\n",
    "                marker = dict(\n",
    "                    color = barcolors,\n",
    "                    line = dict(color = linecolors, width = 1)\n",
    "                ),\n",
    "                textposition = 'outside',\n",
    "                texttemplate = '%{x:.2f}',\n",
    "                outsidetextfont = dict(color = 'red', size = 12)\n",
    "            )\n",
    "        )\n",
    "\n",
    "    # Make first trace visible\n",
    "    fig.data[0].visible = True\n",
    "\n",
    "    # Create and add slider\n",
    "    steps = []\n",
    "    for i in range(len(fig.data)):\n",
    "        step = dict(\n",
    "            method = 'update',\n",
    "            args = [{'visible': [False] * len(fig.data)}]  # layout attribute\n",
    "        )\n",
    "        step['args'][0]['visible'][i] = True  # Toggle i'th trace to \"visible\"\n",
    "        steps.append(step)\n",
    "\n",
    "    sliders = [dict(\n",
    "        active = 0,\n",
    "        steps = steps,\n",
    "        currentvalue = {'prefix': 'Отчетный месяц: '},\n",
    "        bgcolor = 'rgba(0,0,255,0.5)',\n",
    "        tickcolor = 'rgb(0,0,255)', ticklen = 10, tickwidth = 3,\n",
    "        pad = {'t': 10},\n",
    "        xanchor = 'right'\n",
    "    )]\n",
    "\n",
    "    # Set options\n",
    "    fig.update_layout(\n",
    "        sliders = sliders,\n",
    "        paper_bgcolor = 'rgb(248, 248, 255)',\n",
    "        plot_bgcolor = 'rgb(248, 248, 255)',\n",
    "        xaxis = dict(range = [0, round(max(map(lambda kv: max(kv[1][0]), xyms.items())) * 1.1)]),\n",
    "        legend = go.layout.Legend(\n",
    "            orientation = \"h\",\n",
    "            traceorder = 'reversed',\n",
    "            x = 0.5,\n",
    "            xanchor = 'center',\n",
    "            yanchor = 'auto'\n",
    "        ),\n",
    "        margin = dict(l=5, r=5, t=30, b=30),\n",
    "        width = 980,\n",
    "        height = 630\n",
    "    )\n",
    "\n",
    "    # Plot figure\n",
    "    fig.show()"
   ]
  },
  {
   "cell_type": "code",
   "execution_count": 99,
   "metadata": {},
   "outputs": [],
   "source": [
    "def plotBarLocality(xs, ys, barcolors = BAR_COLORS[::-1], linecolors = BAR_LINE_COLORS[::-1]):\n",
    "    # Create figure\n",
    "    fig = go.Figure()\n",
    "\n",
    "    # Add traces\n",
    "    fig.add_trace(\n",
    "        go.Bar(\n",
    "            x = xs,\n",
    "            y = ys,\n",
    "            marker = dict(\n",
    "                color = barcolors,\n",
    "                line = dict(color = linecolors, width = 1)\n",
    "            ),\n",
    "            textposition = 'outside',\n",
    "            texttemplate = '%{y:.2f}',\n",
    "            outsidetextfont = dict(color = 'red', size = 12)\n",
    "        )\n",
    "    )\n",
    "\n",
    "    # Set options\n",
    "    fig.update_layout(\n",
    "        showlegend = False,\n",
    "        paper_bgcolor = 'rgb(248, 248, 255)',\n",
    "        plot_bgcolor = 'rgb(248, 248, 255)',\n",
    "        margin = dict(t=20, b=20),\n",
    "        width = 980,\n",
    "        height = 500\n",
    "    )\n",
    "\n",
    "    # Plot figure\n",
    "    fig.show()"
   ]
  },
  {
   "cell_type": "code",
   "execution_count": 100,
   "metadata": {},
   "outputs": [],
   "source": [
    "def plotGeoPointsAndLines(dataFrame, line_color = 'black', terminals_color = 'red', city_color = 'blue'):\n",
    "    # Create figure\n",
    "    fig = go.Figure()\n",
    "\n",
    "    # Add lines traces\n",
    "    for scatterMapBox in makeScatterMapLines(dataFrame, line_color):\n",
    "        fig.add_trace(scatterMapBox)\n",
    "\n",
    "    # Add terminals traces\n",
    "    fig.add_trace(makeScatterMapTerminals(dataFrame, terminals_color))\n",
    "    # Add cities traces\n",
    "    fig.add_trace(makeScatterMapCities(dataFrame, city_color))\n",
    "    # Find center of all points\n",
    "    map_center = makeMapCenter(dataFrame)\n",
    "\n",
    "    # Set options\n",
    "    fig.update_layout(\n",
    "        mapbox = {\n",
    "            'style': 'open-street-map',\n",
    "            'center': map_center,\n",
    "            'zoom': 2.5\n",
    "        },\n",
    "        legend = go.layout.Legend(\n",
    "            orientation = 'h',\n",
    "            traceorder = 'reversed',\n",
    "            x = 0.5,\n",
    "            xanchor = 'center',\n",
    "            yanchor = 'auto'\n",
    "        ),\n",
    "        margin = dict(l = 5, r = 5, t = 5, b = 5),\n",
    "        width = 980,\n",
    "        height = 340\n",
    "    )\n",
    "\n",
    "    # Plot figure\n",
    "    fig.show()"
   ]
  },
  {
   "cell_type": "code",
   "execution_count": 101,
   "metadata": {},
   "outputs": [],
   "source": [
    "def plotGeoLocalityEdges(dataFrame, edgesDataFrame, city_color = 'blue', terminals_color = 'red', line_color = 'black',\n",
    "                         edge_center_color = 'green', edge_medium_color = 'orange', edge_large_color = 'red'):\n",
    "    # Create figure\n",
    "    fig = go.Figure()\n",
    "\n",
    "    # Add Large Edges traces\n",
    "    edgesLarge = edgesDataFrame[edgesDataFrame['point_type'] == 'large'].reset_index()\n",
    "    fig.add_trace(makeScatterMapPoints(edgesLarge, name_prefix = 'Large', points_color = edge_large_color))\n",
    "    fig.add_trace(makeScatterMapEdges(edgesLarge, name_prefix = 'Large', edges_color = edge_large_color))\n",
    "\n",
    "    # Add Medium Edges traces\n",
    "    edgesMedium = edgesDataFrame[edgesDataFrame['point_type'] == 'medium'].reset_index()\n",
    "    fig.add_trace(makeScatterMapPoints(edgesMedium, name_prefix = 'Medium', points_color = edge_medium_color))\n",
    "    fig.add_trace(makeScatterMapEdges(edgesMedium, name_prefix = 'Medium', edges_color = edge_medium_color))\n",
    "\n",
    "    # Add Center Edges traces\n",
    "    edgesCenter = edgesDataFrame[edgesDataFrame['point_type'] == 'center'].reset_index()\n",
    "    fig.add_trace(makeScatterMapPoints(edgesCenter, name_prefix = 'Center', points_color = edge_center_color))\n",
    "    fig.add_trace(makeScatterMapEdges(edgesCenter, name_prefix = 'Center', edges_color = edge_center_color))\n",
    "\n",
    "    # Add lines traces\n",
    "    for scatterMapBox in makeScatterMapLines(dataFrame, line_color):\n",
    "        fig.add_trace(scatterMapBox)\n",
    "\n",
    "    # Add terminals traces\n",
    "    fig.add_trace(makeScatterMapTerminals(dataFrame, terminals_color))\n",
    "    # Add cities traces\n",
    "    fig.add_trace(makeScatterMapCities(dataFrame, city_color))\n",
    "    # Find center of all points\n",
    "    map_center = makeMapCenter(edgesDataFrame)\n",
    "\n",
    "    # Set options\n",
    "    fig.update_layout(\n",
    "        mapbox = {\n",
    "            'style': 'open-street-map',\n",
    "            'center': map_center,\n",
    "            'zoom': 2.5\n",
    "        },\n",
    "        legend = go.layout.Legend(\n",
    "            orientation = 'h',\n",
    "            traceorder = 'reversed',\n",
    "            x = 0.5,\n",
    "            xanchor = 'center',\n",
    "            yanchor = 'auto'\n",
    "        ),\n",
    "        margin = dict(l = 5, r = 5, t = 5, b = 5),\n",
    "        width = 980,\n",
    "        height = 340\n",
    "    )\n",
    "\n",
    "    # Plot figure\n",
    "    fig.show()"
   ]
  },
  {
   "cell_type": "code",
   "execution_count": 102,
   "metadata": {},
   "outputs": [],
   "source": [
    "from matplotlib import pyplot as plot\n",
    "\n",
    "def plotPlainLocalityEdges(dataFrame, edgesDataFrame, city_color = 'blue', terminals_color = 'red', line_color = 'black',\n",
    "                         edge_center_color = 'green', edge_medium_color = 'orange', edge_large_color = 'red'):\n",
    "    # Add Large Edges traces\n",
    "    edgesLarge = edgesDataFrame[edgesDataFrame['point_type'] == 'large'].reset_index()\n",
    "    plot.plot(\n",
    "        edgesLarge['latitude_mt'].values.tolist(),\n",
    "        edgesLarge['longitude_mt'].values.tolist(),\n",
    "        marker = '.', linestyle = 'None', color = edge_large_color)\n",
    "    hull_edgesLarge = pointsToDataFrame(jarvis_march(dataFrameToPoints(edgesLarge, 'latitude_mt', 'longitude_mt')))\n",
    "    plot.plot(\n",
    "        hull_edgesLarge['x'].values.tolist(),\n",
    "        hull_edgesLarge['y'].values.tolist(),\n",
    "        marker = '.', color = edge_large_color)\n",
    "\n",
    "    # Add Medium Edges traces\n",
    "    edgesMedium = edgesDataFrame[edgesDataFrame['point_type'] == 'medium'].reset_index()\n",
    "    plot.plot(\n",
    "        edgesMedium['latitude_mt'].values.tolist(),\n",
    "        edgesMedium['longitude_mt'].values.tolist(),\n",
    "        marker = '.', linestyle = 'None', color = edge_medium_color)\n",
    "    hull_edgesMedium = pointsToDataFrame(jarvis_march(dataFrameToPoints(edgesMedium, 'latitude_mt', 'longitude_mt')))\n",
    "    plot.plot(\n",
    "        hull_edgesMedium['x'].values.tolist(),\n",
    "        hull_edgesMedium['y'].values.tolist(),\n",
    "        marker = '.', color = edge_medium_color)\n",
    "\n",
    "    # Add Center Edges traces\n",
    "    edgesCenter = edgesDataFrame[edgesDataFrame['point_type'] == 'center'].reset_index()\n",
    "    plot.plot(\n",
    "        edgesCenter['latitude_mt'].values.tolist(),\n",
    "        edgesCenter['longitude_mt'].values.tolist(),\n",
    "        marker = '.', linestyle = 'None', color = edge_center_color)\n",
    "    hull_edgesCenter = pointsToDataFrame(jarvis_march(dataFrameToPoints(edgesCenter, 'latitude_mt', 'longitude_mt')))\n",
    "    plot.plot(\n",
    "        hull_edgesCenter['x'].values.tolist(),\n",
    "        hull_edgesCenter['y'].values.tolist(),\n",
    "        marker = '.', color = edge_center_color)\n",
    "\n",
    "    # Add lines traces\n",
    "    for i in range(dataFrame.shape[0]):\n",
    "        plot.plot(\n",
    "            [dataFrame['latitude_mt_avg'][i], dataFrame['latitude'][i]],\n",
    "            [dataFrame['longitude_mt_avg'][i], dataFrame['longitude'][i]],\n",
    "            marker = '.', color = line_color)\n",
    "\n",
    "    # Add terminals traces\n",
    "    plot.plot(\n",
    "        dataFrame['latitude_mt_avg'].values.tolist(),\n",
    "        dataFrame['longitude_mt_avg'].values.tolist(),\n",
    "        marker = '.', linestyle = 'None', markersize = 12, color = terminals_color)\n",
    "\n",
    "    # Add cities traces\n",
    "    plot.plot(\n",
    "        dataFrame['latitude'].values.tolist(),\n",
    "        dataFrame['longitude'].values.tolist(),\n",
    "        marker = '.', linestyle = 'None', markersize = 12, color = city_color)\n",
    "\n",
    "    plot.show()"
   ]
  },
  {
   "cell_type": "code",
   "execution_count": 103,
   "metadata": {},
   "outputs": [
    {
     "data": {
      "text/html": [
       "<div>\n",
       "<style scoped>\n",
       "    .dataframe tbody tr th:only-of-type {\n",
       "        vertical-align: middle;\n",
       "    }\n",
       "\n",
       "    .dataframe tbody tr th {\n",
       "        vertical-align: top;\n",
       "    }\n",
       "\n",
       "    .dataframe thead th {\n",
       "        text-align: right;\n",
       "    }\n",
       "</style>\n",
       "<table border=\"1\" class=\"dataframe\">\n",
       "  <thead>\n",
       "    <tr style=\"text-align: right;\">\n",
       "      <th></th>\n",
       "      <th>city_nm</th>\n",
       "      <th>latitude</th>\n",
       "      <th>longitude</th>\n",
       "      <th>latitude_mt_avg</th>\n",
       "      <th>longitude_mt_avg</th>\n",
       "    </tr>\n",
       "  </thead>\n",
       "  <tbody>\n",
       "    <tr>\n",
       "      <th>0</th>\n",
       "      <td>Moscow</td>\n",
       "      <td>55.7</td>\n",
       "      <td>37.5</td>\n",
       "      <td>57.2</td>\n",
       "      <td>38.0</td>\n",
       "    </tr>\n",
       "  </tbody>\n",
       "</table>\n",
       "</div>"
      ],
      "text/plain": [
       "  city_nm  latitude  longitude  latitude_mt_avg  longitude_mt_avg\n",
       "0  Moscow      55.7       37.5             57.2              38.0"
      ]
     },
     "execution_count": 103,
     "metadata": {},
     "output_type": "execute_result"
    }
   ],
   "source": [
    "exmapleDf = pd.DataFrame(data = {\n",
    "    'city_nm': ['Moscow'],\n",
    "    'latitude': [55.7],\n",
    "    'longitude': [37.5],\n",
    "    'latitude_mt_avg': [57.2],\n",
    "    'longitude_mt_avg': [38.0]\n",
    "})\n",
    "\n",
    "exmapleDf"
   ]
  },
  {
   "cell_type": "code",
   "execution_count": 104,
   "metadata": {},
   "outputs": [
    {
     "data": {
      "text/html": [
       "<div>\n",
       "<style scoped>\n",
       "    .dataframe tbody tr th:only-of-type {\n",
       "        vertical-align: middle;\n",
       "    }\n",
       "\n",
       "    .dataframe tbody tr th {\n",
       "        vertical-align: top;\n",
       "    }\n",
       "\n",
       "    .dataframe thead th {\n",
       "        text-align: right;\n",
       "    }\n",
       "</style>\n",
       "<table border=\"1\" class=\"dataframe\">\n",
       "  <thead>\n",
       "    <tr style=\"text-align: right;\">\n",
       "      <th></th>\n",
       "      <th>city_nm</th>\n",
       "      <th>point_type</th>\n",
       "      <th>merchant_nm</th>\n",
       "      <th>terminal_id</th>\n",
       "      <th>latitude_mt</th>\n",
       "      <th>longitude_mt</th>\n",
       "      <th>latitude</th>\n",
       "      <th>longitude</th>\n",
       "    </tr>\n",
       "  </thead>\n",
       "  <tbody>\n",
       "    <tr>\n",
       "      <th>0</th>\n",
       "      <td>Moscow</td>\n",
       "      <td>center</td>\n",
       "      <td>merch_1</td>\n",
       "      <td>term_1</td>\n",
       "      <td>55.0</td>\n",
       "      <td>37.0</td>\n",
       "      <td>55.7</td>\n",
       "      <td>37.5</td>\n",
       "    </tr>\n",
       "    <tr>\n",
       "      <th>1</th>\n",
       "      <td>Moscow</td>\n",
       "      <td>center</td>\n",
       "      <td>merch_2</td>\n",
       "      <td>term_2</td>\n",
       "      <td>56.0</td>\n",
       "      <td>37.0</td>\n",
       "      <td>55.7</td>\n",
       "      <td>37.5</td>\n",
       "    </tr>\n",
       "    <tr>\n",
       "      <th>2</th>\n",
       "      <td>Moscow</td>\n",
       "      <td>center</td>\n",
       "      <td>merch_3</td>\n",
       "      <td>term_3</td>\n",
       "      <td>55.0</td>\n",
       "      <td>38.0</td>\n",
       "      <td>55.7</td>\n",
       "      <td>37.5</td>\n",
       "    </tr>\n",
       "    <tr>\n",
       "      <th>3</th>\n",
       "      <td>Moscow</td>\n",
       "      <td>center</td>\n",
       "      <td>merch_4</td>\n",
       "      <td>term_4</td>\n",
       "      <td>56.0</td>\n",
       "      <td>38.0</td>\n",
       "      <td>55.7</td>\n",
       "      <td>37.5</td>\n",
       "    </tr>\n",
       "    <tr>\n",
       "      <th>4</th>\n",
       "      <td>Moscow</td>\n",
       "      <td>medium</td>\n",
       "      <td>merch_5</td>\n",
       "      <td>term_5</td>\n",
       "      <td>53.0</td>\n",
       "      <td>35.0</td>\n",
       "      <td>55.7</td>\n",
       "      <td>37.5</td>\n",
       "    </tr>\n",
       "  </tbody>\n",
       "</table>\n",
       "</div>"
      ],
      "text/plain": [
       "  city_nm point_type merchant_nm terminal_id  latitude_mt  longitude_mt  \\\n",
       "0  Moscow     center     merch_1      term_1         55.0          37.0   \n",
       "1  Moscow     center     merch_2      term_2         56.0          37.0   \n",
       "2  Moscow     center     merch_3      term_3         55.0          38.0   \n",
       "3  Moscow     center     merch_4      term_4         56.0          38.0   \n",
       "4  Moscow     medium     merch_5      term_5         53.0          35.0   \n",
       "\n",
       "   latitude  longitude  \n",
       "0      55.7       37.5  \n",
       "1      55.7       37.5  \n",
       "2      55.7       37.5  \n",
       "3      55.7       37.5  \n",
       "4      55.7       37.5  "
      ]
     },
     "execution_count": 104,
     "metadata": {},
     "output_type": "execute_result"
    }
   ],
   "source": [
    "exmapleEdgesDf = pd.DataFrame(data = {\n",
    "    'city_nm': ['Moscow', 'Moscow', 'Moscow', 'Moscow', 'Moscow', 'Moscow', 'Moscow', 'Moscow', 'Moscow', 'Moscow', 'Moscow', 'Moscow'],\n",
    "    'point_type': ['center', 'center', 'center', 'center', 'medium', 'medium', 'medium', 'medium', 'large', 'large', 'large', 'large'],\n",
    "    'merchant_nm': ['merch_1', 'merch_2', 'merch_3', 'merch_4', 'merch_5', 'merch_6', 'merch_7', 'merch_8', 'merch_9', 'merch_10', 'merch_11', 'merch_12'],\n",
    "    'terminal_id': ['term_1', 'term_2', 'term_3', 'term_4', 'term_5', 'term_6', 'term_7', 'term_8', 'term_9', 'term_10', 'term_11', 'term_12'],\n",
    "    'latitude_mt':  [55.0, 56.0, 55.0, 56.0,  53.0, 58.0, 53.0, 58.0,  52.0, 59.0, 52.0, 59.0],\n",
    "    'longitude_mt': [37.0, 37.0, 38.0, 38.0,  35.0, 35.0, 40.0, 40.0,  33.0, 33.0, 42.0, 42.0],\n",
    "    'latitude':     [55.7, 55.7, 55.7, 55.7,  55.7, 55.7, 55.7, 55.7,  55.7, 55.7, 55.7, 55.7],\n",
    "    'longitude':    [37.5, 37.5, 37.5, 37.5,  37.5, 37.5, 37.5, 37.5,  37.5, 37.5, 37.5, 37.5]\n",
    "})\n",
    "\n",
    "exmapleEdgesDf[:5]"
   ]
  },
  {
   "cell_type": "code",
   "execution_count": 105,
   "metadata": {},
   "outputs": [
    {
     "data": {
      "application/vnd.plotly.v1+json": {
       "config": {
        "plotlyServerURL": "https://plot.ly"
       },
       "data": [
        {
         "lat": [
          52,
          59,
          52,
          59
         ],
         "lon": [
          33,
          33,
          42,
          42
         ],
         "marker": {
          "color": "red",
          "opacity": 0.7,
          "size": 10
         },
         "mode": "markers",
         "name": "Large Points",
         "showlegend": false,
         "text": [
          "merch_9 - term_9",
          "merch_10 - term_10",
          "merch_11 - term_11",
          "merch_12 - term_12"
         ],
         "type": "scattermapbox"
        },
        {
         "fill": "toself",
         "lat": [
          52,
          59,
          59,
          52,
          52
         ],
         "lon": [
          33,
          33,
          42,
          42,
          33
         ],
         "marker": {
          "color": "red",
          "opacity": 0.7,
          "size": 10
         },
         "name": "Large Edges",
         "showlegend": false,
         "text": [
          "merch_9 - term_9",
          "merch_10 - term_10",
          "merch_12 - term_12",
          "merch_11 - term_11",
          "merch_9 - term_9"
         ],
         "type": "scattermapbox"
        },
        {
         "lat": [
          53,
          58,
          53,
          58
         ],
         "lon": [
          35,
          35,
          40,
          40
         ],
         "marker": {
          "color": "orange",
          "opacity": 0.7,
          "size": 10
         },
         "mode": "markers",
         "name": "Medium Points",
         "showlegend": false,
         "text": [
          "merch_5 - term_5",
          "merch_6 - term_6",
          "merch_7 - term_7",
          "merch_8 - term_8"
         ],
         "type": "scattermapbox"
        },
        {
         "fill": "toself",
         "lat": [
          53,
          58,
          58,
          53,
          53
         ],
         "lon": [
          35,
          35,
          40,
          40,
          35
         ],
         "marker": {
          "color": "orange",
          "opacity": 0.7,
          "size": 10
         },
         "name": "Medium Edges",
         "showlegend": false,
         "text": [
          "merch_5 - term_5",
          "merch_6 - term_6",
          "merch_8 - term_8",
          "merch_7 - term_7",
          "merch_5 - term_5"
         ],
         "type": "scattermapbox"
        },
        {
         "lat": [
          55,
          56,
          55,
          56
         ],
         "lon": [
          37,
          37,
          38,
          38
         ],
         "marker": {
          "color": "green",
          "opacity": 0.7,
          "size": 10
         },
         "mode": "markers",
         "name": "Center Points",
         "showlegend": false,
         "text": [
          "merch_1 - term_1",
          "merch_2 - term_2",
          "merch_3 - term_3",
          "merch_4 - term_4"
         ],
         "type": "scattermapbox"
        },
        {
         "fill": "toself",
         "lat": [
          55,
          56,
          56,
          55,
          55
         ],
         "lon": [
          37,
          37,
          38,
          38,
          37
         ],
         "marker": {
          "color": "green",
          "opacity": 0.7,
          "size": 10
         },
         "name": "Center Edges",
         "showlegend": false,
         "text": [
          "merch_1 - term_1",
          "merch_2 - term_2",
          "merch_4 - term_4",
          "merch_3 - term_3",
          "merch_1 - term_1"
         ],
         "type": "scattermapbox"
        },
        {
         "lat": [
          55.7,
          57.2
         ],
         "legendgroup": "Линии",
         "lon": [
          37.5,
          38
         ],
         "marker": {
          "color": "black",
          "opacity": 0.5,
          "size": 5
         },
         "mode": "lines",
         "name": "Линия Moscow",
         "showlegend": false,
         "text": "Moscow",
         "type": "scattermapbox"
        },
        {
         "lat": [
          57.2
         ],
         "lon": [
          38
         ],
         "marker": {
          "color": "red",
          "opacity": 0.7,
          "size": 10
         },
         "mode": "markers",
         "name": "Терминалы",
         "showlegend": true,
         "text": [
          "Moscow"
         ],
         "type": "scattermapbox"
        },
        {
         "lat": [
          55.7
         ],
         "lon": [
          37.5
         ],
         "marker": {
          "color": "blue",
          "opacity": 0.7,
          "size": 10
         },
         "mode": "markers",
         "name": "Города",
         "showlegend": true,
         "text": [
          "Moscow"
         ],
         "type": "scattermapbox"
        }
       ],
       "layout": {
        "height": 340,
        "legend": {
         "orientation": "h",
         "traceorder": "reversed",
         "x": 0.5,
         "xanchor": "center",
         "yanchor": "auto"
        },
        "mapbox": {
         "center": {
          "lat": 55.7,
          "lon": 37.5
         },
         "style": "open-street-map",
         "zoom": 2.5
        },
        "margin": {
         "b": 5,
         "l": 5,
         "r": 5,
         "t": 5
        },
        "template": {
         "data": {
          "bar": [
           {
            "error_x": {
             "color": "#2a3f5f"
            },
            "error_y": {
             "color": "#2a3f5f"
            },
            "marker": {
             "line": {
              "color": "#E5ECF6",
              "width": 0.5
             }
            },
            "type": "bar"
           }
          ],
          "barpolar": [
           {
            "marker": {
             "line": {
              "color": "#E5ECF6",
              "width": 0.5
             }
            },
            "type": "barpolar"
           }
          ],
          "carpet": [
           {
            "aaxis": {
             "endlinecolor": "#2a3f5f",
             "gridcolor": "white",
             "linecolor": "white",
             "minorgridcolor": "white",
             "startlinecolor": "#2a3f5f"
            },
            "baxis": {
             "endlinecolor": "#2a3f5f",
             "gridcolor": "white",
             "linecolor": "white",
             "minorgridcolor": "white",
             "startlinecolor": "#2a3f5f"
            },
            "type": "carpet"
           }
          ],
          "choropleth": [
           {
            "colorbar": {
             "outlinewidth": 0,
             "ticks": ""
            },
            "type": "choropleth"
           }
          ],
          "contour": [
           {
            "colorbar": {
             "outlinewidth": 0,
             "ticks": ""
            },
            "colorscale": [
             [
              0,
              "#0d0887"
             ],
             [
              0.1111111111111111,
              "#46039f"
             ],
             [
              0.2222222222222222,
              "#7201a8"
             ],
             [
              0.3333333333333333,
              "#9c179e"
             ],
             [
              0.4444444444444444,
              "#bd3786"
             ],
             [
              0.5555555555555556,
              "#d8576b"
             ],
             [
              0.6666666666666666,
              "#ed7953"
             ],
             [
              0.7777777777777778,
              "#fb9f3a"
             ],
             [
              0.8888888888888888,
              "#fdca26"
             ],
             [
              1,
              "#f0f921"
             ]
            ],
            "type": "contour"
           }
          ],
          "contourcarpet": [
           {
            "colorbar": {
             "outlinewidth": 0,
             "ticks": ""
            },
            "type": "contourcarpet"
           }
          ],
          "heatmap": [
           {
            "colorbar": {
             "outlinewidth": 0,
             "ticks": ""
            },
            "colorscale": [
             [
              0,
              "#0d0887"
             ],
             [
              0.1111111111111111,
              "#46039f"
             ],
             [
              0.2222222222222222,
              "#7201a8"
             ],
             [
              0.3333333333333333,
              "#9c179e"
             ],
             [
              0.4444444444444444,
              "#bd3786"
             ],
             [
              0.5555555555555556,
              "#d8576b"
             ],
             [
              0.6666666666666666,
              "#ed7953"
             ],
             [
              0.7777777777777778,
              "#fb9f3a"
             ],
             [
              0.8888888888888888,
              "#fdca26"
             ],
             [
              1,
              "#f0f921"
             ]
            ],
            "type": "heatmap"
           }
          ],
          "heatmapgl": [
           {
            "colorbar": {
             "outlinewidth": 0,
             "ticks": ""
            },
            "colorscale": [
             [
              0,
              "#0d0887"
             ],
             [
              0.1111111111111111,
              "#46039f"
             ],
             [
              0.2222222222222222,
              "#7201a8"
             ],
             [
              0.3333333333333333,
              "#9c179e"
             ],
             [
              0.4444444444444444,
              "#bd3786"
             ],
             [
              0.5555555555555556,
              "#d8576b"
             ],
             [
              0.6666666666666666,
              "#ed7953"
             ],
             [
              0.7777777777777778,
              "#fb9f3a"
             ],
             [
              0.8888888888888888,
              "#fdca26"
             ],
             [
              1,
              "#f0f921"
             ]
            ],
            "type": "heatmapgl"
           }
          ],
          "histogram": [
           {
            "marker": {
             "colorbar": {
              "outlinewidth": 0,
              "ticks": ""
             }
            },
            "type": "histogram"
           }
          ],
          "histogram2d": [
           {
            "colorbar": {
             "outlinewidth": 0,
             "ticks": ""
            },
            "colorscale": [
             [
              0,
              "#0d0887"
             ],
             [
              0.1111111111111111,
              "#46039f"
             ],
             [
              0.2222222222222222,
              "#7201a8"
             ],
             [
              0.3333333333333333,
              "#9c179e"
             ],
             [
              0.4444444444444444,
              "#bd3786"
             ],
             [
              0.5555555555555556,
              "#d8576b"
             ],
             [
              0.6666666666666666,
              "#ed7953"
             ],
             [
              0.7777777777777778,
              "#fb9f3a"
             ],
             [
              0.8888888888888888,
              "#fdca26"
             ],
             [
              1,
              "#f0f921"
             ]
            ],
            "type": "histogram2d"
           }
          ],
          "histogram2dcontour": [
           {
            "colorbar": {
             "outlinewidth": 0,
             "ticks": ""
            },
            "colorscale": [
             [
              0,
              "#0d0887"
             ],
             [
              0.1111111111111111,
              "#46039f"
             ],
             [
              0.2222222222222222,
              "#7201a8"
             ],
             [
              0.3333333333333333,
              "#9c179e"
             ],
             [
              0.4444444444444444,
              "#bd3786"
             ],
             [
              0.5555555555555556,
              "#d8576b"
             ],
             [
              0.6666666666666666,
              "#ed7953"
             ],
             [
              0.7777777777777778,
              "#fb9f3a"
             ],
             [
              0.8888888888888888,
              "#fdca26"
             ],
             [
              1,
              "#f0f921"
             ]
            ],
            "type": "histogram2dcontour"
           }
          ],
          "mesh3d": [
           {
            "colorbar": {
             "outlinewidth": 0,
             "ticks": ""
            },
            "type": "mesh3d"
           }
          ],
          "parcoords": [
           {
            "line": {
             "colorbar": {
              "outlinewidth": 0,
              "ticks": ""
             }
            },
            "type": "parcoords"
           }
          ],
          "pie": [
           {
            "automargin": true,
            "type": "pie"
           }
          ],
          "scatter": [
           {
            "marker": {
             "colorbar": {
              "outlinewidth": 0,
              "ticks": ""
             }
            },
            "type": "scatter"
           }
          ],
          "scatter3d": [
           {
            "line": {
             "colorbar": {
              "outlinewidth": 0,
              "ticks": ""
             }
            },
            "marker": {
             "colorbar": {
              "outlinewidth": 0,
              "ticks": ""
             }
            },
            "type": "scatter3d"
           }
          ],
          "scattercarpet": [
           {
            "marker": {
             "colorbar": {
              "outlinewidth": 0,
              "ticks": ""
             }
            },
            "type": "scattercarpet"
           }
          ],
          "scattergeo": [
           {
            "marker": {
             "colorbar": {
              "outlinewidth": 0,
              "ticks": ""
             }
            },
            "type": "scattergeo"
           }
          ],
          "scattergl": [
           {
            "marker": {
             "colorbar": {
              "outlinewidth": 0,
              "ticks": ""
             }
            },
            "type": "scattergl"
           }
          ],
          "scattermapbox": [
           {
            "marker": {
             "colorbar": {
              "outlinewidth": 0,
              "ticks": ""
             }
            },
            "type": "scattermapbox"
           }
          ],
          "scatterpolar": [
           {
            "marker": {
             "colorbar": {
              "outlinewidth": 0,
              "ticks": ""
             }
            },
            "type": "scatterpolar"
           }
          ],
          "scatterpolargl": [
           {
            "marker": {
             "colorbar": {
              "outlinewidth": 0,
              "ticks": ""
             }
            },
            "type": "scatterpolargl"
           }
          ],
          "scatterternary": [
           {
            "marker": {
             "colorbar": {
              "outlinewidth": 0,
              "ticks": ""
             }
            },
            "type": "scatterternary"
           }
          ],
          "surface": [
           {
            "colorbar": {
             "outlinewidth": 0,
             "ticks": ""
            },
            "colorscale": [
             [
              0,
              "#0d0887"
             ],
             [
              0.1111111111111111,
              "#46039f"
             ],
             [
              0.2222222222222222,
              "#7201a8"
             ],
             [
              0.3333333333333333,
              "#9c179e"
             ],
             [
              0.4444444444444444,
              "#bd3786"
             ],
             [
              0.5555555555555556,
              "#d8576b"
             ],
             [
              0.6666666666666666,
              "#ed7953"
             ],
             [
              0.7777777777777778,
              "#fb9f3a"
             ],
             [
              0.8888888888888888,
              "#fdca26"
             ],
             [
              1,
              "#f0f921"
             ]
            ],
            "type": "surface"
           }
          ],
          "table": [
           {
            "cells": {
             "fill": {
              "color": "#EBF0F8"
             },
             "line": {
              "color": "white"
             }
            },
            "header": {
             "fill": {
              "color": "#C8D4E3"
             },
             "line": {
              "color": "white"
             }
            },
            "type": "table"
           }
          ]
         },
         "layout": {
          "annotationdefaults": {
           "arrowcolor": "#2a3f5f",
           "arrowhead": 0,
           "arrowwidth": 1
          },
          "autotypenumbers": "strict",
          "coloraxis": {
           "colorbar": {
            "outlinewidth": 0,
            "ticks": ""
           }
          },
          "colorscale": {
           "diverging": [
            [
             0,
             "#8e0152"
            ],
            [
             0.1,
             "#c51b7d"
            ],
            [
             0.2,
             "#de77ae"
            ],
            [
             0.3,
             "#f1b6da"
            ],
            [
             0.4,
             "#fde0ef"
            ],
            [
             0.5,
             "#f7f7f7"
            ],
            [
             0.6,
             "#e6f5d0"
            ],
            [
             0.7,
             "#b8e186"
            ],
            [
             0.8,
             "#7fbc41"
            ],
            [
             0.9,
             "#4d9221"
            ],
            [
             1,
             "#276419"
            ]
           ],
           "sequential": [
            [
             0,
             "#0d0887"
            ],
            [
             0.1111111111111111,
             "#46039f"
            ],
            [
             0.2222222222222222,
             "#7201a8"
            ],
            [
             0.3333333333333333,
             "#9c179e"
            ],
            [
             0.4444444444444444,
             "#bd3786"
            ],
            [
             0.5555555555555556,
             "#d8576b"
            ],
            [
             0.6666666666666666,
             "#ed7953"
            ],
            [
             0.7777777777777778,
             "#fb9f3a"
            ],
            [
             0.8888888888888888,
             "#fdca26"
            ],
            [
             1,
             "#f0f921"
            ]
           ],
           "sequentialminus": [
            [
             0,
             "#0d0887"
            ],
            [
             0.1111111111111111,
             "#46039f"
            ],
            [
             0.2222222222222222,
             "#7201a8"
            ],
            [
             0.3333333333333333,
             "#9c179e"
            ],
            [
             0.4444444444444444,
             "#bd3786"
            ],
            [
             0.5555555555555556,
             "#d8576b"
            ],
            [
             0.6666666666666666,
             "#ed7953"
            ],
            [
             0.7777777777777778,
             "#fb9f3a"
            ],
            [
             0.8888888888888888,
             "#fdca26"
            ],
            [
             1,
             "#f0f921"
            ]
           ]
          },
          "colorway": [
           "#636efa",
           "#EF553B",
           "#00cc96",
           "#ab63fa",
           "#FFA15A",
           "#19d3f3",
           "#FF6692",
           "#B6E880",
           "#FF97FF",
           "#FECB52"
          ],
          "font": {
           "color": "#2a3f5f"
          },
          "geo": {
           "bgcolor": "white",
           "lakecolor": "white",
           "landcolor": "#E5ECF6",
           "showlakes": true,
           "showland": true,
           "subunitcolor": "white"
          },
          "hoverlabel": {
           "align": "left"
          },
          "hovermode": "closest",
          "mapbox": {
           "style": "light"
          },
          "paper_bgcolor": "white",
          "plot_bgcolor": "#E5ECF6",
          "polar": {
           "angularaxis": {
            "gridcolor": "white",
            "linecolor": "white",
            "ticks": ""
           },
           "bgcolor": "#E5ECF6",
           "radialaxis": {
            "gridcolor": "white",
            "linecolor": "white",
            "ticks": ""
           }
          },
          "scene": {
           "xaxis": {
            "backgroundcolor": "#E5ECF6",
            "gridcolor": "white",
            "gridwidth": 2,
            "linecolor": "white",
            "showbackground": true,
            "ticks": "",
            "zerolinecolor": "white"
           },
           "yaxis": {
            "backgroundcolor": "#E5ECF6",
            "gridcolor": "white",
            "gridwidth": 2,
            "linecolor": "white",
            "showbackground": true,
            "ticks": "",
            "zerolinecolor": "white"
           },
           "zaxis": {
            "backgroundcolor": "#E5ECF6",
            "gridcolor": "white",
            "gridwidth": 2,
            "linecolor": "white",
            "showbackground": true,
            "ticks": "",
            "zerolinecolor": "white"
           }
          },
          "shapedefaults": {
           "line": {
            "color": "#2a3f5f"
           }
          },
          "ternary": {
           "aaxis": {
            "gridcolor": "white",
            "linecolor": "white",
            "ticks": ""
           },
           "baxis": {
            "gridcolor": "white",
            "linecolor": "white",
            "ticks": ""
           },
           "bgcolor": "#E5ECF6",
           "caxis": {
            "gridcolor": "white",
            "linecolor": "white",
            "ticks": ""
           }
          },
          "title": {
           "x": 0.05
          },
          "xaxis": {
           "automargin": true,
           "gridcolor": "white",
           "linecolor": "white",
           "ticks": "",
           "title": {
            "standoff": 15
           },
           "zerolinecolor": "white",
           "zerolinewidth": 2
          },
          "yaxis": {
           "automargin": true,
           "gridcolor": "white",
           "linecolor": "white",
           "ticks": "",
           "title": {
            "standoff": 15
           },
           "zerolinecolor": "white",
           "zerolinewidth": 2
          }
         }
        },
        "width": 980
       }
      },
      "text/html": [
       "<div>                            <div id=\"d7b3f962-97cd-409a-87e6-395231bf4ccf\" class=\"plotly-graph-div\" style=\"height:340px; width:980px;\"></div>            <script type=\"text/javascript\">                require([\"plotly\"], function(Plotly) {                    window.PLOTLYENV=window.PLOTLYENV || {};                                    if (document.getElementById(\"d7b3f962-97cd-409a-87e6-395231bf4ccf\")) {                    Plotly.newPlot(                        \"d7b3f962-97cd-409a-87e6-395231bf4ccf\",                        [{\"lat\": [52.0, 59.0, 52.0, 59.0], \"lon\": [33.0, 33.0, 42.0, 42.0], \"marker\": {\"color\": \"red\", \"opacity\": 0.7, \"size\": 10}, \"mode\": \"markers\", \"name\": \"Large Points\", \"showlegend\": false, \"text\": [\"merch_9 - term_9\", \"merch_10 - term_10\", \"merch_11 - term_11\", \"merch_12 - term_12\"], \"type\": \"scattermapbox\"}, {\"fill\": \"toself\", \"lat\": [52.0, 59.0, 59.0, 52.0, 52.0], \"lon\": [33.0, 33.0, 42.0, 42.0, 33.0], \"marker\": {\"color\": \"red\", \"opacity\": 0.7, \"size\": 10}, \"name\": \"Large Edges\", \"showlegend\": false, \"text\": [\"merch_9 - term_9\", \"merch_10 - term_10\", \"merch_12 - term_12\", \"merch_11 - term_11\", \"merch_9 - term_9\"], \"type\": \"scattermapbox\"}, {\"lat\": [53.0, 58.0, 53.0, 58.0], \"lon\": [35.0, 35.0, 40.0, 40.0], \"marker\": {\"color\": \"orange\", \"opacity\": 0.7, \"size\": 10}, \"mode\": \"markers\", \"name\": \"Medium Points\", \"showlegend\": false, \"text\": [\"merch_5 - term_5\", \"merch_6 - term_6\", \"merch_7 - term_7\", \"merch_8 - term_8\"], \"type\": \"scattermapbox\"}, {\"fill\": \"toself\", \"lat\": [53.0, 58.0, 58.0, 53.0, 53.0], \"lon\": [35.0, 35.0, 40.0, 40.0, 35.0], \"marker\": {\"color\": \"orange\", \"opacity\": 0.7, \"size\": 10}, \"name\": \"Medium Edges\", \"showlegend\": false, \"text\": [\"merch_5 - term_5\", \"merch_6 - term_6\", \"merch_8 - term_8\", \"merch_7 - term_7\", \"merch_5 - term_5\"], \"type\": \"scattermapbox\"}, {\"lat\": [55.0, 56.0, 55.0, 56.0], \"lon\": [37.0, 37.0, 38.0, 38.0], \"marker\": {\"color\": \"green\", \"opacity\": 0.7, \"size\": 10}, \"mode\": \"markers\", \"name\": \"Center Points\", \"showlegend\": false, \"text\": [\"merch_1 - term_1\", \"merch_2 - term_2\", \"merch_3 - term_3\", \"merch_4 - term_4\"], \"type\": \"scattermapbox\"}, {\"fill\": \"toself\", \"lat\": [55.0, 56.0, 56.0, 55.0, 55.0], \"lon\": [37.0, 37.0, 38.0, 38.0, 37.0], \"marker\": {\"color\": \"green\", \"opacity\": 0.7, \"size\": 10}, \"name\": \"Center Edges\", \"showlegend\": false, \"text\": [\"merch_1 - term_1\", \"merch_2 - term_2\", \"merch_4 - term_4\", \"merch_3 - term_3\", \"merch_1 - term_1\"], \"type\": \"scattermapbox\"}, {\"lat\": [55.7, 57.2], \"legendgroup\": \"\\u041b\\u0438\\u043d\\u0438\\u0438\", \"lon\": [37.5, 38.0], \"marker\": {\"color\": \"black\", \"opacity\": 0.5, \"size\": 5}, \"mode\": \"lines\", \"name\": \"\\u041b\\u0438\\u043d\\u0438\\u044f Moscow\", \"showlegend\": false, \"text\": \"Moscow\", \"type\": \"scattermapbox\"}, {\"lat\": [57.2], \"lon\": [38.0], \"marker\": {\"color\": \"red\", \"opacity\": 0.7, \"size\": 10}, \"mode\": \"markers\", \"name\": \"\\u0422\\u0435\\u0440\\u043c\\u0438\\u043d\\u0430\\u043b\\u044b\", \"showlegend\": true, \"text\": [\"Moscow\"], \"type\": \"scattermapbox\"}, {\"lat\": [55.7], \"lon\": [37.5], \"marker\": {\"color\": \"blue\", \"opacity\": 0.7, \"size\": 10}, \"mode\": \"markers\", \"name\": \"\\u0413\\u043e\\u0440\\u043e\\u0434\\u0430\", \"showlegend\": true, \"text\": [\"Moscow\"], \"type\": \"scattermapbox\"}],                        {\"height\": 340, \"legend\": {\"orientation\": \"h\", \"traceorder\": \"reversed\", \"x\": 0.5, \"xanchor\": \"center\", \"yanchor\": \"auto\"}, \"mapbox\": {\"center\": {\"lat\": 55.7, \"lon\": 37.5}, \"style\": \"open-street-map\", \"zoom\": 2.5}, \"margin\": {\"b\": 5, \"l\": 5, \"r\": 5, \"t\": 5}, \"template\": {\"data\": {\"bar\": [{\"error_x\": {\"color\": \"#2a3f5f\"}, \"error_y\": {\"color\": \"#2a3f5f\"}, \"marker\": {\"line\": {\"color\": \"#E5ECF6\", \"width\": 0.5}}, \"type\": \"bar\"}], \"barpolar\": [{\"marker\": {\"line\": {\"color\": \"#E5ECF6\", \"width\": 0.5}}, \"type\": \"barpolar\"}], \"carpet\": [{\"aaxis\": {\"endlinecolor\": \"#2a3f5f\", \"gridcolor\": \"white\", \"linecolor\": \"white\", \"minorgridcolor\": \"white\", \"startlinecolor\": \"#2a3f5f\"}, \"baxis\": {\"endlinecolor\": \"#2a3f5f\", \"gridcolor\": \"white\", \"linecolor\": \"white\", \"minorgridcolor\": \"white\", \"startlinecolor\": \"#2a3f5f\"}, \"type\": \"carpet\"}], \"choropleth\": [{\"colorbar\": {\"outlinewidth\": 0, \"ticks\": \"\"}, \"type\": \"choropleth\"}], \"contour\": [{\"colorbar\": {\"outlinewidth\": 0, \"ticks\": \"\"}, \"colorscale\": [[0.0, \"#0d0887\"], [0.1111111111111111, \"#46039f\"], [0.2222222222222222, \"#7201a8\"], [0.3333333333333333, \"#9c179e\"], [0.4444444444444444, \"#bd3786\"], [0.5555555555555556, \"#d8576b\"], [0.6666666666666666, \"#ed7953\"], [0.7777777777777778, \"#fb9f3a\"], [0.8888888888888888, \"#fdca26\"], [1.0, \"#f0f921\"]], \"type\": \"contour\"}], \"contourcarpet\": [{\"colorbar\": {\"outlinewidth\": 0, \"ticks\": \"\"}, \"type\": \"contourcarpet\"}], \"heatmap\": [{\"colorbar\": {\"outlinewidth\": 0, \"ticks\": \"\"}, \"colorscale\": [[0.0, \"#0d0887\"], [0.1111111111111111, \"#46039f\"], [0.2222222222222222, \"#7201a8\"], [0.3333333333333333, \"#9c179e\"], [0.4444444444444444, \"#bd3786\"], [0.5555555555555556, \"#d8576b\"], [0.6666666666666666, \"#ed7953\"], [0.7777777777777778, \"#fb9f3a\"], [0.8888888888888888, \"#fdca26\"], [1.0, \"#f0f921\"]], \"type\": \"heatmap\"}], \"heatmapgl\": [{\"colorbar\": {\"outlinewidth\": 0, \"ticks\": \"\"}, \"colorscale\": [[0.0, \"#0d0887\"], [0.1111111111111111, \"#46039f\"], [0.2222222222222222, \"#7201a8\"], [0.3333333333333333, \"#9c179e\"], [0.4444444444444444, \"#bd3786\"], [0.5555555555555556, \"#d8576b\"], [0.6666666666666666, \"#ed7953\"], [0.7777777777777778, \"#fb9f3a\"], [0.8888888888888888, \"#fdca26\"], [1.0, \"#f0f921\"]], \"type\": \"heatmapgl\"}], \"histogram\": [{\"marker\": {\"colorbar\": {\"outlinewidth\": 0, \"ticks\": \"\"}}, \"type\": \"histogram\"}], \"histogram2d\": [{\"colorbar\": {\"outlinewidth\": 0, \"ticks\": \"\"}, \"colorscale\": [[0.0, \"#0d0887\"], [0.1111111111111111, \"#46039f\"], [0.2222222222222222, \"#7201a8\"], [0.3333333333333333, \"#9c179e\"], [0.4444444444444444, \"#bd3786\"], [0.5555555555555556, \"#d8576b\"], [0.6666666666666666, \"#ed7953\"], [0.7777777777777778, \"#fb9f3a\"], [0.8888888888888888, \"#fdca26\"], [1.0, \"#f0f921\"]], \"type\": \"histogram2d\"}], \"histogram2dcontour\": [{\"colorbar\": {\"outlinewidth\": 0, \"ticks\": \"\"}, \"colorscale\": [[0.0, \"#0d0887\"], [0.1111111111111111, \"#46039f\"], [0.2222222222222222, \"#7201a8\"], [0.3333333333333333, \"#9c179e\"], [0.4444444444444444, \"#bd3786\"], [0.5555555555555556, \"#d8576b\"], [0.6666666666666666, \"#ed7953\"], [0.7777777777777778, \"#fb9f3a\"], [0.8888888888888888, \"#fdca26\"], [1.0, \"#f0f921\"]], \"type\": \"histogram2dcontour\"}], \"mesh3d\": [{\"colorbar\": {\"outlinewidth\": 0, \"ticks\": \"\"}, \"type\": \"mesh3d\"}], \"parcoords\": [{\"line\": {\"colorbar\": {\"outlinewidth\": 0, \"ticks\": \"\"}}, \"type\": \"parcoords\"}], \"pie\": [{\"automargin\": true, \"type\": \"pie\"}], \"scatter\": [{\"marker\": {\"colorbar\": {\"outlinewidth\": 0, \"ticks\": \"\"}}, \"type\": \"scatter\"}], \"scatter3d\": [{\"line\": {\"colorbar\": {\"outlinewidth\": 0, \"ticks\": \"\"}}, \"marker\": {\"colorbar\": {\"outlinewidth\": 0, \"ticks\": \"\"}}, \"type\": \"scatter3d\"}], \"scattercarpet\": [{\"marker\": {\"colorbar\": {\"outlinewidth\": 0, \"ticks\": \"\"}}, \"type\": \"scattercarpet\"}], \"scattergeo\": [{\"marker\": {\"colorbar\": {\"outlinewidth\": 0, \"ticks\": \"\"}}, \"type\": \"scattergeo\"}], \"scattergl\": [{\"marker\": {\"colorbar\": {\"outlinewidth\": 0, \"ticks\": \"\"}}, \"type\": \"scattergl\"}], \"scattermapbox\": [{\"marker\": {\"colorbar\": {\"outlinewidth\": 0, \"ticks\": \"\"}}, \"type\": \"scattermapbox\"}], \"scatterpolar\": [{\"marker\": {\"colorbar\": {\"outlinewidth\": 0, \"ticks\": \"\"}}, \"type\": \"scatterpolar\"}], \"scatterpolargl\": [{\"marker\": {\"colorbar\": {\"outlinewidth\": 0, \"ticks\": \"\"}}, \"type\": \"scatterpolargl\"}], \"scatterternary\": [{\"marker\": {\"colorbar\": {\"outlinewidth\": 0, \"ticks\": \"\"}}, \"type\": \"scatterternary\"}], \"surface\": [{\"colorbar\": {\"outlinewidth\": 0, \"ticks\": \"\"}, \"colorscale\": [[0.0, \"#0d0887\"], [0.1111111111111111, \"#46039f\"], [0.2222222222222222, \"#7201a8\"], [0.3333333333333333, \"#9c179e\"], [0.4444444444444444, \"#bd3786\"], [0.5555555555555556, \"#d8576b\"], [0.6666666666666666, \"#ed7953\"], [0.7777777777777778, \"#fb9f3a\"], [0.8888888888888888, \"#fdca26\"], [1.0, \"#f0f921\"]], \"type\": \"surface\"}], \"table\": [{\"cells\": {\"fill\": {\"color\": \"#EBF0F8\"}, \"line\": {\"color\": \"white\"}}, \"header\": {\"fill\": {\"color\": \"#C8D4E3\"}, \"line\": {\"color\": \"white\"}}, \"type\": \"table\"}]}, \"layout\": {\"annotationdefaults\": {\"arrowcolor\": \"#2a3f5f\", \"arrowhead\": 0, \"arrowwidth\": 1}, \"autotypenumbers\": \"strict\", \"coloraxis\": {\"colorbar\": {\"outlinewidth\": 0, \"ticks\": \"\"}}, \"colorscale\": {\"diverging\": [[0, \"#8e0152\"], [0.1, \"#c51b7d\"], [0.2, \"#de77ae\"], [0.3, \"#f1b6da\"], [0.4, \"#fde0ef\"], [0.5, \"#f7f7f7\"], [0.6, \"#e6f5d0\"], [0.7, \"#b8e186\"], [0.8, \"#7fbc41\"], [0.9, \"#4d9221\"], [1, \"#276419\"]], \"sequential\": [[0.0, \"#0d0887\"], [0.1111111111111111, \"#46039f\"], [0.2222222222222222, \"#7201a8\"], [0.3333333333333333, \"#9c179e\"], [0.4444444444444444, \"#bd3786\"], [0.5555555555555556, \"#d8576b\"], [0.6666666666666666, \"#ed7953\"], [0.7777777777777778, \"#fb9f3a\"], [0.8888888888888888, \"#fdca26\"], [1.0, \"#f0f921\"]], \"sequentialminus\": [[0.0, \"#0d0887\"], [0.1111111111111111, \"#46039f\"], [0.2222222222222222, \"#7201a8\"], [0.3333333333333333, \"#9c179e\"], [0.4444444444444444, \"#bd3786\"], [0.5555555555555556, \"#d8576b\"], [0.6666666666666666, \"#ed7953\"], [0.7777777777777778, \"#fb9f3a\"], [0.8888888888888888, \"#fdca26\"], [1.0, \"#f0f921\"]]}, \"colorway\": [\"#636efa\", \"#EF553B\", \"#00cc96\", \"#ab63fa\", \"#FFA15A\", \"#19d3f3\", \"#FF6692\", \"#B6E880\", \"#FF97FF\", \"#FECB52\"], \"font\": {\"color\": \"#2a3f5f\"}, \"geo\": {\"bgcolor\": \"white\", \"lakecolor\": \"white\", \"landcolor\": \"#E5ECF6\", \"showlakes\": true, \"showland\": true, \"subunitcolor\": \"white\"}, \"hoverlabel\": {\"align\": \"left\"}, \"hovermode\": \"closest\", \"mapbox\": {\"style\": \"light\"}, \"paper_bgcolor\": \"white\", \"plot_bgcolor\": \"#E5ECF6\", \"polar\": {\"angularaxis\": {\"gridcolor\": \"white\", \"linecolor\": \"white\", \"ticks\": \"\"}, \"bgcolor\": \"#E5ECF6\", \"radialaxis\": {\"gridcolor\": \"white\", \"linecolor\": \"white\", \"ticks\": \"\"}}, \"scene\": {\"xaxis\": {\"backgroundcolor\": \"#E5ECF6\", \"gridcolor\": \"white\", \"gridwidth\": 2, \"linecolor\": \"white\", \"showbackground\": true, \"ticks\": \"\", \"zerolinecolor\": \"white\"}, \"yaxis\": {\"backgroundcolor\": \"#E5ECF6\", \"gridcolor\": \"white\", \"gridwidth\": 2, \"linecolor\": \"white\", \"showbackground\": true, \"ticks\": \"\", \"zerolinecolor\": \"white\"}, \"zaxis\": {\"backgroundcolor\": \"#E5ECF6\", \"gridcolor\": \"white\", \"gridwidth\": 2, \"linecolor\": \"white\", \"showbackground\": true, \"ticks\": \"\", \"zerolinecolor\": \"white\"}}, \"shapedefaults\": {\"line\": {\"color\": \"#2a3f5f\"}}, \"ternary\": {\"aaxis\": {\"gridcolor\": \"white\", \"linecolor\": \"white\", \"ticks\": \"\"}, \"baxis\": {\"gridcolor\": \"white\", \"linecolor\": \"white\", \"ticks\": \"\"}, \"bgcolor\": \"#E5ECF6\", \"caxis\": {\"gridcolor\": \"white\", \"linecolor\": \"white\", \"ticks\": \"\"}}, \"title\": {\"x\": 0.05}, \"xaxis\": {\"automargin\": true, \"gridcolor\": \"white\", \"linecolor\": \"white\", \"ticks\": \"\", \"title\": {\"standoff\": 15}, \"zerolinecolor\": \"white\", \"zerolinewidth\": 2}, \"yaxis\": {\"automargin\": true, \"gridcolor\": \"white\", \"linecolor\": \"white\", \"ticks\": \"\", \"title\": {\"standoff\": 15}, \"zerolinecolor\": \"white\", \"zerolinewidth\": 2}}}, \"width\": 980},                        {\"responsive\": true}                    ).then(function(){\n",
       "                            \n",
       "var gd = document.getElementById('d7b3f962-97cd-409a-87e6-395231bf4ccf');\n",
       "var x = new MutationObserver(function (mutations, observer) {{\n",
       "        var display = window.getComputedStyle(gd).display;\n",
       "        if (!display || display === 'none') {{\n",
       "            console.log([gd, 'removed!']);\n",
       "            Plotly.purge(gd);\n",
       "            observer.disconnect();\n",
       "        }}\n",
       "}});\n",
       "\n",
       "// Listen for the removal of the full notebook cells\n",
       "var notebookContainer = gd.closest('#notebook-container');\n",
       "if (notebookContainer) {{\n",
       "    x.observe(notebookContainer, {childList: true});\n",
       "}}\n",
       "\n",
       "// Listen for the clearing of the current output cell\n",
       "var outputEl = gd.closest('.output');\n",
       "if (outputEl) {{\n",
       "    x.observe(outputEl, {childList: true});\n",
       "}}\n",
       "\n",
       "                        })                };                });            </script>        </div>"
      ]
     },
     "metadata": {},
     "output_type": "display_data"
    }
   ],
   "source": [
    "plotGeoLocalityEdges(exmapleDf, exmapleEdgesDf)"
   ]
  },
  {
   "cell_type": "code",
   "execution_count": 106,
   "metadata": {},
   "outputs": [
    {
     "data": {
      "image/png": "[encoded data removed]",
      "text/plain": [
       "<Figure size 432x288 with 1 Axes>"
      ]
     },
     "metadata": {
      "needs_background": "light"
     },
     "output_type": "display_data"
    }
   ],
   "source": [
    "plotPlainLocalityEdges(exmapleDf, exmapleEdgesDf)"
   ]
  }
 ],
 "metadata": {
  "kernelspec": {
   "display_name": "Python 3",
   "language": "python",
   "name": "python3"
  },
  "language_info": {
   "codemirror_mode": {
    "name": "ipython",
    "version": 3
   },
   "file_extension": ".py",
   "mimetype": "text/x-python",
   "name": "python",
   "nbconvert_exporter": "python",
   "pygments_lexer": "ipython3",
   "version": "3.8.5"
  }
 },
 "nbformat": 4,
 "nbformat_minor": 2
}
